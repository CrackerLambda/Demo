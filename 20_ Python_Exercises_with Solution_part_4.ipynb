{
 "cells": [
  {
   "cell_type": "markdown",
   "metadata": {},
   "source": [
    "**Câu 151:** Viết chương trình đếm và in số ký tự của chuỗi do người dùng nhập vào.\n",
    "<div style=\"padding: 15px; border: 2px solid transparent; border-color: transparent; margin-bottom: 5px; margin-top: 10px;border-radius: 2px; color: #000000; background-color:#A4D3EE; border-color: #FFD39B;Width:60%\">\n",
    "\n",
    "Example:\n",
    "<br>\n",
    "<br>\n",
    "Input: AMDK\n",
    "<br>\n",
    "<br>\n",
    "Output:\n",
    "<br>\n",
    "A,1\n",
    "<br>\n",
    "M,1\n",
    "<br>\n",
    "D,1\n",
    "<br>\n",
    "K,1\n",
    "</div>\n"
   ]
  },
  {
   "cell_type": "code",
   "execution_count": 1,
   "metadata": {},
   "outputs": [
    {
     "name": "stdout",
     "output_type": "stream",
     "text": [
      "Nhập chuỗi cần đếm ký tự: AMDK\n",
      "A,1\n",
      "M,1\n",
      "D,1\n",
      "K,1\n"
     ]
    }
   ],
   "source": [
    "dic = {}\n",
    "chuoi=input(\"Nhập chuỗi cần đếm ký tự: \")\n",
    "\n",
    "for c in chuoi:\n",
    "    dic[c] = dic.get(c,0)+1\n",
    "print ('\\n'.join(['%s,%s' % (k, v) for k, v in dic.items()]))"
   ]
  },
  {
   "cell_type": "markdown",
   "metadata": {},
   "source": [
    "**Câu 152:**  Viết chương trình in list sau khi đã xóa giá trị 24 trong [12,24,35,24,88,120,155]."
   ]
  },
  {
   "cell_type": "code",
   "execution_count": 2,
   "metadata": {},
   "outputs": [
    {
     "name": "stdout",
     "output_type": "stream",
     "text": [
      "[12, 24, 35, 24, 88, 120, 155]\n"
     ]
    }
   ],
   "source": [
    "listA = [12,24,35,24,88,120,155]\n",
    "\n",
    "listA_new = [l for l in listA if l!=24]\n",
    "print (listA)"
   ]
  },
  {
   "cell_type": "markdown",
   "metadata": {},
   "source": [
    "**Câu 153:**  Viết chương trình in list sau khi đã xóa số ở vị trí thứ 0, 4 và thứ 5 trong [12,24,35,70,88,120,155]."
   ]
  },
  {
   "cell_type": "code",
   "execution_count": 3,
   "metadata": {},
   "outputs": [
    {
     "name": "stdout",
     "output_type": "stream",
     "text": [
      "[24, 35, 70, 155]\n"
     ]
    }
   ],
   "source": [
    "li = [12,24,35,70,88,120,155]\n",
    "li = [x for (i,x) in enumerate(li) if i not in (0,4,5)]\n",
    "print (li)"
   ]
  },
  {
   "cell_type": "markdown",
   "metadata": {},
   "source": [
    "**Câu 154:** Hiện thực hàm strlen trả lại chiều dài của chuỗi."
   ]
  },
  {
   "cell_type": "code",
   "execution_count": 4,
   "metadata": {},
   "outputs": [
    {
     "data": {
      "text/plain": [
       "4"
      ]
     },
     "execution_count": 4,
     "metadata": {},
     "output_type": "execute_result"
    }
   ],
   "source": [
    "def stringlen(A):\n",
    "    count=0\n",
    "    for i in A:\n",
    "        count+=1\n",
    "    return count\n",
    "stringlen(\"aame\")"
   ]
  },
  {
   "cell_type": "markdown",
   "metadata": {},
   "source": [
    "**Câu 155:** Xác định phần tử đầu tiên có giá trị là số nguyên tố và nhỏ hơn 100 và trả về vị trí của phần tử đó, ngược lại trả về -1."
   ]
  },
  {
   "cell_type": "code",
   "execution_count": 5,
   "metadata": {},
   "outputs": [
    {
     "data": {
      "text/plain": [
       "1"
      ]
     },
     "execution_count": 5,
     "metadata": {},
     "output_type": "execute_result"
    }
   ],
   "source": [
    "def Prime(n):\n",
    "    if n<=2:\n",
    "        return False\n",
    "    else:\n",
    "        for i in range(2,n):\n",
    "            if n%i==0:\n",
    "                return False\n",
    "    return True\n",
    "def FindPrimeArray(A):\n",
    "    for i in range(len(A)):\n",
    "        if A[i]<100:\n",
    "            if Prime(A[i]):\n",
    "                return i\n",
    "        else: \n",
    "            return -1\n",
    "FindPrimeArray([1,3,5,19])"
   ]
  },
  {
   "cell_type": "markdown",
   "metadata": {},
   "source": [
    "**Câu 156:** Viết chương trình xáo trộn chuỗi."
   ]
  },
  {
   "cell_type": "code",
   "execution_count": 6,
   "metadata": {},
   "outputs": [
    {
     "name": "stdout",
     "output_type": "stream",
     "text": [
      "ioaue\n"
     ]
    }
   ],
   "source": [
    "import random\n",
    "char_list = ['a','e','i','o','u']\n",
    "random.shuffle(char_list)\n",
    "print(''.join(char_list))"
   ]
  },
  {
   "cell_type": "markdown",
   "metadata": {},
   "source": [
    "**Câu 157:** Định nghĩa class Person và 2 class con của nó: Male, Female. Tất cả các class có method \"getGender\" có thể in \"Male\" cho class Male và \"Female\" cho class Female."
   ]
  },
  {
   "cell_type": "code",
   "execution_count": 7,
   "metadata": {},
   "outputs": [
    {
     "data": {
      "text/plain": [
       "'Male'"
      ]
     },
     "execution_count": 7,
     "metadata": {},
     "output_type": "execute_result"
    }
   ],
   "source": [
    "class Person(object):\n",
    "    def getGender(self):\n",
    "        return \"Unknown\"\n",
    "\n",
    "class Male(Person):\n",
    "    def getGender(self):\n",
    "        return \"Male\"\n",
    "\n",
    "class Female(Person):\n",
    "    def getGender(self):\n",
    "        return \"Female\"\n",
    "\n",
    "M=Male()\n",
    "M.getGender()"
   ]
  },
  {
   "cell_type": "markdown",
   "metadata": {},
   "source": [
    "**Câu 158:** Viết chương trình nhận chuỗi đầu vào từ giao diện điều khiển và in nó theo thứ tự ngược lại.\n",
    "\n",
    "<div style=\"padding: 15px; border: 2px solid transparent; border-color: transparent; margin-bottom: 5px; margin-top: 10px;border-radius: 2px; color: #000000; background-color:#A4D3EE; border-color: #FFD39B;Width:60%\">\n",
    "\n",
    "Example:\n",
    "<br>\n",
    "<br>\n",
    "Input: anh\n",
    "<br>\n",
    "<br>\n",
    "Output: hna\n",
    "</div>\n"
   ]
  },
  {
   "cell_type": "code",
   "execution_count": 8,
   "metadata": {},
   "outputs": [
    {
     "name": "stdout",
     "output_type": "stream",
     "text": [
      "Nhập chuỗi vào đây: anh\n",
      "hna\n"
     ]
    }
   ],
   "source": [
    "chuoi=input(\"Nhập chuỗi vào đây: \")\n",
    "chuoi = chuoi[::-1]\n",
    "print (chuoi)"
   ]
  },
  {
   "cell_type": "markdown",
   "metadata": {},
   "source": [
    "**Câu 159:** Viết hàm để in ra tất cả các số nguyên tố trong một phạm vi nhất định $m<= x <=n$.\n",
    "<div style=\"padding: 15px; border: 2px solid transparent; border-color: transparent; margin-bottom: 5px; margin-top: 10px;border-radius: 2px; color: #000000; background-color:#A4D3EE; border-color: #FFD39B;Width:60%\">\n",
    "\n",
    "Example:\n",
    "<br>\n",
    "<br>\n",
    "Input: printprime(17,25)\n",
    "<br>\n",
    "<br>\n",
    "Output: 17 19 23 \n",
    "</div>"
   ]
  },
  {
   "cell_type": "code",
   "execution_count": 9,
   "metadata": {},
   "outputs": [
    {
     "name": "stdout",
     "output_type": "stream",
     "text": [
      "17 19 23 \n",
      "Đã kiểm tra\n"
     ]
    }
   ],
   "source": [
    "def printprime(m,n):\n",
    "    for i in range(m,n+1):\n",
    "        count=0\n",
    "        for j in range(1,i+1):\n",
    "            \n",
    "            if i%j==0:\n",
    "                count+=1\n",
    "        if count==2:\n",
    "            print(j,end=' ')\n",
    "    print(\"\\nĐã kiểm tra\")\n",
    "printprime(17,25)   "
   ]
  },
  {
   "cell_type": "markdown",
   "metadata": {},
   "source": [
    "**Câu 160:** Một hàm getRooms yêu cầu đầu vào là tên và nếu người dùng có tên bắt đầu bằng chữ cái giữa P và S, với các thông báo sau hiển thị đến người dùng:\n",
    "- Đặc biệt: \"You must go to room 4223 for your key.\"\n",
    "- Khác: \"You can get your keys here.\"\n",
    "\n",
    "Lưu ý: không phân biệt ký tự hoa và thường."
   ]
  },
  {
   "cell_type": "code",
   "execution_count": 10,
   "metadata": {},
   "outputs": [
    {
     "name": "stdout",
     "output_type": "stream",
     "text": [
      "You must go to room 4223 for your key.\n"
     ]
    }
   ],
   "source": [
    "def getRooms(string):\n",
    "    if string[0]=='P' or string[0]=='S':\n",
    "        print(\"You must go to room 4223 for your key.\")\n",
    "    else:\n",
    "        print(\"You can get your keys here.\")\n",
    "getRooms(\"Phon\")"
   ]
  },
  {
   "cell_type": "markdown",
   "metadata": {},
   "source": [
    "**Câu 161:** Xác định số lượng phần tử có giá trị lẻ trong mảng 1 chiều."
   ]
  },
  {
   "cell_type": "code",
   "execution_count": 11,
   "metadata": {},
   "outputs": [
    {
     "name": "stdout",
     "output_type": "stream",
     "text": [
      "3\n"
     ]
    }
   ],
   "source": [
    "def Odd_NumArray(A):\n",
    "    d=0\n",
    "    for i in range(len(A)):\n",
    "        if A[i]%2!=0:\n",
    "            d+=1\n",
    "    print(d)\n",
    "Odd_NumArray([3,4,5,7,8])"
   ]
  },
  {
   "cell_type": "markdown",
   "metadata": {},
   "source": [
    "**Câu 162:** Xác định một class với generator có thể lặp lại các số nằm trong khoảng 0 và n, và chia hết cho 7."
   ]
  },
  {
   "cell_type": "code",
   "execution_count": 12,
   "metadata": {},
   "outputs": [
    {
     "name": "stdout",
     "output_type": "stream",
     "text": [
      "0 7 14 21 28 35 42 49 56 63 70 77 84 91 98 "
     ]
    }
   ],
   "source": [
    "def putNumbers(n):\n",
    "    i = 0\n",
    "    while i<n:\n",
    "        j=i\n",
    "        i=i+1\n",
    "        if j%7==0:\n",
    "            yield j\n",
    "\n",
    "for i in putNumbers (100):\n",
    "     print (i,end=' ')"
   ]
  },
  {
   "cell_type": "markdown",
   "metadata": {},
   "source": [
    "**Câu 163:** Một Robot di chuyển trong mặt phẳng bắt đầu từ điểm đầu tiên (0,0). Robot có thể di chuyển theo hướng UP, DOWN, LEFT và RIGHT với những bước nhất định. Dấu di chuyển của robot được đánh hiển thị như sau:\n",
    "\n",
    "UP 5\n",
    "\n",
    "DOWN 3\n",
    "\n",
    "LEFT 3\n",
    "\n",
    "RIGHT 3\n",
    "\n",
    "Các con số sau phía sau hướng di chuyển chính là số bước đi. Hãy viết chương trình để tính toán khoảng cách từ vị trí hiện tại đến vị trí đầu tiên, sau khi robot đã di chuyển một quãng đường. Nếu khoảng cách là một số thập phân chỉ cần in số nguyên gần nhất.\n",
    "\n",
    "\n",
    "<div style=\"padding: 15px; border: 2px solid transparent; border-color: transparent; margin-bottom: 5px; margin-top: 10px;border-radius: 2px; color: #000000; background-color:#A4D3EE; border-color: #FFD39B;Width:60%\">\n",
    "\n",
    "Example:\n",
    "<br>\n",
    "<br>\n",
    "Input: printprime(17,25)\n",
    "<br>\n",
    "<br>\n",
    "UP 5\n",
    "<br>\n",
    "<br>\n",
    "DOWN 3\n",
    "<br>\n",
    "<br>\n",
    "LEFT 3\n",
    "<br>\n",
    "<br>\n",
    "RIGHT 2\n",
    "<br>\n",
    "<br>\n",
    "Output:\n",
    "<br>\n",
    "<br>\n",
    "DISTANCE = 2\n",
    "</div>\n",
    "\n",
    "\n"
   ]
  },
  {
   "cell_type": "code",
   "execution_count": 14,
   "metadata": {},
   "outputs": [
    {
     "name": "stdout",
     "output_type": "stream",
     "text": [
      "UP 5\n",
      "DOWN 3\n",
      "LEFT 3\n",
      "RIGHT 3\n",
      "\n",
      "DISTANCE=  2\n"
     ]
    }
   ],
   "source": [
    "import math\n",
    "pos = [0,0]\n",
    "while True:\n",
    "    s = input()\n",
    "    if not s:\n",
    "        break\n",
    "    movement = s.split(\" \")\n",
    "    direction = movement[0]\n",
    "    steps = int(movement[1])\n",
    "    if direction==\"UP\":\n",
    "        pos[0]+=steps\n",
    "    elif direction==\"DOWN\":\n",
    "        pos[0]-=steps\n",
    "    elif direction==\"LEFT\":\n",
    "        pos[1]-=steps\n",
    "    elif direction==\"RIGHT\":\n",
    "        pos[1]+=steps\n",
    "    else:\n",
    "        pass\n",
    "\n",
    "print (\"DISTANCE= \",int(round(math.sqrt(pos[1]**2+pos[0]**2))))"
   ]
  },
  {
   "cell_type": "markdown",
   "metadata": {},
   "source": [
    "**Câu 164:** Định nghĩa một hàm có thể tạo dictionary, chứa các key là số từ 1 đến 20 (bao gồm cả 1 và 20) và các giá trị bình phương của chúng. Hàm chỉ in các giá trị mà thôi."
   ]
  },
  {
   "cell_type": "code",
   "execution_count": 15,
   "metadata": {},
   "outputs": [
    {
     "name": "stdout",
     "output_type": "stream",
     "text": [
      "1 4 9 16 25 36 49 64 81 100 121 144 169 196 225 256 289 324 361 400 "
     ]
    }
   ],
   "source": [
    "def printDict():\n",
    "    d=dict() \n",
    "    for i in range(1,21): \n",
    "         d[i]=i**2 \n",
    "    for (k,v) in d.items(): \n",
    "           print (v,end=' ') \n",
    "\n",
    "printDict()"
   ]
  },
  {
   "cell_type": "markdown",
   "metadata": {},
   "source": [
    "**Câu 165:** Định nghĩa hàm có thể nhận hai số nguyên trong dạng chuỗi và tính tổng của chúng, sau đó in tổng ra giao diện điều khiển."
   ]
  },
  {
   "cell_type": "code",
   "execution_count": 16,
   "metadata": {},
   "outputs": [
    {
     "name": "stdout",
     "output_type": "stream",
     "text": [
      "7\n"
     ]
    }
   ],
   "source": [
    "def printValue(s1,s2):\n",
    "    print (int(s1)+int(s2))\n",
    "printValue(\"3\",\"4\")"
   ]
  },
  {
   "cell_type": "markdown",
   "metadata": {},
   "source": [
    "**Câu 166:** Viết chương trình nhận chuỗi do người dùng nhập vào và in các ký tự có chỉ số chẵn."
   ]
  },
  {
   "cell_type": "code",
   "execution_count": 17,
   "metadata": {},
   "outputs": [
    {
     "name": "stdout",
     "output_type": "stream",
     "text": [
      "Nhập chuỗi vào đây: 32mse\n",
      "3me\n"
     ]
    }
   ],
   "source": [
    "msg=input(\"Nhập chuỗi vào đây: \")\n",
    "msg_new = msg[::2]\n",
    "print (msg_new)"
   ]
  },
  {
   "cell_type": "markdown",
   "metadata": {},
   "source": [
    "**Câu 167:** Sử dụng list comprehension để viết chương trình in list sau khi đã loại bỏ các số chia hết cho 8 trong [1,4,64,32,128,3]."
   ]
  },
  {
   "cell_type": "code",
   "execution_count": 18,
   "metadata": {},
   "outputs": [
    {
     "name": "stdout",
     "output_type": "stream",
     "text": [
      "[1, 4, 3]\n"
     ]
    }
   ],
   "source": [
    "listA = [1,4,64,32,128,3]\n",
    "\n",
    "list_compre = [i for i in listA if i%8!=0]\n",
    "print (list_compre)"
   ]
  },
  {
   "cell_type": "markdown",
   "metadata": {},
   "source": [
    "**Câu 168:** Xác định phần tử đầu tiên có giá trị lớn nhất trong mảng 1 chiều."
   ]
  },
  {
   "cell_type": "code",
   "execution_count": 19,
   "metadata": {},
   "outputs": [
    {
     "name": "stdout",
     "output_type": "stream",
     "text": [
      "12\n"
     ]
    }
   ],
   "source": [
    "def Max_Array(A):\n",
    "    Max=0\n",
    "    for i in A:\n",
    "        if i>Max:\n",
    "            Max=i\n",
    "    print(Max)\n",
    "Max_Array([3,4,12,9])"
   ]
  },
  {
   "cell_type": "markdown",
   "metadata": {},
   "source": [
    "**Câu 169:** Viết chương trình in list sau khi đã xóa số thứ 0, thứ 2, thứ 4, thứ 6 trong [12,24,35,70,88,120,155]. "
   ]
  },
  {
   "cell_type": "code",
   "execution_count": 20,
   "metadata": {},
   "outputs": [
    {
     "name": "stdout",
     "output_type": "stream",
     "text": [
      "[24, 70, 120]\n"
     ]
    }
   ],
   "source": [
    "listA = [12,24,35,70,88,120,155]\n",
    "\n",
    "a= [x for i,x in enumerate(listA) if i%2!=0]\n",
    "print (a)"
   ]
  },
  {
   "cell_type": "markdown",
   "metadata": {},
   "source": [
    "**Câu 170:** Viết chương trình xuất ra một số chẵn ngẫu nhiên trong khoảng 0 đến 10 (bao gồm cả 0 và 10), sử dụng module random và list comprehension."
   ]
  },
  {
   "cell_type": "code",
   "execution_count": 21,
   "metadata": {},
   "outputs": [
    {
     "name": "stdout",
     "output_type": "stream",
     "text": [
      "0\n"
     ]
    }
   ],
   "source": [
    "import random\n",
    "print (random.choice([i for i in range(11) if i%2==0]))"
   ]
  },
  {
   "cell_type": "markdown",
   "metadata": {},
   "source": [
    "**Câu 171:** Vui lòng viết chương trình để xuất một số ngẫu nhiên, chia hết cho 5 và 7, từ 0 đến 200 (gồm cả 0 và 200), sử dụng module random và list comprehension."
   ]
  },
  {
   "cell_type": "code",
   "execution_count": 22,
   "metadata": {},
   "outputs": [
    {
     "name": "stdout",
     "output_type": "stream",
     "text": [
      "175\n"
     ]
    }
   ],
   "source": [
    "import random\n",
    "print (random.choice([i for i in range(201) if i%5==0 and i%7==0]))"
   ]
  },
  {
   "cell_type": "markdown",
   "metadata": {},
   "source": [
    "**Câu 172:** Viết chương trình tạo ngẫu nhiên list gồm 5 số chẵn nằm trong đoạn [100;200]."
   ]
  },
  {
   "cell_type": "code",
   "execution_count": 23,
   "metadata": {},
   "outputs": [
    {
     "name": "stdout",
     "output_type": "stream",
     "text": [
      "[152, 132, 186, 176, 162]\n"
     ]
    }
   ],
   "source": [
    "import random\n",
    "print (random.sample([i for i in range(100,201) if i%2==0], 5))"
   ]
  },
  {
   "cell_type": "markdown",
   "metadata": {},
   "source": [
    "**Câu 173:** Hãy viết một RuntimeError exception."
   ]
  },
  {
   "cell_type": "code",
   "execution_count": 24,
   "metadata": {},
   "outputs": [
    {
     "name": "stdout",
     "output_type": "stream",
     "text": [
      "And now, the Vocational Guidance Counsellor Sketch.\n",
      "Vocation problem: Does not have proper hat\n"
     ]
    }
   ],
   "source": [
    "class RuntimeError(Exception):\n",
    "    def __init__(self, mismatch):\n",
    "        Exception.__init__(self, mismatch)\n",
    "try:\n",
    "    print (\"And now, the Vocational Guidance Counsellor Sketch.\")\n",
    "    raise RuntimeError(\"Does not have proper hat\")\n",
    "    print (\"This print statement will not be reached.\")\n",
    "except RuntimeError as problem:\n",
    "    print (\"Vocation problem: {0}\".format(problem))"
   ]
  },
  {
   "cell_type": "markdown",
   "metadata": {},
   "source": [
    "**Câu 174:** Giả sử rằng chúng ta có vài địa chỉ email dạng username@companyname\\.com, hãy viết một chương trình để in username của địa chỉ email cụ thể. Cả username và companyname chỉ bao gồm chữ cái.\n",
    "\n",
    "<div style=\"padding: 15px; border: 2px solid transparent; border-color: transparent; margin-bottom: 5px; margin-top: 10px;border-radius: 2px; color: #000000; background-color:#A4D3EE; border-color: #FFD39B;Width:60%\">\n",
    "\n",
    "Example:\n",
    "<br>\n",
    "<br>\n",
    "Input: cracker@lambda\\.com\n",
    "<br>\n",
    "<br>\n",
    "Output: cracker\n",
    "\n",
    "</div>\n"
   ]
  },
  {
   "cell_type": "code",
   "execution_count": 25,
   "metadata": {},
   "outputs": [
    {
     "name": "stdout",
     "output_type": "stream",
     "text": [
      "cracker@lambda.com\n",
      "cracker\n"
     ]
    }
   ],
   "source": [
    "import re\n",
    "emailAddress = input()\n",
    "pat2 = \"(\\w+)@((\\w+\\.)+(com))\"\n",
    "re2 = re.match(pat2,emailAddress)\n",
    "print (re2.group(1))"
   ]
  },
  {
   "cell_type": "markdown",
   "metadata": {},
   "source": [
    "**Câu 175:** Viết một chương trình chấp nhận đầu vào là chuỗi các số nhị phân 4 chữ số, phân tách bởi dấu phẩy, kiểm tra xem chúng có chia hết cho 5 không. Sau đó in các số chia hết cho 5 thành dãy phân tách bởi dấu phẩy.\n",
    "\n",
    "<div style=\"padding: 15px; border: 2px solid transparent; border-color: transparent; margin-bottom: 5px; margin-top: 10px;border-radius: 2px; color: #000000; background-color:#A4D3EE; border-color: #FFD39B;Width:60%\">\n",
    "\n",
    "Example:\n",
    "<br>\n",
    "<br>\n",
    "Input: 0100,0011,1010,1001\n",
    "<br>\n",
    "<br>\n",
    "Output: 1010\n",
    "\n",
    "</div>\n"
   ]
  },
  {
   "cell_type": "code",
   "execution_count": 26,
   "metadata": {},
   "outputs": [
    {
     "name": "stdout",
     "output_type": "stream",
     "text": [
      "Nhập các số nhị phân: 0100,0011,1010,1001\n",
      "1010\n"
     ]
    }
   ],
   "source": [
    "value = []\n",
    "items=[x for x in input(\"Nhập các số nhị phân: \").split(',')]\n",
    "for p in items:\n",
    "    intp = int(p, 2)\n",
    "    if not intp%5:\n",
    "        value.append(p)\n",
    "\n",
    "print (','.join(value))"
   ]
  },
  {
   "cell_type": "markdown",
   "metadata": {},
   "source": [
    "**Câu 176:** Giả sử rằng chúng ta có vài địa chỉ email dạng username@companyname\\.com, hãy viết một chương trình để in companyname của địa chỉ email cụ thể. Cả username và companyname chỉ bao gồm chữ cái."
   ]
  },
  {
   "cell_type": "code",
   "execution_count": 27,
   "metadata": {},
   "outputs": [
    {
     "name": "stdout",
     "output_type": "stream",
     "text": [
      "cracker@lambda.com\n",
      "lambda\n"
     ]
    }
   ],
   "source": [
    "import re\n",
    "emailAddress = input()\n",
    "pat2 = \"(\\w+)@(\\w+)\\.(com)\"\n",
    "r2 = re.match(pat2,emailAddress)\n",
    "print (r2.group(2))"
   ]
  },
  {
   "cell_type": "markdown",
   "metadata": {},
   "source": [
    "**Câu 177:** Viết chương trình để đọc chuỗi ASCII và chuyển đổi nó sang một chuỗi Unicode được mã hóa bằng UTF-8."
   ]
  },
  {
   "cell_type": "code",
   "execution_count": 28,
   "metadata": {},
   "outputs": [
    {
     "name": "stdout",
     "output_type": "stream",
     "text": [
      "bà\n",
      "b'b\\xc3\\xa0'\n"
     ]
    }
   ],
   "source": [
    "s = input()\n",
    "v = s.encode()\n",
    "print (v)"
   ]
  },
  {
   "cell_type": "markdown",
   "metadata": {},
   "source": [
    "**Câu 178:** Viết chương trình tính: f(n) = f(n-1)+100 khi n>0 và f(0) = 1, với n là số được nhập vào (n>0).\n",
    "<div style=\"padding: 15px; border: 2px solid transparent; border-color: transparent; margin-bottom: 5px; margin-top: 10px;border-radius: 2px; color: #000000; background-color:#A4D3EE; border-color: #FFD39B;Width:60%\">\n",
    "\n",
    "Example:\n",
    "<br>\n",
    "<br>\n",
    "Input: 5\n",
    "<br>\n",
    "<br>\n",
    "Output: 500\n",
    "\n",
    "</div>\n",
    "\n"
   ]
  },
  {
   "cell_type": "code",
   "execution_count": 29,
   "metadata": {},
   "outputs": [
    {
     "name": "stdout",
     "output_type": "stream",
     "text": [
      "Nhập số n>0: 5\n",
      "500\n"
     ]
    }
   ],
   "source": [
    "def f(n):\n",
    "    if n==0:\n",
    "        return 0\n",
    "    else:\n",
    "        return f(n-1)+100\n",
    "\n",
    "n=int(input(\"Nhập số n>0: \"))\n",
    "print (f(n))"
   ]
  },
  {
   "cell_type": "markdown",
   "metadata": {},
   "source": [
    "**Câu 179:**  Viết chương trình sử dụng generator để in số chẵn trong khoảng từ 0 đến n, cách nhau bởi dấu phẩy, n là số được nhập vào.\n",
    "\n",
    "<div style=\"padding: 15px; border: 2px solid transparent; border-color: transparent; margin-bottom: 5px; margin-top: 10px;border-radius: 2px; color: #000000; background-color:#A4D3EE; border-color: #FFD39B;Width:60%\">\n",
    "\n",
    "Example:\n",
    "<br>\n",
    "<br>\n",
    "Input: n = 5\n",
    "<br>\n",
    "<br>\n",
    "Output: 0,2,4\n",
    "\n",
    "</div>\n"
   ]
  },
  {
   "cell_type": "code",
   "execution_count": 30,
   "metadata": {},
   "outputs": [
    {
     "name": "stdout",
     "output_type": "stream",
     "text": [
      "Nhập n: 3\n",
      "Các số chẵn trong khoảng 0 và n là:  0,2\n"
     ]
    }
   ],
   "source": [
    "def EvenGenerator(n):\n",
    "    i=0\n",
    "    while i<=n:\n",
    "        if i%2==0:\n",
    "            yield i\n",
    "        i+=1\n",
    "\n",
    "\n",
    "n=int(input(\"Nhập n: \"))\n",
    "values = []\n",
    "for i in EvenGenerator(n):\n",
    "    values.append(str(i))\n",
    "\n",
    "print (\"Các số chẵn trong khoảng 0 và n là: \",\",\".join(values))"
   ]
  },
  {
   "cell_type": "markdown",
   "metadata": {},
   "source": [
    "**Câu 180:** Viết chương trình sử dụng generator để in số chia hết cho 5 và 7 giữa 0 và n, cách nhau bằng dấu phẩy, n được người dùng nhập vào.\n",
    "\n",
    "<div style=\"padding: 15px; border: 2px solid transparent; border-color: transparent; margin-bottom: 5px; margin-top: 10px;border-radius: 2px; color: #000000; background-color:#A4D3EE; border-color: #FFD39B;Width:60%\">\n",
    "\n",
    "Example:\n",
    "<br>\n",
    "<br>\n",
    "Input: n = 80\n",
    "<br>\n",
    "<br>\n",
    "Output: 0,35,70\n",
    "\n",
    "</div>"
   ]
  },
  {
   "cell_type": "code",
   "execution_count": 31,
   "metadata": {},
   "outputs": [
    {
     "name": "stdout",
     "output_type": "stream",
     "text": [
      "Nhập n: 80\n",
      "Các số chia hết cho 5 và 7 trong khoảng 0 và n là:  0,35,70\n"
     ]
    }
   ],
   "source": [
    "def NumGenerator(n):\n",
    "    for i in range(n+1):\n",
    "        if i%5==0 and i%7==0:\n",
    "            yield i\n",
    "\n",
    "n=int(input(\"Nhập n: \"))\n",
    "values = []\n",
    "for i in NumGenerator(n):\n",
    "    values.append(str(i))\n",
    "\n",
    "print (\"Các số chia hết cho 5 và 7 trong khoảng 0 và n là: \",\",\".join(values))"
   ]
  },
  {
   "cell_type": "markdown",
   "metadata": {},
   "source": [
    "**Câu 181:** Viết một chương trình tính giá trị của a+aa+aaa+aaaa bằng cách ép qua kiểu int với a là số được nhập vào bởi người dùng.\n",
    "\n",
    "<div style=\"padding: 15px; border: 2px solid transparent; border-color: transparent; margin-bottom: 5px; margin-top: 10px;border-radius: 2px; color: #000000; background-color:#A4D3EE; border-color: #FFD39B;Width:60%\">\n",
    "\n",
    "Example:\n",
    "<br>\n",
    "<br>\n",
    "Input: n = 1\n",
    "<br>\n",
    "<br>\n",
    "Output: 1234\n",
    "\n",
    "</div>\n"
   ]
  },
  {
   "cell_type": "code",
   "execution_count": 32,
   "metadata": {},
   "outputs": [
    {
     "name": "stdout",
     "output_type": "stream",
     "text": [
      "Nhập số a: 4\n",
      "Tổng cần tính là:  4936\n"
     ]
    }
   ],
   "source": [
    "a = input(\"Nhập số a: \")\n",
    "n1 = int( \"%s\" % a )\n",
    "n2 = int( \"%s%s\" % (a,a) )\n",
    "n3 = int( \"%s%s%s\" % (a,a,a) )\n",
    "n4 = int( \"%s%s%s%s\" % (a,a,a,a) )\n",
    "print (\"Tổng cần tính là: \",n1+n2+n3+n4)# 4+44+444+4444"
   ]
  },
  {
   "cell_type": "markdown",
   "metadata": {},
   "source": [
    "**Câu 182:** Sử dụng một danh sách để lọc các số lẻ từ danh sách được người dùng nhập vào.\n",
    "\n",
    "<div style=\"padding: 15px; border: 2px solid transparent; border-color: transparent; margin-bottom: 5px; margin-top: 10px;border-radius: 2px; color: #000000; background-color:#A4D3EE; border-color: #FFD39B;Width:60%\">\n",
    "\n",
    "Example:\n",
    "<br>\n",
    "<br>\n",
    "Input: 1,2,3,4,5,6,7,8,9,10\n",
    "<br>\n",
    "<br>\n",
    "Output: 1,3,5,7,9\n",
    "\n",
    "</div>"
   ]
  },
  {
   "cell_type": "code",
   "execution_count": 33,
   "metadata": {},
   "outputs": [
    {
     "name": "stdout",
     "output_type": "stream",
     "text": [
      "Nhập dãy số của bạn, cách nhau bởi dấu phẩy: 1,2,3,4,5,6,7,8,9,10\n",
      "Các số lẻ là: 1,3,5,7,9\n"
     ]
    }
   ],
   "source": [
    "values = input(\"Nhập dãy số của bạn, cách nhau bởi dấu phẩy: \")\n",
    "numbers = [x for x in values.split(\",\") if int(x)%2!=0]\n",
    "print (\"Các số lẻ là: \"+\",\".join(numbers))"
   ]
  },
  {
   "cell_type": "markdown",
   "metadata": {},
   "source": [
    "**Câu 183:** Viết một chương trình để tạo ra và in tuple chứa các số chẵn được lấy từ tuple (1,2,3,4,5,6,7,8,9,10)."
   ]
  },
  {
   "cell_type": "code",
   "execution_count": 34,
   "metadata": {},
   "outputs": [
    {
     "name": "stdout",
     "output_type": "stream",
     "text": [
      "(2, 4, 6, 8, 10)\n"
     ]
    }
   ],
   "source": [
    "tup=(1,2,3,4,5,6,7,8,9,10)\n",
    "listA=list()\n",
    "for t in tup:\n",
    "    if tup[t-1]%2==0:\n",
    "        listA.append(tup[t-1])\n",
    "        tup_new=tuple(listA)\n",
    "print (tup_new)"
   ]
  },
  {
   "cell_type": "markdown",
   "metadata": {},
   "source": [
    "**Câu 184:** Viết chương trình để giải 1 câu đố cổ của Trung Quốc: Một trang trại thỏ và gà có 35 đầu, 94 chân, hỏi số thỏ và gà là bao nhiêu?"
   ]
  },
  {
   "cell_type": "code",
   "execution_count": 35,
   "metadata": {},
   "outputs": [
    {
     "name": "stdout",
     "output_type": "stream",
     "text": [
      "(23, 12)\n"
     ]
    }
   ],
   "source": [
    "def giai(dau,chan):\n",
    "    results='Không có dáp án phù hợp!'\n",
    "    for i in range(dau+1):\n",
    "        j=dau-i\n",
    "        if 2*i+4*j==legs:\n",
    "            return i,j\n",
    "    return results,results\n",
    "\n",
    "heads=35\n",
    "legs=94\n",
    "dap_an=giai(heads,legs)\n",
    "print (dap_an)"
   ]
  },
  {
   "cell_type": "markdown",
   "metadata": {},
   "source": [
    "**Câu 185:** Tìm các bộ (trâu đứng, trâu nằm, trâu già) thỏa mãn bài toán cổ:\n",
    "\n",
    "Trăm trâu ăn trăm bó cỏ\n",
    "Trâu đứng ăn năm\n",
    "Trâu nằm ăn ba\n",
    "Lụ khụ trâu già\n",
    "Ba con một bó.\n",
    "\n",
    "Thử tìm cách giảm số vòng lặp khi tính toán xuống."
   ]
  },
  {
   "cell_type": "code",
   "execution_count": 36,
   "metadata": {},
   "outputs": [
    {
     "name": "stdout",
     "output_type": "stream",
     "text": [
      "4 18 78\n",
      "8 11 81\n",
      "12 4 84\n"
     ]
    }
   ],
   "source": [
    "for x in range(1,int(100/5)):\n",
    "    for y in range(1,int(100/3)):\n",
    "        z=100-(x+y)\n",
    "        if 300==15*x+9*y+z:\n",
    "            print(x,y,z,sep=' ')"
   ]
  },
  {
   "cell_type": "markdown",
   "metadata": {},
   "source": [
    "**Câu 186:**  Hiện thực hàm để tính hiệu các số chẳn trong khoảng [m,n]  với m, n >= 0.\n",
    "\n",
    "Nếu m < n thì xuất ra \"Input Error!!!\"\n",
    "\n",
    "Ngược lại xuất ra kết quả hiệu các số chẵn trong khoảng đó.\n",
    "<div style=\"padding: 15px; border: 2px solid transparent; border-color: transparent; margin-bottom: 5px; margin-top: 10px;border-radius: 2px; color: #000000; background-color:#A4D3EE; border-color: #FFD39B;Width:60%\">\n",
    "\n",
    "Example:\n",
    "<br>\n",
    "<br>\n",
    "Input: MinusInt(9,3)     \n",
    "<br>\n",
    "<br>\n",
    "Output: -10\n",
    "\n",
    "</div>"
   ]
  },
  {
   "cell_type": "code",
   "execution_count": 37,
   "metadata": {},
   "outputs": [
    {
     "name": "stdout",
     "output_type": "stream",
     "text": [
      "Hiệu các số chẵn là:  -10\n"
     ]
    }
   ],
   "source": [
    "def MinusInt(m,n):\n",
    "    if m<n:\n",
    "        print(\"Input Error!!!\")\n",
    "    else:\n",
    "        dem=0\n",
    "        h=0\n",
    "        for i in range(n,m+1):\n",
    "            if i%2==0:\n",
    "                dem+=1\n",
    "                if dem ==1:\n",
    "                    h=i\n",
    "                else:\n",
    "                    h-=i\n",
    "        if dem==1:\n",
    "            print(\"Hiệu các số chẵn là: \",i)\n",
    "        elif dem==0:\n",
    "            print(\"Not Values\")\n",
    "        else:\n",
    "            print(\"Hiệu các số chẵn là: \",h)\n",
    "MinusInt(9,3)           "
   ]
  },
  {
   "cell_type": "markdown",
   "metadata": {},
   "source": [
    "**Câu 187:** Viết chương trình chuyển đổi nhiệt độ với các tùy chọn từ người dùng\n",
    "    \n",
    "- Nếu người dùng nhâp vào ký tự 'F' thì cho nhập vào nhiệt độ temp và đổi sang nhiệt độ C theo công thức:\n",
    "\n",
    "C = (5/9)(temp - 32)\n",
    "\n",
    "- Trường hợp ký tự 'C' thì thì cho nhập vào nhiệt độ temp và đổi sang nhiệt độ F theo công thức:\n",
    "\n",
    "F = (9/5)temp + 32\n",
    "\n",
    "- Trường hợp khác thì xuất ra \"Tuy chon khong hop le!!!\""
   ]
  },
  {
   "cell_type": "code",
   "execution_count": 38,
   "metadata": {},
   "outputs": [
    {
     "name": "stdout",
     "output_type": "stream",
     "text": [
      "Chọn option (C/F): C\n",
      "Nhập vào nhiệt độ(F): 190\n",
      "Chuyển đổi nhiệt độ sang C:  87.77777777777779\n"
     ]
    }
   ],
   "source": [
    "option=input(\"Chọn option (C/F): \")\n",
    "if option==\"C\":\n",
    "    temp=float(input(\"Nhập vào nhiệt độ(F): \"))\n",
    "    print(\"Chuyển đổi nhiệt độ sang C: \",5/9*(temp-32))\n",
    "elif option=='F':\n",
    "    temp=float(input(\"Nhập vào nhiệt độ(C): \"))\n",
    "    print(\"Chuyển đổi nhiệt độ sang F: \",9/5*temp+32)\n",
    "else:\n",
    "    print(\"Tùy chọn không hợp lệ\")"
   ]
  },
  {
   "cell_type": "markdown",
   "metadata": {},
   "source": [
    "**Câu 188:** Viết chương trình in list từ list [12,24,35,24,88,120,155,88,120,155], sau khi đã xóa hết các giá trị trùng nhau."
   ]
  },
  {
   "cell_type": "code",
   "execution_count": 39,
   "metadata": {},
   "outputs": [
    {
     "name": "stdout",
     "output_type": "stream",
     "text": [
      "List sau khi xóa giá trị trùng là: [24, 35, 70, 155]\n"
     ]
    }
   ],
   "source": [
    "def delete_duplicate( listA ):\n",
    "    list_new=[]\n",
    "    SetA = set()\n",
    "    for i in li:\n",
    "        if i not in SetA:\n",
    "            SetA.add( i )\n",
    "            list_new.append(i)\n",
    "            \n",
    "    return list_new\n",
    "\n",
    "listA=[12,12,15,24,35,35,24,88,120,155,88,120,155]\n",
    "print (\"List sau khi xóa giá trị trùng là:\",delete_duplicate(listA))"
   ]
  },
  {
   "cell_type": "markdown",
   "metadata": {},
   "source": [
    "**Câu 189:**  Viết hàm tìm kiếm nhị phân để tìm các item trong một list đã được sắp xếp. Hàm sẽ trả lại chỉ số của phần tử được tìm thấy trong list nếu không tìm thấy sẽ trả về \"-1\"."
   ]
  },
  {
   "cell_type": "code",
   "execution_count": 40,
   "metadata": {},
   "outputs": [
    {
     "name": "stdout",
     "output_type": "stream",
     "text": [
      "4\n",
      "-1\n"
     ]
    }
   ],
   "source": [
    "import math\n",
    "def bin_search(li, element):\n",
    "    bottom = 0\n",
    "    top = len(li)-1\n",
    "    index = -1\n",
    "    while top>=bottom and index==-1:\n",
    "        mid = int(math.floor((top+bottom)/2.0))\n",
    "        if li[mid]==element:\n",
    "            index = mid\n",
    "        elif li[mid]>element:\n",
    "            top = mid-1\n",
    "        else:\n",
    "            bottom = mid+1\n",
    "    return index\n",
    "\n",
    "li=[2,5,7,9,11,17,222]\n",
    "print (bin_search(li,11))\n",
    "print (bin_search(li,12))"
   ]
  },
  {
   "cell_type": "markdown",
   "metadata": {},
   "source": [
    "**Câu 190:** Câu 21: Một website yêu cầu người dùng nhập tên người dùng và mật khẩu để đăng ký. Viết chương trình để kiểm tra tính hợp lệ của mật khẩu mà người dùng nhập vào.\n",
    "\n",
    "Các tiêu chí kiểm tra mật khẩu bao gồm:\n",
    "\n",
    "1. Ít nhất 1 chữ cái nằm trong [a-z]\n",
    "2. Ít nhất 1 số nằm trong [0-9]\n",
    "3. Ít nhất 1 kí tự nằm trong [A-Z]\n",
    "4. Ít nhất 1 ký tự nằm trong [$ # @]\n",
    "5. Độ dài mật khẩu tối thiểu: 6\n",
    "6. Độ dài mật khẩu tối đa: 12\n",
    "\n",
    "Chương trình phải chấp nhận một chuỗi mật khẩu phân tách nhau bởi dấu phẩy và kiểm tra xem chúng có đáp ứng những tiêu chí trên hay không. Mật khẩu hợp lệ sẽ được in, mỗi mật khẩu cách nhau bởi dấu phẩy.\n",
    "\n",
    "<div style=\"padding: 15px; border: 2px solid transparent; border-color: transparent; margin-bottom: 5px; margin-top: 10px;border-radius: 2px; color: #000000; background-color:#A4D3EE; border-color: #FFD39B;Width:60%\">\n",
    "\n",
    "Example:\n",
    "\n",
    "Input: ABd1234@1,a F1#,2w3E*,2We3345\n",
    "\n",
    "Output: ABd1234@1\n",
    "\n",
    "</div>"
   ]
  },
  {
   "cell_type": "code",
   "execution_count": 41,
   "metadata": {},
   "outputs": [
    {
     "name": "stdout",
     "output_type": "stream",
     "text": [
      "Nhập mật khẩu: ABd1234@1,a F1#,2w3E*,2We3345\n",
      "ABd1234@1\n"
     ]
    }
   ],
   "source": [
    "import re\n",
    "value = []\n",
    "items=[x for x in input(\"Nhập mật khẩu: \").split(',')]\n",
    "\n",
    "for p in items:\n",
    "    if len(p)<6 or len(p)>12:\n",
    "        continue\n",
    "    else:\n",
    "        pass\n",
    "    if not re.search(\"[a-z]\",p):\n",
    "        continue\n",
    "    elif not re.search(\"[0-9]\",p):\n",
    "        continue\n",
    "    elif not re.search(\"[A-Z]\",p):\n",
    "        continue\n",
    "    elif not re.search(\"[$#@]\",p):\n",
    "        continue\n",
    "    elif re.search(\"\\s\",p):\n",
    "        continue\n",
    "    else:\n",
    "        pass\n",
    "    value.append(p)\n",
    "print (\",\".join(value))"
   ]
  },
  {
   "cell_type": "markdown",
   "metadata": {},
   "source": [
    "**Câu 191:** Hãy viết hàm tính khoảng cách điểm M(x,y) đến đường thẳng ax + by + c = 0 với a, b, c được nhập từ bàn phím."
   ]
  },
  {
   "cell_type": "code",
   "execution_count": 42,
   "metadata": {},
   "outputs": [
    {
     "name": "stdout",
     "output_type": "stream",
     "text": [
      "Nhập vào a: 1\n",
      "Nhập vào b: 3\n",
      "Nhập vào c: 4\n",
      "Nhập vào xM: 9\n",
      "Nhập vào yM: 10\n"
     ]
    },
    {
     "data": {
      "text/plain": [
       "24.981993515330196"
      ]
     },
     "execution_count": 42,
     "metadata": {},
     "output_type": "execute_result"
    }
   ],
   "source": [
    "from math import sqrt\n",
    "def distance(x,y):\n",
    "    dis=abs(a*x+b*y+c*y)/sqrt(a**2+b**2)\n",
    "    return dis\n",
    "a=float(input(\"Nhập vào a: \"))\n",
    "b=float(input(\"Nhập vào b: \"))\n",
    "c=float(input(\"Nhập vào c: \"))\n",
    "xM=float(input(\"Nhập vào xM: \"))\n",
    "yM=float(input(\"Nhập vào yM: \"))\n",
    "distance(xM,yM)"
   ]
  },
  {
   "cell_type": "markdown",
   "metadata": {},
   "source": [
    "**Câu 192:** Viết chương trình kiểm tra một danh sách phải có 3 số 15 và 2 số 7."
   ]
  },
  {
   "cell_type": "code",
   "execution_count": 43,
   "metadata": {},
   "outputs": [
    {
     "data": {
      "text/plain": [
       "True"
      ]
     },
     "execution_count": 43,
     "metadata": {},
     "output_type": "execute_result"
    }
   ],
   "source": [
    "def test(nums):\n",
    "    return nums.count(15) == 2 and nums.count(7) >= 3\n",
    "nums = [15,15,18,2,7,7,7,3]\n",
    "test(nums)"
   ]
  },
  {
   "cell_type": "markdown",
   "metadata": {},
   "source": [
    "**Câu 193:** Viết chương trình kiểm tra danh sách chứa 4 giá trị riêng biệt, sao cho không số nguyên nào trong 10 index đầu tiên không được lặp lại quá 2 lần.\n",
    "<div style=\"padding: 15px; border: 2px solid transparent; border-color: transparent; margin-bottom: 5px; margin-top: 10px;border-radius: 2px; color: #000000; background-color:#A4D3EE; border-color: #FFD39B;Width:60%\">\n",
    "\n",
    "Example:\n",
    "<br>\n",
    "<br>\n",
    "Input: [1, 2, 3, 4, 1, 2, 3, 4, 1, 2, 3, 4, 1, 2, 3, 4]\n",
    "<br>\n",
    "<br>\n",
    "Output: True\n",
    "\n",
    "</div>"
   ]
  },
  {
   "cell_type": "code",
   "execution_count": 44,
   "metadata": {},
   "outputs": [
    {
     "name": "stdout",
     "output_type": "stream",
     "text": [
      "[1, 2, 3, 4, 1, 2, 3, 4, 1, 2, 3, 4, 1, 2, 3, 4]\n",
      "True\n",
      "[1, 2, 3, 3, 1, 2, 3, 3, 1, 2, 3, 3, 1, 2, 3, 3]\n",
      "False\n"
     ]
    }
   ],
   "source": [
    "def test(nums):\n",
    "    return all([nums[i] != nums[i + 1] for i in range(len(nums)-1)]) and len(set(nums)) == 4\n",
    "nums = [1, 2, 3, 4, 1, 2, 3, 4, 1, 2, 3, 4, 1, 2, 3, 4]\n",
    "print(nums)\n",
    "print(test(nums))\n",
    "nums = [1, 2, 3, 3, 1, 2, 3, 3, 1, 2, 3, 3, 1, 2, 3, 3]\n",
    "\n",
    "print(nums)\n",
    "print(test(nums))\n"
   ]
  },
  {
   "cell_type": "markdown",
   "metadata": {},
   "source": [
    "**Câu 194:** Viết hàm tìm index các số mà trong danh sách nhỏ hơn 1 ngưỡng threshold <100.\n",
    "<div style=\"padding: 15px; border: 2px solid transparent; border-color: transparent; margin-bottom: 5px; margin-top: 10px;border-radius: 2px; color: #000000; background-color:#A4D3EE; border-color: #FFD39B;Width:60%\">\n",
    "\n",
    "Example:\n",
    "<br>\n",
    "<br>\n",
    "Input: [0, 12, 45, 3, 4923, 322, 105, 29, 15, 39, 55]\n",
    "<br>\n",
    "<br>\n",
    "Output: [0, 1, 2, 3, 7, 8, 9, 10]\n",
    "\n",
    "</div>"
   ]
  },
  {
   "cell_type": "code",
   "execution_count": 45,
   "metadata": {},
   "outputs": [
    {
     "name": "stdout",
     "output_type": "stream",
     "text": [
      "Original list:\n",
      " [0, 12, 45, 3, 4923, 322, 105, 29, 15, 39, 55]\n",
      "Threshold:  100\n",
      "Check the indexes of numbers of the said list below the given threshold:\n",
      "[0, 1, 2, 3, 7, 8, 9, 10]\n"
     ]
    }
   ],
   "source": [
    "def test(nums, n):\n",
    "    return [i for i,n in enumerate(nums) if n<thresh]\n",
    "\n",
    "nums=[0, 12, 45, 3, 4923, 322, 105, 29, 15, 39, 55]\n",
    "thresh = 100\n",
    "print(\"Original list:\\n\",nums)\n",
    "print(\"Threshold: \",thresh)\n",
    "print(\"Check the indexes of numbers of the said list below the given threshold:\")\n",
    "print(test(nums, thresh))"
   ]
  },
  {
   "cell_type": "markdown",
   "metadata": {},
   "source": [
    "**Câu 195:** Viết chương trình kiểm tra danh sách các chuỗi có phải là đối xứng hay không.\n",
    "<div style=\"padding: 15px; border: 2px solid transparent; border-color: transparent; margin-bottom: 5px; margin-top: 10px;border-radius: 2px; color: #000000; background-color:#A4D3EE; border-color: #FFD39B;Width:60%\">\n",
    "\n",
    "Example:\n",
    "<br>\n",
    "<br>\n",
    "Input: ['palindrome', 'madamimadam', '', 'foo', 'eyes']\n",
    "<br>\n",
    "<br>\n",
    "Output: [False, True, True, False, False]\n",
    "\n",
    "</div>"
   ]
  },
  {
   "cell_type": "code",
   "execution_count": 46,
   "metadata": {},
   "outputs": [
    {
     "name": "stdout",
     "output_type": "stream",
     "text": [
      "Original strings:\n",
      "['palindrome', 'madamimadam', '', 'foo', 'eyes']\n",
      "\n",
      "Test whether the given strings are palindromes or not:\n",
      "[False, True, True, False, False]\n"
     ]
    }
   ],
   "source": [
    "def test(strs):\n",
    "    return [s == s[::-1] for s in strs]\n",
    "strs = ['palindrome', 'madamimadam', '', 'foo', 'eyes']\n",
    "print(\"Original strings:\")\n",
    "print(strs)\n",
    "print(\"\\nTest whether the given strings are palindromes or not:\")\n",
    "print(test(strs))"
   ]
  },
  {
   "cell_type": "markdown",
   "metadata": {},
   "source": [
    "**Câu 196:** Cho hàm số y = ax + b hãy tính hệ số góc và góc hợp với trục hoành. "
   ]
  },
  {
   "cell_type": "code",
   "execution_count": 47,
   "metadata": {},
   "outputs": [
    {
     "name": "stdout",
     "output_type": "stream",
     "text": [
      "Nhập vào a: -3\n",
      "Nhập vào b: 3\n",
      "Hệ số góc là -3.0\n",
      "Góc hợp với trục hoành là:  108.39864998990899\n"
     ]
    }
   ],
   "source": [
    "from math import atan\n",
    "a=float(input(\"Nhập vào a: \"))\n",
    "b=float(input(\"Nhập vào b: \"))\n",
    "print(\"Hệ số góc là\",a)\n",
    "if a>0:\n",
    "    print(\"Góc hợp với trục hoành là: \",atan(a)*180/3.14)\n",
    "else:\n",
    "    print(\"Góc hợp với trục hoành là: \",180-atan(-a)*180/3.14)"
   ]
  },
  {
   "cell_type": "markdown",
   "metadata": {},
   "source": [
    "**Câu 197:** Tìm chuỗi dài nhất trong danh sách các chuỗi:"
   ]
  },
  {
   "cell_type": "code",
   "execution_count": 48,
   "metadata": {},
   "outputs": [
    {
     "name": "stdout",
     "output_type": "stream",
     "text": [
      "Original strings:\n",
      "['cat', 'car', 'fear', 'center']\n",
      "Longest string of the said list of strings:\n",
      "center\n"
     ]
    }
   ],
   "source": [
    "def test(words):\n",
    "    return  max(words, key=len) \n",
    "strs =  ['cat', 'car', 'fear', 'center']\n",
    "print(\"Original strings:\")\n",
    "print(strs)\n",
    "print(\"Longest string of the said list of strings:\")\n",
    "print(test(strs))\n",
    "strs =  ['cat', 'dog', 'shatter', 'donut', 'at', 'todo', '']"
   ]
  },
  {
   "cell_type": "markdown",
   "metadata": {},
   "source": [
    "**Câu 198:** Viết chương trình tạo chuỗi từ 0 đến n."
   ]
  },
  {
   "cell_type": "code",
   "execution_count": 49,
   "metadata": {},
   "outputs": [
    {
     "name": "stdout",
     "output_type": "stream",
     "text": [
      "Non-negative integer:\n",
      "4\n",
      "Non-negative integers up to n inclusive:\n",
      "0 1 2 3 4\n"
     ]
    }
   ],
   "source": [
    "def test(n):\n",
    "    return ' '.join(map(str,range(n+1)))\n",
    "n = 4\n",
    "print(\"Non-negative integer:\")\n",
    "print(n)\n",
    "print(\"Non-negative integers up to n inclusive:\")\n",
    "print(test(n))"
   ]
  },
  {
   "cell_type": "markdown",
   "metadata": {},
   "source": [
    "**Câu 199:** Viết hàm kiểm tra danh sách sao cho tổng hai số bằng 0 kết quả trả về vị trí 2 index đó.\n",
    "\n",
    "<div style=\"padding: 15px; border: 2px solid transparent; border-color: transparent; margin-bottom: 5px; margin-top: 10px;border-radius: 2px; color: #000000; background-color:#A4D3EE; border-color: #FFD39B;Width:60%\">\n",
    "\n",
    "Example: [1, -4, 6, 7, 4]\n",
    "<br>\n",
    "<br>\n",
    "Số 1 có thể cộng với [-4, 6, 7, 4] bằng [-3, 7, 8, 5]\n",
    "<br>\n",
    "<br>\n",
    "Số -4 có thể cộng với [6, 7, 4] bằng [2, 3, 0]\n",
    "<br>\n",
    "<br>\n",
    "Số 6 có thể cộng với [7, 4] bằng [13, 10]\n",
    "<br>\n",
    "<br>\n",
    "Số 7 có thể cộng với [4] bằng [11]\n",
    "<br>\n",
    "<br>\n",
    "Input: [1, -4, 6, 7, 4]\n",
    "<br>\n",
    "<br>\n",
    "Output: [4, 1]\n",
    "\n",
    "</div>"
   ]
  },
  {
   "cell_type": "code",
   "execution_count": 50,
   "metadata": {},
   "outputs": [
    {
     "name": "stdout",
     "output_type": "stream",
     "text": [
      "Original List:\n",
      "[1, -4, 6, 7, 4]\n",
      "Indices of two numbers that sum to 0 in the said list:\n",
      "[4, 1]\n"
     ]
    }
   ],
   "source": [
    "def test(nums):\n",
    "    s = set(nums)\n",
    "    for i in s:\n",
    "        if -i in s:\n",
    "            return [nums.index(i), nums.index(-i)]\n",
    "\n",
    "nums = [1, -4, 6, 7, 4]\n",
    "print(\"Original List:\")\n",
    "print(nums) \n",
    "print(\"Indices of two numbers that sum to 0 in the said list:\")\n",
    "print(test(nums))"
   ]
  },
  {
   "cell_type": "code",
   "execution_count": null,
   "metadata": {},
   "outputs": [],
   "source": []
  }
 ],
 "metadata": {
  "kernelspec": {
   "display_name": "Python 3",
   "language": "python",
   "name": "python3"
  },
  "language_info": {
   "codemirror_mode": {
    "name": "ipython",
    "version": 3
   },
   "file_extension": ".py",
   "mimetype": "text/x-python",
   "name": "python",
   "nbconvert_exporter": "python",
   "pygments_lexer": "ipython3",
   "version": "3.7.0"
  }
 },
 "nbformat": 4,
 "nbformat_minor": 2
}
