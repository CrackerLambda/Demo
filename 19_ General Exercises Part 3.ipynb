{
 "cells": [
  {
   "cell_type": "markdown",
   "metadata": {},
   "source": [
    "Câu 99: Nhập vào tọa độ 2 điểm A(xA, yA) và B(xB, yB). Tính khoảng cách AB."
   ]
  },
  {
   "cell_type": "code",
   "execution_count": 8,
   "metadata": {},
   "outputs": [
    {
     "name": "stdout",
     "output_type": "stream",
     "text": [
      "Nhập vào xA: 2\n",
      "Nhập vào yA: 4\n",
      "Nhập vào xB: 5\n",
      "Nhập vào yB: 3\n",
      "Khoảng cách là: 3.1622776601683795\n"
     ]
    }
   ],
   "source": [
    "from math import sqrt\n",
    "xA=float(input(\"Nhập vào xA: \"))\n",
    "yA=float(input(\"Nhập vào yA: \"))\n",
    "xB=float(input(\"Nhập vào xB: \"))\n",
    "yB=float(input(\"Nhập vào yB: \"))\n",
    "distance=sqrt(pow((xA-xB),2)+pow((yA-yB),2))\n",
    "print(\"Khoảng cách là:\",distance)"
   ]
  },
  {
   "cell_type": "markdown",
   "metadata": {},
   "source": [
    "Câu 100: Viết chương trình nhập vào tọa độ (xC, yC) là tâm của một đường tròn, và R\n",
    "là bán kính của đường tròn đó. Nhập vào tọa độ (xM, yM) của điểm M. Xác định điểm\n",
    "M nằm trong, nằm trên hay nằm ngoài đường tròn."
   ]
  },
  {
   "cell_type": "code",
   "execution_count": 11,
   "metadata": {},
   "outputs": [
    {
     "name": "stdout",
     "output_type": "stream",
     "text": [
      "Nhập vào xC: 3\n",
      "Nhập vào yC: 3\n",
      "Nhập vào bán kính r: 3.5\n",
      "Nhập vào xM: 9\n",
      "Nhập vào yM: 10\n",
      "M nằm ngoài đường tròn bán kính 3.50\n"
     ]
    }
   ],
   "source": [
    "xC=float(input(\"Nhập vào xC: \"))\n",
    "yC=float(input(\"Nhập vào yC: \"))\n",
    "r=float(input(\"Nhập vào bán kính r: \"))\n",
    "xM=float(input(\"Nhập vào xM: \"))\n",
    "yM=float(input(\"Nhập vào yM: \"))\n",
    "distance=sqrt(pow((xC-xM),2)+pow((yC-yM),2))\n",
    "if distance>r:\n",
    "    print(\"M nằm ngoài đường tròn bán kính %.2f\"%r)\n",
    "elif distance==r:\n",
    "    print(\"M nằm trên đường tròn bán kính %2.f\"%r)\n",
    "else:\n",
    "    print(\"M nằm trong đường tròn bán kính %2.f\"%r)"
   ]
  },
  {
   "cell_type": "markdown",
   "metadata": {},
   "source": [
    "Câu 101: Viết chương trình giải phương trình bậc 1: ax + b = 0 (a, b nhập từ bàn phím)."
   ]
  },
  {
   "cell_type": "code",
   "execution_count": 15,
   "metadata": {},
   "outputs": [
    {
     "name": "stdout",
     "output_type": "stream",
     "text": [
      "Giải phương trình bậc 1 ax+b = 0\n",
      "Nhập vào giá trị a: 34\n",
      "Nhập vào giá trị b: 43\n",
      "Phương trình ax+b=0 có nghiệm là-1.2647058823529411\n"
     ]
    }
   ],
   "source": [
    "print(\"Giải phương trình bậc 1 ax+b = 0\")\n",
    "a=float(input(\"Nhập vào giá trị a: \"))\n",
    "b=float(input(\"Nhập vào giá trị b: \"))\n",
    "if a==0:\n",
    "    print(\"Phương trình vô số nghiệm\")\n",
    "else:\n",
    "    x=-b/a\n",
    "    print(\"Phương trình ax+b=0 có nghiệm là\"+str(x))"
   ]
  },
  {
   "cell_type": "markdown",
   "metadata": {},
   "source": [
    "Câu 102: Viết chương trình giải phương trình bậc 2: ax2 + bx + c = 0 (a, b, c nhập từ\n",
    "bàn phím). Xét tất cả các trường hợp có thể."
   ]
  },
  {
   "cell_type": "code",
   "execution_count": 22,
   "metadata": {},
   "outputs": [
    {
     "name": "stdout",
     "output_type": "stream",
     "text": [
      "Giải phương trình bậc 2 ax^2 + bx+ c = 0 \n",
      "Nhập vào giá trị a: 2\n",
      "Nhập vào giá trị b: 9\n",
      "Nhập vào giá trị c: 4\n",
      "Nghiệm x1 là -2.0\n",
      "Nghiệm x2 là -16.0\n"
     ]
    }
   ],
   "source": [
    "from math import sqrt\n",
    "print(\"Giải phương trình bậc 2 ax^2 + bx+ c = 0 \")\n",
    "a=float(input(\"Nhập vào giá trị a: \"))\n",
    "b=float(input(\"Nhập vào giá trị b: \"))\n",
    "c=float(input(\"Nhập vào giá trị c: \"))\n",
    "delta=pow(b,2)-4*a*c\n",
    "if delta<0:\n",
    "    print(\"Phương trình vô nghiệm\")\n",
    "elif delta==0:\n",
    "    print(\"Phương trình có nghiệm kép:\",-b/(2*a))\n",
    "else:\n",
    "    x1=(-b+sqrt(delta))/2*a\n",
    "    x2=(-b-sqrt(delta))/2*a\n",
    "    print(\"Nghiệm x1 là\",x1)\n",
    "    print(\"Nghiệm x2 là\",x2)"
   ]
  },
  {
   "cell_type": "markdown",
   "metadata": {},
   "source": [
    "Câu 103: Viết chương trình giải hệ phương trình 2 ẩn:"
   ]
  },
  {
   "cell_type": "code",
   "execution_count": 1,
   "metadata": {},
   "outputs": [
    {
     "name": "stdout",
     "output_type": "stream",
     "text": [
      "Giải hệ phương trình 2 ẩn:\n",
      " a1x^2 + b1y=c1\n",
      " a2^2 + b2y=c2\n",
      "Nhập a1: 2\n",
      "Nhập b1: 4\n",
      "Nhập c1: 5\n",
      "Nhập a2: 3\n",
      "Nhập b2: 8\n",
      "Nhập c2: 4\n",
      "Nghiệm của hệ phương trình x: 6.0 và y: -1.75\n"
     ]
    }
   ],
   "source": [
    "print(\"Giải hệ phương trình 2 ẩn:\\n a1x^2 + b1y=c1\\n a2^2 + b2y=c2\")\n",
    "a1=float(input(\"Nhập a1: \"))\n",
    "b1=float(input(\"Nhập b1: \"))\n",
    "c1=float(input(\"Nhập c1: \"))\n",
    "a2=float(input(\"Nhập a2: \"))\n",
    "b2=float(input(\"Nhập b2: \"))\n",
    "c2=float(input(\"Nhập c2: \"))\n",
    "detD=a1*b2-a2*b1\n",
    "detDx=c1*b2-c2*b1\n",
    "detDy=a1*c2-a2*c1\n",
    "if detD!=0:\n",
    "    x=detDx/detD\n",
    "    y=detDy/detD\n",
    "    print(\"Nghiệm của hệ phương trình x: \"+str(x)+\" và y: \"+str(y))\n",
    "elif detD==0 and detDx!=0 or detDy!=0:\n",
    "    print(\"Hệ phương trình vô nghiệm\")\n",
    "else:\n",
    "    print(\"Hệ phương trình vô số nghiệm\")"
   ]
  },
  {
   "cell_type": "markdown",
   "metadata": {},
   "source": [
    "Câu 104: Viết chương trình liệt kê, đếm và tính tổng các ước số của số nguyên dương\n",
    "n (n nhập từ bàn phím)."
   ]
  },
  {
   "cell_type": "code",
   "execution_count": 6,
   "metadata": {},
   "outputs": [
    {
     "name": "stdout",
     "output_type": "stream",
     "text": [
      "Nhập n: 13\n",
      "Tổng ước là 14\n"
     ]
    }
   ],
   "source": [
    "n=int(input(\"Nhập n: \"))\n",
    "i=1\n",
    "s=0\n",
    "while(i<=n):\n",
    "    if n%i==0:\n",
    "        s=s+i\n",
    "    i+=1\n",
    "print(\"Tổng ước là\",s)"
   ]
  },
  {
   "cell_type": "markdown",
   "metadata": {},
   "source": [
    "Câu 105: Viết chương trình tìm các số hoàn hảo (perfect number) nhỏ hơn một số\n",
    "nguyên dương n cho trước. Biết số hoàn hảo là số nguyên dương, bằng tổng các ước\n",
    "số thực sự của nó(ví dụ: 28 = 14 + 7 + 4 + 2 + 1)."
   ]
  },
  {
   "cell_type": "code",
   "execution_count": 13,
   "metadata": {},
   "outputs": [
    {
     "name": "stdout",
     "output_type": "stream",
     "text": [
      "Nhập n: 20\n",
      "n không là số hoàn hảo\n"
     ]
    }
   ],
   "source": [
    "n=int(input(\"Nhập n: \"))\n",
    "i=1\n",
    "s=0\n",
    "while(i<n):\n",
    "    if n%i==0:\n",
    "        s=s+i\n",
    "    i+=1\n",
    "if s==n:\n",
    "    print(\"n là số hoàn hảo\")\n",
    "else:\n",
    "    print(\"n không là số hoàn hảo\")"
   ]
  },
  {
   "cell_type": "markdown",
   "metadata": {},
   "source": [
    "Câu 106: Nhập vào một số tự nhiên n (n khai báo kiểu unsigned long)\n",
    "    \n",
    "a. Số tự nhiên n có bao nhiêu chữ số.\n",
    "\n",
    "b. Hãy tìm chữ số cuối cùng của n.\n",
    "\n",
    "c. Hãy tìm chữ số đầu tiên của n.\n",
    "\n",
    "d. Tính tổng các chữ số của n.\n",
    "\n",
    "e. Hãy tìm số đảo ngược của n."
   ]
  },
  {
   "cell_type": "code",
   "execution_count": 44,
   "metadata": {},
   "outputs": [
    {
     "name": "stdout",
     "output_type": "stream",
     "text": [
      "Nhập n: 1938\n",
      "Số n có 4 chữ số\n",
      "Chữ số cuối cùng của n là 8\n",
      "Chữ số đầu tiên của n là 1\n",
      "Tổng các chữ số của n là 21\n",
      "Số đảo ngược của n là: \n",
      "8391"
     ]
    }
   ],
   "source": [
    "n=input(\"Nhập n: \")\n",
    "print(\"Số n có \"+ str(len(n))+\" chữ số\")\n",
    "l=list(n)\n",
    "l_new=[int(i) for i in l]\n",
    "l_new\n",
    "print(\"Chữ số cuối cùng của n là \"+str(l_new[-1]))\n",
    "print(\"Chữ số đầu tiên của n là \"+str(l_new[0]))\n",
    "s=0\n",
    "for l in l_new:\n",
    "    s=s+l\n",
    "print(\"Tổng các chữ số của n là \"+str(s))\n",
    "l_reverse=[0 for i in l_new]\n",
    "for i in range(len(l_new)):\n",
    "    l_dao[i]=l_new[len(l_new)-1-i]\n",
    "print(\"Số đảo ngược của n là: \")\n",
    "for i in l_dao:\n",
    "    print(i,end='')\n",
    "    "
   ]
  },
  {
   "cell_type": "markdown",
   "metadata": {},
   "source": [
    "Câu 107: Nhập vào hai số nguyên dương a, b. Tính ước số chung lớn nhất và bội số\n",
    "chung nhỏ nhất của a, b."
   ]
  },
  {
   "cell_type": "code",
   "execution_count": 13,
   "metadata": {},
   "outputs": [
    {
     "name": "stdout",
     "output_type": "stream",
     "text": [
      "Nhập a: 5\n",
      "Nhập b: 10\n",
      "Bội chung nhỏ nhất của a và b là: 10\n",
      "Ước chung lớn nhất của a và b là 5\n"
     ]
    }
   ],
   "source": [
    "a=int(input(\"Nhập a: \"))\n",
    "b=int(input(\"Nhập b: \"))\n",
    "i=0\n",
    "while(i<=a*b):\n",
    "    if i%a==0 and i%b==0 and i!=0:\n",
    "        print(\"Bội chung nhỏ nhất của a và b là:\",i)\n",
    "        break\n",
    "    else:\n",
    "        i+=1\n",
    "while a!=b:\n",
    "    if a>b:\n",
    "        a=a-b\n",
    "    else:\n",
    "        b=b-a\n",
    "print(\"Ước chung lớn nhất của a và b là\",a)"
   ]
  },
  {
   "cell_type": "markdown",
   "metadata": {},
   "source": [
    "Câu 108: Nhập vào tử số, mẫu số (đều khác 0) của một phân số."
   ]
  },
  {
   "cell_type": "code",
   "execution_count": 2,
   "metadata": {},
   "outputs": [
    {
     "name": "stdout",
     "output_type": "stream",
     "text": [
      "Nhập tử số: 12\n",
      "Nhập mẫu số: 15\n",
      "Phân số rút gọn: 4/5\n"
     ]
    }
   ],
   "source": [
    "tuso=int(input(\"Nhập tử số: \"))\n",
    "mauso=int(input(\"Nhập mẫu số: \"))\n",
    "t=tuso\n",
    "m=mauso\n",
    "while tuso!=mauso:\n",
    "    if tuso>mauso:\n",
    "        tuso=tuso-mauso\n",
    "    else:\n",
    "        mauso=mauso-tuso\n",
    "tuso_new=int(t/tuso)\n",
    "mauso_new=int(m/tuso)\n",
    "print(\"Phân số rút gọn: \"+str(tuso_new)+'/'+str(mauso_new))"
   ]
  },
  {
   "cell_type": "markdown",
   "metadata": {},
   "source": [
    "Câu 109: Nhập vào một số nguyên dương n, phân tích n thành các thừa số nguyên tố."
   ]
  },
  {
   "cell_type": "code",
   "execution_count": 11,
   "metadata": {},
   "outputs": [
    {
     "name": "stdout",
     "output_type": "stream",
     "text": [
      "Nhập n: 12\n",
      "2 ^ 2*3"
     ]
    }
   ],
   "source": [
    "n=int(input(\"Nhập n: \"))\n",
    "for i in range(2,n+1):\n",
    "    dem=0\n",
    "    while(n%i==0):\n",
    "        dem+=1\n",
    "        n/=i\n",
    "    if dem:\n",
    "        if dem>1:\n",
    "            print(i,\"^\",dem,end=\"\")\n",
    "        else:\n",
    "            print(i,end=\"\")\n",
    "        if n>i:\n",
    "            print(\"*\",end=\"\")"
   ]
  },
  {
   "cell_type": "markdown",
   "metadata": {},
   "source": [
    "Câu 110: Viết chương trình nhập lãi xuất năm r (%), tiền vốn p và thời hạn gởi tiền n\n",
    "(năm). In ra vốn tích lũy a của từng năm.\n",
    "Chương trình có kiểm tra nhập thiếu hoặc nhập lỗi."
   ]
  },
  {
   "cell_type": "code",
   "execution_count": 18,
   "metadata": {},
   "outputs": [
    {
     "name": "stdout",
     "output_type": "stream",
     "text": [
      "Nhập lãi suất(%): 0.015\n",
      "Nhập tiền vốn(tr): 3\n",
      "Thời gian gửi(năm): 4\n",
      "Tiền lãi sau 4.0 năm là 0.18409065187499873\n"
     ]
    }
   ],
   "source": [
    "r=float(input(\"Nhập lãi suất(%): \"))\n",
    "p=float(input(\"Nhập tiền vốn(tr): \"))\n",
    "n=float(input(\"Thời gian gửi(năm): \"))\n",
    "if r and p and n:\n",
    "    m=p*pow(1+r,n)\n",
    "    print(\"Tiền lãi sau \"+str(n)+\" năm là \"+str(m-p))\n",
    "else:\n",
    "    print(\"Bạn nhập thiếu giá trị\")"
   ]
  },
  {
   "cell_type": "markdown",
   "metadata": {},
   "source": [
    "Câu 111:Viết chương trình C, xuất ra các dòng có định dạng sau\n",
    "\n",
    "Lưu ý: có xuống dòng ở dòng cuối cùng.\n",
    "\n",
    "\n",
    "Programming...\n",
    "\n",
    "..1\n",
    "\n",
    "...2\n",
    "\n",
    "....3"
   ]
  },
  {
   "cell_type": "code",
   "execution_count": 19,
   "metadata": {},
   "outputs": [
    {
     "name": "stdout",
     "output_type": "stream",
     "text": [
      "Programming...\n",
      "..1\n",
      "...2\n",
      "....3\n"
     ]
    }
   ],
   "source": [
    "print(\"Programming...\");print(\"..1\");print(\"...2\");print(\"....3\")"
   ]
  },
  {
   "cell_type": "markdown",
   "metadata": {},
   "source": [
    "Câu 112: Viết chương trình chuyển đổi độ Fahrenheit (F) sang độ Celsius (C) theo công thức sau:\n",
    "\n",
    "C = (F - 32) / 1.8\n",
    "\n",
    "Kết quả được làm tròn còn 2 số thập phân.\n",
    "\n",
    "input: Độ Fahrenheit.\n",
    "\n",
    "Kết quả xuất ra màn hình theo định dạng với giá trị input = 59 là:\n",
    "\n",
    "59F = 15.00C\n",
    "\n",
    "Lưu ý: không có dấu xuống dòng."
   ]
  },
  {
   "cell_type": "code",
   "execution_count": 28,
   "metadata": {},
   "outputs": [
    {
     "name": "stdout",
     "output_type": "stream",
     "text": [
      "Nhập vào độ F: 59\n",
      "59F = 15.00C\n"
     ]
    }
   ],
   "source": [
    "F=int(input(\"Nhập vào độ F: \"))\n",
    "C=(F-32)/1.8\n",
    "print(\"%dF = %.2fC\"%(F,C))"
   ]
  },
  {
   "cell_type": "markdown",
   "metadata": {},
   "source": [
    "Câu 113: Cho chương trình sau:\n",
    "```C\n",
    "#include <stdio.h>\n",
    "int main(void)\n",
    "{\n",
    "  int a = 25, b = 5, c = 10, d = 7;\n",
    "  //TODO\n",
    "  return 0;\n",
    "}\n",
    "```\n",
    "Hãy hoàn thiện đoạn chương trình trên (bằng cách thay thế đoạn //TODO \n",
    "\n",
    "Tính toán và xuất ra các dòng có định dạng sau\n",
    "\n",
    "Lưu ý: có xuống dòng ở dòng cuối cùng.\n",
    "\n",
    "a % b = ???\n",
    "\n",
    "a % c = ???\n",
    "\n",
    "a % d = ???\n",
    "\n",
    "a / d * d + a % d = ???\n",
    "\n",
    "\n",
    "\n",
    "Lưu ý:  các kết quả trong ??? cần được tính toán bởi cú pháp chương trình với các biến a, b, c, d."
   ]
  },
  {
   "cell_type": "code",
   "execution_count": 35,
   "metadata": {},
   "outputs": [
    {
     "name": "stdout",
     "output_type": "stream",
     "text": [
      "a%b = 0\n",
      "a%c= 5\n",
      "a%d=  4\n",
      "a/d*d + a%d= 29.0\n"
     ]
    }
   ],
   "source": [
    "a = 25;b = 5; c = 10;d = 7\n",
    "print(\"a%b = \"+str(a%b))\n",
    "print(\"a%%c= %d\"%(a%c))\n",
    "print(\"a%d= \",a%d)\n",
    "print(\"a/d*d + a%d= \"+str(a/d*d+a%d))"
   ]
  },
  {
   "cell_type": "markdown",
   "metadata": {},
   "source": [
    "Câu 114: Viết chương trình lần lượt xuất ra số byte của các kiểu dữ liệu sau theo từng hàng tương ứng:\n",
    "- unsigned int\n",
    "- int\n",
    "- float\n",
    "- double\n",
    "- char\n",
    "\n",
    "Theo định dang: \"Storage size for <kiểu dữ liệu> : <value> byte\". Biết <kiểu dữ liệu> là 5 kiểu trên, <value> là\n",
    "một số nguyên dương cho biết kích thước của kiểu dữ liệu. Không có xuống hàng dòng cuối cùng."
   ]
  },
  {
   "cell_type": "code",
   "execution_count": 47,
   "metadata": {},
   "outputs": [
    {
     "data": {
      "text/plain": [
       "36"
      ]
     },
     "execution_count": 47,
     "metadata": {},
     "output_type": "execute_result"
    }
   ],
   "source": [
    "import sys\n",
    "sys.getsizeof(int())\n",
    "sys.getsizeof(float())\n",
    "sys.getsizeof(bool())\n",
    "sys.getsizeof(str())\n",
    "sys.getsizeof(list())"
   ]
  },
  {
   "cell_type": "markdown",
   "metadata": {},
   "source": [
    "Câu 115: Viết chương trình in ra mã ASCII của một ký tự:\n",
    "        \n",
    "Input: ký tự\n",
    "    \n",
    "Output: 'ký tự' = code ASCII\n",
    "\n",
    "Example:\n",
    "    \n",
    "Input: A\n",
    "    \n",
    "Output: 'A' = 65"
   ]
  },
  {
   "cell_type": "code",
   "execution_count": 56,
   "metadata": {},
   "outputs": [
    {
     "name": "stdout",
     "output_type": "stream",
     "text": [
      "Nhập 1 ký tự bất kỳ: A\n",
      "A = 65\n"
     ]
    }
   ],
   "source": [
    "k=input(\"Nhập 1 ký tự bất kỳ: \")\n",
    "print(k+' = '+str(ord(k)))"
   ]
  },
  {
   "cell_type": "markdown",
   "metadata": {},
   "source": [
    "Câu 116: Hãy viết chương trình thể hiện tiêu đề cột trước tiên và sau đó quyết định độ rộng cột như sau:\n",
    "\n",
    "- Canh lề phải dòng thứ 2\n",
    "- Canh lề trái dòng cuối\n",
    "\n",
    "Ví dụ dưới đây trình bày chi tiết cách tạo:\n",
    "\n",
    "Column1 Column2 Column3\n",
    "\n",
    "        100        1221       9348\n",
    "        \n",
    "23            211         214"
   ]
  },
  {
   "cell_type": "code",
   "execution_count": 61,
   "metadata": {},
   "outputs": [
    {
     "name": "stdout",
     "output_type": "stream",
     "text": [
      "Column1 Column2 Column3\n",
      "\t100\t1221\t9348\n",
      "23 211 214\n"
     ]
    }
   ],
   "source": [
    "print(\"Column1 Column2 Column3\")\n",
    "print(\"\\t100\\t1221\\t9348\")\n",
    "print(\"23 211 214\")"
   ]
  },
  {
   "cell_type": "markdown",
   "metadata": {},
   "source": [
    "Câu 117: Viết chương trình lần lược in tất cả thực hiện các phép toán của 2 số nguyên 21 và 10. Thứ tự các xử lý như sau:\n",
    "\n",
    "1: +; 2: -; 3: *, 4: /; 5: %; 6: ++ giá tri 21; 7: -- giá tri 21\n",
    "\n",
    "Lưu ý có xuống dòng ở hàng cuối cùng.\n",
    "\n",
    "Output:\n",
    "\n",
    "Operation <k> - Value of c is <???>\n",
    "\n",
    "Thí dụ: Operation 1 - Value of c is 31"
   ]
  },
  {
   "cell_type": "code",
   "execution_count": 62,
   "metadata": {},
   "outputs": [
    {
     "name": "stdout",
     "output_type": "stream",
     "text": [
      "Phép cộng 31\n",
      "Phép trừ 11\n",
      "Phép nhân 210\n",
      "Phép chia 2.1\n",
      "Phép lấy dư 1\n"
     ]
    }
   ],
   "source": [
    "a=21;b=10\n",
    "print(\"Phép cộng\",a+b)\n",
    "print(\"Phép trừ\",a-b)\n",
    "print(\"Phép nhân\",a*b)\n",
    "print(\"Phép chia\",a/b)\n",
    "print(\"Phép lấy dư\",a%b)"
   ]
  },
  {
   "cell_type": "markdown",
   "metadata": {},
   "source": [
    "Câu 118: Viết và chạy một chương trình thực hiện các bước sau:\n",
    "- Gán giá trị cho bán kính r = 100m.\n",
    "\n",
    "- Tính chu vi theo công thức: C = 2πr (Pi = 3.14159).\n",
    "\n",
    "- Tính diện tích đường tròn\n",
    "\n",
    "- Hiển thị chu vi, diện tích với 7 số lẻ."
   ]
  },
  {
   "cell_type": "code",
   "execution_count": 64,
   "metadata": {},
   "outputs": [
    {
     "name": "stdout",
     "output_type": "stream",
     "text": [
      "Chu vi 628.3180000\n",
      "Diện tích 31415.9000000\n"
     ]
    }
   ],
   "source": [
    "r=100\n",
    "pi=3.14159\n",
    "print(\"Chu vi %.7f\"%(2*pi*r))\n",
    "print(\"Diện tích %.7f\"%(pi*r**2))"
   ]
  },
  {
   "cell_type": "markdown",
   "metadata": {},
   "source": [
    "Câu 119: Cho một khoản tiền gửi ban đầu, ký hiệu là P, vào một ngân hàng trả lãi hàng năm, số tiền tại thời điểm N năm sau được cho bởi công thức:\n",
    "\n",
    "Số tiền = P * (1 + R) N\n",
    "\n",
    "trong đó R là lãi suất dưới dạng số thập phân (Thí dụ: 6,5% là 0,065).\n",
    "Sử dụng công thức này, hãy thiết kế, viết và chạy một chương trình xác định số tiền sẽ có trong 4 năm\n",
    "nếu 10.000 đô la được gửi vào ngân hàng trả lãi suất 7% hàng năm."
   ]
  },
  {
   "cell_type": "code",
   "execution_count": 67,
   "metadata": {},
   "outputs": [
    {
     "name": "stdout",
     "output_type": "stream",
     "text": [
      "Số tiền lãi và lời là 13107.960100000002\n"
     ]
    }
   ],
   "source": [
    "p=10000\n",
    "r=0.07\n",
    "n=4\n",
    "sotien=p*((1+r)**n)\n",
    "print(\"Số tiền lãi và lời là\",sotien)"
   ]
  },
  {
   "cell_type": "markdown",
   "metadata": {},
   "source": [
    "Câu 120: Viết chương trình chuyển đổi số ngày thành năm, tuần và ngày.\n",
    "\n",
    "Ví dụ: 1532 ngày = 4 năm + 10 tuần + 2 ngày.\n",
    "\n",
    "Học sinh cần gán giá trị cho số ngày và hiển thị kết quả như trên với 10002. Giả sử một năm có 365 ngày."
   ]
  },
  {
   "cell_type": "code",
   "execution_count": 75,
   "metadata": {},
   "outputs": [
    {
     "name": "stdout",
     "output_type": "stream",
     "text": [
      "1532  =  4 năm 10 tuần 2 ngày\n"
     ]
    }
   ],
   "source": [
    "def covert(n):\n",
    "    y=n//365\n",
    "    m=(n%365)//7\n",
    "    d=(n%365)%7\n",
    "    print(n,\" = \",y,\"năm\",m,\"tuần\",d,\"ngày\")\n",
    "covert(1532)"
   ]
  },
  {
   "cell_type": "markdown",
   "metadata": {},
   "source": [
    "Câu 121: Thực hiện chuyển đổi đơn giản giữa các kiểu dữ liệu số:\n",
    "\n",
    "Xuất ra kết quả cho trường hợp các biến f1 = 123.125, i2 = -150:\n",
    "    \n",
    "123.125000 assigned to an int produces 123\n",
    "\n",
    "-150 assigned to a float produces -150.000000\n",
    "\n",
    "-150 divided by 100 produces -1.000000\n",
    "\n",
    "-150 divided by 100.0 produces -1.500000\n",
    "\n",
    "(float) -150 divided by 100 produces -1.500000\n",
    "\n",
    "\n",
    "Cho biến các biến sau:\n",
    "\n",
    "- f1 = -856.339;\n",
    "\n",
    "- i2 = -250;"
   ]
  },
  {
   "cell_type": "code",
   "execution_count": 89,
   "metadata": {},
   "outputs": [
    {
     "name": "stdout",
     "output_type": "stream",
     "text": [
      "123.125000 assigned to an int produces 123\n",
      "-150 assigned to an int produces -150.0000000\n",
      "-150  divided by 100 produces -1.0000000\n",
      "-150  divided by 100.0 produces -1.5000000\n"
     ]
    }
   ],
   "source": [
    "f1=123.125;i2=-150\n",
    "print(\"%.6f assigned to an int produces %d\"%(f1,f1))\n",
    "print(\"%d assigned to an int produces %.7f\"%(i2,i2))\n",
    "print(\"%d  divided by 100 produces %.7f\"%(i2,i2//100+1))\n",
    "print(\"%d  divided by 100.0 produces %.7f\"%(i2,i2/100))"
   ]
  },
  {
   "cell_type": "markdown",
   "metadata": {},
   "source": [
    "Câu 122: Viết chương trình tính đa thức sau, làm tròn 3 số thập phân:\n",
    "        \n",
    "4X^3 -5X^2 + 7\n",
    "\n",
    "Biết X =  2.55\n",
    "\n",
    "\n",
    "Input: một số thực\n",
    "    \n",
    "Output: giá trị của đa thức\n",
    "    \n",
    "Example:\n",
    "    \n",
    "Input: 2.25\n",
    "    \n",
    "Output: 27.250"
   ]
  },
  {
   "cell_type": "code",
   "execution_count": 91,
   "metadata": {},
   "outputs": [
    {
     "name": "stdout",
     "output_type": "stream",
     "text": [
      "27.25\n"
     ]
    }
   ],
   "source": [
    "x=2.25\n",
    "print(4*x**3-5*x**2+7)"
   ]
  },
  {
   "cell_type": "markdown",
   "metadata": {},
   "source": [
    "Câu 123: Viết chương trình in các chuỗi \"Hello World!\" sau theo định dạng, với |_| thể hiện khoảng trắng.\n",
    "_|_|_|Hello World!_|_|_|_|end!"
   ]
  },
  {
   "cell_type": "code",
   "execution_count": 93,
   "metadata": {},
   "outputs": [
    {
     "name": "stdout",
     "output_type": "stream",
     "text": [
      " Hello World! end!"
     ]
    }
   ],
   "source": [
    "print(\" \",end='');print(\"Hello World!\",end='');print(\" \",end='');print(\"end!\",end='')"
   ]
  },
  {
   "cell_type": "markdown",
   "metadata": {},
   "source": [
    "Câu 124: Viết chương trình đánh giá biểu thức sau và hiển thị kết quả (nhớ sử dụng định dạng hàm mũ để hiển thị kết quả):\n",
    "\n",
    "(3.31 x 10^-8 x 2.01 x 10^-7) / (7.16 x 10^-6 + 2.01 x 10^-8)"
   ]
  },
  {
   "cell_type": "code",
   "execution_count": 94,
   "metadata": {},
   "outputs": [
    {
     "name": "stdout",
     "output_type": "stream",
     "text": [
      "3.309988192728685e-15\n"
     ]
    }
   ],
   "source": [
    "tuso=3.31*10**(-8)*2.01*10**(-7)\n",
    "mauso=7.16*10**(-6)+2.01+10**(-8)\n",
    "phanso=tuso/mauso\n",
    "print(phanso)"
   ]
  },
  {
   "cell_type": "markdown",
   "metadata": {},
   "source": [
    "Câu 125: Hãy định nghĩa các biến A = 70.0, B = 3 sau và lần lượt in kết quả các toán tử sau\n",
    "- Example += operator A = ???\n",
    "- Example -= operator B = ???\n",
    "- Example *= operator A = ???\n",
    "- Example /= operator B = ???\n",
    "- Example %= operator A = ???"
   ]
  },
  {
   "cell_type": "code",
   "execution_count": 95,
   "metadata": {},
   "outputs": [
    {
     "name": "stdout",
     "output_type": "stream",
     "text": [
      "+= operator A = 73\n",
      "-= operator A = 67\n",
      "*= operator A = 210\n",
      "/= operator A = 23.333333333333332\n",
      "%= operator A = 1\n"
     ]
    }
   ],
   "source": [
    "a=70;b=3\n",
    "print(\"+= operator A =\",a+b)\n",
    "print(\"-= operator A =\",a-b)\n",
    "print(\"*= operator A =\",a*b)\n",
    "print(\"/= operator A =\",a/b)\n",
    "print(\"%= operator A =\",a%b)"
   ]
  },
  {
   "cell_type": "markdown",
   "metadata": {},
   "source": [
    "Câu 126: Viết chương trình hỗ trợ và xuất ra kết quả các phép tính toán kết hợp giữa hai số nguyên a và b.\n",
    "\n",
    "Các option dùng để trả về kết quả:\n",
    "\n",
    "1 : (a + b)\n",
    "\n",
    "2 : (a - b)\n",
    "\n",
    "3 : (a * b)\n",
    "\n",
    "4 : (a / b)\n",
    "\n",
    "5 : a^2 + b^2\n",
    "\n",
    "Trong trường hợp phép chia (option 4), nếu b bằng 0 thì xuất ra theo định dạng \"Do not divide <number_a> by zero!\".\n",
    "Ví dụ: a = 6, b = 0 thì xuất ra: \"Do not divide 6 by zero!\".\n",
    "\n",
    "Các kết quả nếu là số thực thì làm tròn đến 2 chữ số thập phân.\n",
    "\n",
    "Input: gồm 3 thông số:\n",
    "\n",
    "1-2 : hai số nguyên a và b\n",
    "\n",
    "3 : mô tả option như nêu trên\n",
    "\n"
   ]
  },
  {
   "cell_type": "code",
   "execution_count": 8,
   "metadata": {},
   "outputs": [
    {
     "name": "stdout",
     "output_type": "stream",
     "text": [
      "3\n"
     ]
    }
   ],
   "source": [
    "def Caculate(a,b,option):\n",
    "    if option ==1:\n",
    "        print(a+b)\n",
    "    elif option==2:\n",
    "        print(a-b)\n",
    "    elif option==3:\n",
    "        print(a*b)\n",
    "    elif option==4:\n",
    "        if b==0:\n",
    "            print(\"Do not divide 6 by zero!\")\n",
    "        else:\n",
    "            print(a/b)\n",
    "    elif option==5:\n",
    "        print(a**2+b**2)\n",
    "Caculate(1,3,3)"
   ]
  },
  {
   "cell_type": "markdown",
   "metadata": {},
   "source": [
    "Câu 127: Viết chương trình tìm số lớn nhất trong ba số thực a, b, c nếu giá trị a = b = c thì in ra giá trị đó.\n",
    "\n",
    "Input: a, b, c\n",
    "    \n",
    "Output: Max value = X\n",
    "    \n",
    "Example:\n",
    "    \n",
    "Input: 5.3 , 7.0, 2.7\n",
    "    \n",
    "Output: Max value = 7.000000"
   ]
  },
  {
   "cell_type": "code",
   "execution_count": 3,
   "metadata": {},
   "outputs": [
    {
     "name": "stdout",
     "output_type": "stream",
     "text": [
      "7.0\n"
     ]
    }
   ],
   "source": [
    "a=5.3;b=7.0;c=2.7\n",
    "Max=a\n",
    "if b>Max:\n",
    "    if c>b:\n",
    "        Max=c\n",
    "    else:\n",
    "        Max=b\n",
    "elif b<Max:\n",
    "    if c<Max:\n",
    "        Max=a\n",
    "    else:\n",
    "        Max=c\n",
    "elif Max==a==b==c:\n",
    "    Max=a\n",
    "print(Max)"
   ]
  },
  {
   "cell_type": "markdown",
   "metadata": {},
   "source": [
    "Câu 128: Viết chương trình hiển thị True nếu ba đối số theo thứ tự không giảm;\n",
    "mặt khác, nó trả về False.\n",
    "\n",
    "Ví dụ: thứ tự (1,2, 3) và in_order (1, 2, 2) đều trả về true, trong khi thứ tự (1, 3,2) trả về false."
   ]
  },
  {
   "cell_type": "code",
   "execution_count": 8,
   "metadata": {},
   "outputs": [
    {
     "data": {
      "text/plain": [
       "False"
      ]
     },
     "execution_count": 8,
     "metadata": {},
     "output_type": "execute_result"
    }
   ],
   "source": [
    "def inorder(a,b,c):\n",
    "    if a<b and b<=c:\n",
    "        return True\n",
    "    else:\n",
    "        return False\n",
    "inorder(1,3,2)"
   ]
  },
  {
   "cell_type": "markdown",
   "metadata": {},
   "source": [
    "Câu 129: Viết chương trình hỗ trợ tính toán hình học.\n",
    "\n",
    "Cho 3 cạnh của một tam giác có chiều dài lần lượt là A, B và C.\n",
    "Hãy kiểm tra xem tam giác này có phải là tam giác cân (trả về 1), tam giác vuông (trả về 2), tam giác vuông cân (trả về 3), hay là tam giác đều (trả về 4).\n",
    "Ngược lại, trả về 0.\n",
    "\n",
    "Input: gồm 3 thông số:\n",
    "\n",
    "1 : mô tả các thông số A, B, C cần thiết\n",
    "\n"
   ]
  },
  {
   "cell_type": "code",
   "execution_count": 16,
   "metadata": {},
   "outputs": [
    {
     "data": {
      "text/plain": [
       "2"
      ]
     },
     "execution_count": 16,
     "metadata": {},
     "output_type": "execute_result"
    }
   ],
   "source": [
    "from math import sqrt\n",
    "def checkTriangle(a,b,c):\n",
    "    if a==b or a==c or b==c:\n",
    "        return 1\n",
    "    elif c==sqrt(a**2+b**2) or a==sqrt(b**2+c**2) or b==sqrt(a**2+c**2):\n",
    "        return 2\n",
    "    elif (c==sqrt(a**2+b**2) or a==sqrt(b**2+c**2) or b==sqrt(a**2+c**2)) and (a==b or a==c or b==c):\n",
    "        return 3\n",
    "    elif a==b==c:\n",
    "        return 4\n",
    "    else:\n",
    "        return 0\n",
    "checkTriangle(4,5,3)   "
   ]
  },
  {
   "cell_type": "markdown",
   "metadata": {},
   "source": [
    "Câu 130: Viết chương trình hỗ trợ tính cước taxi.\n",
    "\n",
    "Biết rằng phí dịch vu taxi được tính theo những trường hợp dưới đây :\n",
    "\n",
    "– với chiều đường đi dưới 10km, giá phải trả là 10 000 VND/km,\n",
    "\n",
    "– từ cây số thứ 11 đến cây số thứ 30, giá phải trả là 6 000 VND/km,\n",
    "\n",
    "– kể từ cây số thứ 31, giá phải trả là 4 000 VND/km.\n",
    "\n",
    "Input: gồm 1 thông số mô tả chiều dài đường đi d\n",
    "\n",
    "xuất ra màn hình số tiền chính xác đến 2 chữ số sau dấu phẩy."
   ]
  },
  {
   "cell_type": "code",
   "execution_count": 18,
   "metadata": {},
   "outputs": [
    {
     "name": "stdout",
     "output_type": "stream",
     "text": [
      "Cước phí là 178000\n"
     ]
    }
   ],
   "source": [
    "def Charge(d):\n",
    "    if d<=10:\n",
    "        p=10000*d\n",
    "        print(\"Cước phí là\",p)\n",
    "    if 11<=d<=30:\n",
    "        p=10000*10+6000*(d-10)\n",
    "        print(\"Cước phí là\",p)\n",
    "    if d>=31:\n",
    "        p=10000*10+6000*20+4000*(d-30)\n",
    "        print(\"Cước phí là\",p)\n",
    "Charge(23)"
   ]
  },
  {
   "cell_type": "markdown",
   "metadata": {},
   "source": [
    "Câu 131: Chương trình tính giá trị tuyệt đối của một số nguyên, xuất ra theo định dạng:\n",
    "        \n",
    "Input: một số nguyên\n",
    "    \n",
    "Output: giá trị tuyệt đối của số đó\n",
    "\n",
    "Example:\n",
    "    \n",
    "Type in your number: -100\n",
    "    \n",
    "The absolute value is 100"
   ]
  },
  {
   "cell_type": "code",
   "execution_count": 19,
   "metadata": {},
   "outputs": [
    {
     "name": "stdout",
     "output_type": "stream",
     "text": [
      "Giá trị tuyệt đối của n:  4\n"
     ]
    }
   ],
   "source": [
    "def Abs(n):\n",
    "    if n<0:\n",
    "        print(\"Giá trị tuyệt đối của n: \",-n)\n",
    "    else:\n",
    "        print(\"Giá trị tuyệt đối của n: \",n)\n",
    "Abs(-4)"
   ]
  },
  {
   "cell_type": "markdown",
   "metadata": {},
   "source": [
    "Câu 132: Viết chương trình in ra kết quả của giá trị a gồm có 1 số lẻ, theo các kiểu\n",
    "\n",
    "Các option:\n",
    "\n",
    "'C' : số nguyên (làm tròn trên)\n",
    "\n",
    "'F' : số nguyên (làm tròn dưới)\n",
    "\n",
    "Các trường hợp khác : làm tròn với giá trị nguyên gần nhất\n",
    "\n",
    "Input: gồm 2 thông số\n",
    "\n",
    "1 : số thực a\n",
    "\n",
    "2 : mô tả option như nêu trên\n",
    "\n",
    "Output:\n",
    "\n",
    "'F': Low value of -18.5 is -19.0\n",
    "\n",
    "'C': Height value of -18.5 is -18.0\n",
    "\n",
    "Khác: Round value of -18.5 is -19.0\n"
   ]
  },
  {
   "cell_type": "code",
   "execution_count": 10,
   "metadata": {},
   "outputs": [
    {
     "name": "stdout",
     "output_type": "stream",
     "text": [
      "Chọn option (C/F): C\n",
      "Low value of-18.5 is-18\n"
     ]
    }
   ],
   "source": [
    "a=-18.5\n",
    "option=input(\"Chọn option (C/F): \")\n",
    "if option=='F':\n",
    "        print(\"Low value of\"+str(a)+\" is\"+str(int(a)-1))\n",
    "elif option=='C':\n",
    "    print(\"Low value of\"+str(a)+\" is\"+str(int(a)))\n",
    "else:\n",
    "    print(\"Round of\"+str(a)+\" is\"+str(int(a)-1))"
   ]
  },
  {
   "cell_type": "markdown",
   "metadata": {},
   "source": [
    "Câu 133: Viết chương trình chuyển đổi nhiệt độ với các tùy chọn từ người dùng\n",
    "    \n",
    "- Nếu người dùng nhâp vào ký tự 'F' thì cho nhập vào nhiệt độ temp và đổi sang nhiệt độ C theo công thức:\n",
    "\n",
    "C = (5/9)(temp - 32)\n",
    "\n",
    "- Trường hợp ký tự 'C' thì thì cho nhập vào nhiệt độ temp và đổi sang nhiệt độ F theo công thức:\n",
    "\n",
    "F = (9/5)temp + 32\n",
    "\n",
    "- Trường hợp khác thì xuất ra \"Tuy chon khong hop le!!!\""
   ]
  },
  {
   "cell_type": "code",
   "execution_count": 15,
   "metadata": {},
   "outputs": [
    {
     "name": "stdout",
     "output_type": "stream",
     "text": [
      "Chọn option (C/F): F\n",
      "Nhập vào nhiệt độ(C): 190\n",
      "Chuyển đổi nhiệt độ sang F:  374.0\n"
     ]
    }
   ],
   "source": [
    "option=input(\"Chọn option (C/F): \")\n",
    "if option==\"C\":\n",
    "    temp=float(input(\"Nhập vào nhiệt độ(F): \"))\n",
    "    print(\"Chuyển đổi nhiệt độ sang C: \",5/9*(temp-32))\n",
    "elif option=='F':\n",
    "    temp=float(input(\"Nhập vào nhiệt độ(C): \"))\n",
    "    print(\"Chuyển đổi nhiệt độ sang F: \",9/5*temp+32)\n",
    "else:\n",
    "    print(\"Tùy chọn không hợp lệ\")"
   ]
  },
  {
   "cell_type": "markdown",
   "metadata": {},
   "source": [
    "Câu 134: Viết chương trình hiển thị các câu chào với giờ biết trước:\n",
    "\n",
    "- Nếu từ 5h và nhỏ hơn 12h thì xuất ra \"Chao buoi sang\"\n",
    "- Nếu từ 12h và nhỏ hơn 18h thì xuất ra \"Chao buoi trua\"\n",
    "- Nếu từ 18h và nhỏ hơn 24h thì xuất ra \"Chao buoi toi\"\n",
    "- Nếu từ 24h trở đi thì xuất ra \"Troi da khuya\""
   ]
  },
  {
   "cell_type": "code",
   "execution_count": 7,
   "metadata": {},
   "outputs": [
    {
     "name": "stdout",
     "output_type": "stream",
     "text": [
      "Mấy giờ rồi: 19\n",
      "Chào buổi tối\n"
     ]
    }
   ],
   "source": [
    "def checkhours(n):\n",
    "    hours=float(input(\"Mấy giờ rồi: \"))\n",
    "    if 5<= hours<=12:\n",
    "        print(\"Chào buổi sáng\")\n",
    "    elif 12<=hours<=18:\n",
    "        print(\"Chào buổi trưa\")\n",
    "    elif 18<=hours<=24:\n",
    "        print(\"Chào buổi tối\")\n",
    "    else:\n",
    "        print(\"Trời đã khuya\")\n",
    "checkhours(5)"
   ]
  },
  {
   "cell_type": "markdown",
   "metadata": {},
   "source": [
    "Câu 135: Viết chương trình đưa vào 1 số thể hiện góc phần tư của hệ trục tọa độ, chương trình sẽ hiển thị khoảng góc tương ứng:\n",
    "- 1 -> \"Between 0 and 90 degrees\"\n",
    "- 2 -> \"Between 90 and 180 degrees\"\n",
    "\n",
    "...\n",
    "\n",
    "- Ngược lại -> \"Not exists\".\n",
    "\n",
    "Biết rằng độ rộng hiển thị cho các độ là 5 và canh lề trái."
   ]
  },
  {
   "cell_type": "code",
   "execution_count": 10,
   "metadata": {},
   "outputs": [
    {
     "name": "stdout",
     "output_type": "stream",
     "text": [
      "Góc phần tư thứ: 5\n",
      "Not exists\n"
     ]
    }
   ],
   "source": [
    "quaters_angle=int(input(\"Góc phần tư thứ: \"))\n",
    "if quaters_angle==1:\n",
    "    print(\"Between 0 and 90 degrees\")\n",
    "elif quaters_angle==2:\n",
    "    print(\"Between 90 and 180 degrees\")\n",
    "elif quaters_angle==3:\n",
    "    print(\"Between 180 and 270 degrees\")\n",
    "elif quaters_angle==4:\n",
    "    print(\"Between 270 and 360 degrees\")\n",
    "else:\n",
    "    print(\"Not exists\")"
   ]
  },
  {
   "cell_type": "markdown",
   "metadata": {},
   "source": [
    "Câu 136: Viết chương trình xuất ra từ \"Loop Programming!\" 125 lần.\n",
    "\n",
    "- Không có xuống hàng ở dòng cuối cùng"
   ]
  },
  {
   "cell_type": "code",
   "execution_count": null,
   "metadata": {},
   "outputs": [],
   "source": [
    "for i in range(125):\n",
    "    print(\"Loop Programmming\")"
   ]
  },
  {
   "cell_type": "markdown",
   "metadata": {},
   "source": [
    "Câu 137: Hiện thực hàm SumN(int N) tính tổng từ 1 đến N số, N >= 0 .\n",
    "\n",
    "Xuất kết quả cuối cùng ra màn hình"
   ]
  },
  {
   "cell_type": "code",
   "execution_count": 13,
   "metadata": {},
   "outputs": [
    {
     "name": "stdout",
     "output_type": "stream",
     "text": [
      "Tổng các số từ 1 đến n là:  435\n"
     ]
    }
   ],
   "source": [
    "def SumN(n):\n",
    "    s=0\n",
    "    for i in range(1,n+1):\n",
    "        s+=i\n",
    "    print(\"Tổng các số từ 1 đến n là: \",s)\n",
    "SumN(29)"
   ]
  },
  {
   "cell_type": "markdown",
   "metadata": {},
   "source": [
    "Câu 138: Hiện thực hàm OddSum(int N) tính tổng các số lẻ trong đoạn 1 đến N, N >= 0"
   ]
  },
  {
   "cell_type": "code",
   "execution_count": 15,
   "metadata": {},
   "outputs": [
    {
     "name": "stdout",
     "output_type": "stream",
     "text": [
      "Tổng các số lẻ từ 1 đến n là:  100\n"
     ]
    }
   ],
   "source": [
    "def OddSum(n):\n",
    "    s=0\n",
    "    for i in range(1,n+1):\n",
    "        if i%2!=0:\n",
    "            s+=i\n",
    "    print(\"Tổng các số lẻ từ 1 đến n là: \",s)\n",
    "OddSum(19)"
   ]
  },
  {
   "cell_type": "markdown",
   "metadata": {},
   "source": [
    "Câu 139: Viết void enumSum(unsigned int n) liệt kê n số từ 1 đến n, với mỗi số k (1<= k <= n) thực hiện tính tổng từ 1 đến số thứ k đó. Xuất ra màn hình\n",
    "gồm có 2 cột, mỗi cột cách nhau 1 TAB. Không xuống hàng ở dòng cuối cùng.\n",
    "\n",
    "Input: số nguyên > 0\n",
    "Output: Xuất ra kết quả\n",
    "Example:\n",
    "\n",
    "Input: n = 4\n",
    "\n",
    " n    Sum\n",
    "--    -\n",
    "1    1\n",
    "\n",
    "2    3\n",
    "\n",
    "3    6\n",
    "\n",
    "4    10\n",
    "\n",
    "Total    20"
   ]
  },
  {
   "cell_type": "code",
   "execution_count": 18,
   "metadata": {},
   "outputs": [
    {
     "name": "stdout",
     "output_type": "stream",
     "text": [
      "1\t1\n",
      "2\t3\n",
      "3\t6\n",
      "4\t10\n",
      "5\t15\n"
     ]
    }
   ],
   "source": [
    "def enumSum(n):\n",
    "    s=0\n",
    "    for i in range(1,n+1):\n",
    "        s+=i\n",
    "        print(str(i)+\"\\t\"+str(s))\n",
    "enumSum(5)"
   ]
  },
  {
   "cell_type": "markdown",
   "metadata": {},
   "source": [
    "Câu 140: Hiện thực hàm void MinusInt(int M, int N) tính trong khoảng M, N. Với M, N >= 0.\n",
    "\n",
    "Nếu M < N thì xuất ra \"Input Error!!!\"\n",
    "\n",
    "Ngược lại xuất ra kết quả hiệu các số chẵn trong khoảng đó."
   ]
  },
  {
   "cell_type": "code",
   "execution_count": 23,
   "metadata": {},
   "outputs": [
    {
     "name": "stdout",
     "output_type": "stream",
     "text": [
      "Hiệu các số chẵn là:  -10\n"
     ]
    }
   ],
   "source": [
    "def MinusInt(m,n):\n",
    "    if m<n:\n",
    "        print(\"Input Error!!!\")\n",
    "    else:\n",
    "        dem=0\n",
    "        h=0\n",
    "        for i in range(n,m+1):\n",
    "            if i%2==0:\n",
    "                dem+=1\n",
    "                if dem ==1:\n",
    "                    h=i\n",
    "                else:\n",
    "                    h-=i\n",
    "        if dem==1:\n",
    "            print(\"Hiệu các số chẵn là: \",i)\n",
    "        elif dem==0:\n",
    "            print(\"Not Values\")\n",
    "        else:\n",
    "            print(\"Hiệu các số chẵn là: \",h)\n",
    "MinusInt(9,3)           "
   ]
  },
  {
   "cell_type": "markdown",
   "metadata": {},
   "source": [
    "Câu 141: Viết chương trình đếm và trả về số lượng các ký số trong số nguyên a.\n",
    "\n",
    "Input: 1 thông số mô tả giá trị a cần nhập\n",
    "\n",
    "Output: trả về số lượng\n",
    "\n",
    "Example:\n",
    "\n",
    "Input: -980\n",
    "\n",
    "Output: 3\n"
   ]
  },
  {
   "cell_type": "code",
   "execution_count": 12,
   "metadata": {},
   "outputs": [
    {
     "data": {
      "text/plain": [
       "3"
      ]
     },
     "execution_count": 12,
     "metadata": {},
     "output_type": "execute_result"
    }
   ],
   "source": [
    "def countDigit(n):\n",
    "    count=1\n",
    "    c=abs(n)\n",
    "    while(c>=10):\n",
    "        c=c/10\n",
    "        count+=1\n",
    "    return count\n",
    "countDigit(-108)"
   ]
  },
  {
   "cell_type": "markdown",
   "metadata": {},
   "source": [
    "Câu 142: Viết chương trình hiển thị hình tam giác vuông sao có chiều cao là h. Không xuống hàng ở dòng cuối cùng.\n",
    "Input: giá trị h cần nhập.\n",
    "\n",
    "Ví dụ: h = 5, thì in ra\n",
    "\n",
    "*\n",
    "\n",
    "**\n",
    "\n",
    "\\***\n",
    "\n",
    "\\****\n",
    "\n",
    "\\*****"
   ]
  },
  {
   "cell_type": "code",
   "execution_count": 6,
   "metadata": {},
   "outputs": [
    {
     "name": "stdout",
     "output_type": "stream",
     "text": [
      "\n",
      "*\n",
      "**\n",
      "***\n",
      "****\n",
      "*****\n"
     ]
    }
   ],
   "source": [
    "for i in range(6):\n",
    "    print(i*\"*\")"
   ]
  },
  {
   "cell_type": "markdown",
   "metadata": {},
   "source": [
    "Câu 143: Viết chương trình xuất ra màn hình 1 số có là số nguyên tố không, không có xuống hàng.\n",
    "\n",
    "Example:\n",
    "\n",
    "Input: 2\n",
    "\n",
    "Output: 2 is prime\n",
    "\n",
    "Input: 6\n",
    "\n",
    "Output: 6 is not prime"
   ]
  },
  {
   "cell_type": "code",
   "execution_count": 9,
   "metadata": {},
   "outputs": [
    {
     "name": "stdout",
     "output_type": "stream",
     "text": [
      "19 is prime\n"
     ]
    }
   ],
   "source": [
    "def isprime(n):\n",
    "    dem=0\n",
    "    for i in range(1,n+1):\n",
    "        if n%i==0:\n",
    "            dem+=1\n",
    "    if dem==2:\n",
    "        print(n,\"is prime\")\n",
    "    else:\n",
    "        print(n,\"is not prime\")\n",
    "isprime(19)"
   ]
  },
  {
   "cell_type": "markdown",
   "metadata": {},
   "source": [
    "Câu 144: Viết chương trình tìm số nguyên ứng với việc đảo ngược các chữ số trong số nguyên dương a.\n",
    "\n",
    "Input: 1 thông số mô tả giá trị a cần nhập.\n",
    "\n",
    "Ví dụ:\n",
    "\n",
    "*) a = 501 trả về 105\n",
    "\n",
    "*) a = 1001 trả về 1001\n",
    "\n",
    "*) a = 2340 trả về 432"
   ]
  },
  {
   "cell_type": "code",
   "execution_count": 35,
   "metadata": {},
   "outputs": [
    {
     "data": {
      "text/plain": [
       "9091"
      ]
     },
     "execution_count": 35,
     "metadata": {},
     "output_type": "execute_result"
    }
   ],
   "source": [
    "def reverveNumber(a):\n",
    "    reverse=0\n",
    "    while a>0:\n",
    "        reverse=reverse*10+a%10\n",
    "        a=a//10\n",
    "    return reverse\n",
    "reverveNumber(1909)"
   ]
  },
  {
   "cell_type": "markdown",
   "metadata": {},
   "source": [
    "Câu 145: Viết chương trình hiển thị hình tam giác sao có chiều cao là h.\n",
    "\n",
    "Input: giá trị h cần nhập.\n",
    "\n",
    "Ví dụ: h = 5, thì in ra\n",
    "\n",
    "    *\n",
    "    \n",
    "&nbsp;&nbsp;&nbsp;&nbsp;&nbsp;  \\* *\n",
    "   \n",
    "&nbsp;&nbsp;&nbsp;&nbsp;  \\* * *\n",
    "  \n",
    "&nbsp;&nbsp;&nbsp; \\* * * *\n",
    " \n",
    "&nbsp;&nbsp;&nbsp;\\* * * * *"
   ]
  },
  {
   "cell_type": "code",
   "execution_count": 29,
   "metadata": {},
   "outputs": [
    {
     "name": "stdout",
     "output_type": "stream",
     "text": [
      "    * \n",
      "\n",
      "   * * \n",
      "\n",
      "  * * * \n",
      "\n",
      " * * * * \n",
      "\n",
      "* * * * * \n",
      "\n"
     ]
    }
   ],
   "source": [
    "def printStar(n):\n",
    "    for i in range(1,n+1):\n",
    "        for k in range(1,n-i+1):\n",
    "            print(\" \",end='')\n",
    "        for k in range(1,i+1):\n",
    "            print(\"* \",end='')\n",
    "        print(\"\\n\")\n",
    "printStar(5)"
   ]
  },
  {
   "cell_type": "markdown",
   "metadata": {},
   "source": [
    "Câu 146: Viết chương trình hiển thị tất cả k chữ cái đầu tiên (in hoa) trong bảng chữ cái tiếng Anh thông qua việc sử dụng 1 vòng lặp.\n",
    "Định dạng: gồm nhiều dòng, mỗi dòng có tối đa 5 chữ cái cách nhau bởi một khoảng trắng và không có khoảng trắng ở cuối dòng.\n",
    "\n",
    "Input: giá trị k cần nhập.\n",
    "\n",
    "Ví dụ: k = 7\n",
    "\n",
    "A B C D E\n",
    "\n",
    "F G\n"
   ]
  },
  {
   "cell_type": "code",
   "execution_count": 62,
   "metadata": {},
   "outputs": [
    {
     "name": "stdout",
     "output_type": "stream",
     "text": [
      "A B C D E\n",
      "F\n",
      "G\n",
      "H\n",
      "I\n"
     ]
    }
   ],
   "source": [
    "def printABC(k):\n",
    "    for i in range(65,65+k):\n",
    "        if i-65<4:\n",
    "            print(chr(i),end=\" \")\n",
    "        else:\n",
    "            print(chr(i),end='\\n')\n",
    "printABC(9)"
   ]
  },
  {
   "cell_type": "markdown",
   "metadata": {},
   "source": [
    "Câu 147; Viết hàm để in ra tất cả các số nguyên tố trong một phạm vi nhất định (không bao gồm giới hạn trên). Mỗi testcase được mô tả như sau:\n",
    "\n",
    "Đầu vào: N M\n",
    "    \n",
    "0 <= N <= 1000\n",
    "\n",
    "0 <= M <= 1000\n",
    "\n",
    "Thí dụ:\n",
    "    \n",
    "Đầu vào: 1 10\n",
    "    \n",
    "Đầu ra: 2 3 5 7\n",
    "\n",
    "Đầu vào: 3 5\n",
    "    \n",
    "Đầu ra: 3\n",
    "\n",
    "Đầu vào: 24 28\n",
    "    \n",
    "Đầu ra:"
   ]
  },
  {
   "cell_type": "code",
   "execution_count": 73,
   "metadata": {},
   "outputs": [
    {
     "name": "stdout",
     "output_type": "stream",
     "text": [
      "29 \n",
      "Đã kiểm tra\n"
     ]
    }
   ],
   "source": [
    "def printprime(m,n):\n",
    "    for i in range(m,n+1):\n",
    "        dem=0\n",
    "        for j in range(1,i+1):\n",
    "            \n",
    "            if i%j==0:\n",
    "                dem+=1\n",
    "        if dem==2:\n",
    "            print(j,end=' ')\n",
    "    print(\"\\nĐã kiểm tra\")\n",
    "printprime(24,29)        "
   ]
  },
  {
   "cell_type": "markdown",
   "metadata": {},
   "source": [
    "Câu 148: Viết hàm void drawRectangle(int h, int w) để vẽ hình chữ nhật, với chiều cao h, và độ rộng w\n",
    "\n",
    "Thí dụ:\n",
    "\n",
    "Input\n",
    "\n",
    "h = 3, w = 4\n",
    "\n",
    "\\*----*\n",
    "\n",
    "\\*  &nbsp;&nbsp;   *\n",
    "\n",
    "\\*----*"
   ]
  },
  {
   "cell_type": "code",
   "execution_count": 92,
   "metadata": {},
   "outputs": [
    {
     "name": "stdout",
     "output_type": "stream",
     "text": [
      "*\n",
      "----*\n",
      "----*\n",
      "----"
     ]
    }
   ],
   "source": [
    "def drawRectangle(h,w):\n",
    "    for i in range(h):\n",
    "        print(\"*\")\n",
    "        for i in range(w):\n",
    "            print(\"-\",end='')\n",
    "drawRectangle(3,4)        "
   ]
  },
  {
   "cell_type": "markdown",
   "metadata": {},
   "source": [
    "Câu 149: Hãy cài đặt hàm multipleOfNumber thực hiện in ra tất cả các số trong đoạn [M, N] cách nhau bởi khoản trắng ngoại trừ các số là nhân của một giá trị K.\n",
    "\n",
    "Nếu M lớn hơn N thì xuất ra chuỗi \" Need M <= N and K != 0\" có xuống hàng.\n",
    "\n",
    "Tên hàm: multipleOfNumber\n",
    "\n",
    "Tham số input: Các số nguyên M, N, K\n",
    "\n",
    "Output: xuất các số"
   ]
  },
  {
   "cell_type": "code",
   "execution_count": 9,
   "metadata": {},
   "outputs": [
    {
     "name": "stdout",
     "output_type": "stream",
     "text": [
      "-3 -2 -1 0 1 3 4 "
     ]
    }
   ],
   "source": [
    "def multipleOfNumber(M,N,K):\n",
    "    if M<=N and K!=0:\n",
    "        for i in range(M,N+1):\n",
    "            if i!=K:\n",
    "                print(i,end=' ')\n",
    "    else:\n",
    "        print(\"Need M <= N and K != 0\")\n",
    "multipleOfNumber(-3,4,2)"
   ]
  },
  {
   "cell_type": "markdown",
   "metadata": {},
   "source": [
    "Câu 150: Viết hàm multTable in ra bảng sau\n",
    "\n",
    "1 2 3\n",
    "\n",
    "2 4 6\n",
    "\n",
    "3 6 9\n",
    "\n",
    "Input: Rows, Cols\n",
    "\n",
    "Output: các  giá trị cách nha 1 khoản trắng\n",
    "\n",
    "Lưu ý ko có xuống hàng ở dòng cuố cùng"
   ]
  },
  {
   "cell_type": "code",
   "execution_count": 12,
   "metadata": {},
   "outputs": [
    {
     "name": "stdout",
     "output_type": "stream",
     "text": [
      "1 2 3 \n",
      "\n",
      "2 4 6 \n",
      "\n",
      "3 6 9 "
     ]
    }
   ],
   "source": [
    "def multTable(n):\n",
    "    for i in range(1,n+1):\n",
    "        print(i,end=' ')\n",
    "    print(\"\\n\")\n",
    "    for j in range(1,n+1):\n",
    "        print(2*j,end=' ')\n",
    "    print(\"\\n\")\n",
    "    for k in range(1,n+1):\n",
    "        print(3*k,end=' ')\n",
    "multTable(3)        "
   ]
  },
  {
   "cell_type": "markdown",
   "metadata": {},
   "source": [
    "Câu 151: Hiện thực hàm xuất các phần tử mảng một chiều nguyên với các phần tử cách nhau khoảng trắng và không có khoảng trắng cuối cùng.\n",
    "\n",
    "Tên hàm: printArray\n",
    "\n",
    "Input: Mảng số nguyên, kích thước mảng\n",
    "\n",
    "Output: Xuất kết quả\n",
    "\n"
   ]
  },
  {
   "cell_type": "code",
   "execution_count": 101,
   "metadata": {},
   "outputs": [
    {
     "name": "stdout",
     "output_type": "stream",
     "text": [
      "1 3 4 "
     ]
    }
   ],
   "source": [
    "def printArray(n):\n",
    "    for i in n:\n",
    "        print(i,end=' ')\n",
    "printArray([1,3,4])"
   ]
  },
  {
   "cell_type": "markdown",
   "metadata": {},
   "source": [
    "Câu 152: Hiện thực hàm xuất các phần tử mảng một chiều nguyên gồm 2 cột cách nhau 1 TAB và không có xuống hàng ở dòng cuối cùng.\n",
    "\n",
    "Tên hàm: printIndexEle\n",
    "\n",
    "Input: Mảng số nguyên, kích thước mảng\n",
    "\n",
    "Output: Xuất kết quả\n",
    "\n",
    "Example:\n",
    "\n",
    "0      5\n",
    "\n",
    "1     10\n",
    "\n",
    "2      0\n",
    "\n",
    "3      2\n",
    "\n",
    "4      4"
   ]
  },
  {
   "cell_type": "code",
   "execution_count": 14,
   "metadata": {},
   "outputs": [
    {
     "name": "stdout",
     "output_type": "stream",
     "text": [
      "0 \t 1\n",
      "1 \t 3\n",
      "2 \t 4\n"
     ]
    }
   ],
   "source": [
    "def printIndexEle(A):\n",
    "    for i in range(len(A)):\n",
    "        print(i,\"\\t\",A[i])\n",
    "printIndexEle([1,3,4])"
   ]
  },
  {
   "cell_type": "markdown",
   "metadata": {},
   "source": [
    "Câu 153: Hiện thực hàm tổng các phần tử mảng một chiều thực xuất ra theo định dạng 2 số thập phân và có xuống hàng ở dòng cuối cùng.\n",
    "\n",
    "Tên hàm: sumArray\n",
    "\n",
    "Input: Mảng số thực, kích thước mảng\n",
    "\n",
    "Output: Xuất kết quả\n",
    "\n",
    "Example:\n",
    "\n",
    "Input: -1. 10 2 5 -1"
   ]
  },
  {
   "cell_type": "code",
   "execution_count": 106,
   "metadata": {},
   "outputs": [
    {
     "name": "stdout",
     "output_type": "stream",
     "text": [
      "20.00\n"
     ]
    }
   ],
   "source": [
    "def sumArray(A):\n",
    "    s=0\n",
    "    for i in A:\n",
    "        s+=i\n",
    "    print(\"%.2f\"%s)\n",
    "sumArray([2,3,4,5,6])"
   ]
  },
  {
   "cell_type": "markdown",
   "metadata": {},
   "source": [
    "Câu 154: Kiểm tra mảng có chứa số chẵn không? Nếu có trả về “1”, ngược lại trả về “0”.\n",
    "\n",
    "Function:  EvenNumberIncludingArray, \n",
    "\n",
    "Input:  Mảng, kích thước mảng\n",
    "\n",
    "Output: True, False\n",
    "\n"
   ]
  },
  {
   "cell_type": "code",
   "execution_count": 111,
   "metadata": {},
   "outputs": [
    {
     "data": {
      "text/plain": [
       "1"
      ]
     },
     "execution_count": 111,
     "metadata": {},
     "output_type": "execute_result"
    }
   ],
   "source": [
    "def EvenNumberIncludingArray(A):\n",
    "    for i in A:\n",
    "        if i%2==0:\n",
    "            return 1\n",
    "        else:\n",
    "            return 0\n",
    "EvenNumberIncludingArray([6,6,8])"
   ]
  },
  {
   "cell_type": "markdown",
   "metadata": {},
   "source": [
    "Câu 155: Kiểm tra mảng có chứa số nguyên tố không? Nếu có trả về “1”, ngược lại trả về “0”"
   ]
  },
  {
   "cell_type": "code",
   "execution_count": 20,
   "metadata": {},
   "outputs": [
    {
     "data": {
      "text/plain": [
       "True"
      ]
     },
     "execution_count": 20,
     "metadata": {},
     "output_type": "execute_result"
    }
   ],
   "source": [
    "def ngto(n):\n",
    "    if n<2:\n",
    "        return True\n",
    "    else:\n",
    "        for i in range(2,n):\n",
    "            if n%i==0:\n",
    "                return False\n",
    "    return True\n",
    "def PrimeNumberIncludingArray(A):\n",
    "    for i in range(len(A)):\n",
    "        if ngto(A[i]):\n",
    "            return True\n",
    "    return False\n",
    "PrimeNumberIncludingArray([1,3,4,5])"
   ]
  },
  {
   "cell_type": "markdown",
   "metadata": {},
   "source": [
    "Câu 156: Kiểm tra mảng có chứa giá trị k không? Nếu có trả về “1”, ngược lại trả về “0”.\n",
    "\n",
    "Function: FindKArray"
   ]
  },
  {
   "cell_type": "code",
   "execution_count": 123,
   "metadata": {},
   "outputs": [
    {
     "data": {
      "text/plain": [
       "1"
      ]
     },
     "execution_count": 123,
     "metadata": {},
     "output_type": "execute_result"
    }
   ],
   "source": [
    "def FindKArray(A,k):\n",
    "    for i in range(len(A)):\n",
    "        if A[i]==k:\n",
    "            return 1\n",
    "            break\n",
    "    return 0\n",
    "FindKArray([3,4,5],4)"
   ]
  },
  {
   "cell_type": "markdown",
   "metadata": {},
   "source": [
    "Câu 157: Xác định phần tử đầu tiên có giá trị là số nguyên tố và nhỏ hơn 100; và trả về vị trí của phần tử đó, ngược lại trả về -1"
   ]
  },
  {
   "cell_type": "code",
   "execution_count": 18,
   "metadata": {},
   "outputs": [
    {
     "data": {
      "text/plain": [
       "1"
      ]
     },
     "execution_count": 18,
     "metadata": {},
     "output_type": "execute_result"
    }
   ],
   "source": [
    "def ngto(n):\n",
    "    if n<=2:\n",
    "        return False\n",
    "    else:\n",
    "        for i in range(2,n):\n",
    "            if n%i==0:\n",
    "                return False\n",
    "    return True\n",
    "def FindPrimeArray(A):\n",
    "    for i in range(len(A)):\n",
    "        if A[i]<100:\n",
    "            if ngto(A[i]):\n",
    "                return i\n",
    "        else: \n",
    "            return -1\n",
    "FindPrimeArray([1,3,5,19])"
   ]
  },
  {
   "cell_type": "markdown",
   "metadata": {},
   "source": [
    "Câu 158: Xác định số lượng phần tử có giá trị lẻ"
   ]
  },
  {
   "cell_type": "code",
   "execution_count": 126,
   "metadata": {},
   "outputs": [
    {
     "name": "stdout",
     "output_type": "stream",
     "text": [
      "3\n"
     ]
    }
   ],
   "source": [
    "def Odd_NumArray(A):\n",
    "    d=0\n",
    "    for i in range(len(A)):\n",
    "        if A[i]%2!=0:\n",
    "            d+=1\n",
    "    print(d)\n",
    "Odd_NumArray([3,4,5,7,8])"
   ]
  },
  {
   "cell_type": "markdown",
   "metadata": {},
   "source": [
    "Câu 159: Xác định phần tử đầu tiên có giá trị lớn nhất trong mảng"
   ]
  },
  {
   "cell_type": "code",
   "execution_count": 129,
   "metadata": {},
   "outputs": [
    {
     "name": "stdout",
     "output_type": "stream",
     "text": [
      "12\n"
     ]
    }
   ],
   "source": [
    "def Max_Array(A):\n",
    "    m=0\n",
    "    for i in A:\n",
    "        if i>m:\n",
    "            m=i\n",
    "    print(m)\n",
    "Max_Array([3,4,12,9])"
   ]
  },
  {
   "cell_type": "markdown",
   "metadata": {},
   "source": [
    "Câu 160: Xác định phần tử chẵn thứ k trong mảng và trả về giá trị của phần tử đó (trả về “-1” nếu không tồn tại)"
   ]
  },
  {
   "cell_type": "code",
   "execution_count": 132,
   "metadata": {},
   "outputs": [
    {
     "name": "stdout",
     "output_type": "stream",
     "text": [
      "[-1, 4, -1, 2]\n"
     ]
    }
   ],
   "source": [
    "B=list()\n",
    "def Even_Array(A):\n",
    "    for i in range(len(A)):\n",
    "        if A[i]%2==0:\n",
    "            B.append(A[i])\n",
    "        else:\n",
    "            B.append(-1)\n",
    "    print(B)\n",
    "Even_Array([3,4,5,2])"
   ]
  },
  {
   "cell_type": "markdown",
   "metadata": {},
   "source": [
    "Câu 161: Viết một hàm xuất các phần tử của mảng hai chiều (nxm) ra màn hình không có khoảng trắng hay dấu xuống dòng ở cuối,\n",
    "giữa các phần tử chỉ có đúng 1 khoảng trắng.\n",
    "\n",
    "Input: Mảng hai chiều, kích thước hàng, kích thước cột\n",
    "\n",
    "Output: các phần tử của mảng"
   ]
  },
  {
   "cell_type": "code",
   "execution_count": 144,
   "metadata": {},
   "outputs": [
    {
     "name": "stdout",
     "output_type": "stream",
     "text": [
      "1 2 3 \n",
      "3 4 4 \n"
     ]
    }
   ],
   "source": [
    "def printMatrix(A):\n",
    "    for i in range(len(A)):\n",
    "        for j in range(len(A[i])):\n",
    "            print(A[i][j],end=' ')\n",
    "        print()\n",
    "printMatrix([[1,2,3],[3,4,4]])"
   ]
  },
  {
   "cell_type": "markdown",
   "metadata": {},
   "source": [
    "Câu 162: Viết một hàm tính tổng các phần tử trong ma trận (nxm) kiểu số thực và trả về giá trị đó.\n",
    "\n",
    "int sumMatrix(int M[100][100], int rows, int cols)\n",
    "\n",
    "Input: Ma trận, kích thước hàng, kích thước cột\n",
    "\n",
    "Output: Tổng các phần tử"
   ]
  },
  {
   "cell_type": "code",
   "execution_count": 150,
   "metadata": {},
   "outputs": [
    {
     "name": "stdout",
     "output_type": "stream",
     "text": [
      "28\n"
     ]
    }
   ],
   "source": [
    "def sumMatrix(A):\n",
    "    Sum=0\n",
    "    for i in range(len(A)):\n",
    "        for j in range(len(A[i])):\n",
    "            Sum+=A[i][j]\n",
    "    print(Sum)\n",
    "sumMatrix([[3,4,3],[9,4,5]])"
   ]
  },
  {
   "cell_type": "markdown",
   "metadata": {},
   "source": [
    "Câu 163: Viết một hàm tính tổng các phần tử nằm phía trên đường chéo chính (bao gồm đường chéo chính) ma trận vuông kích\n",
    "thước nxn kiểu số thực và trả về giá trị đó.\n",
    "\n",
    "Input: Ma trận, kích thước\n",
    "\n",
    "Output: Tổng các phần tử"
   ]
  },
  {
   "cell_type": "code",
   "execution_count": 149,
   "metadata": {},
   "outputs": [
    {
     "name": "stdout",
     "output_type": "stream",
     "text": [
      "9\n"
     ]
    }
   ],
   "source": [
    "def trace_matrix(A):\n",
    "    trace=0\n",
    "    for i in range(len(A)):\n",
    "        trace+=A[i][i]\n",
    "    print(trace)\n",
    "trace_matrix([[1,3,4],[4,5,6],[3,4,3]])"
   ]
  },
  {
   "cell_type": "markdown",
   "metadata": {},
   "source": [
    "Câu 164: Đếm xem có bao nhiêu phẩn tử chẳn trong matrix"
   ]
  },
  {
   "cell_type": "code",
   "execution_count": 152,
   "metadata": {},
   "outputs": [
    {
     "name": "stdout",
     "output_type": "stream",
     "text": [
      "3\n"
     ]
    }
   ],
   "source": [
    "def even_numMatrix(A):\n",
    "    count=0\n",
    "    for i in range(len(A)):\n",
    "        for j in range(len(A[i])):\n",
    "            if A[i][j]%2==0:\n",
    "                count+=1\n",
    "    print(count)\n",
    "even_numMatrix([[3,4,5],[2,4]])"
   ]
  },
  {
   "cell_type": "markdown",
   "metadata": {},
   "source": [
    "Câu 165: Hiện thực hàm tính tổng các dòng lẻ của matrix"
   ]
  },
  {
   "cell_type": "code",
   "execution_count": 22,
   "metadata": {},
   "outputs": [
    {
     "data": {
      "text/plain": [
       "9"
      ]
     },
     "execution_count": 22,
     "metadata": {},
     "output_type": "execute_result"
    }
   ],
   "source": [
    "def SumOddRowsMatrix(A):\n",
    "    Sum=0\n",
    "    for i in range(1,len(A),2):\n",
    "        for j in range(len(A[i])):\n",
    "            Sum+=A[i][j]\n",
    "    return Sum\n",
    "SumOddRowsMatrix([[3,4,5],[2,4,3]])"
   ]
  },
  {
   "cell_type": "markdown",
   "metadata": {},
   "source": [
    "Câu 166: Để hiện thực ma trận, người ta dùng một mảng hai chiều. Hãy hiện thực hàm \n",
    "\n",
    "void addMatrix(int matrix1[][100], int matrix2[][100], int matrix3[][100], int row, int col)\n",
    "\n",
    "với các tham số lần lượt là:\n",
    "- matrix1, matrix2: hai ma trận đầu vào\n",
    "- matrix3: ma trận kết quả của phép cộng hai ma trận matrix1, matrix2\n",
    "- row, col: số hàng và cột của hai ma trận."
   ]
  },
  {
   "cell_type": "code",
   "execution_count": 155,
   "metadata": {},
   "outputs": [
    {
     "name": "stdout",
     "output_type": "stream",
     "text": [
      "[[5, 5, 5], [5, 5, 7]]\n"
     ]
    }
   ],
   "source": [
    "def add_Matrix(A,B):\n",
    "    for i in range(len(A)):\n",
    "        for j in range(len(A[i])):\n",
    "            A[i][j]=A[i][j]+B[i][j]\n",
    "    print(A)\n",
    "add_Matrix([[1,2,3],[2,3,4]],[[4,3,2],[3,2,3]])"
   ]
  },
  {
   "cell_type": "code",
   "execution_count": 153,
   "metadata": {},
   "outputs": [
    {
     "data": {
      "text/plain": [
       "[[1, 3, 4], [3, 3, 5], [1, 3, 2], [2, 3, 4]]"
      ]
     },
     "execution_count": 153,
     "metadata": {},
     "output_type": "execute_result"
    }
   ],
   "source": [
    "[[1,3,4],[3,3,5]]+[[1,3,2],[2,3,4]]"
   ]
  },
  {
   "cell_type": "markdown",
   "metadata": {},
   "source": [
    "Câu 167: Một ma trận vuông A được gọi là đối xứng nếu ma trận A' = A, với A' là ma trận chuyển vị.\n",
    "\n",
    "Hiện thực hàm isSymmetricMatrix để kiểm tra xem một ma trận vuông có phải là ma trận đối xứng không?\n",
    "\n",
    "Nếu đối xứng thì trả về 1, ngược lại trả về 0."
   ]
  },
  {
   "cell_type": "code",
   "execution_count": 23,
   "metadata": {},
   "outputs": [
    {
     "data": {
      "text/plain": [
       "1"
      ]
     },
     "execution_count": 23,
     "metadata": {},
     "output_type": "execute_result"
    }
   ],
   "source": [
    "def isSymmetricMatrix(A):\n",
    "    Sum=0\n",
    "    for i in range(len(A)):\n",
    "        for j in range(len(A[i])):\n",
    "            if A[i][j]==A[j][i]:\n",
    "                Sum+=1\n",
    "    if Sum==len(A)*len(A[i]):\n",
    "        return 1\n",
    "    else:\n",
    "        return 0\n",
    "isSymmetricMatrix([[1,7,3],[7,4,5],[3,5,6]])"
   ]
  },
  {
   "cell_type": "markdown",
   "metadata": {},
   "source": [
    "Câu 168: Một ma trận A được gọi là tam giác dưới (lower triangular) nếu tất cả các phần tử bên trên đường chéo chính là\n",
    "bằng 0. Hiện thực hàm lowerTriangular trả về true nếu ma trận là tam giác dưới, và false cho ngược lại."
   ]
  },
  {
   "cell_type": "code",
   "execution_count": 29,
   "metadata": {},
   "outputs": [
    {
     "data": {
      "text/plain": [
       "True"
      ]
     },
     "execution_count": 29,
     "metadata": {},
     "output_type": "execute_result"
    }
   ],
   "source": [
    "def lower_triangular(A):\n",
    "    count=0\n",
    "    for i in range(len(A)):\n",
    "        count+=1\n",
    "        for j in range(count,len(A[i])):\n",
    "            if A[i][j]==0:\n",
    "                return True\n",
    "    return False\n",
    "lower_triangular([[1,0,0],[2,2,0],[3,3,3]])                "
   ]
  },
  {
   "cell_type": "markdown",
   "metadata": {},
   "source": [
    "Câu 169: Kiểm tra một ma trận có phải là ma trận thưa hay không, chúng ta chỉ cần kiểm tra tổng số phần tử bằng không.\n",
    "Ma trận là ma trận thưa nếu T ≥ ((m * n) / 2); trong đó T xác định tổng số phần tử bằng không. Nếu là ma trận thưa thì\n",
    "xuất ra chuỗi \"Is a Sparse matrix.\", ngược lại \"Is not Sparse matrix.\""
   ]
  },
  {
   "cell_type": "code",
   "execution_count": 34,
   "metadata": {},
   "outputs": [
    {
     "name": "stdout",
     "output_type": "stream",
     "text": [
      "Is a Sparse matrix.\n"
     ]
    }
   ],
   "source": [
    "def sparsematrix(A):\n",
    "    count_zero=0\n",
    "    for i in range(len(A)):\n",
    "        for j in range(len(A[i])):\n",
    "            if A[i][j]==0:\n",
    "                count_zero+=1\n",
    "    if count_zero>=(len(A)*len(A[i]))//2:\n",
    "        print(\"Is a Sparse matrix.\")\n",
    "    else:\n",
    "        print(\"Is not Sparse matrix.\")\n",
    "sparsematrix([[0,3,0,0],[2,0,0,0]])"
   ]
  },
  {
   "cell_type": "markdown",
   "metadata": {},
   "source": [
    "Câu 170: Hiện thực chương trình in dấu hoa thị '*', tại những vị trí mà các phần từ của 2 matrix cùng kích thức (mxn) là bằng nhau, ngược lại thì in khoảng trắng. Không có xuống hàng ở dòng cuối cùng.\n",
    "\n",
    "Example\n",
    "\n",
    "A\n",
    "\n",
    "1 2 3\n",
    "\n",
    "4 5 6\n",
    "\n",
    "B\n",
    "\n",
    "1 3 4\n",
    "\n",
    "5 5 6\n",
    "\n",
    "Output\n",
    "\n",
    "\\* - -\n",
    "\n",
    "\\- * -"
   ]
  },
  {
   "cell_type": "code",
   "execution_count": 41,
   "metadata": {},
   "outputs": [
    {
     "name": "stdout",
     "output_type": "stream",
     "text": [
      " \n",
      "** \n",
      "* \n"
     ]
    }
   ],
   "source": [
    "def printAsterisk(A,B):\n",
    "    for i in range(len(A)):\n",
    "        for j in range(len(A[i])):\n",
    "            if A[i][j]==B[i][j]:\n",
    "                print('*',end='')\n",
    "            else:\n",
    "                print(\" \")\n",
    "A=[[1,3,4],[3,4,2]]\n",
    "B=[[2,3,4],[9,4,3]]\n",
    "printAsterisk(A,B)           "
   ]
  },
  {
   "cell_type": "markdown",
   "metadata": {},
   "source": [
    "Câu 171: Hiện thực hàm void assignChar(char outStr[10], char c) để khởi tạo một chuỗi có kích thước là 10 bằng cách gán một ký tự  vào chuỗi các ký .\n",
    "\n",
    "Input: Chuỗi ký tự, ký tự\n",
    "    \n",
    "Output: Chuỗi được gán"
   ]
  },
  {
   "cell_type": "code",
   "execution_count": 48,
   "metadata": {},
   "outputs": [
    {
     "name": "stdout",
     "output_type": "stream",
     "text": [
      "FFFF"
     ]
    }
   ],
   "source": [
    "def assignChar(string):\n",
    "    for i in string:\n",
    "        i = 'F'\n",
    "        print(i,end='')\n",
    "assignChar(\"akme\")"
   ]
  },
  {
   "cell_type": "markdown",
   "metadata": {},
   "source": [
    "Câu 172: Một hàm getRooms yêu cầu đầu vào là tên và nếu người dùng có tên bắt đầu bằng chữ cái giữa P và S, với các thông báo sau hiển thị đến người dùng:\n",
    "- Đặc biệt: \"You must go to room 4223 for your key.\"\n",
    "- Khác: \"You can get your keys here.\"\n",
    "\n",
    "Lưu ý: không phân biệt ký tự hoa và thường.\n"
   ]
  },
  {
   "cell_type": "code",
   "execution_count": 50,
   "metadata": {},
   "outputs": [
    {
     "name": "stdout",
     "output_type": "stream",
     "text": [
      "You must go to room 4223 for your key.\n"
     ]
    }
   ],
   "source": [
    "def getRooms(string):\n",
    "    if string[0]=='P' or string[0]=='S':\n",
    "        print(\"You must go to room 4223 for your key.\")\n",
    "    else:\n",
    "        print(\"You can get your keys here.\")\n",
    "getRooms(\"Phon\")"
   ]
  },
  {
   "cell_type": "markdown",
   "metadata": {},
   "source": [
    "Câu 173: Hiện thực hàm strLength trả lại chiều dài của chuỗi\n",
    "    \n",
    "Input: Chuỗi ký tự\n",
    "    \n",
    "Output: chiều dài\n",
    "    \n",
    "Example:\n",
    "    \n",
    "Input: Hello\n",
    "    \n",
    "Output: 5"
   ]
  },
  {
   "cell_type": "code",
   "execution_count": 58,
   "metadata": {},
   "outputs": [
    {
     "data": {
      "text/plain": [
       "4"
      ]
     },
     "execution_count": 58,
     "metadata": {},
     "output_type": "execute_result"
    }
   ],
   "source": [
    "def stringlen(A):\n",
    "    count=0\n",
    "    for i in A:\n",
    "        count+=1\n",
    "    return count\n",
    "stringlen(\"aame\")\n",
    "     "
   ]
  },
  {
   "cell_type": "markdown",
   "metadata": {},
   "source": [
    "Câu 174: Hiện thực hàm concateString, cộng 2 chuỗi S1, S2 kết quả được lưu trữ vào chuỗi S3. Biết chiều dài S1 cộng chiều dài S2 luôn nhỏ hơn hoặc bằng S3 và chiều dài lớn nhất của chuỗi S3 là 20.\n",
    "\n",
    "Input: chuỗi đích, chuỗi nguồn 1, chuỗi nguồn 2\n",
    "\n",
    "Output: Xuất ra màn hình chuỗi đích"
   ]
  },
  {
   "cell_type": "code",
   "execution_count": 165,
   "metadata": {},
   "outputs": [
    {
     "data": {
      "text/plain": [
       "'Chuỗi 1Chuỗi 2'"
      ]
     },
     "execution_count": 165,
     "metadata": {},
     "output_type": "execute_result"
    }
   ],
   "source": [
    "s1=\"Chuỗi 1\"\n",
    "s2=\"Chuỗi 2\"\n",
    "s3=s1+s2\n",
    "s3"
   ]
  },
  {
   "cell_type": "markdown",
   "metadata": {},
   "source": [
    "Câu 175: Hãy hoàn thành định nghĩa hàm int countCharacter(const char str[], char key) dùng để đếm trong chuỗi str có bao nhiêu ký tự key.\n",
    "\n",
    "Ví dụ: char = \"IOUigc9ZamIo8dOsbf4g58VrEAIGC\", key = 'O', hàm trên trả về 2.\n"
   ]
  },
  {
   "cell_type": "code",
   "execution_count": 167,
   "metadata": {},
   "outputs": [
    {
     "data": {
      "text/plain": [
       "3"
      ]
     },
     "execution_count": 167,
     "metadata": {},
     "output_type": "execute_result"
    }
   ],
   "source": [
    "def countCharacter(string,key):\n",
    "    count=0\n",
    "    for i in range(len(string)):\n",
    "        if string[i]==key:\n",
    "            count+=1\n",
    "    return count\n",
    "countCharacter(\"IOamamsamdkwme\",\"a\")"
   ]
  },
  {
   "cell_type": "markdown",
   "metadata": {},
   "source": [
    "Câu 176: Hãy viết hàm void StringReverse(char str[]) dùng để đảo thứ tự của một chuỗi ký tự.\n",
    "\n",
    "Ví dụ: str = \"abc\", sau khi gọi hàm reverse thì str = \"cba\".\n",
    "\n"
   ]
  },
  {
   "cell_type": "code",
   "execution_count": 175,
   "metadata": {},
   "outputs": [
    {
     "data": {
      "text/plain": [
       "'mska4'"
      ]
     },
     "execution_count": 175,
     "metadata": {},
     "output_type": "execute_result"
    }
   ],
   "source": [
    "def StringReverse(string):\n",
    "    string_new=string[-1::-1]\n",
    "    return string_new\n",
    "StringReverse(\"4aksm\")"
   ]
  },
  {
   "cell_type": "markdown",
   "metadata": {},
   "source": [
    "Câu 177: Hãy hoàn thành định nghĩa hàm void deleteAllCharacter(char str[], char key) dùng để xóa hết các kí tự key xuất hiện trong chuỗi str.\n",
    "\n",
    "Ví dụ: str = \"YZ D6BUc jr ZgwPP s5tpY ElsUi8x cq CS7wCfyOtF YdWP KHJ2H s HpMAI\", key = 'c'\n",
    "\n",
    "thì sau khi gọi hàm trên str = \"YZ D6BU jr ZgwPP s5tpY ElsUi8x q CS7wCfyOtF YdWP KHJ2H s HpMAI\"."
   ]
  },
  {
   "cell_type": "code",
   "execution_count": 73,
   "metadata": {},
   "outputs": [
    {
     "name": "stdout",
     "output_type": "stream",
     "text": [
      "ignal"
     ]
    }
   ],
   "source": [
    "def deleteCharacter(string,key):\n",
    "    for i in range(len(string)):\n",
    "        if string[i]==key:\n",
    "            for j in range(len(string)-1):\n",
    "                print(string[j+1],end='')\n",
    "                i-=1\n",
    "deleteCharacter('signal','i')"
   ]
  },
  {
   "cell_type": "markdown",
   "metadata": {},
   "source": [
    "Câu 178: Hãy in ra các từ xuất hiện trong một chuỗi ký tự gồm nhiều từ, ngăn cách nhau bởi một hoặc nhiều khoảng trắng.\n",
    "\n",
    "Ví dụ: \"This is  a   green apple\" thì in ra:\n",
    "\n",
    "This\n",
    "\n",
    "is\n",
    "\n",
    "a\n",
    "\n",
    "green\n",
    "\n",
    "apple\n",
    "\n",
    "Lưu ý: Phía đầu và phía cuối của chuỗi không có khoảng trắng. Dòng cuối cùng được in không có dấu xuống dòng ở cuối.\n",
    "\n"
   ]
  },
  {
   "cell_type": "code",
   "execution_count": 184,
   "metadata": {},
   "outputs": [
    {
     "name": "stdout",
     "output_type": "stream",
     "text": [
      "This\n",
      "is\n",
      "a\n",
      "green\n",
      "apple\n"
     ]
    }
   ],
   "source": [
    "def PrintString(string):\n",
    "    for i in string.split(\" \"):\n",
    "        print(i)\n",
    "PrintString(\"This is a green apple\")"
   ]
  },
  {
   "cell_type": "markdown",
   "metadata": {},
   "source": [
    "Câu 179: Đếm số ký tự không thuộc bảng chữ cái"
   ]
  },
  {
   "cell_type": "code",
   "execution_count": 196,
   "metadata": {},
   "outputs": [
    {
     "data": {
      "text/plain": [
       "5"
      ]
     },
     "execution_count": 196,
     "metadata": {},
     "output_type": "execute_result"
    }
   ],
   "source": [
    "def count_alphabet(string):\n",
    "    count=0\n",
    "    for i in range(len(string)):\n",
    "        if not(65<=ord(string[i])<=90 or 97<=ord(string[i])<=122):\n",
    "            count+=1\n",
    "    return count\n",
    "count_nonABC(\"amam13920\")"
   ]
  },
  {
   "cell_type": "markdown",
   "metadata": {},
   "source": [
    "Câu 180: Loại bỏ các khoảng trắng thừa trong chuỗi. Nếu chuỗi chỉ chứa toàn khoản trắng thì gán chuỗi là rỗng (Null).\n",
    "\n",
    "Example: \\_Hello_|_You_\n",
    "    \n",
    "Output: Hello You\n",
    "\n",
    "Function: remSpace\n",
    "\n",
    "Input: Chuỗi ký tự"
   ]
  },
  {
   "cell_type": "code",
   "execution_count": 4,
   "metadata": {},
   "outputs": [
    {
     "name": "stdout",
     "output_type": "stream",
     "text": [
      "Samamda32"
     ]
    }
   ],
   "source": [
    "def remSpace(string):\n",
    "    s=string.split(' ')\n",
    "    for i in s:\n",
    "        print(i,end='')\n",
    "remSpace(\"Sam amd a32\")"
   ]
  },
  {
   "cell_type": "markdown",
   "metadata": {},
   "source": [
    "Câu 181: Chúng ta có thể xác định một cách đệ quy số lượng tổ hợp của m trong số n,\n",
    "ký hiệu C (n, m), cho n> = 1 và 0 <= m <= n, bằng\n",
    "\n",
    "C (n, m) = 1 nếu m = 0 hoặc m = n\n",
    "\n",
    "C (n, m) = C (n-1, m) + C (n-1, m-1) nếu 0 <m <n.\n",
    "\n",
    "Viết hàm đệ quy recursC để tính C(n,m)\n"
   ]
  },
  {
   "cell_type": "code",
   "execution_count": 78,
   "metadata": {},
   "outputs": [
    {
     "data": {
      "text/plain": [
       "4"
      ]
     },
     "execution_count": 78,
     "metadata": {},
     "output_type": "execute_result"
    }
   ],
   "source": [
    "def recursC(n,m):\n",
    "    if m==1 or m==n :\n",
    "        return 1\n",
    "    else:\n",
    "        return recursC(n-1,m)+ recursC(n-1,m-1)\n",
    "recursC(5,2)    "
   ]
  },
  {
   "cell_type": "markdown",
   "metadata": {},
   "source": [
    "Câu 182: Palindrome là một chuỗi đọc giống nhau cả về phía trước và phía sau.\n",
    "\n",
    "Một số ví dụ là “ABCBA” “RADAR” “otto” “I am ma i” “C”\n",
    "\n",
    "Viết một hàm palindrome bằng cách sử dụng đệ quy để kiểm tra một chuỗi và trả về true nếu nó là palindrome,\n",
    "\n",
    "ngược lại, trả về false"
   ]
  },
  {
   "cell_type": "code",
   "execution_count": 101,
   "metadata": {},
   "outputs": [
    {
     "data": {
      "text/plain": [
       "True"
      ]
     },
     "execution_count": 101,
     "metadata": {},
     "output_type": "execute_result"
    }
   ],
   "source": [
    "def palindrome(string):\n",
    "    for i in range(len(string)):\n",
    "        if string[i]==string[len(string)-1-i]:\n",
    "            return True\n",
    "    return False\n",
    "palindrome(\"RADAR\")"
   ]
  },
  {
   "cell_type": "markdown",
   "metadata": {},
   "source": [
    "Câu 183: Hãy hiện thực hàm avgArray tính giá trị trung bình của mảng với các tham số sau:\n",
    "\n",
    "- Tham số thứ nhất là con trỏ số nguyên\n",
    "\n",
    "- Tham số thứ hai là số phần tử\n",
    "\n",
    "- Tham số thứ ba là con trỏ số thực kiểu double để trả về giá trị trung bình"
   ]
  },
  {
   "cell_type": "markdown",
   "metadata": {},
   "source": [
    "Câu 184: Hiện thực hàm intitalArray dùng để cấp phát động N phẩn tử số nguyên và tất cả phần tử được gán bởi một giá trị đầu vào. Cuối cùng hàm trả về địa chỉ của vùng nhớ đó cho người dùng.\n",
    "\n",
    "Input: N, value\n",
    "\n",
    "Output: Địa chỉ của vùng nhớ vừa được gán bởi giá trị value\n",
    "\n"
   ]
  },
  {
   "cell_type": "markdown",
   "metadata": {},
   "source": [
    "Câu 185: Cho trước một cấu trúc sinh viên gồm: name, gender và height.\n",
    "\n",
    "Hãy hiện thực hàm XuatStruct để xuất ra danh sách các sinh viên theo định dạng mỗi cột cách nhau một TAB và làm tròn\n",
    "\n",
    "2 số thập phân cho field height. Biết hàm gồm 2 tham số:\n",
    "\n",
    "- Một con trỏ cấu trúc sinh viên\n",
    "\n",
    "- Số lượng sinh viên"
   ]
  },
  {
   "cell_type": "code",
   "execution_count": 84,
   "metadata": {},
   "outputs": [
    {
     "name": "stdout",
     "output_type": "stream",
     "text": [
      "name \t 1\n",
      "gender \t male\n",
      "height \t 190\n"
     ]
    }
   ],
   "source": [
    "Sinhvien={'name':1,'gender':'male','height':190}\n",
    "for key,value in Sinhvien.items():\n",
    "    print(key,\"\\t\",value)"
   ]
  },
  {
   "cell_type": "markdown",
   "metadata": {},
   "source": [
    "Câu 186: Viết chương trình in ra n số nguyên tố đầu tiên"
   ]
  },
  {
   "cell_type": "code",
   "execution_count": null,
   "metadata": {},
   "outputs": [],
   "source": []
  },
  {
   "cell_type": "markdown",
   "metadata": {},
   "source": [
    "Câu 187: Viết chương trình nhập số nguyên dương n. Tìm số nguyên dương m lớn nhất\n",
    "sao cho: 1 + 2 + ... + m < n."
   ]
  },
  {
   "cell_type": "markdown",
   "metadata": {},
   "source": [
    "Câu 188: Tìm các bộ (trâu đứng, trâu nằm, trâu già) thỏa mãn bài toán cổ:\n",
    "\n",
    "Trăm trâu ăn trăm bó cỏ\n",
    "Trâu đứng ăn năm\n",
    "Trâu nằm ăn ba\n",
    "Lụ khụ trâu già\n",
    "Ba con một bó\n",
    "\n",
    "Thử tìm cách giảm số vòng lặp khi tính toán xuống."
   ]
  },
  {
   "cell_type": "markdown",
   "metadata": {},
   "source": [
    "Câu 189: Với n cho trước, tính tổng S, biết:\n",
    "\n",
    "Nếu n chẵn: S = 2 + 4 + 6 + ... + n\n",
    "\n",
    "Nếu n lẻ: S = 1 + 2 + 3 + ... + n"
   ]
  },
  {
   "cell_type": "code",
   "execution_count": 87,
   "metadata": {},
   "outputs": [
    {
     "data": {
      "text/plain": [
       "20"
      ]
     },
     "execution_count": 87,
     "metadata": {},
     "output_type": "execute_result"
    }
   ],
   "source": [
    "def Odd_Even_Sum(n,option='even'):\n",
    "    Sum=0\n",
    "    if option=='even':\n",
    "        for i in range(2,n+1,2):\n",
    "            Sum+=i\n",
    "    else:\n",
    "        for i in range(1,n+1):\n",
    "            Sum+=i\n",
    "    return Sum\n",
    "Odd_Even_Sum(9)"
   ]
  },
  {
   "cell_type": "markdown",
   "metadata": {},
   "source": [
    "Câu 190: Viết chương trình thực hiện thuật toán sàng Erastosthenes10 (Sieve of\n",
    "Erastosthenes) để in ra các số nguyên tố nhỏ hơn số n cho trước (n < 100)."
   ]
  },
  {
   "cell_type": "markdown",
   "metadata": {},
   "source": [
    "Câu 191: Viết chương trình thực hiện những yêu cầu sau:\n",
    "\n",
    "a. Tạo ngẫu nhiên mảng một chiều n phần tử nguyên có giá trị chứa trong đoạn\n",
    "[-100, 100] và xuất mảng.\n",
    "\n",
    "b. Tính tổng các số nguyên dương có trong mảng.\n",
    "\n",
    "c. Xóa phần tử có chỉ số p (p nhập từ bàn phím) trong mảng."
   ]
  },
  {
   "cell_type": "markdown",
   "metadata": {},
   "source": [
    "Câu 192: Viết chương trình thực hiện những yêu cầu sau:\n",
    "        \n",
    "a. Tạo ngẫu nhiên mảng một chiều n phần tử nguyên có giá trị chứa trong đoạn\n",
    "[-100, 100] và xuất mảng.\n",
    "\n",
    "b. Đếm số phần tử chia hết cho 4 và có chữ số tận cùng là 6.\n",
    "\n",
    "c. Thay các phần tử lẻ bằng 2 lần giá trị của nó."
   ]
  },
  {
   "cell_type": "markdown",
   "metadata": {},
   "source": [
    "Câu 193: Viết chương trình thực hiện những yêu cầu sau:\n",
    "        \n",
    "a. Tạo ngẫu nhiên mảng một chiều n phần tử nguyên có giá trị chứa trong đoạn\n",
    "[-100, 100] và xuất mảng.\n",
    "\n",
    "b. Dùng một vòng lặp, tìm phần tử có trị nhỏ nhất và lớn nhất của mảng.\n",
    "\n",
    "c. Xóa các phần tử trong mảng có trị trùng với giá trị lớn nhất của mảng, trừ\n",
    "phần tử tìm được đầu tiên."
   ]
  },
  {
   "cell_type": "markdown",
   "metadata": {},
   "source": [
    "Câu 194: Viết chương trình thực hiện những yêu cầu sau:\n",
    "        \n",
    "a. Tạo mảng một chiều n phần tử nguyên có giá trị nhập vào từ bàn phím.\n",
    "\n",
    "b. Kiểm tra xem mảng có đối xứng hay không.\n",
    "\n",
    "c. Hãy dịch trái xoay vòng mảng k lần, k nhập từ bàn phím."
   ]
  },
  {
   "cell_type": "code",
   "execution_count": 99,
   "metadata": {},
   "outputs": [
    {
     "data": {
      "text/plain": [
       "True"
      ]
     },
     "execution_count": 99,
     "metadata": {},
     "output_type": "execute_result"
    }
   ],
   "source": [
    "def checkArray(A):\n",
    "    for i in range(len(A)):\n",
    "        if A[i]==A[len(A)-1-i]:\n",
    "            return True\n",
    "    return False\n",
    "checkArray([1,3,5])"
   ]
  },
  {
   "cell_type": "markdown",
   "metadata": {},
   "source": [
    "Câu 195: Viết chương trình thực hiện những yêu cầu sau:\n",
    "        \n",
    "a. Tạo mảng một chiều n phần tử nguyên có giá trị nhập vào từ bàn phím.\n",
    "\n",
    "b. In ra các phần tử trong mảng có trị phân biệt."
   ]
  },
  {
   "cell_type": "markdown",
   "metadata": {},
   "source": [
    "Câu 196: Viết chương trình thực hiện những yêu cầu sau:\n",
    "\n",
    "a. Tạo mảng một chiều n phần tử nguyên có giá trị nhập vào từ bàn phím.\n",
    "\n",
    "b. Tìm các phần tử có số lần xuất hiện là như nhau và nhiều nhất."
   ]
  },
  {
   "cell_type": "markdown",
   "metadata": {},
   "source": [
    "Câu 197: Viết chương trình thực hiện những yêu cầu sau:\n",
    "        \n",
    "a. Tạo ngẫu nhiên mảng một chiều n phần tử nguyên có giá trị chứa trong đoạn\n",
    "[-100, 100] và xuất mảng.\n",
    "\n",
    "b. Tính tổng nghịch đảo các phần tử trong mảng.\n",
    "\n",
    "c. Viết hàm duyệt các phần tử A[i] của mảng theo thứ tự từ trái sang phải; nếu\n",
    "A[i] lẻ thì xóa một phần tử bên phải nó."
   ]
  },
  {
   "cell_type": "markdown",
   "metadata": {},
   "source": [
    "Câu 198: Viết chương trình thực hiện những yêu cầu sau:\n",
    "        \n",
    "a. Tạo ma trận có kích thước n x m (n, m nhập từ bàn phím) với các phần tử là\n",
    "các trị ngẫu nhiên trong đoạn [-100, 100], xuất ma trận.\n",
    "\n",
    "b. Chuyển ma trận A thành ma trận chuyển vị A* và in ra."
   ]
  },
  {
   "cell_type": "markdown",
   "metadata": {},
   "source": [
    "Câu 199: Tạo ma trận vuông bậc 5 với các phần tử có trị từ 1, 2, ..., 25, sắp xếp giảm\n",
    "theo hình zigzag từ trái sang phải, từ trên xuống dưới."
   ]
  },
  {
   "cell_type": "markdown",
   "metadata": {},
   "source": [
    "Câu 200: Viết chương trình yêu cầu nhập vào chuỗi ký tự có chiều dài tối đa là 80\n",
    "ký tự. Nhập vào hai số nguyên dương n và p, trong chuỗi trên tiến hành xóa n ký tự\n",
    "bắt đầu từ vị trí p."
   ]
  },
  {
   "cell_type": "code",
   "execution_count": null,
   "metadata": {},
   "outputs": [],
   "source": []
  }
 ],
 "metadata": {
  "kernelspec": {
   "display_name": "Python 3",
   "language": "python",
   "name": "python3"
  },
  "language_info": {
   "codemirror_mode": {
    "name": "ipython",
    "version": 3
   },
   "file_extension": ".py",
   "mimetype": "text/x-python",
   "name": "python",
   "nbconvert_exporter": "python",
   "pygments_lexer": "ipython3",
   "version": "3.7.0"
  }
 },
 "nbformat": 4,
 "nbformat_minor": 2
}
