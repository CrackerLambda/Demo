{
 "cells": [
  {
   "cell_type": "markdown",
   "metadata": {},
   "source": [
    "**Lưu ý:** *Bạn có thể xem trực tiếp trên github, tải xuống, nếu bạn muốn chạy thử hãy truy cập vào google colab nó cung cấp cho bạn thư viện có sẵn và chạy bằng GPU.*\n",
    "\n",
    "[![Open In Colab](https://colab.research.google.com/assets/colab-badge.svg)](https://colab.research.google.com/github/CrackerLambda/PythonBasics/blob/master/04_Statement_for_and_while_Loops.ipynb)"
   ]
  },
  {
   "cell_type": "markdown",
   "metadata": {},
   "source": [
    " # 4.1 Lệnh lặp for\n",
    " \n",
    "Vòng lặp là một chuỗi sự kiện hay hành động lặp đi lặp lại khi thõa điều kiện nào đó, một vòng lặp được xem là vô tận khi điều kiện của nó luôn đúng. \n",
    "\n",
    "Chúng ta sẽ xem ví dụ sau đây về vòng lặp về thời khóa biểu:\n",
    "\n",
    "Thức dậy -> Ăn sáng -> Đi học -> Ăn trưa -> Chơi thể thao -> Ăn chiều -> Ngũ -> Thức dậy.\n",
    "\n",
    "**Cú pháp lặp for trong Python:**\n",
    "\n",
    "```\n",
    "for i in range(0,n,step):\n",
    "\n",
    "    <Nhóm lệnh>\n",
    "```\n",
    "\n"
   ]
  },
  {
   "cell_type": "markdown",
   "metadata": {},
   "source": [
    "Toán tử in giúp chúng ta thiết lập mối quan hệ **giá trị i** chạy trong hàm range().\n"
   ]
  },
  {
   "cell_type": "code",
   "execution_count": 1,
   "metadata": {},
   "outputs": [],
   "source": [
    "for i in range(0,5,1):\n",
    "    a=i\n",
    "    print(a)"
   ]
  },
  {
   "cell_type": "markdown",
   "metadata": {},
   "source": [
    "Cách khác:"
   ]
  },
  {
   "cell_type": "code",
   "execution_count": 2,
   "metadata": {},
   "outputs": [],
   "source": [
    "for i in 0,1,2,3,4:\n",
    "    print(i)"
   ]
  },
  {
   "cell_type": "markdown",
   "metadata": {},
   "source": [
    "## Hàm range\n",
    "+ `range(n)` là cách viết hay dùng nhất có thể hiểu là vùng nó chạy từ **[0,n-1]**.\n",
    "\n",
    "+ `range(m,n)` là dãy các giá trị nằm trong khoảng **[m,n-1]**.\n",
    "\n",
    "+ `range(m,n,step)` là dãy các giá trị nằm trong khoảng **[m,n-1]** nhưng mỗi giá trị sẽ **cách nhau bước step** nào đó."
   ]
  },
  {
   "cell_type": "code",
   "execution_count": 3,
   "metadata": {},
   "outputs": [],
   "source": [
    "for i in range(3):\n",
    "    print(i)"
   ]
  },
  {
   "cell_type": "code",
   "execution_count": 4,
   "metadata": {},
   "outputs": [],
   "source": [
    "#Lặp xuôi\n",
    "a=range(2,4,1)\n",
    "for i in a:\n",
    "    print(i)"
   ]
  },
  {
   "cell_type": "code",
   "execution_count": 5,
   "metadata": {},
   "outputs": [],
   "source": [
    "#Lặp ngược\n",
    "a=range(4,2,-1)\n",
    "for i in a:\n",
    "    print(i)"
   ]
  },
  {
   "cell_type": "markdown",
   "metadata": {},
   "source": [
    "**Kiểm tra câu vừa nhập đếm có bao nhiêu nguyên âm a, e,i ,o không phân biệt chữ hoa và chữ thường.**"
   ]
  },
  {
   "cell_type": "code",
   "execution_count": 6,
   "metadata": {},
   "outputs": [
    {
     "name": "stdout",
     "output_type": "stream",
     "text": [
      "Nhập một câu:toilaai\n",
      "o,i,a,a,i,\n",
      "Có 5 từ trong các nguyên âm a, e, i, o\n"
     ]
    }
   ],
   "source": [
    "word = input('Nhập một câu:')\n",
    "count = 0\n",
    "for c in word:\n",
    "    if c == 'A' or c == 'a' or c == 'E' or c == 'e' \\\n",
    "        or c == 'I' or c == 'i' or c == 'O' or c == 'o':\n",
    "        print(c, end=',')\n",
    "        count += 1\n",
    "    \n",
    "print('\\nCó {} từ trong các nguyên âm a, e, i, o'.format(count))"
   ]
  },
  {
   "cell_type": "markdown",
   "metadata": {},
   "source": [
    "## Lặp lồng nhau (nested)"
   ]
  },
  {
   "cell_type": "markdown",
   "metadata": {},
   "source": [
    "**Dùng lặp for để giải bài toán tổng số chân gà và chó là 100 chân, tổng số con gà và chó là 36. Hỏi số gà là bao nhiêu, số chó là bao nhiêu.**"
   ]
  },
  {
   "cell_type": "code",
   "execution_count": 7,
   "metadata": {},
   "outputs": [
    {
     "name": "stdout",
     "output_type": "stream",
     "text": [
      "Số gà là 22 \n",
      "Số chó là 14\n"
     ]
    }
   ],
   "source": [
    "for x in range(37):\n",
    "    for y in range(26):\n",
    "        if (2*x+4*y==100) and(x+y==36):\n",
    "            print(\"Số gà là\",x,\"\\nSố chó là\",y)"
   ]
  },
  {
   "cell_type": "markdown",
   "metadata": {},
   "source": [
    "**Sinh hoán vị (permute) chuỗi ABC**"
   ]
  },
  {
   "cell_type": "code",
   "execution_count": 8,
   "metadata": {},
   "outputs": [
    {
     "name": "stdout",
     "output_type": "stream",
     "text": [
      "ABC\n",
      "ACB\n",
      "BAC\n",
      "BCA\n",
      "CAB\n",
      "CBA\n"
     ]
    }
   ],
   "source": [
    "for first in 'ABC':\n",
    "    for second in 'ABC':\n",
    "        if second != first: # Điều kiện không trùng lặp của str[0] với str[1]\n",
    "            for third in 'ABC': \n",
    "                if third != first and third != second: # Điều kiện không trùng lặp của str[3] \n",
    "                    print(first + second + third)      # với str[0], str[1]"
   ]
  },
  {
   "cell_type": "markdown",
   "metadata": {},
   "source": [
    "# 4.2 Lặp while\n",
    "\n",
    "Một lệnh lặp khác có thể xem là cơ bản đó là while, khác với for có thể giới hạn số lần lặp trong khi đó **while chỉ lặp theo điều kiện cho trước** nếu thỏa mãn biểu thức điều kiện **trả về True thì lặp tiếp**, ngược lại **điều kiện kết thúc vòng lặp** chính là **biểu thức điều kiện trả về False**.\n",
    "\n",
    "**Cú pháp của lệnh lặp while:**\n",
    "```\n",
    "while <biểu thức điều kiện> :\n",
    "      \n",
    "      <nhóm lệnh>\n",
    "```\n",
    "**Lưu đồ giải thuật của while:**\n",
    "\n",
    "<img align=\"left\" width=\"300\" height=\"300\" src=\"images/While_Loop.jpg\">\n"
   ]
  },
  {
   "cell_type": "markdown",
   "metadata": {},
   "source": [
    "**Kiểm tra số a vừa nhập phải là số 4 hay không nếu không phải sẽ yêu cầu nhập lại.**"
   ]
  },
  {
   "cell_type": "code",
   "execution_count": 9,
   "metadata": {
    "scrolled": true
   },
   "outputs": [
    {
     "name": "stdout",
     "output_type": "stream",
     "text": [
      "Nhập một số bất kỳ 5\n",
      "Mời bạn nhập lại số \n",
      "Nhập một số bất kỳ 4\n",
      "Bạn đã nhập đúng số\n"
     ]
    }
   ],
   "source": [
    "a=int(input('Nhập một số bất kỳ '))\n",
    "while a!=4:\n",
    "    print('Mời bạn nhập lại số ')\n",
    "    a=int(input(\"Nhập một số bất kỳ \"))\n",
    "print('Bạn đã nhập đúng số')"
   ]
  },
  {
   "cell_type": "markdown",
   "metadata": {},
   "source": [
    "**Tìm ước chung lớn nhất của x và y bằng giải thuật Euclid.**"
   ]
  },
  {
   "cell_type": "code",
   "execution_count": 10,
   "metadata": {},
   "outputs": [
    {
     "name": "stdout",
     "output_type": "stream",
     "text": [
      "Nhập số tự nhiên x 4\n",
      "Nhập số tự nhiên y 5\n",
      "Ước chung lớn nhất của x và y  1\n"
     ]
    }
   ],
   "source": [
    "x=int(input(\"Nhập số tự nhiên x \"))\n",
    "y=int(input(\"Nhập số tự nhiên y \"))\n",
    "while x!=y:\n",
    "    if x>y:\n",
    "        x=x-y\n",
    "    else:\n",
    "        y=y-x\n",
    "print('Ước chung lớn nhất của x và y ',x)"
   ]
  },
  {
   "cell_type": "markdown",
   "metadata": {},
   "source": [
    "## Lặp biết rõ lần lặp và vô hạn"
   ]
  },
  {
   "cell_type": "markdown",
   "metadata": {},
   "source": [
    "**In ra các số từ 1 đến 10 bằng while.**"
   ]
  },
  {
   "cell_type": "code",
   "execution_count": 11,
   "metadata": {},
   "outputs": [
    {
     "name": "stdout",
     "output_type": "stream",
     "text": [
      "1,2,3,4,5,6,7,8,9,10,"
     ]
    }
   ],
   "source": [
    "n = 1\n",
    "while n <= 10:\n",
    "    print(n,end=',')\n",
    "    n += 1"
   ]
  },
  {
   "cell_type": "markdown",
   "metadata": {},
   "source": [
    "**Kiểm tra số vừa nhập đúng key = 999 không nếu chưa sẽ bắt nhập tiếp.**"
   ]
  },
  {
   "cell_type": "code",
   "execution_count": 13,
   "metadata": {},
   "outputs": [
    {
     "name": "stdout",
     "output_type": "stream",
     "text": [
      "2\n",
      "2\n",
      "99\n",
      "99\n",
      "999\n"
     ]
    }
   ],
   "source": [
    "done = False \n",
    "while not done:\n",
    "    entry = int(input()) \n",
    "    if entry == 999: # Key \n",
    "        done = True # Nhận đúng key done sẽ đảo False thành True \n",
    "    else:           # Khi đó while sẽ không lặp nữa\n",
    "        print(entry)"
   ]
  },
  {
   "cell_type": "markdown",
   "metadata": {},
   "source": [
    "# 4.3 Lệnh break, coutinue, pass và loop else\n",
    "\n",
    "Khi chương trình vòng lặp while hoặc for gặp những lệnh này chúng ta kiểm tra điều kiện và thực thi.\n",
    "\n",
    "+ Lệnh **break** chương trình sẽ thoát khỏi vòng lặp và thực thi các lệnh tiếp theo đó.\n",
    "\n",
    "+ Lệnh **continue** chương trình sẽ quay lại thực thi vòng lặp mới.\n",
    "\n",
    "+ Lệnh **pass** chương trình sẽ không làm gì hết có thể xem là placeholder empty.\n",
    "\n",
    "+ Lệnh **else** đi với loop sẽ chạy nếu chương trình thoát khỏi vòng lặp một cách bình thường."
   ]
  },
  {
   "cell_type": "markdown",
   "metadata": {},
   "source": [
    "**Kiểm tra x có phải là số nhỏ hơn 4 thì break thoát khỏi vòng lặp.**"
   ]
  },
  {
   "cell_type": "code",
   "execution_count": 14,
   "metadata": {},
   "outputs": [
    {
     "name": "stdout",
     "output_type": "stream",
     "text": [
      "5\n",
      "4\n",
      "x = 3\n"
     ]
    }
   ],
   "source": [
    "x=5\n",
    "while True:\n",
    "    if x<4:\n",
    "        break\n",
    "    else:\n",
    "        print(x)\n",
    "    x-=1\n",
    "print('x =',x)"
   ]
  },
  {
   "cell_type": "markdown",
   "metadata": {},
   "source": [
    "**Nhập vào một số các số dương, nếu là số âm sẽ break thoát khỏi vòng lặp và tính tổng các số dương vừa nhập đó.**"
   ]
  },
  {
   "cell_type": "code",
   "execution_count": 15,
   "metadata": {},
   "outputs": [
    {
     "name": "stdout",
     "output_type": "stream",
     "text": [
      "4\n",
      "4\n",
      "-3\n",
      "Tổng các số dương vừa nhập: 8\n"
     ]
    }
   ],
   "source": [
    "entry = 0 \n",
    "Sum = 0 \n",
    "while True: \n",
    "    entry = int(input()) \n",
    "    if entry < 0: \n",
    "        break \n",
    "    Sum += entry\n",
    "print(\"Tổng các số dương vừa nhập:\", Sum)"
   ]
  },
  {
   "cell_type": "markdown",
   "metadata": {},
   "source": [
    "**Kiểm tra câu vừa nhập đếm có bao nhiêu nguyên âm a, e,i ,o khác ký tự x không phân biệt chữ hoa và chữ thường.**"
   ]
  },
  {
   "cell_type": "code",
   "execution_count": 16,
   "metadata": {},
   "outputs": [
    {
     "name": "stdout",
     "output_type": "stream",
     "text": [
      "Nhập vào một câu có ký tự khác(x/X): toixlaai\n",
      "o,i,\n",
      "Có 2 từ trong các nguyên âm a, e, i, o\n"
     ]
    }
   ],
   "source": [
    "word = input('Nhập vào một câu có ký tự khác(x/X): ')\n",
    "count = 0\n",
    "for c in word:\n",
    "    if c == 'A' or c == 'a' or c == 'E' or c == 'e' \\\n",
    "        or c == 'I' or c == 'i' or c == 'O' or c == 'o':\n",
    "        print(c,end=',') \n",
    "        count += 1 \n",
    "    elif c == 'X' or c =='x':\n",
    "        break\n",
    "print('\\nCó {} từ trong các nguyên âm a, e, i, o'.format(count))"
   ]
  },
  {
   "cell_type": "markdown",
   "metadata": {},
   "source": [
    "**Tính tổng các số dương vừa nhập, nếu nhập số âm sẽ được bỏ qua, và dừng chỉ khi số nhập là 999.**"
   ]
  },
  {
   "cell_type": "code",
   "execution_count": 17,
   "metadata": {},
   "outputs": [
    {
     "name": "stdout",
     "output_type": "stream",
     "text": [
      "Nhập vào một số dương(nhập 999 để thoát):4\n",
      "Kiểm tra giá trị 4\n",
      "Nhập vào một số dương(nhập 999 để thoát):5\n",
      "Kiểm tra giá trị 5\n",
      "Nhập vào một số dương(nhập 999 để thoát):999\n",
      "Tổng các số dương vừa nhập là: 9\n"
     ]
    }
   ],
   "source": [
    "Sum = 0\n",
    "done = False\n",
    "while not done:\n",
    "    val = int(input(\"Nhập vào một số dương(nhập 999 để thoát):\"))\n",
    "    if val < 0:\n",
    "        print(\"Giá trị là số âm\", val, \"bỏ qua\")\n",
    "        continue # Tới countine mà thoãi điều kiện đúng thì không chạy \n",
    "                 # mấy cái điều kiện phía dưới trở lại vòng lặp mới \n",
    "                 # khác với break là ở chổ này nghĩa là còn lặp tiếp\n",
    "                 # break sẽ thoát khỏi luôn\n",
    "    if val != 999:\n",
    "        print(\"Kiểm tra giá trị\", val)\n",
    "        Sum += val\n",
    "    else:\n",
    "        done = (val == 999) \n",
    "print(\"Tổng các số dương vừa nhập là:\", Sum)"
   ]
  },
  {
   "cell_type": "markdown",
   "metadata": {},
   "source": [
    "**Lệnh pass như là một placeholder rỗng**"
   ]
  },
  {
   "cell_type": "code",
   "execution_count": 18,
   "metadata": {},
   "outputs": [],
   "source": [
    "for i in range(6):\n",
    "    pass"
   ]
  },
  {
   "cell_type": "markdown",
   "metadata": {},
   "source": [
    "**Tính ước lớn nhất của y**"
   ]
  },
  {
   "cell_type": "code",
   "execution_count": 19,
   "metadata": {},
   "outputs": [
    {
     "name": "stdout",
     "output_type": "stream",
     "text": [
      "10 có ước lớn nhất là 5\n"
     ]
    }
   ],
   "source": [
    "y=10\n",
    "x=y//2\n",
    "while x>1:\n",
    "    if y%x==0:\n",
    "        print(y,\"có ước lớn nhất là\",x)\n",
    "        break\n",
    "    x-=1\n",
    "else:\n",
    "    print(\"is prime\")"
   ]
  },
  {
   "cell_type": "markdown",
   "metadata": {},
   "source": [
    "# 4.4 Một số ứng dụng của vòng lặp"
   ]
  },
  {
   "cell_type": "markdown",
   "metadata": {},
   "source": [
    "## Tìm căn bậc hai của số n\n",
    "\n",
    "Thông qua giải phương trình $x^2 = n$ \n",
    "\n",
    "Ta có $x^2 - n = delta $ \n",
    "\n",
    "Với delta rất nhỏ gần bằng 0 ta sẽ tìm được x dựa vào n và delta.\n",
    "\n",
    "Khi lập trình ta sẽ dùng truy hồi từ mệnh đề ban đầu x = 1 đến (x + n/x)/2 đến khi có delta thỏa mãn.  "
   ]
  },
  {
   "cell_type": "code",
   "execution_count": 20,
   "metadata": {},
   "outputs": [
    {
     "name": "stdout",
     "output_type": "stream",
     "text": [
      "Nhập giá trị n: 29\n",
      "1.0 bình phương là 1.0\n",
      "15.0 bình phương là 225.0\n",
      "8.466666666666667 bình phương là 71.68444444444445\n",
      "5.945931758530184 bình phương là 35.35410447709785\n",
      "5.411608061661137 bình phương là 29.285501813035808\n",
      "5.385229413227739 bình phương là 29.00069583309318\n",
      "Căn bậc 2 của 29.0 = 5.385164807522041\n"
     ]
    }
   ],
   "source": [
    "val = float(input('Nhập giá trị n: '))\n",
    "# Khởi tạo root bằng 1 \n",
    "root = 1.0\n",
    "# Tính sai số root^2 với value\n",
    "diff = root*root - val\n",
    "# Cho sai số thoãi điều kiện để dừng\n",
    "while diff > 0.00000001 or diff < -0.00000001:\n",
    "    print(root, 'bình phương là', root*root) \n",
    "    root = (root + val/root) / 2 \n",
    "    diff = root*root - val\n",
    "print('Căn bậc 2 của', val, '=', root)"
   ]
  },
  {
   "cell_type": "markdown",
   "metadata": {},
   "source": [
    "## Vẽ cây"
   ]
  },
  {
   "cell_type": "markdown",
   "metadata": {},
   "source": [
    "### Cây hình tam giác cân\n",
    "**Dùng while**"
   ]
  },
  {
   "cell_type": "code",
   "execution_count": 21,
   "metadata": {},
   "outputs": [
    {
     "name": "stdout",
     "output_type": "stream",
     "text": [
      "Nhập vào chiều cao cây: 6\n",
      "      *\n",
      "     ***\n",
      "    *****\n",
      "   *******\n",
      "  *********\n",
      " ***********\n"
     ]
    }
   ],
   "source": [
    "height = int(input('Nhập vào chiều cao cây: '))\n",
    "row = 0\n",
    "while row < height:\n",
    "    count = 0\n",
    "    while count < height - row:\n",
    "        print(end=' ')\n",
    "        count += 1\n",
    "\n",
    "    count = 0\n",
    "    while count < 2*row + 1:\n",
    "        print(end='*')\n",
    "        count += 1\n",
    "    print()\n",
    "    row += 1"
   ]
  },
  {
   "cell_type": "markdown",
   "metadata": {},
   "source": [
    "**Dùng for loop**"
   ]
  },
  {
   "cell_type": "code",
   "execution_count": 22,
   "metadata": {},
   "outputs": [
    {
     "name": "stdout",
     "output_type": "stream",
     "text": [
      "Nhập vào chiều cao cây: 6\n",
      "      *\n",
      "     ***\n",
      "    *****\n",
      "   *******\n",
      "  *********\n",
      " ***********\n"
     ]
    }
   ],
   "source": [
    "height = int(input('Nhập vào chiều cao cây: '))\n",
    "\n",
    "for row in range(height):\n",
    "    for count in range(height - row):\n",
    "        print(end=' ')\n",
    "    for count in range(2*row + 1):\n",
    "        print(end='*')\n",
    "    print()"
   ]
  },
  {
   "cell_type": "markdown",
   "metadata": {},
   "source": [
    "## In các số nguyên tố"
   ]
  },
  {
   "cell_type": "code",
   "execution_count": 23,
   "metadata": {},
   "outputs": [
    {
     "name": "stdout",
     "output_type": "stream",
     "text": [
      "Nhập vào một số:8\n",
      "Các số nguyên tố từ 1 đến 8 là: 2 3 5 7 \n"
     ]
    }
   ],
   "source": [
    "max_value = int(input('Nhập vào một số:'))\n",
    "value = 2 \n",
    "print(\"Các số nguyên tố từ 1 đến {} là: \".format(max_value),end='')\n",
    "while value <= max_value:\n",
    "    is_prime = True \n",
    "    trial_factor = 2\n",
    "    while trial_factor < value:\n",
    "        if value % trial_factor == 0:\n",
    "            is_prime = False \n",
    "            break \n",
    "        trial_factor += 1 \n",
    "    if is_prime:\n",
    "        print(value, end= ' ') \n",
    "    value += 1 \n",
    "print() "
   ]
  },
  {
   "cell_type": "markdown",
   "metadata": {},
   "source": [
    "## Nhập số thõa yêu cầu"
   ]
  },
  {
   "cell_type": "code",
   "execution_count": 24,
   "metadata": {},
   "outputs": [
    {
     "name": "stdout",
     "output_type": "stream",
     "text": [
      "Nhập số nguyên từ 0 đến 10: 8\n",
      "Đã lấy 1 một lần các số\n"
     ]
    }
   ],
   "source": [
    "in_value = 0 \n",
    "attempts = 0 \n",
    "\n",
    "while in_value < 1 or in_value > 10: # Điều kiện lặp True là các số ngoài vùng\n",
    "    in_value = int(input(\"Nhập số nguyên từ 0 đến 10: \"))\n",
    "    attempts += 1\n",
    "\n",
    "tries = \"một lần\" if attempts == 1 else \"nhiều lần\"\n",
    "print(\"Đã lấy\", attempts, tries, \"các số\")"
   ]
  },
  {
   "cell_type": "markdown",
   "metadata": {},
   "source": [
    "# 4.5 Bài tập Exercise"
   ]
  },
  {
   "cell_type": "markdown",
   "metadata": {},
   "source": [
    "## A. Lý thuyết chọn đáp án\n",
    "\n",
    "Câu 1: Cho câu lệnh lặp sau đây:\n",
    "```python\n",
    "s=0\n",
    "for i in range(12):\n",
    "    s=s+1\n",
    "```\n",
    "Lệnh lặp for thực hiện bao nhiêu vòng lặp:\n",
    "\n",
    "<div style=\"padding: 15px; border: 1px solid transparent; border-color: transparent; margin-bottom: 5px; border-radius: 2px; color:#1C1C1C; background-color:#D3D3D3; border-color: #BEBEBE;\">\n",
    "A. 10\n",
    "</div>\n",
    "\n",
    "<div style=\"padding: 15px; border: 1px solid transparent; border-color: transparent; margin-bottom: 5px; border-radius: 2px; color:#1C1C1C; background-color:#D3D3D3; border-color: #BEBEBE;\">\n",
    "B. 11\n",
    "</div>\n",
    "\n",
    "<div style=\"padding: 15px; border: 1px solid transparent; border-color: transparent; margin-bottom: 5px; border-radius: 2px; color:#1C1C1C; background-color:#D3D3D3; border-color: #BEBEBE;\">\n",
    "C. 12\n",
    "</div>\n",
    "\n",
    "<div style=\"padding: 15px; border: 1px solid transparent; border-color: transparent; margin-bottom: 5px; border-radius: 2px; color:#1C1C1C; background-color:#D3D3D3; border-color: #BEBEBE;\">\n",
    "D. 13\n",
    "</div>"
   ]
  },
  {
   "cell_type": "markdown",
   "metadata": {},
   "source": [
    "Câu 2: Tìm giá trị của t khi thực hiện các câu lệnh sau:\n",
    "\n",
    "```python\n",
    "t=5\n",
    "for k in range(9,2,-1):\n",
    "    t=t+k\n",
    "print(t)\n",
    "```\n",
    "\n",
    "<div style=\"padding: 15px; border: 1px solid transparent; border-color: transparent; margin-bottom: 5px; border-radius: 2px; color:#1C1C1C; background-color:#D3D3D3; border-color: #BEBEBE;\">\n",
    "A. 35\n",
    "</div>\n",
    "\n",
    "<div style=\"padding: 15px; border: 1px solid transparent; border-color: transparent; margin-bottom: 5px; border-radius: 2px; color:#1C1C1C; background-color:#D3D3D3; border-color: #BEBEBE;\">\n",
    "B. -35\n",
    "</div>\n",
    "\n",
    "<div style=\"padding: 15px; border: 1px solid transparent; border-color: transparent; margin-bottom: 5px; border-radius: 2px; color:#1C1C1C; background-color:#D3D3D3; border-color: #BEBEBE;\">\n",
    "C. -47\n",
    "</div>\n",
    "\n",
    "<div style=\"padding: 15px; border: 1px solid transparent; border-color: transparent; margin-bottom: 5px; border-radius: 2px; color:#1C1C1C; background-color:#D3D3D3; border-color: #BEBEBE;\">\n",
    "D. 47\n",
    "</div>"
   ]
  },
  {
   "cell_type": "markdown",
   "metadata": {},
   "source": [
    "Câu 3: Ý nghĩa của đoạn mã dưới đây?\n",
    "\n",
    "```python\n",
    "d=0\n",
    "for i in range(1,100):\n",
    "    if i%3==0:\n",
    "        d+=1\n",
    "print(d)\n",
    "```\n",
    "\n",
    "<div style=\"padding: 15px; border: 1px solid transparent; border-color: transparent; margin-bottom: 5px; border-radius: 2px; color:#1C1C1C; background-color:#D3D3D3; border-color: #BEBEBE;\">\n",
    "A. Tổng các số lẻ từ 1 đến 100\n",
    "</div>\n",
    "\n",
    "<div style=\"padding: 15px; border: 1px solid transparent; border-color: transparent; margin-bottom: 5px; border-radius: 2px; color:#1C1C1C; background-color:#D3D3D3; border-color: #BEBEBE;\">\n",
    "B. Tổng các số chia hết cho 3 từ 1 đến 99\n",
    "</div>\n",
    "\n",
    "<div style=\"padding: 15px; border: 1px solid transparent; border-color: transparent; margin-bottom: 5px; border-radius: 2px; color:#1C1C1C; background-color:#D3D3D3; border-color: #BEBEBE;\">\n",
    "C. Số các số chia hết cho 3 từ 1 đến 99\n",
    "</div>\n",
    "\n",
    "<div style=\"padding: 15px; border: 1px solid transparent; border-color: transparent; margin-bottom: 5px; border-radius: 2px; color:#1C1C1C; background-color:#D3D3D3; border-color: #BEBEBE;\">\n",
    "D. Số các số là số lẻ từ 1 đến 100\n",
    "</div>"
   ]
  },
  {
   "cell_type": "markdown",
   "metadata": {},
   "source": [
    "Câu 4: Hãy cho biết kết quả của chương trình sau?\n",
    "\n",
    "```python\n",
    "a=4\n",
    "while a<19:\n",
    "    for i in range(1,9,3):\n",
    "        a+=i\n",
    "print(a)\n",
    "```\n",
    "<div style=\"padding: 15px; border: 1px solid transparent; border-color: transparent; margin-bottom: 5px; border-radius: 2px; color:#1C1C1C; background-color:#D3D3D3; border-color: #BEBEBE;\">\n",
    "A. 19\n",
    "</div>\n",
    "\n",
    "<div style=\"padding: 15px; border: 1px solid transparent; border-color: transparent; margin-bottom: 5px; border-radius: 2px; color:#1C1C1C; background-color:#D3D3D3; border-color: #BEBEBE;\">\n",
    "B. 28\n",
    "</div>\n",
    "\n",
    "<div style=\"padding: 15px; border: 1px solid transparent; border-color: transparent; margin-bottom: 5px; border-radius: 2px; color:#1C1C1C; background-color:#D3D3D3; border-color: #BEBEBE;\">\n",
    "C. 18\n",
    "</div>\n",
    "\n",
    "<div style=\"padding: 15px; border: 1px solid transparent; border-color: transparent; margin-bottom: 5px; border-radius: 2px; color:#1C1C1C; background-color:#D3D3D3; border-color: #BEBEBE;\">\n",
    "D. 22\n",
    "</div>"
   ]
  },
  {
   "cell_type": "markdown",
   "metadata": {},
   "source": [
    "Câu 5: Kết quả của đoạn code sau đây là:\n",
    "\n",
    "```python\n",
    "for i in range(5):\n",
    "    if i==3:\n",
    "        break\n",
    "    else:\n",
    "        print(i,end=' ')\n",
    "```\n",
    "<div style=\"padding: 15px; border: 1px solid transparent; border-color: transparent; margin-bottom: 5px; border-radius: 2px; color:#1C1C1C; background-color:#D3D3D3; border-color: #BEBEBE;\">\n",
    "A. 0 1 2\n",
    "</div>\n",
    "\n",
    "<div style=\"padding: 15px; border: 1px solid transparent; border-color: transparent; margin-bottom: 5px; border-radius: 2px; color:#1C1C1C; background-color:#D3D3D3; border-color: #BEBEBE;\">\n",
    "B. 3 4 5\n",
    "</div>\n",
    "\n",
    "<div style=\"padding: 15px; border: 1px solid transparent; border-color: transparent; margin-bottom: 5px; border-radius: 2px; color:#1C1C1C; background-color:#D3D3D3; border-color: #BEBEBE;\">\n",
    "C. 012\n",
    "</div>\n",
    "\n",
    "<div style=\"padding: 15px; border: 1px solid transparent; border-color: transparent; margin-bottom: 5px; border-radius: 2px; color:#1C1C1C; background-color:#D3D3D3; border-color: #BEBEBE;\">\n",
    "D. 345\n",
    "</div>"
   ]
  },
  {
   "cell_type": "markdown",
   "metadata": {},
   "source": [
    "Câu 6: Cho đoạn code sau đây kết quả khi thực hiện xong các câu lệnh?\n",
    "\n",
    "```python\n",
    "t=0\n",
    "i=0\n",
    "while i<10:\n",
    "    t=t+i\n",
    "print(t)\n",
    "```\n",
    "<div style=\"padding: 15px; border: 1px solid transparent; border-color: transparent; margin-bottom: 5px; border-radius: 2px; color:#1C1C1C; background-color:#D3D3D3; border-color: #BEBEBE;\">\n",
    "A. 10\n",
    "</div>\n",
    "\n",
    "<div style=\"padding: 15px; border: 1px solid transparent; border-color: transparent; margin-bottom: 5px; border-radius: 2px; color:#1C1C1C; background-color:#D3D3D3; border-color: #BEBEBE;\">\n",
    "B. 45\n",
    "</div>\n",
    "\n",
    "<div style=\"padding: 15px; border: 1px solid transparent; border-color: transparent; margin-bottom: 5px; border-radius: 2px; color:#1C1C1C; background-color:#D3D3D3; border-color: #BEBEBE;\">\n",
    "C. 30\n",
    "</div>\n",
    "\n",
    "<div style=\"padding: 15px; border: 1px solid transparent; border-color: transparent; margin-bottom: 5px; border-radius: 2px; color:#1C1C1C; background-color:#D3D3D3; border-color: #BEBEBE;\">\n",
    "D. 15\n",
    "</div>"
   ]
  },
  {
   "cell_type": "markdown",
   "metadata": {},
   "source": [
    "Câu 7: Hãy cho biết hàm while lặp bao nhiêu lần?\n",
    "\n",
    "```python\n",
    "n=5\n",
    "while n<=9:\n",
    "    n=n+1\n",
    "```\n",
    "<div style=\"padding: 15px; border: 1px solid transparent; border-color: transparent; margin-bottom: 5px; border-radius: 2px; color:#1C1C1C; background-color:#D3D3D3; border-color: #BEBEBE;\">\n",
    "A. 3 lần\n",
    "</div>\n",
    "\n",
    "<div style=\"padding: 15px; border: 1px solid transparent; border-color: transparent; margin-bottom: 5px; border-radius: 2px; color:#1C1C1C; background-color:#D3D3D3; border-color: #BEBEBE;\">\n",
    "B. 9 lần\n",
    "</div>\n",
    "\n",
    "<div style=\"padding: 15px; border: 1px solid transparent; border-color: transparent; margin-bottom: 5px; border-radius: 2px; color:#1C1C1C; background-color:#D3D3D3; border-color: #BEBEBE;\">\n",
    "C. 10 lần\n",
    "</div>\n",
    "\n",
    "<div style=\"padding: 15px; border: 1px solid transparent; border-color: transparent; margin-bottom: 5px; border-radius: 2px; color:#1C1C1C; background-color:#D3D3D3; border-color: #BEBEBE;\">\n",
    "D. 5 lần\n",
    "</div>"
   ]
  },
  {
   "cell_type": "markdown",
   "metadata": {},
   "source": [
    "Câu 8: Hãy cho biết kết quả của đoạn chương trình?\n",
    "\n",
    "```python\n",
    "n=6\n",
    "m=3\n",
    "step=-1\n",
    "for i in range(n+1,m,step):\n",
    "    a=m+n\n",
    "print(a)\n",
    "```\n",
    "<div style=\"padding: 15px; border: 1px solid transparent; border-color: transparent; margin-bottom: 5px; border-radius: 2px; color:#1C1C1C; background-color:#D3D3D3; border-color: #BEBEBE;\">\n",
    "A. 9\n",
    "</div>\n",
    "\n",
    "<div style=\"padding: 15px; border: 1px solid transparent; border-color: transparent; margin-bottom: 5px; border-radius: 2px; color:#1C1C1C; background-color:#D3D3D3; border-color: #BEBEBE;\">\n",
    "B. 10\n",
    "</div>\n",
    "\n",
    "<div style=\"padding: 15px; border: 1px solid transparent; border-color: transparent; margin-bottom: 5px; border-radius: 2px; color:#1C1C1C; background-color:#D3D3D3; border-color: #BEBEBE;\">\n",
    "C. -9\n",
    "</div>\n",
    "\n",
    "<div style=\"padding: 15px; border: 1px solid transparent; border-color: transparent; margin-bottom: 5px; border-radius: 2px; color:#1C1C1C; background-color:#D3D3D3; border-color: #BEBEBE;\">\n",
    "D. -10\n",
    "</div>"
   ]
  },
  {
   "cell_type": "markdown",
   "metadata": {},
   "source": [
    "Câu 9: Đoạn code sẽ có kết quả là:\n",
    "\n",
    "```python\n",
    "state=0\n",
    "over=True\n",
    "while over:\n",
    "    if state>6:\n",
    "        break\n",
    "    else:\n",
    "        print('Survival')\n",
    "        state+=1\n",
    "```\n",
    "<div style=\"padding: 15px; border: 1px solid transparent; border-color: transparent; margin-bottom: 5px; border-radius: 2px; color:#1C1C1C; background-color:#D3D3D3; border-color: #BEBEBE;\">\n",
    "A. 5 chữ Survival\n",
    "</div>\n",
    "\n",
    "<div style=\"padding: 15px; border: 1px solid transparent; border-color: transparent; margin-bottom: 5px; border-radius: 2px; color:#1C1C1C; background-color:#D3D3D3; border-color: #BEBEBE;\">\n",
    "B. 6 chữ Survival\n",
    "</div>\n",
    "\n",
    "<div style=\"padding: 15px; border: 1px solid transparent; border-color: transparent; margin-bottom: 5px; border-radius: 2px; color:#1C1C1C; background-color:#D3D3D3; border-color: #BEBEBE;\">\n",
    "C. 7 chữ Survival\n",
    "</div>\n",
    "\n",
    "<div style=\"padding: 15px; border: 1px solid transparent; border-color: transparent; margin-bottom: 5px; border-radius: 2px; color:#1C1C1C; background-color:#D3D3D3; border-color: #BEBEBE;\">\n",
    "D. Vô tận chữ Survival\n",
    "</div>"
   ]
  },
  {
   "cell_type": "markdown",
   "metadata": {},
   "source": [
    "Câu 10: Kết quả của đoạn chương trình là:\n",
    "\n",
    "```python\n",
    "value=0\n",
    "while value<8:\n",
    "    value+=1\n",
    "    if value%2==0:\n",
    "        continue\n",
    "    print(value,end='')\n",
    "```\n",
    "<div style=\"padding: 15px; border: 1px solid transparent; border-color: transparent; margin-bottom: 5px; border-radius: 2px; color:#1C1C1C; background-color:#D3D3D3; border-color: #BEBEBE;\">\n",
    "A. 0246\n",
    "</div>\n",
    "\n",
    "<div style=\"padding: 15px; border: 1px solid transparent; border-color: transparent; margin-bottom: 5px; border-radius: 2px; color:#1C1C1C; background-color:#D3D3D3; border-color: #BEBEBE;\">\n",
    "B. 1357\n",
    "</div>\n",
    "\n",
    "<div style=\"padding: 15px; border: 1px solid transparent; border-color: transparent; margin-bottom: 5px; border-radius: 2px; color:#1C1C1C; background-color:#D3D3D3; border-color: #BEBEBE;\">\n",
    "C. 6420\n",
    "</div>\n",
    "\n",
    "<div style=\"padding: 15px; border: 1px solid transparent; border-color: transparent; margin-bottom: 5px; border-radius: 2px; color:#1C1C1C; background-color:#D3D3D3; border-color: #BEBEBE;\">\n",
    "D. 7531\n",
    "</div>\n"
   ]
  },
  {
   "cell_type": "markdown",
   "metadata": {},
   "source": [
    "---\n",
    "## B. Rèn luyện viết mã code"
   ]
  },
  {
   "cell_type": "markdown",
   "metadata": {},
   "source": [
    "Câu 11: Viết chương trình tính tổng 1 + 2 +...+ 100.\n"
   ]
  },
  {
   "cell_type": "markdown",
   "metadata": {},
   "source": [
    "Câu 12: Viết chương trình tính tổng các số lẻ từ 1 đến n."
   ]
  },
  {
   "cell_type": "markdown",
   "metadata": {},
   "source": [
    "Câu 13: Tính tổng từ $1 + 2^2 + 3^2 + ....+ n^2 $."
   ]
  },
  {
   "cell_type": "markdown",
   "metadata": {},
   "source": [
    "Câu 14: Viết chương trình kiểm tra số n có phải là số nguyên tố hay không?"
   ]
  },
  {
   "cell_type": "markdown",
   "metadata": {},
   "source": [
    "Câu 15: Viết chương trình đếm số nguyên tố từ 1 đến n."
   ]
  },
  {
   "cell_type": "markdown",
   "metadata": {},
   "source": [
    "---\n",
    "# <span style= 'color:blue'> Đáp án </span> "
   ]
  },
  {
   "cell_type": "markdown",
   "metadata": {},
   "source": [
    "<div style=\"padding: 15px; border: 1px solid transparent; border-color: transparent; margin-bottom: 5px; border-radius: 2px; color: #3c763d; background-color: #dff0d8; border-color: #d6e9c6;\">\n",
    "1.C\n",
    "</div>\n",
    "\n",
    "<div style=\"padding: 15px; border: 1px solid transparent; border-color: transparent; margin-bottom: 5px; border-radius: 2px; color: #3c763d; background-color: #dff0d8; border-color: #d6e9c6;\">\n",
    "2.D\n",
    "</div>\n",
    "\n",
    "<div style=\"padding: 15px; border: 1px solid transparent; border-color: transparent; margin-bottom: 5px; border-radius: 2px; color: #3c763d; background-color: #dff0d8; border-color: #d6e9c6;\">\n",
    "3.C\n",
    "</div>\n",
    "\n",
    "<div style=\"padding: 15px; border: 1px solid transparent; border-color: transparent; margin-bottom: 5px; border-radius: 2px; color: #3c763d; background-color: #dff0d8; border-color: #d6e9c6;\">\n",
    "4.B\n",
    "</div>\n",
    "\n",
    "<div style=\"padding: 15px; border: 1px solid transparent; border-color: transparent; margin-bottom: 5px; border-radius: 2px; color: #3c763d; background-color: #dff0d8; border-color: #d6e9c6;\">\n",
    "5.A\n",
    "</div>\n",
    "\n",
    "<div style=\"padding: 15px; border: 1px solid transparent; border-color: transparent; margin-bottom: 5px; border-radius: 2px; color: #3c763d; background-color: #dff0d8; border-color: #d6e9c6;\">\n",
    "6.B\n",
    "</div>\n",
    "\n",
    "<div style=\"padding: 15px; border: 1px solid transparent; border-color: transparent; margin-bottom: 5px; border-radius: 2px; color: #3c763d; background-color: #dff0d8; border-color: #d6e9c6;\">\n",
    "7.D\n",
    "</div>\n",
    "\n",
    "<div style=\"padding: 15px; border: 1px solid transparent; border-color: transparent; margin-bottom: 5px; border-radius: 2px; color: #3c763d; background-color: #dff0d8; border-color: #d6e9c6;\">\n",
    "8.A\n",
    "</div>\n",
    "\n",
    "<div style=\"padding: 15px; border: 1px solid transparent; border-color: transparent; margin-bottom: 5px; border-radius: 2px; color: #3c763d; background-color: #dff0d8; border-color: #d6e9c6;\">\n",
    "9.C\n",
    "</div>\n",
    "\n",
    "<div style=\"padding: 15px; border: 1px solid transparent; border-color: transparent; margin-bottom: 5px; border-radius: 2px; color: #3c763d; background-color: #dff0d8; border-color: #d6e9c6;\">\n",
    "10.B\n",
    "</div>"
   ]
  },
  {
   "cell_type": "code",
   "execution_count": 25,
   "metadata": {},
   "outputs": [
    {
     "name": "stdout",
     "output_type": "stream",
     "text": [
      "5050\n"
     ]
    }
   ],
   "source": [
    "#11\n",
    "s=0\n",
    "for i in range(1,101):\n",
    "    s=s+i\n",
    "print(s)"
   ]
  },
  {
   "cell_type": "code",
   "execution_count": 27,
   "metadata": {},
   "outputs": [
    {
     "name": "stdout",
     "output_type": "stream",
     "text": [
      "Nhập n =50\n",
      "Tổng các số lẻ từ 1 đến n là 625\n"
     ]
    }
   ],
   "source": [
    "#12\n",
    "n=int(input('Nhập n ='))\n",
    "s=0\n",
    "for i in range(1,n+1):\n",
    "    if i%2!=0:\n",
    "        s+=i\n",
    "print('Tổng các số lẻ từ 1 đến n là',s)"
   ]
  },
  {
   "cell_type": "code",
   "execution_count": 28,
   "metadata": {},
   "outputs": [
    {
     "name": "stdout",
     "output_type": "stream",
     "text": [
      "Nhập n=19\n",
      "2470\n"
     ]
    }
   ],
   "source": [
    "#13\n",
    "n=int(input('Nhập n='))\n",
    "s=0\n",
    "for i in range(1,n+1):\n",
    "    s+=i**2\n",
    "print(s)"
   ]
  },
  {
   "cell_type": "code",
   "execution_count": 29,
   "metadata": {},
   "outputs": [
    {
     "name": "stdout",
     "output_type": "stream",
     "text": [
      "Nhập n=19\n",
      "19 là số nguyên tố\n"
     ]
    }
   ],
   "source": [
    "#14\n",
    "n=int(input('Nhập n='))\n",
    "d=0\n",
    "for i in range(1,n+1):\n",
    "    if n%i==0:\n",
    "        d+=1\n",
    "if d==2:\n",
    "    print(str(n)+' là số nguyên tố')\n",
    "else:\n",
    "    print(str(n)+' không là số nguyên tố')"
   ]
  },
  {
   "cell_type": "code",
   "execution_count": 30,
   "metadata": {},
   "outputs": [
    {
     "name": "stdout",
     "output_type": "stream",
     "text": [
      "Nhập n=30\n",
      "Số các số số các số nguyên tố từ 1 đến 30 là 10\n"
     ]
    }
   ],
   "source": [
    "#15\n",
    "n=int(input('Nhập n='))\n",
    "count=0\n",
    "i=2\n",
    "while(i<=n):\n",
    "    test=1\n",
    "    if i!=0 and i!=1:\n",
    "        j=2\n",
    "        while(j<=i/2):\n",
    "            if i%j==0:\n",
    "                test=0\n",
    "                break\n",
    "            j+=1\n",
    "    else:\n",
    "        test=0\n",
    "    if test==1:\n",
    "        count+=1\n",
    "    i+=1\n",
    "print('Số các số số các số nguyên tố từ 1 đến ' +str(n)+' là',count)"
   ]
  },
  {
   "cell_type": "code",
   "execution_count": null,
   "metadata": {},
   "outputs": [],
   "source": []
  }
 ],
 "metadata": {
  "kernelspec": {
   "display_name": "Python 3",
   "language": "python",
   "name": "python3"
  },
  "language_info": {
   "codemirror_mode": {
    "name": "ipython",
    "version": 3
   },
   "file_extension": ".py",
   "mimetype": "text/x-python",
   "name": "python",
   "nbconvert_exporter": "python",
   "pygments_lexer": "ipython3",
   "version": "3.7.0"
  }
 },
 "nbformat": 4,
 "nbformat_minor": 2
}
