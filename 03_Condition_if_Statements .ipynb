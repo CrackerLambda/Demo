{
 "cells": [
  {
   "cell_type": "markdown",
   "metadata": {},
   "source": [
    "**Lưu ý:** *Bạn có thể xem trực tiếp trên github, tải xuống, nếu bạn muốn chạy thử hãy truy cập vào google colab nó cung cấp cho bạn thư viện có sẵn và chạy bằng GPU.*\n",
    "\n",
    "[![Open In Colab](https://colab.research.google.com/assets/colab-badge.svg)](https://colab.research.google.com/github/CrackerLambda/PythonBasics/blob/master/03_Condition_if_Statements.ipynb)"
   ]
  },
  {
   "cell_type": "markdown",
   "metadata": {},
   "source": [
    "# 3.1 Cấu trúc lệnh if đơn giản\n",
    "Câu lệnh rẽ nhánh if là một trong những lệnh được dùng nhiều nhất trong ngôn ngữ lập trình. \n",
    "\n",
    "Ví dụ sau đây ta sẽ hiểu rõ ý nghĩa thực tế của câu lệnh.\n",
    "\n",
    "Nếu ngày mai mưa tôi sẽ ở nhà.\n",
    "\n",
    "**Cú pháp lệnh if:**\n",
    "```\n",
    "if <điều kiện> :\n",
    "  \n",
    "   <câu lệnh>\n",
    "```   \n",
    "Lưu ý rằng khối lệnh trong if sẽ được thụt lề.\n",
    "\n",
    "**Lưu đồ giải thuật của if:**\n",
    "\n",
    "<img align=\"left\" width=\"300\" height=\"300\" src=\"images/Statement_if.jpg\">\n"
   ]
  },
  {
   "cell_type": "markdown",
   "metadata": {},
   "source": [
    "Trong biểu thức điều kiện có thể là toán tử so sánh, toán tử logic, toán tử in, ....để mô tả điều kiện, nếu kết quả các phép toán này là True thì các khối lệnh nằm trong if sẽ được thực hiện."
   ]
  },
  {
   "cell_type": "markdown",
   "metadata": {},
   "source": [
    "**Kiểm tra số a nhập từ bàn phím nhỏ hay lớn hơn 10.**"
   ]
  },
  {
   "cell_type": "code",
   "execution_count": 1,
   "metadata": {},
   "outputs": [
    {
     "name": "stdout",
     "output_type": "stream",
     "text": [
      "Nhập vào số nguyên 3\n",
      "Đây là số nhỏ hơn 10\n"
     ]
    }
   ],
   "source": [
    "a=int(input('Nhập vào số nguyên '))\n",
    "if a<10:\n",
    "    print('Đây là số nhỏ hơn 10')"
   ]
  },
  {
   "cell_type": "markdown",
   "metadata": {},
   "source": [
    "## Điều kiện lồng nhau (nested if)"
   ]
  },
  {
   "cell_type": "markdown",
   "metadata": {},
   "source": [
    "**Kiểm tra value nhập từ bàn phím có nằm trong khoảng từ 0 đến 10**"
   ]
  },
  {
   "cell_type": "code",
   "execution_count": 2,
   "metadata": {},
   "outputs": [
    {
     "name": "stdout",
     "output_type": "stream",
     "text": [
      "Nhập số trong khoảng từ 0 đến 10: 6\n",
      "Giá trị vừa nhập đúng\n",
      "Kết thúc điều kiện\n"
     ]
    }
   ],
   "source": [
    "value = int(input(\"Nhập số trong khoảng từ 0 đến 10: \"))\n",
    "if value >= 0 and value <= 10: \n",
    "    print(\"Giá trị vừa nhập đúng\")\n",
    "print(\"Kết thúc điều kiện\")"
   ]
  },
  {
   "cell_type": "markdown",
   "metadata": {},
   "source": [
    "Có thể thay thế bằng."
   ]
  },
  {
   "cell_type": "code",
   "execution_count": 3,
   "metadata": {},
   "outputs": [
    {
     "name": "stdout",
     "output_type": "stream",
     "text": [
      "Nhập số trong khoảng từ 0 đến 10: 8\n",
      "Giá trị vừa nhập đúng\n",
      "Kết thúc điều kiện\n"
     ]
    }
   ],
   "source": [
    "value = int(input(\"Nhập số trong khoảng từ 0 đến 10: \"))\n",
    "if value >= 0: \n",
    "    if value <= 10: # Nested\n",
    "        print(\"Giá trị vừa nhập đúng\")\n",
    "print(\"Kết thúc điều kiện\")"
   ]
  },
  {
   "cell_type": "markdown",
   "metadata": {},
   "source": [
    "# 3.2 Cấu trúc lệnh if...else\n",
    "\n",
    "Chương trình sẽ kiểm tra điều kiện của if nếu đúng thì sẽ thực hiện các điều kiện trong if, còn nếu sai thì sẽ thực hiện hành động của lệnh else.\n",
    "\n",
    "**Cú pháp:**\n",
    "```\n",
    "if  <điều kiện> :\n",
    "       \n",
    "    <câu lệnh>\n",
    "\n",
    "else:\n",
    "    <câu lệnh của nhóm else>\n",
    "```\n",
    "**Lưu đồ giải thuật của if-else:**\n",
    "\n",
    "<img align=\"left\" width=\"300\" height=\"300\" src=\"images/Statement_if_else.jpg\">"
   ]
  },
  {
   "cell_type": "markdown",
   "metadata": {},
   "source": [
    "**Kiểm tra vị trí số a trên trục số so với số 10**"
   ]
  },
  {
   "cell_type": "code",
   "execution_count": 4,
   "metadata": {},
   "outputs": [
    {
     "name": "stdout",
     "output_type": "stream",
     "text": [
      "5 là số nhỏ hơn 10\n"
     ]
    }
   ],
   "source": [
    "a=5\n",
    "if a>10:\n",
    "    print(a,'là số lớn hơn 10')\n",
    "else:\n",
    "    print(a,'là số nhỏ hơn 10')"
   ]
  },
  {
   "cell_type": "markdown",
   "metadata": {},
   "source": [
    "**Kiểm tra 2 số m và n có bằng nhau hay khác nhau**"
   ]
  },
  {
   "cell_type": "code",
   "execution_count": 5,
   "metadata": {},
   "outputs": [
    {
     "name": "stdout",
     "output_type": "stream",
     "text": [
      "3 và 3 là hai số bằng nhau\n"
     ]
    }
   ],
   "source": [
    "m=3\n",
    "n=3\n",
    "if m==n:\n",
    "    print('{0} và {1} là hai số bằng nhau'.format(m,n))\n",
    "else:\n",
    "    print('{0} và {1} là hai số khác nhau'.format(m,n))"
   ]
  },
  {
   "cell_type": "markdown",
   "metadata": {},
   "source": [
    "**Kiểm tra năm n phải là năm nhuận không**"
   ]
  },
  {
   "cell_type": "code",
   "execution_count": 6,
   "metadata": {},
   "outputs": [
    {
     "name": "stdout",
     "output_type": "stream",
     "text": [
      "Nhập năm:2022\n",
      "Số ngày của năm 2022là 365\n"
     ]
    }
   ],
   "source": [
    "n=int(input(\"Nhập năm:\"))\n",
    "if (n%400==0) or  ((n%4)==0 and (n%100!=0)):\n",
    "    print(\"Số ngày của năm \"+str(n)+\"là 366\")\n",
    "else:\n",
    "    print(\"Số ngày của năm \"+str(n)+\"là 365\")"
   ]
  },
  {
   "cell_type": "markdown",
   "metadata": {},
   "source": [
    "## Lồng nhau if else"
   ]
  },
  {
   "cell_type": "markdown",
   "metadata": {},
   "source": [
    "**Kiểm tra một số có nằm trong khoảng từ 1 đến 10**"
   ]
  },
  {
   "cell_type": "code",
   "execution_count": 7,
   "metadata": {},
   "outputs": [
    {
     "name": "stdout",
     "output_type": "stream",
     "text": [
      "Nhập giá trị trong khoảng từ 1 đến 10:11\n",
      "Giá trị 11 vừa nhập lớn hơn 10\n",
      "Kết thúc điều kiện\n"
     ]
    }
   ],
   "source": [
    "value = int(input(\"Nhập giá trị trong khoảng từ 1 đến 10:\"))\n",
    "if value >= 0: \n",
    "    if value <= 10: \n",
    "        print(\"Giá trị {} vừa nhập đúng\".format(value))\n",
    "    else:\n",
    "        print(\"Giá trị {} vừa nhập lớn hơn 10\".format(value))\n",
    "else:\n",
    "    print(\"Giá trị {} vừa nhập nhỏ hơn 0\".format(value))\n",
    "print(\"Kết thúc điều kiện\")"
   ]
  },
  {
   "cell_type": "markdown",
   "metadata": {},
   "source": [
    "**Tách số nguyên(10 bit) thành số nhị phân bằng cách cộng chuỗi**"
   ]
  },
  {
   "cell_type": "code",
   "execution_count": 8,
   "metadata": {},
   "outputs": [
    {
     "name": "stdout",
     "output_type": "stream",
     "text": [
      "Nhập số nguyên từ  0 đến 1023: 293\n",
      "chuyển thành 10 bit 0100100101\n"
     ]
    }
   ],
   "source": [
    "value = int(input(\"Nhập số nguyên từ  0 đến 1023: \"))\n",
    "binary_string = ''\n",
    "\n",
    "if 0 <= value < 1024:\n",
    "    if value >= 512:\n",
    "        binary_string += '1'\n",
    "        value %= 512\n",
    "    else:\n",
    "        binary_string += '0'\n",
    "    if value >= 256:\n",
    "        binary_string += '1'\n",
    "        value %= 256\n",
    "    else:\n",
    "        binary_string += '0'\n",
    "    if value >= 128:\n",
    "        binary_string += '1'\n",
    "        value %= 128\n",
    "    else:\n",
    "        binary_string += '0'\n",
    "    if value >= 64:\n",
    "        binary_string += '1'\n",
    "        value %= 64\n",
    "    else:\n",
    "        binary_string += '0'\n",
    "    if value >= 32:\n",
    "        binary_string += '1'\n",
    "        value %= 32\n",
    "    else:\n",
    "        binary_string += '0'\n",
    "    if value >= 16:\n",
    "        binary_string += '1'\n",
    "        value %= 16\n",
    "    else:\n",
    "        binary_string += '0'\n",
    "    if value >= 8:\n",
    "        binary_string += '1'\n",
    "        value %= 8\n",
    "    else:\n",
    "        binary_string += '0'\n",
    "    if value >= 4:\n",
    "        binary_string += '1'\n",
    "        value %= 4\n",
    "    else:\n",
    "        binary_string += '0'\n",
    "    if value >= 2:\n",
    "        binary_string += '1'\n",
    "        value %= 2\n",
    "    else:\n",
    "        binary_string += '0'\n",
    "        binary_string += str(value)\n",
    "        \n",
    "if binary_string != '':\n",
    "    print(\"chuyển thành 10 bit\",binary_string)\n",
    "else:\n",
    "    print('Bạn nhập sai')"
   ]
  },
  {
   "cell_type": "markdown",
   "metadata": {},
   "source": [
    "# 3.3 Cấu trúc rẽ nhánh đầy đủ lệnh if - elif - else\n",
    "\n",
    "Đây có thể xem là một cấu trúc lệnh rẽ nhánh đầy đủ, có thể rẽ được nhiều nhánh.\n",
    "\n",
    "Cú pháp:\n",
    "\n",
    "**if** &nbsp;&nbsp;&nbsp;`<điều kiện 1>`**:**\n",
    "\n",
    "&nbsp;&nbsp;&nbsp;&nbsp;&nbsp;&nbsp;`<câu lệnh 1>`\n",
    "\n",
    "**elif** `<điều kiện 2>`**:**\n",
    "\n",
    "&nbsp;&nbsp;&nbsp;&nbsp;&nbsp;&nbsp;`<câu lệnh 2>`\n",
    "\n",
    "**elif**  &nbsp;&nbsp;&nbsp;&nbsp;&nbsp;&nbsp;**. . .**\n",
    "\n",
    "**else** **:**\n",
    "\n",
    "&nbsp;&nbsp;&nbsp;&nbsp;&nbsp;&nbsp;`<câu lệnh N>`\n",
    "\n",
    "**Lưu đồ giải thuật của if-elif-else:**\n",
    "\n",
    "<img align=\"left\" width=\"500\" height=\"500\" src=\"images/Statement_if_elif.jpg\">"
   ]
  },
  {
   "cell_type": "markdown",
   "metadata": {},
   "source": [
    "**Kiểm tra vị trí số k trên trục số như thế nào với số 6**"
   ]
  },
  {
   "cell_type": "code",
   "execution_count": 9,
   "metadata": {},
   "outputs": [
    {
     "name": "stdout",
     "output_type": "stream",
     "text": [
      "-1 là số âm\n"
     ]
    }
   ],
   "source": [
    "k=-1\n",
    "if k==6:\n",
    "    print(k,'là một số bằng 6')\n",
    "elif k>6:\n",
    "    print(k,'là một số lớn hơn 6')\n",
    "elif 0<k<6:\n",
    "    print(k,'là một số nhỏ hơn 6')\n",
    "else:\n",
    "    print(k,'là số âm')"
   ]
  },
  {
   "cell_type": "markdown",
   "metadata": {},
   "source": [
    "**Kiểm tra học lực của học sinh dựa vào điểm số**"
   ]
  },
  {
   "cell_type": "code",
   "execution_count": 10,
   "metadata": {},
   "outputs": [
    {
     "name": "stdout",
     "output_type": "stream",
     "text": [
      "Nhập số điểm của bạn 8.5\n",
      "Bạn là học sinh giỏi\n"
     ]
    }
   ],
   "source": [
    "q=float(input(\"Nhập số điểm của bạn \"))\n",
    "if q>10:\n",
    "    print('Bạn đã nhập sai')\n",
    "else:\n",
    "    if 0<= q <=3:\n",
    "        print('Bạn là học sinh kém')\n",
    "    elif 3<q<7:\n",
    "        print('Bạn là học sinh trung bình')\n",
    "    elif 7<= q <8:\n",
    "        print('Bạn là học sinh khá')\n",
    "    else:\n",
    "        print('Bạn là học sinh giỏi')"
   ]
  },
  {
   "cell_type": "markdown",
   "metadata": {},
   "source": [
    "**Tìm số lớn nhất trong 4 số**"
   ]
  },
  {
   "cell_type": "code",
   "execution_count": 11,
   "metadata": {},
   "outputs": [
    {
     "name": "stdout",
     "output_type": "stream",
     "text": [
      "Nhập số thứ 1: 3\n",
      "Nhập số thứ 2: 4\n",
      "Nhập số thứ 3: 2\n",
      "Nhập số thứ 4: 4\n",
      "Giá trị lớn nhất trong các số là: 4\n"
     ]
    }
   ],
   "source": [
    "num1 = int(input(\"Nhập số thứ 1: \"))\n",
    "num2 = int(input(\"Nhập số thứ 2: \"))\n",
    "num3 = int(input(\"Nhập số thứ 3: \"))\n",
    "num4 = int(input(\"Nhập số thứ 4: \"))\n",
    "\n",
    "if num1 >= num2 and num1 >= num3 and num1 >= num4:\n",
    "    Max = num1\n",
    "elif num2 >= num1 and num2 >= num3 and num2 >= num4:\n",
    "    Max = num2\n",
    "elif num3 >= num1 and num3 >= num2 and num3 >= num4:\n",
    "    Max = num3\n",
    "else:\n",
    "    Max = num4\n",
    "print(\"Giá trị lớn nhất trong các số là:\", Max)"
   ]
  },
  {
   "cell_type": "markdown",
   "metadata": {},
   "source": [
    "## 3.4 Biểu thức điều kiện\n",
    "\n",
    "**Cú pháp:**\n",
    "\n",
    "`<expression 1> if <condition> else <expression 2>`\n",
    "\n",
    "Nó đánh giá biểu thức điều kiện condition là True hoặc False, nếu True sẽ trả về expression 1 và False trả về expression 2."
   ]
  },
  {
   "cell_type": "markdown",
   "metadata": {},
   "source": [
    "**Chia hai số với nhau**\n",
    "\n",
    "Dùng if else thông thường."
   ]
  },
  {
   "cell_type": "code",
   "execution_count": 12,
   "metadata": {},
   "outputs": [
    {
     "name": "stdout",
     "output_type": "stream",
     "text": [
      "Số chia: 3\n",
      "Số bị chia: 0\n",
      "Lỗi chia cho số 0\n"
     ]
    }
   ],
   "source": [
    "dividend = int(input('Số chia: '))\n",
    "divisor = int(input('Số bị chia: '))\n",
    "if divisor != 0:\n",
    "    print(dividend/divisor)\n",
    "else:\n",
    "    print('Lỗi chia cho số 0')"
   ]
  },
  {
   "cell_type": "markdown",
   "metadata": {},
   "source": [
    "Đoạn mã trên sẽ rút ngắn lại thành như sau:"
   ]
  },
  {
   "cell_type": "code",
   "execution_count": 13,
   "metadata": {},
   "outputs": [
    {
     "name": "stdout",
     "output_type": "stream",
     "text": [
      "Số chia: 3\n",
      "Số bị chia: 0\n",
      "Lỗi chia cho số 0\n"
     ]
    }
   ],
   "source": [
    "dividend = int(input('Số chia: '))\n",
    "divisor = int(input('Số bị chia: '))\n",
    "msg = dividend/divisor if divisor != 0 else 'Lỗi chia cho số 0'\n",
    "print(msg)"
   ]
  },
  {
   "cell_type": "markdown",
   "metadata": {},
   "source": [
    "# 5. Bài tập Exercise"
   ]
  },
  {
   "cell_type": "markdown",
   "metadata": {},
   "source": [
    "## A. Lý thuyết chọn đáp án\n",
    "\n",
    "Câu 1: Hãy cho biết giá trị cuối cùng của x là bao nhiêu khi thực hiện các câu lệnh?\n",
    "\n",
    "```python\n",
    "    x=4\n",
    "    if 43%8==1:\n",
    "          x+=2\n",
    "    ```\n",
    "\n",
    "<div style=\"padding: 15px; border: 1px solid transparent; border-color: transparent; margin-bottom: 5px; border-radius: 2px; color:#1C1C1C; background-color:#D3D3D3; border-color: #BEBEBE;\">\n",
    "A. 4\n",
    "</div>\n",
    "\n",
    "<div style=\"padding: 15px; border: 1px solid transparent; border-color: transparent; margin-bottom: 5px; border-radius: 2px; color:#1C1C1C; background-color:#D3D3D3; border-color: #BEBEBE;\">\n",
    "B. 2\n",
    "</div>\n",
    "\n",
    "<div style=\"padding: 15px; border: 1px solid transparent; border-color: transparent; margin-bottom: 5px; border-radius: 2px; color:#1C1C1C; background-color:#D3D3D3; border-color: #BEBEBE;\">\n",
    "C. 6\n",
    "</div>\n",
    "\n",
    "<div style=\"padding: 15px; border: 1px solid transparent; border-color: transparent; margin-bottom: 5px; border-radius: 2px; color:#1C1C1C; background-color:#D3D3D3; border-color: #BEBEBE;\">\n",
    "D. 5\n",
    "</div>"
   ]
  },
  {
   "cell_type": "markdown",
   "metadata": {},
   "source": [
    "Câu 2: Hãy cho biết kết quả của đoạn chương trình?\n",
    "\n",
    "```python\n",
    "    x=10\n",
    "    if(not x <8):\n",
    "        print('Cracker')\n",
    "    else:\n",
    "        print('Lambda')\n",
    "```\n",
    "\n",
    "<div style=\"padding: 15px; border: 1px solid transparent; border-color: transparent; margin-bottom: 5px; border-radius: 2px; color:#1C1C1C; background-color:#D3D3D3; border-color: #BEBEBE;\">\n",
    "A. Craker\n",
    "</div>\n",
    "\n",
    "<div style=\"padding: 15px; border: 1px solid transparent; border-color: transparent; margin-bottom: 5px; border-radius: 2px; color:#1C1C1C; background-color:#D3D3D3; border-color: #BEBEBE;\">\n",
    "B. Lambda\n",
    "</div>\n",
    "\n",
    "<div style=\"padding: 15px; border: 1px solid transparent; border-color: transparent; margin-bottom: 5px; border-radius: 2px; color:#1C1C1C; background-color:#D3D3D3; border-color: #BEBEBE;\">\n",
    "C. CrackerLambda\n",
    "</div>\n",
    "\n",
    "<div style=\"padding: 15px; border: 1px solid transparent; border-color: transparent; margin-bottom: 5px; border-radius: 2px; color:#1C1C1C; background-color:#D3D3D3; border-color: #BEBEBE;\">\n",
    "D. None\n",
    "</div>"
   ]
  },
  {
   "cell_type": "markdown",
   "metadata": {},
   "source": [
    "Câu 3: Đoạn chương trình in ra kết quả gì?\n",
    "\n",
    "```python\n",
    "    a,b=30,40\n",
    "    if b%a>=3:\n",
    "        print('Mem')\n",
    "    else:\n",
    "        print('Icon')\n",
    "```\n",
    "\n",
    "<div style=\"padding: 15px; border: 1px solid transparent; border-color: transparent; margin-bottom: 5px; border-radius: 2px; color:#1C1C1C; background-color:#D3D3D3; border-color: #BEBEBE;\">\n",
    "A. Error\n",
    "</div>\n",
    "\n",
    "<div style=\"padding: 15px; border: 1px solid transparent; border-color: transparent; margin-bottom: 5px; border-radius: 2px; color:#1C1C1C; background-color:#D3D3D3; border-color: #BEBEBE;\">\n",
    "B. Icon\n",
    "</div>\n",
    "\n",
    "<div style=\"padding: 15px; border: 1px solid transparent; border-color: transparent; margin-bottom: 5px; border-radius: 2px; color:#1C1C1C; background-color:#D3D3D3; border-color: #BEBEBE;\">\n",
    "C. Mem\n",
    "</div>\n",
    "\n",
    "<div style=\"padding: 15px; border: 1px solid transparent; border-color: transparent; margin-bottom: 5px; border-radius: 2px; color:#1C1C1C; background-color:#D3D3D3; border-color: #BEBEBE;\">\n",
    "D. None\n",
    "</div>"
   ]
  },
  {
   "cell_type": "markdown",
   "metadata": {},
   "source": [
    "Câu 4: Cú pháp lệnh if sau đây là đúng?\n",
    "\n",
    "<div style=\"padding: 15px; border: 1px solid transparent; border-color: transparent; margin-bottom: 5px; border-radius: 2px; color:#1C1C1C; background-color:#D3D3D3; border-color: #BEBEBE;\">\n",
    "A. if d>5: d+=1\n",
    "</div>\n",
    "\n",
    "<div style=\"padding: 15px; border: 1px solid transparent; border-color: transparent; margin-bottom: 5px; border-radius: 2px; color:#1C1C1C; background-color:#D3D3D3; border-color: #BEBEBE;\">\n",
    "B. if d==19; d+=1\n",
    "</div>\n",
    "\n",
    "<div style=\"padding: 15px; border: 1px solid transparent; border-color: transparent; margin-bottom: 5px; border-radius: 2px; color:#1C1C1C; background-color:#D3D3D3; border-color: #BEBEBE;\">\n",
    "C. if d%6==0: else: d-=3\n",
    "</div>\n",
    "\n",
    "<div style=\"padding: 15px; border: 1px solid transparent; border-color: transparent; margin-bottom: 5px; border-radius: 2px; color:#1C1C1C; background-color:#D3D3D3; border-color: #BEBEBE;\">\n",
    "D. if d>3 else print(d)\n",
    "</div>"
   ]
  },
  {
   "cell_type": "markdown",
   "metadata": {},
   "source": [
    "Câu 5: Kết quả của z từ đoạn chương trình trên là:\n",
    "\n",
    "```python\n",
    "    x,y=2,2\n",
    "    if (x**y<45) or (x<y):\n",
    "        z=(x+y)*x\n",
    "    else:\n",
    "        z=x*y\n",
    "```\n",
    "\n",
    "<div style=\"padding: 15px; border: 1px solid transparent; border-color: transparent; margin-bottom: 5px; border-radius: 2px; color:#1C1C1C; background-color:#D3D3D3; border-color: #BEBEBE;\">\n",
    "A. 4\n",
    "</div>\n",
    "\n",
    "<div style=\"padding: 15px; border: 1px solid transparent; border-color: transparent; margin-bottom: 5px; border-radius: 2px; color:#1C1C1C; background-color:#D3D3D3; border-color: #BEBEBE;\">\n",
    "B. 8\n",
    "</div>\n",
    "\n",
    "<div style=\"padding: 15px; border: 1px solid transparent; border-color: transparent; margin-bottom: 5px; border-radius: 2px; color:#1C1C1C; background-color:#D3D3D3; border-color: #BEBEBE;\">\n",
    "C. 2\n",
    "</div>\n",
    "\n",
    "<div style=\"padding: 15px; border: 1px solid transparent; border-color: transparent; margin-bottom: 5px; border-radius: 2px; color:#1C1C1C; background-color:#D3D3D3; border-color: #BEBEBE;\">\n",
    "D. True\n",
    "</div>"
   ]
  },
  {
   "cell_type": "markdown",
   "metadata": {},
   "source": [
    "Câu 6: Cho đoạn chương trình sau:\n",
    "```python\n",
    "    a,b,c=1,2,3\n",
    "    if a>b:\n",
    "        t=a*c\n",
    "    elif a==b:\n",
    "        t=a*b\n",
    "    else:\n",
    "        t=(a+1)*b\n",
    "```\n",
    "\n",
    "Giá trị của t sau khi thực hiện các câu lệnh trên là:\n",
    "\n",
    "<div style=\"padding: 15px; border: 1px solid transparent; border-color: transparent; margin-bottom: 5px; border-radius: 2px; color:#1C1C1C; background-color:#D3D3D3; border-color: #BEBEBE;\">\n",
    "A. 2\n",
    "</div>\n",
    "\n",
    "<div style=\"padding: 15px; border: 1px solid transparent; border-color: transparent; margin-bottom: 5px; border-radius: 2px; color:#1C1C1C; background-color:#D3D3D3; border-color: #BEBEBE;\">\n",
    "B. 3\n",
    "</div>\n",
    "\n",
    "<div style=\"padding: 15px; border: 1px solid transparent; border-color: transparent; margin-bottom: 5px; border-radius: 2px; color:#1C1C1C; background-color:#D3D3D3; border-color: #BEBEBE;\">\n",
    "C. 5\n",
    "</div>\n",
    "\n",
    "<div style=\"padding: 15px; border: 1px solid transparent; border-color: transparent; margin-bottom: 5px; border-radius: 2px; color:#1C1C1C; background-color:#D3D3D3; border-color: #BEBEBE;\">\n",
    "D. 4\n",
    "</div>\n"
   ]
  },
  {
   "cell_type": "markdown",
   "metadata": {},
   "source": [
    "Câu 7: Để tìm giá trị lớn nhất của hai số a và b ta viết:\n",
    "\n",
    "<div style=\"padding: 15px; border: 1px solid transparent; border-color: transparent; margin-bottom: 5px; border-radius: 2px; color:#1C1C1C; background-color:#D3D3D3; border-color: #BEBEBE;\">\n",
    "A. max=a\n",
    "\n",
    "&nbsp;&nbsp;&nbsp;&nbsp;&nbsp;if b>max: max=b\n",
    "\n",
    "</div>\n",
    "\n",
    "<div style=\"padding: 15px; border: 1px solid transparent; border-color: transparent; margin-bottom: 5px; border-radius: 2px; color:#1C1C1C; background-color:#D3D3D3; border-color: #BEBEBE;\">\n",
    "B. max=b\n",
    "\n",
    "&nbsp;&nbsp;&nbsp;&nbsp;&nbsp;if b>max: max=a\n",
    "</div>\n",
    "\n",
    "<div style=\"padding: 15px; border: 1px solid transparent; border-color: transparent; margin-bottom: 5px; border-radius: 2px; color:#1C1C1C; background-color:#D3D3D3; border-color: #BEBEBE;\">\n",
    "C. max=a\n",
    "\n",
    "&nbsp;&nbsp;&nbsp;&nbsp;&nbsp;if b>max: max=a\n",
    "\n",
    "&nbsp;&nbsp;&nbsp;&nbsp;&nbsp;else: Max=b\n",
    "</div>\n",
    "\n",
    "<div style=\"padding: 15px; border: 1px solid transparent; border-color: transparent; margin-bottom: 5px; border-radius: 2px; color:#1C1C1C; background-color:#D3D3D3; border-color: #BEBEBE;\">\n",
    "D. max=b\n",
    "\n",
    "&nbsp;&nbsp;&nbsp;&nbsp;&nbsp;if a<max: max=a\n",
    "\n",
    "&nbsp;&nbsp;&nbsp;&nbsp;&nbsp;else: max=b\n",
    "</div>"
   ]
  },
  {
   "cell_type": "markdown",
   "metadata": {},
   "source": [
    "Câu 8: Giá trị của biến m là bao nhiêu khi hoàn thành các câu lệnh?\n",
    "\n",
    "```python\n",
    "    m=3\n",
    "    if (m+2)%5==0 and (m+2)//3 >9:\n",
    "        m=m+10\n",
    "    else:\n",
    "        m*=m\n",
    "``` \n",
    "\n",
    "<div style=\"padding: 15px; border: 1px solid transparent; border-color: transparent; margin-bottom: 5px; border-radius: 2px; color:#1C1C1C; background-color:#D3D3D3; border-color: #BEBEBE;\">\n",
    "A. 4\n",
    "</div>\n",
    "\n",
    "<div style=\"padding: 15px; border: 1px solid transparent; border-color: transparent; margin-bottom: 5px; border-radius: 2px; color:#1C1C1C; background-color:#D3D3D3; border-color: #BEBEBE;\">\n",
    "B. 10\n",
    "</div>\n",
    "\n",
    "<div style=\"padding: 15px; border: 1px solid transparent; border-color: transparent; margin-bottom: 5px; border-radius: 2px; color:#1C1C1C; background-color:#D3D3D3; border-color: #BEBEBE;\">\n",
    "C. 13\n",
    "</div>\n",
    "\n",
    "<div style=\"padding: 15px; border: 1px solid transparent; border-color: transparent; margin-bottom: 5px; border-radius: 2px; color:#1C1C1C; background-color:#D3D3D3; border-color: #BEBEBE;\">\n",
    "D. 9\n",
    "</div>"
   ]
  },
  {
   "cell_type": "markdown",
   "metadata": {},
   "source": [
    "Câu 9: Kết quả của đoạn chương trình sau đây?\n",
    "\n",
    "```python\n",
    "    a=True; b=False \n",
    "    if not b or a:\n",
    "        print('FFFF')\n",
    "    else:\n",
    "        if not a or not b and a:\n",
    "            print('0000')\n",
    "        else:\n",
    "            print('0FFF')\n",
    "```\n",
    "\n",
    "<div style=\"padding: 15px; border: 1px solid transparent; border-color: transparent; margin-bottom: 5px; border-radius: 2px; color:#1C1C1C; background-color:#D3D3D3; border-color: #BEBEBE;\">\n",
    "A. 0000\n",
    "</div>\n",
    "\n",
    "<div style=\"padding: 15px; border: 1px solid transparent; border-color: transparent; margin-bottom: 5px; border-radius: 2px; color:#1C1C1C; background-color:#D3D3D3; border-color: #BEBEBE;\">\n",
    "B. FFFF\n",
    "</div>\n",
    "\n",
    "<div style=\"padding: 15px; border: 1px solid transparent; border-color: transparent; margin-bottom: 5px; border-radius: 2px; color:#1C1C1C; background-color:#D3D3D3; border-color: #BEBEBE;\">\n",
    "C. None\n",
    "</div>\n",
    "\n",
    "<div style=\"padding: 15px; border: 1px solid transparent; border-color: transparent; margin-bottom: 5px; border-radius: 2px; color:#1C1C1C; background-color:#D3D3D3; border-color: #BEBEBE;\">\n",
    "D. 0FFF\n",
    "</div>"
   ]
  },
  {
   "cell_type": "markdown",
   "metadata": {},
   "source": [
    "Câu 10: Đoạn code chương trình in ra kết quả?\n",
    "\n",
    "```python\n",
    "    m=3;n=2\n",
    "    if m>n:\n",
    "        m,n=n,m\n",
    "        m+=2\n",
    "    else:\n",
    "        m,n=m+2,n+2\n",
    "    print(m,n)\n",
    "```\n",
    "\n",
    "<div style=\"padding: 15px; border: 1px solid transparent; border-color: transparent; margin-bottom: 5px; border-radius: 2px; color:#1C1C1C; background-color:#D3D3D3; border-color: #BEBEBE;\">\n",
    "A. 32\n",
    "</div>\n",
    "\n",
    "<div style=\"padding: 15px; border: 1px solid transparent; border-color: transparent; margin-bottom: 5px; border-radius: 2px; color:#1C1C1C; background-color:#D3D3D3; border-color: #BEBEBE;\">\n",
    "B. 2 3\n",
    "</div>\n",
    "\n",
    "<div style=\"padding: 15px; border: 1px solid transparent; border-color: transparent; margin-bottom: 5px; border-radius: 2px; color:#1C1C1C; background-color:#D3D3D3; border-color: #BEBEBE;\">\n",
    "C. 4 3\n",
    "</div>\n",
    "\n",
    "<div style=\"padding: 15px; border: 1px solid transparent; border-color: transparent; margin-bottom: 5px; border-radius: 2px; color:#1C1C1C; background-color:#D3D3D3; border-color: #BEBEBE;\">\n",
    "D. 43\n",
    "</div>"
   ]
  },
  {
   "cell_type": "markdown",
   "metadata": {},
   "source": [
    "---\n",
    "## B. Rèn luyện viết mã code"
   ]
  },
  {
   "cell_type": "markdown",
   "metadata": {},
   "source": [
    "Câu 11: Nhập vào một số n kiểm tra số đó là số lẻ hay chẵn?"
   ]
  },
  {
   "cell_type": "markdown",
   "metadata": {},
   "source": [
    "Câu 12: Nhập vào 2 số m và n kiểm tra hai số đó lẻ, chẵn, lẻ và chẵn?"
   ]
  },
  {
   "cell_type": "markdown",
   "metadata": {},
   "source": [
    "Câu 13: Nhập vào ba số a, b, c tính số lớn nhất trong ba số đó?\n"
   ]
  },
  {
   "cell_type": "markdown",
   "metadata": {},
   "source": [
    "Câu 14: Nhập số a, b, c hãy kiểm tra chúng có thể lập thành một tam giác được không?"
   ]
  },
  {
   "cell_type": "markdown",
   "metadata": {},
   "source": [
    "Câu 15: Nhập a, b, c hãy kiểm tra chúng tạo thành tam giác gì?"
   ]
  },
  {
   "cell_type": "markdown",
   "metadata": {},
   "source": [
    "---\n",
    "# <span style= 'color:blue'> Đáp án </span> "
   ]
  },
  {
   "cell_type": "markdown",
   "metadata": {},
   "source": [
    "<div style=\"padding: 15px; border: 1px solid transparent; border-color: transparent; margin-bottom: 5px; border-radius: 2px; color: #3c763d; background-color: #dff0d8; border-color: #d6e9c6;\">\n",
    "1.A\n",
    "</div>\n",
    "\n",
    "<div style=\"padding: 15px; border: 1px solid transparent; border-color: transparent; margin-bottom: 5px; border-radius: 2px; color: #3c763d; background-color: #dff0d8; border-color: #d6e9c6;\">\n",
    "2.A\n",
    "</div>\n",
    "\n",
    "<div style=\"padding: 15px; border: 1px solid transparent; border-color: transparent; margin-bottom: 5px; border-radius: 2px; color: #3c763d; background-color: #dff0d8; border-color: #d6e9c6;\">\n",
    "3.C\n",
    "</div>\n",
    "\n",
    "<div style=\"padding: 15px; border: 1px solid transparent; border-color: transparent; margin-bottom: 5px; border-radius: 2px; color: #3c763d; background-color: #dff0d8; border-color: #d6e9c6;\">\n",
    "4.A\n",
    "</div>\n",
    "\n",
    "<div style=\"padding: 15px; border: 1px solid transparent; border-color: transparent; margin-bottom: 5px; border-radius: 2px; color: #3c763d; background-color: #dff0d8; border-color: #d6e9c6;\">\n",
    "5.B\n",
    "</div>\n",
    "\n",
    "<div style=\"padding: 15px; border: 1px solid transparent; border-color: transparent; margin-bottom: 5px; border-radius: 2px; color: #3c763d; background-color: #dff0d8; border-color: #d6e9c6;\">\n",
    "6.D\n",
    "</div>\n",
    "\n",
    "<div style=\"padding: 15px; border: 1px solid transparent; border-color: transparent; margin-bottom: 5px; border-radius: 2px; color: #3c763d; background-color: #dff0d8; border-color: #d6e9c6;\">\n",
    "7.A\n",
    "</div>\n",
    "\n",
    "<div style=\"padding: 15px; border: 1px solid transparent; border-color: transparent; margin-bottom: 5px; border-radius: 2px; color: #3c763d; background-color: #dff0d8; border-color: #d6e9c6;\">\n",
    "8.D\n",
    "</div>\n",
    "\n",
    "<div style=\"padding: 15px; border: 1px solid transparent; border-color: transparent; margin-bottom: 5px; border-radius: 2px; color: #3c763d; background-color: #dff0d8; border-color: #d6e9c6;\">\n",
    "9.B\n",
    "</div>\n",
    "\n",
    "<div style=\"padding: 15px; border: 1px solid transparent; border-color: transparent; margin-bottom: 5px; border-radius: 2px; color: #3c763d; background-color: #dff0d8; border-color: #d6e9c6;\">\n",
    "10.C\n",
    "</div>"
   ]
  },
  {
   "cell_type": "code",
   "execution_count": 14,
   "metadata": {},
   "outputs": [
    {
     "name": "stdout",
     "output_type": "stream",
     "text": [
      "Nhập vào một số bất kỳ 4\n",
      "n là số chẵn\n"
     ]
    }
   ],
   "source": [
    "#11\n",
    "n=int(input('Nhập vào một số bất kỳ '))\n",
    "if n%2==0:\n",
    "    print('n là số chẵn')\n",
    "else:\n",
    "    print('n là số lẻ')"
   ]
  },
  {
   "cell_type": "code",
   "execution_count": 15,
   "metadata": {},
   "outputs": [
    {
     "name": "stdout",
     "output_type": "stream",
     "text": [
      "Nhập vào một số m bất kỳ 3\n",
      "Nhập vào một số n bất kỳ 4\n",
      "Một số lẻ và một số chẵn\n"
     ]
    }
   ],
   "source": [
    "#12\n",
    "m=int(input('Nhập vào một số m bất kỳ '))\n",
    "n=int(input('Nhập vào một số n bất kỳ '))\n",
    "if m%2==0 and n%2==0:\n",
    "    print('Hai số chẵn cùng nhau')\n",
    "elif m%2!=0 and n%2!=0:\n",
    "    print('Hai số lẻ cùng nhau')\n",
    "else:\n",
    "    print('Một số lẻ và một số chẵn')"
   ]
  },
  {
   "cell_type": "code",
   "execution_count": 16,
   "metadata": {},
   "outputs": [
    {
     "name": "stdout",
     "output_type": "stream",
     "text": [
      "Nhập vào một số a bất kỳ 3\n",
      "Nhập vào một số b bất kỳ 4\n",
      "Nhập vào một số c bất kỳ 2\n",
      "Số lớn nhất là: 4.0\n"
     ]
    }
   ],
   "source": [
    "#13.1\n",
    "a=float(input('Nhập vào một số a bất kỳ '))\n",
    "b=float(input('Nhập vào một số b bất kỳ '))\n",
    "c=float(input('Nhập vào một số c bất kỳ '))\n",
    "if a>=b and a>=c:\n",
    "    Max=a\n",
    "elif b>=a and b>=c:\n",
    "    Max=b\n",
    "elif c>=a and c>=a:\n",
    "    Max=c \n",
    "print('Số lớn nhất là:',Max)"
   ]
  },
  {
   "cell_type": "code",
   "execution_count": 17,
   "metadata": {},
   "outputs": [
    {
     "name": "stdout",
     "output_type": "stream",
     "text": [
      "Nhập vào một số a bất kỳ 4\n",
      "Nhập vào một số b bất kỳ 4\n",
      "Nhập vào một số c bất kỳ 5\n",
      "Số lớn nhất là: 5.0\n"
     ]
    }
   ],
   "source": [
    "#13.2\n",
    "a=float(input('Nhập vào một số a bất kỳ '))\n",
    "b=float(input('Nhập vào một số b bất kỳ '))\n",
    "c=float(input('Nhập vào một số c bất kỳ '))\n",
    "Max=a\n",
    "if b>=Max:\n",
    "    Max=b\n",
    "if c>=Max:\n",
    "    Max=c\n",
    "print('Số lớn nhất là:',Max)"
   ]
  },
  {
   "cell_type": "code",
   "execution_count": 18,
   "metadata": {},
   "outputs": [
    {
     "name": "stdout",
     "output_type": "stream",
     "text": [
      "Nhập vào một số a bất kỳ 3\n",
      "Nhập vào một số b bất kỳ 3\n",
      "Nhập vào một số c bất kỳ 4\n",
      "Số lớn nhất là 3.0\n"
     ]
    }
   ],
   "source": [
    "#13.3 Bug\n",
    "a=float(input('Nhập vào một số a bất kỳ '))\n",
    "b=float(input('Nhập vào một số b bất kỳ '))\n",
    "c=float(input('Nhập vào một số c bất kỳ '))\n",
    "max=a\n",
    "if max>b and max >c:\n",
    "    print('Số lớn nhất là',max)\n",
    "elif max<b and max<c:\n",
    "    max=b\n",
    "    if max>c:\n",
    "        print('Số lớn nhất là',max)\n",
    "    else:\n",
    "        max=c\n",
    "        print('Số lớn nhất là',max)\n",
    "elif max>b and max<c:\n",
    "    max =c\n",
    "    print('Số lớn nhất là',max)\n",
    "else:\n",
    "    max=b\n",
    "    print('Số lớn nhất là',max)"
   ]
  },
  {
   "cell_type": "code",
   "execution_count": 19,
   "metadata": {},
   "outputs": [
    {
     "name": "stdout",
     "output_type": "stream",
     "text": [
      "Nhập vào một số a bất kỳ 19\n",
      "Nhập vào một số b bất kỳ 20\n",
      "Nhập vào một số c bất kỳ 28\n",
      "Ba số a, b, c tạo thành một tam giác\n"
     ]
    }
   ],
   "source": [
    "#14\n",
    "a=float(input('Nhập vào một số a bất kỳ '))\n",
    "b=float(input('Nhập vào một số b bất kỳ '))\n",
    "c=float(input('Nhập vào một số c bất kỳ '))\n",
    "if abs(a-b)<c and a+b>c:\n",
    "    print('Ba số a, b, c tạo thành một tam giác')\n",
    "elif abs(a-c)<b and a+c>b:\n",
    "    print('Ba số a, b, c tạo thành một tam giác')\n",
    "elif abs(b-c)<a and b+c>a:\n",
    "    print('Ba số a, b, c tạo thành một tam giác')\n",
    "else:\n",
    "    print('Ba số a, b, c không thể tạo thành tam giác')    "
   ]
  },
  {
   "cell_type": "code",
   "execution_count": 20,
   "metadata": {},
   "outputs": [
    {
     "name": "stdout",
     "output_type": "stream",
     "text": [
      "Nhập vào một số a bất kỳ 5\n",
      "Nhập vào một số b bất kỳ 6\n",
      "Nhập vào một số c bất kỳ 9\n",
      "Ba số a, b, c tạo thành tam giác\n"
     ]
    }
   ],
   "source": [
    "#15\n",
    "a=float(input('Nhập vào một số a bất kỳ '))\n",
    "b=float(input('Nhập vào một số b bất kỳ '))\n",
    "c=float(input('Nhập vào một số c bất kỳ '))\n",
    "\n",
    "if abs(a-b)<c and a+b>c:\n",
    "    if a==b==c:\n",
    "        print('Ba số a, b, c tạo thành tam giác đều')\n",
    "    elif a==b or b==c or a==c:\n",
    "        print('Ba số a, b, c tạo thành tam giác cân')\n",
    "    else:\n",
    "        print('Ba số a, b, c tạo thành tam giác')\n",
    "elif abs(a-c)<b and a+c>b:\n",
    "    if a==b==c:\n",
    "        print('Ba số a, b, c tạo thành tam giác đều')\n",
    "    elif a==b or b==c or a==c:\n",
    "        print('Ba số a, b, c tạo thành tam giác cân')\n",
    "    else:\n",
    "        print('Ba số a, b, c tạo thành tam giác')\n",
    "elif abs(b-c)<a and b+c>a:\n",
    "    if a==b==c:\n",
    "        print('Ba số a, b, c tạo thành tam giác đều')\n",
    "    elif a==b or b==c or a==c:\n",
    "        print('Ba số a, b, c tạo thành tam giác cân')\n",
    "    else:\n",
    "        print('Ba số a, b, c tạo thành tam giác')\n",
    "else:\n",
    "    print('Ba số a, b, c không thể tạo thành tam giác')"
   ]
  },
  {
   "cell_type": "code",
   "execution_count": null,
   "metadata": {},
   "outputs": [],
   "source": []
  }
 ],
 "metadata": {
  "kernelspec": {
   "display_name": "Python 3",
   "language": "python",
   "name": "python3"
  },
  "language_info": {
   "codemirror_mode": {
    "name": "ipython",
    "version": 3
   },
   "file_extension": ".py",
   "mimetype": "text/x-python",
   "name": "python",
   "nbconvert_exporter": "python",
   "pygments_lexer": "ipython3",
   "version": "3.7.0"
  }
 },
 "nbformat": 4,
 "nbformat_minor": 2
}
