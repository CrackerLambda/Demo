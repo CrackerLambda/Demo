{
 "cells": [
  {
   "cell_type": "markdown",
   "metadata": {},
   "source": [
    "**Lưu ý:** *Bạn có thể xem trực tiếp trên github, tải xuống, nếu bạn muốn chạy thử hãy truy cập vào google colab nó cung cấp cho bạn thư viện có sẵn và chạy bằng GPU.*\n",
    "\n",
    "[![Open In Colab](https://colab.research.google.com/assets/colab-badge.svg)](https://colab.research.google.com/github/CrackerLambda/PythonBasics/blob/master/09_Introduce_Module.ipynb)"
   ]
  },
  {
   "cell_type": "markdown",
   "metadata": {},
   "source": [
    "# 1.  Module là gì trong python\n",
    "\n",
    "Các thư viện, hàm số được người lập trình viết mã tạo ra thì được gọi là module, module này có thể tái sử dụng được nhiều lần mà không cần phải lập trình lại, trong python khi đã cài thì sẽ có một vài module gọi là core lõi mà không cần phải tải hay thêm vào.\n"
   ]
  },
  {
   "cell_type": "markdown",
   "metadata": {},
   "source": [
    "## Một số moldule lõi thông dụng"
   ]
  },
  {
   "cell_type": "code",
   "execution_count": 1,
   "metadata": {},
   "outputs": [
    {
     "data": {
      "text/plain": [
       "['In',\n",
       " 'Out',\n",
       " '_',\n",
       " '__',\n",
       " '___',\n",
       " '__builtin__',\n",
       " '__builtins__',\n",
       " '__doc__',\n",
       " '__loader__',\n",
       " '__name__',\n",
       " '__package__',\n",
       " '__spec__',\n",
       " '_dh',\n",
       " '_i',\n",
       " '_i1',\n",
       " '_ih',\n",
       " '_ii',\n",
       " '_iii',\n",
       " '_oh',\n",
       " 'exit',\n",
       " 'get_ipython',\n",
       " 'quit']"
      ]
     },
     "execution_count": 1,
     "metadata": {},
     "output_type": "execute_result"
    }
   ],
   "source": [
    "dir()"
   ]
  },
  {
   "cell_type": "markdown",
   "metadata": {},
   "source": [
    "Ta để ý tới packages built-in fucntions trong nó có nhiều hàm, lớp lõi được xây dựng sẵn."
   ]
  },
  {
   "cell_type": "code",
   "execution_count": 2,
   "metadata": {},
   "outputs": [
    {
     "data": {
      "text/plain": [
       "['ArithmeticError',\n",
       " 'AssertionError',\n",
       " 'AttributeError',\n",
       " 'BaseException',\n",
       " 'BlockingIOError',\n",
       " 'BrokenPipeError',\n",
       " 'BufferError',\n",
       " 'BytesWarning',\n",
       " 'ChildProcessError',\n",
       " 'ConnectionAbortedError',\n",
       " 'ConnectionError',\n",
       " 'ConnectionRefusedError',\n",
       " 'ConnectionResetError',\n",
       " 'DeprecationWarning',\n",
       " 'EOFError',\n",
       " 'Ellipsis',\n",
       " 'EnvironmentError',\n",
       " 'Exception',\n",
       " 'False',\n",
       " 'FileExistsError',\n",
       " 'FileNotFoundError',\n",
       " 'FloatingPointError',\n",
       " 'FutureWarning',\n",
       " 'GeneratorExit',\n",
       " 'IOError',\n",
       " 'ImportError',\n",
       " 'ImportWarning',\n",
       " 'IndentationError',\n",
       " 'IndexError',\n",
       " 'InterruptedError',\n",
       " 'IsADirectoryError',\n",
       " 'KeyError',\n",
       " 'KeyboardInterrupt',\n",
       " 'LookupError',\n",
       " 'MemoryError',\n",
       " 'ModuleNotFoundError',\n",
       " 'NameError',\n",
       " 'None',\n",
       " 'NotADirectoryError',\n",
       " 'NotImplemented',\n",
       " 'NotImplementedError',\n",
       " 'OSError',\n",
       " 'OverflowError',\n",
       " 'PendingDeprecationWarning',\n",
       " 'PermissionError',\n",
       " 'ProcessLookupError',\n",
       " 'RecursionError',\n",
       " 'ReferenceError',\n",
       " 'ResourceWarning',\n",
       " 'RuntimeError',\n",
       " 'RuntimeWarning',\n",
       " 'StopAsyncIteration',\n",
       " 'StopIteration',\n",
       " 'SyntaxError',\n",
       " 'SyntaxWarning',\n",
       " 'SystemError',\n",
       " 'SystemExit',\n",
       " 'TabError',\n",
       " 'TimeoutError',\n",
       " 'True',\n",
       " 'TypeError',\n",
       " 'UnboundLocalError',\n",
       " 'UnicodeDecodeError',\n",
       " 'UnicodeEncodeError',\n",
       " 'UnicodeError',\n",
       " 'UnicodeTranslateError',\n",
       " 'UnicodeWarning',\n",
       " 'UserWarning',\n",
       " 'ValueError',\n",
       " 'Warning',\n",
       " 'WindowsError',\n",
       " 'ZeroDivisionError',\n",
       " '__IPYTHON__',\n",
       " '__build_class__',\n",
       " '__debug__',\n",
       " '__doc__',\n",
       " '__import__',\n",
       " '__loader__',\n",
       " '__name__',\n",
       " '__package__',\n",
       " '__spec__',\n",
       " 'abs',\n",
       " 'all',\n",
       " 'any',\n",
       " 'ascii',\n",
       " 'bin',\n",
       " 'bool',\n",
       " 'breakpoint',\n",
       " 'bytearray',\n",
       " 'bytes',\n",
       " 'callable',\n",
       " 'chr',\n",
       " 'classmethod',\n",
       " 'compile',\n",
       " 'complex',\n",
       " 'copyright',\n",
       " 'credits',\n",
       " 'delattr',\n",
       " 'dict',\n",
       " 'dir',\n",
       " 'display',\n",
       " 'divmod',\n",
       " 'enumerate',\n",
       " 'eval',\n",
       " 'exec',\n",
       " 'filter',\n",
       " 'float',\n",
       " 'format',\n",
       " 'frozenset',\n",
       " 'get_ipython',\n",
       " 'getattr',\n",
       " 'globals',\n",
       " 'hasattr',\n",
       " 'hash',\n",
       " 'help',\n",
       " 'hex',\n",
       " 'id',\n",
       " 'input',\n",
       " 'int',\n",
       " 'isinstance',\n",
       " 'issubclass',\n",
       " 'iter',\n",
       " 'len',\n",
       " 'license',\n",
       " 'list',\n",
       " 'locals',\n",
       " 'map',\n",
       " 'max',\n",
       " 'memoryview',\n",
       " 'min',\n",
       " 'next',\n",
       " 'object',\n",
       " 'oct',\n",
       " 'open',\n",
       " 'ord',\n",
       " 'pow',\n",
       " 'print',\n",
       " 'property',\n",
       " 'range',\n",
       " 'repr',\n",
       " 'reversed',\n",
       " 'round',\n",
       " 'set',\n",
       " 'setattr',\n",
       " 'slice',\n",
       " 'sorted',\n",
       " 'staticmethod',\n",
       " 'str',\n",
       " 'sum',\n",
       " 'super',\n",
       " 'tuple',\n",
       " 'type',\n",
       " 'vars',\n",
       " 'zip']"
      ]
     },
     "execution_count": 2,
     "metadata": {},
     "output_type": "execute_result"
    }
   ],
   "source": [
    "dir(__builtins__)"
   ]
  },
  {
   "cell_type": "code",
   "execution_count": 3,
   "metadata": {},
   "outputs": [
    {
     "data": {
      "text/plain": [
       "['__add__',\n",
       " '__class__',\n",
       " '__contains__',\n",
       " '__delattr__',\n",
       " '__delitem__',\n",
       " '__dir__',\n",
       " '__doc__',\n",
       " '__eq__',\n",
       " '__format__',\n",
       " '__ge__',\n",
       " '__getattribute__',\n",
       " '__getitem__',\n",
       " '__gt__',\n",
       " '__hash__',\n",
       " '__iadd__',\n",
       " '__imul__',\n",
       " '__init__',\n",
       " '__init_subclass__',\n",
       " '__iter__',\n",
       " '__le__',\n",
       " '__len__',\n",
       " '__lt__',\n",
       " '__mul__',\n",
       " '__ne__',\n",
       " '__new__',\n",
       " '__reduce__',\n",
       " '__reduce_ex__',\n",
       " '__repr__',\n",
       " '__reversed__',\n",
       " '__rmul__',\n",
       " '__setattr__',\n",
       " '__setitem__',\n",
       " '__sizeof__',\n",
       " '__str__',\n",
       " '__subclasshook__',\n",
       " 'append',\n",
       " 'clear',\n",
       " 'copy',\n",
       " 'count',\n",
       " 'extend',\n",
       " 'index',\n",
       " 'insert',\n",
       " 'pop',\n",
       " 'remove',\n",
       " 'reverse',\n",
       " 'sort']"
      ]
     },
     "execution_count": 3,
     "metadata": {},
     "output_type": "execute_result"
    }
   ],
   "source": [
    "dir(In)"
   ]
  },
  {
   "cell_type": "code",
   "execution_count": 4,
   "metadata": {},
   "outputs": [
    {
     "data": {
      "text/plain": [
       "['__call__',\n",
       " '__class__',\n",
       " '__delattr__',\n",
       " '__dict__',\n",
       " '__dir__',\n",
       " '__doc__',\n",
       " '__eq__',\n",
       " '__format__',\n",
       " '__ge__',\n",
       " '__getattribute__',\n",
       " '__gt__',\n",
       " '__hash__',\n",
       " '__init__',\n",
       " '__init_subclass__',\n",
       " '__le__',\n",
       " '__lt__',\n",
       " '__module__',\n",
       " '__ne__',\n",
       " '__new__',\n",
       " '__reduce__',\n",
       " '__reduce_ex__',\n",
       " '__repr__',\n",
       " '__setattr__',\n",
       " '__sizeof__',\n",
       " '__str__',\n",
       " '__subclasshook__',\n",
       " '__weakref__',\n",
       " '_ip',\n",
       " 'rewrite',\n",
       " 'set_ip']"
      ]
     },
     "execution_count": 4,
     "metadata": {},
     "output_type": "execute_result"
    }
   ],
   "source": [
    "dir(quit)"
   ]
  },
  {
   "cell_type": "code",
   "execution_count": 5,
   "metadata": {},
   "outputs": [
    {
     "data": {
      "text/plain": [
       "4"
      ]
     },
     "execution_count": 5,
     "metadata": {},
     "output_type": "execute_result"
    }
   ],
   "source": [
    "abs(-4)"
   ]
  },
  {
   "cell_type": "code",
   "execution_count": 6,
   "metadata": {},
   "outputs": [
    {
     "data": {
      "text/plain": [
       "3"
      ]
     },
     "execution_count": 6,
     "metadata": {},
     "output_type": "execute_result"
    }
   ],
   "source": [
    "min([4,5,9,3])"
   ]
  },
  {
   "cell_type": "code",
   "execution_count": 7,
   "metadata": {},
   "outputs": [
    {
     "data": {
      "text/plain": [
       "4"
      ]
     },
     "execution_count": 7,
     "metadata": {},
     "output_type": "execute_result"
    }
   ],
   "source": [
    "round(3.6)"
   ]
  },
  {
   "cell_type": "markdown",
   "metadata": {},
   "source": [
    "## Một số module ngoài lõi hay dùng bao gồm : math, random, re, urllib, timeit, xml, json, struct, shelve, os.\n",
    "\n",
    "Trước tiên ta phải dùng lệnh **import** `tên thư viện` để khai báo thư viện cần dùng.\n",
    "\n",
    "Phải dùng dấu chấm **.**trước khi xài phương thức ở thư viện.\n",
    "\n",
    "### Thư viện dành cho toán học"
   ]
  },
  {
   "cell_type": "code",
   "execution_count": 8,
   "metadata": {},
   "outputs": [],
   "source": [
    "import math"
   ]
  },
  {
   "cell_type": "code",
   "execution_count": 9,
   "metadata": {},
   "outputs": [
    {
     "data": {
      "text/plain": [
       "['__doc__',\n",
       " '__loader__',\n",
       " '__name__',\n",
       " '__package__',\n",
       " '__spec__',\n",
       " 'acos',\n",
       " 'acosh',\n",
       " 'asin',\n",
       " 'asinh',\n",
       " 'atan',\n",
       " 'atan2',\n",
       " 'atanh',\n",
       " 'ceil',\n",
       " 'copysign',\n",
       " 'cos',\n",
       " 'cosh',\n",
       " 'degrees',\n",
       " 'e',\n",
       " 'erf',\n",
       " 'erfc',\n",
       " 'exp',\n",
       " 'expm1',\n",
       " 'fabs',\n",
       " 'factorial',\n",
       " 'floor',\n",
       " 'fmod',\n",
       " 'frexp',\n",
       " 'fsum',\n",
       " 'gamma',\n",
       " 'gcd',\n",
       " 'hypot',\n",
       " 'inf',\n",
       " 'isclose',\n",
       " 'isfinite',\n",
       " 'isinf',\n",
       " 'isnan',\n",
       " 'ldexp',\n",
       " 'lgamma',\n",
       " 'log',\n",
       " 'log10',\n",
       " 'log1p',\n",
       " 'log2',\n",
       " 'modf',\n",
       " 'nan',\n",
       " 'pi',\n",
       " 'pow',\n",
       " 'radians',\n",
       " 'remainder',\n",
       " 'sin',\n",
       " 'sinh',\n",
       " 'sqrt',\n",
       " 'tan',\n",
       " 'tanh',\n",
       " 'tau',\n",
       " 'trunc']"
      ]
     },
     "execution_count": 9,
     "metadata": {},
     "output_type": "execute_result"
    }
   ],
   "source": [
    "dir(math)"
   ]
  },
  {
   "cell_type": "code",
   "execution_count": 10,
   "metadata": {},
   "outputs": [
    {
     "data": {
      "text/plain": [
       "0.8509035245341184"
      ]
     },
     "execution_count": 10,
     "metadata": {},
     "output_type": "execute_result"
    }
   ],
   "source": [
    "math.sin(45)"
   ]
  },
  {
   "cell_type": "code",
   "execution_count": 11,
   "metadata": {},
   "outputs": [
    {
     "data": {
      "text/plain": [
       "8.0"
      ]
     },
     "execution_count": 11,
     "metadata": {},
     "output_type": "execute_result"
    }
   ],
   "source": [
    "math.pow(2,3)"
   ]
  },
  {
   "cell_type": "code",
   "execution_count": 12,
   "metadata": {},
   "outputs": [
    {
     "data": {
      "text/plain": [
       "20.085536923187668"
      ]
     },
     "execution_count": 12,
     "metadata": {},
     "output_type": "execute_result"
    }
   ],
   "source": [
    "math.exp(3)"
   ]
  },
  {
   "cell_type": "markdown",
   "metadata": {},
   "source": [
    "Nếu muốn sử dụng trực tiếp không cần dấu chấm thì ta khai báo như sau:\n",
    "\n",
    "**from `<Thư viện>` import `<Hàm số>`**"
   ]
  },
  {
   "cell_type": "code",
   "execution_count": 13,
   "metadata": {},
   "outputs": [
    {
     "data": {
      "text/plain": [
       "0.15425144988758405"
      ]
     },
     "execution_count": 13,
     "metadata": {},
     "output_type": "execute_result"
    }
   ],
   "source": [
    "from math import cos\n",
    "cos(30)"
   ]
  },
  {
   "cell_type": "markdown",
   "metadata": {},
   "source": [
    "Import tất cả các hàm của thư viện\n",
    "\n",
    "**from `<Thư viện>` import ***"
   ]
  },
  {
   "cell_type": "code",
   "execution_count": 14,
   "metadata": {},
   "outputs": [
    {
     "data": {
      "text/plain": [
       "0.5292052776014188"
      ]
     },
     "execution_count": 14,
     "metadata": {},
     "output_type": "execute_result"
    }
   ],
   "source": [
    "from math import *\n",
    "tan(145)"
   ]
  },
  {
   "cell_type": "markdown",
   "metadata": {},
   "source": [
    "**Sử dụng alias ánh xạ để khai báo ngắn thư viện**"
   ]
  },
  {
   "cell_type": "code",
   "execution_count": 15,
   "metadata": {},
   "outputs": [
    {
     "data": {
      "text/plain": [
       "5.385164807134504"
      ]
     },
     "execution_count": 15,
     "metadata": {},
     "output_type": "execute_result"
    }
   ],
   "source": [
    "import math as m\n",
    "m.sqrt(29)"
   ]
  },
  {
   "cell_type": "code",
   "execution_count": 16,
   "metadata": {},
   "outputs": [],
   "source": [
    "z=3+2j"
   ]
  },
  {
   "cell_type": "code",
   "execution_count": 17,
   "metadata": {},
   "outputs": [
    {
     "data": {
      "text/plain": [
       "complex"
      ]
     },
     "execution_count": 17,
     "metadata": {},
     "output_type": "execute_result"
    }
   ],
   "source": [
    "type(z)"
   ]
  },
  {
   "cell_type": "markdown",
   "metadata": {},
   "source": [
    "### Thư viện random"
   ]
  },
  {
   "cell_type": "code",
   "execution_count": 18,
   "metadata": {},
   "outputs": [],
   "source": [
    "import random"
   ]
  },
  {
   "cell_type": "code",
   "execution_count": 19,
   "metadata": {},
   "outputs": [
    {
     "data": {
      "text/plain": [
       "['BPF',\n",
       " 'LOG4',\n",
       " 'NV_MAGICCONST',\n",
       " 'RECIP_BPF',\n",
       " 'Random',\n",
       " 'SG_MAGICCONST',\n",
       " 'SystemRandom',\n",
       " 'TWOPI',\n",
       " '_BuiltinMethodType',\n",
       " '_MethodType',\n",
       " '_Sequence',\n",
       " '_Set',\n",
       " '__all__',\n",
       " '__builtins__',\n",
       " '__cached__',\n",
       " '__doc__',\n",
       " '__file__',\n",
       " '__loader__',\n",
       " '__name__',\n",
       " '__package__',\n",
       " '__spec__',\n",
       " '_acos',\n",
       " '_bisect',\n",
       " '_ceil',\n",
       " '_cos',\n",
       " '_e',\n",
       " '_exp',\n",
       " '_inst',\n",
       " '_itertools',\n",
       " '_log',\n",
       " '_os',\n",
       " '_pi',\n",
       " '_random',\n",
       " '_sha512',\n",
       " '_sin',\n",
       " '_sqrt',\n",
       " '_test',\n",
       " '_test_generator',\n",
       " '_urandom',\n",
       " '_warn',\n",
       " 'betavariate',\n",
       " 'choice',\n",
       " 'choices',\n",
       " 'expovariate',\n",
       " 'gammavariate',\n",
       " 'gauss',\n",
       " 'getrandbits',\n",
       " 'getstate',\n",
       " 'lognormvariate',\n",
       " 'normalvariate',\n",
       " 'paretovariate',\n",
       " 'randint',\n",
       " 'random',\n",
       " 'randrange',\n",
       " 'sample',\n",
       " 'seed',\n",
       " 'setstate',\n",
       " 'shuffle',\n",
       " 'triangular',\n",
       " 'uniform',\n",
       " 'vonmisesvariate',\n",
       " 'weibullvariate']"
      ]
     },
     "execution_count": 19,
     "metadata": {},
     "output_type": "execute_result"
    }
   ],
   "source": [
    "dir(random)"
   ]
  },
  {
   "cell_type": "markdown",
   "metadata": {},
   "source": [
    "Tạo một số thực ngẫu nhiên từ 0 đến 1."
   ]
  },
  {
   "cell_type": "code",
   "execution_count": 20,
   "metadata": {},
   "outputs": [
    {
     "data": {
      "text/plain": [
       "0.8809356444648173"
      ]
     },
     "execution_count": 20,
     "metadata": {},
     "output_type": "execute_result"
    }
   ],
   "source": [
    "random.random()"
   ]
  },
  {
   "cell_type": "markdown",
   "metadata": {},
   "source": [
    "Tạo một số thực ngẫu nhiên từ 0 đến 50."
   ]
  },
  {
   "cell_type": "code",
   "execution_count": 21,
   "metadata": {},
   "outputs": [
    {
     "data": {
      "text/plain": [
       "37.55993207009054"
      ]
     },
     "execution_count": 21,
     "metadata": {},
     "output_type": "execute_result"
    }
   ],
   "source": [
    "50*random.random()"
   ]
  },
  {
   "cell_type": "markdown",
   "metadata": {},
   "source": [
    "Muốn chuyển thành số nguyên ta sẽ ép kiểu."
   ]
  },
  {
   "cell_type": "code",
   "execution_count": 22,
   "metadata": {},
   "outputs": [
    {
     "data": {
      "text/plain": [
       "40"
      ]
     },
     "execution_count": 22,
     "metadata": {},
     "output_type": "execute_result"
    }
   ],
   "source": [
    "int(50*random.random())"
   ]
  },
  {
   "cell_type": "markdown",
   "metadata": {},
   "source": [
    "Chọn ngẫu nhiên trong danh sách."
   ]
  },
  {
   "cell_type": "code",
   "execution_count": 23,
   "metadata": {},
   "outputs": [
    {
     "data": {
      "text/plain": [
       "29"
      ]
     },
     "execution_count": 23,
     "metadata": {},
     "output_type": "execute_result"
    }
   ],
   "source": [
    "import random as r\n",
    "A=[34,29,10,29]\n",
    "r.choice(A)"
   ]
  },
  {
   "cell_type": "markdown",
   "metadata": {},
   "source": [
    "Đảo thứ tự trong danh sách."
   ]
  },
  {
   "cell_type": "code",
   "execution_count": 24,
   "metadata": {},
   "outputs": [],
   "source": [
    "r.shuffle(A)"
   ]
  },
  {
   "cell_type": "code",
   "execution_count": 25,
   "metadata": {},
   "outputs": [
    {
     "data": {
      "text/plain": [
       "[29, 10, 34, 29]"
      ]
     },
     "execution_count": 25,
     "metadata": {},
     "output_type": "execute_result"
    }
   ],
   "source": [
    "A"
   ]
  },
  {
   "cell_type": "markdown",
   "metadata": {},
   "source": [
    "# 2. Tự thiết lập thư viện riêng"
   ]
  },
  {
   "cell_type": "code",
   "execution_count": 26,
   "metadata": {},
   "outputs": [],
   "source": [
    "def add(a,b):\n",
    "    c=a+b\n",
    "    return c\n",
    "def subtract(a,b):\n",
    "    c=a-b\n",
    "    return c"
   ]
  },
  {
   "cell_type": "markdown",
   "metadata": {},
   "source": [
    "Ta sẽ lưu dứa dạng file .py là calculator.py, sau đó muốn gọi file đó ra chỉ cần gõ \n",
    "```python\n",
    "import calculator\n",
    "```"
   ]
  },
  {
   "cell_type": "code",
   "execution_count": 27,
   "metadata": {},
   "outputs": [
    {
     "data": {
      "text/plain": [
       "5"
      ]
     },
     "execution_count": 27,
     "metadata": {},
     "output_type": "execute_result"
    }
   ],
   "source": [
    "add(2,3)"
   ]
  },
  {
   "cell_type": "markdown",
   "metadata": {},
   "source": [
    "# 2. Bài tập Exercise"
   ]
  },
  {
   "cell_type": "markdown",
   "metadata": {},
   "source": [
    "## A. Lý thuyết chọn đáp án"
   ]
  },
  {
   "cell_type": "markdown",
   "metadata": {},
   "source": [
    "Câu 1: Khi khai báo thư viện trong Python ta dùng lệnh nào sao đây?\n",
    "\n",
    "<div style=\"padding: 15px; border: 1px solid transparent; border-color: transparent; margin-bottom: 5px; border-radius: 2px; color:#1C1C1C; background-color:#D3D3D3; border-color: #BEBEBE;\">\n",
    "A. using\n",
    "</div>\n",
    "\n",
    "<div style=\"padding: 15px; border: 1px solid transparent; border-color: transparent; margin-bottom: 5px; border-radius: 2px; color:#1C1C1C; background-color:#D3D3D3; border-color: #BEBEBE;\">\n",
    "B. include\n",
    "</div>\n",
    "\n",
    "<div style=\"padding: 15px; border: 1px solid transparent; border-color: transparent; margin-bottom: 5px; border-radius: 2px; color:#1C1C1C; background-color:#D3D3D3; border-color: #BEBEBE;\">\n",
    "C. import\n",
    "</div>\n",
    "\n",
    "<div style=\"padding: 15px; border: 1px solid transparent; border-color: transparent; margin-bottom: 5px; border-radius: 2px; color:#1C1C1C; background-color:#D3D3D3; border-color: #BEBEBE;\">\n",
    "D. export\n",
    "</div>"
   ]
  },
  {
   "cell_type": "markdown",
   "metadata": {},
   "source": [
    "Câu 2: Cú pháp khai báo thư viện nào sau đây là sai?\n",
    "\n",
    "<div style=\"padding: 15px; border: 1px solid transparent; border-color: transparent; margin-bottom: 5px; border-radius: 2px; color:#1C1C1C; background-color:#D3D3D3; border-color: #BEBEBE;\">\n",
    "A. import math\n",
    "</div>\n",
    "\n",
    "<div style=\"padding: 15px; border: 1px solid transparent; border-color: transparent; margin-bottom: 5px; border-radius: 2px; color:#1C1C1C; background-color:#D3D3D3; border-color: #BEBEBE;\">\n",
    "B. from * import math\n",
    "</div>\n",
    "\n",
    "<div style=\"padding: 15px; border: 1px solid transparent; border-color: transparent; margin-bottom: 5px; border-radius: 2px; color:#1C1C1C; background-color:#D3D3D3; border-color: #BEBEBE;\">\n",
    "C. from math import cos\n",
    "</div>\n",
    "\n",
    "<div style=\"padding: 15px; border: 1px solid transparent; border-color: transparent; margin-bottom: 5px; border-radius: 2px; color:#1C1C1C; background-color:#D3D3D3; border-color: #BEBEBE;\">\n",
    "D. from math import *\n",
    "</div>"
   ]
  },
  {
   "cell_type": "markdown",
   "metadata": {},
   "source": [
    "Câu 3: Giá trị của phép tính sau đây là\n",
    "```python\n",
    "a=9,23828\n",
    "round(a,2)\n",
    "```\n",
    "<div style=\"padding: 15px; border: 1px solid transparent; border-color: transparent; margin-bottom: 5px; border-radius: 2px; color:#1C1C1C; background-color:#D3D3D3; border-color: #BEBEBE;\">\n",
    "A. 9.238\n",
    "</div>\n",
    "\n",
    "<div style=\"padding: 15px; border: 1px solid transparent; border-color: transparent; margin-bottom: 5px; border-radius: 2px; color:#1C1C1C; background-color:#D3D3D3; border-color: #BEBEBE;\">\n",
    "B. 9.23\n",
    "</div>\n",
    "\n",
    "<div style=\"padding: 15px; border: 1px solid transparent; border-color: transparent; margin-bottom: 5px; border-radius: 2px; color:#1C1C1C; background-color:#D3D3D3; border-color: #BEBEBE;\">\n",
    "C. 923\n",
    "</div>\n",
    "\n",
    "<div style=\"padding: 15px; border: 1px solid transparent; border-color: transparent; margin-bottom: 5px; border-radius: 2px; color:#1C1C1C; background-color:#D3D3D3; border-color: #BEBEBE;\">\n",
    "D. 9.2\n",
    "</div>\n",
    "\n"
   ]
  },
  {
   "cell_type": "markdown",
   "metadata": {},
   "source": [
    "Câu 4: Cho đoạn mã sau đây kết quả là\n",
    "```python\n",
    "u=2+2j\n",
    "abs(u)\n",
    "```\n",
    "<div style=\"padding: 15px; border: 1px solid transparent; border-color: transparent; margin-bottom: 5px; border-radius: 2px; color:#1C1C1C; background-color:#D3D3D3; border-color: #BEBEBE;\">\n",
    "A. 2\n",
    "</div>\n",
    "\n",
    "<div style=\"padding: 15px; border: 1px solid transparent; border-color: transparent; margin-bottom: 5px; border-radius: 2px; color:#1C1C1C; background-color:#D3D3D3; border-color: #BEBEBE;\">\n",
    "B. 2.412\n",
    "</div>\n",
    "\n",
    "<div style=\"padding: 15px; border: 1px solid transparent; border-color: transparent; margin-bottom: 5px; border-radius: 2px; color:#1C1C1C; background-color:#D3D3D3; border-color: #BEBEBE;\">\n",
    "C. 2.828\n",
    "</div>\n",
    "\n",
    "<div style=\"padding: 15px; border: 1px solid transparent; border-color: transparent; margin-bottom: 5px; border-radius: 2px; color:#1C1C1C; background-color:#D3D3D3; border-color: #BEBEBE;\">\n",
    "D. 4\n",
    "</div>\n"
   ]
  },
  {
   "cell_type": "markdown",
   "metadata": {},
   "source": [
    "Câu 5: Hàm nào sau đây nằm trong python core?\n",
    "\n",
    "<div style=\"padding: 15px; border: 1px solid transparent; border-color: transparent; margin-bottom: 5px; border-radius: 2px; color:#1C1C1C; background-color:#D3D3D3; border-color: #BEBEBE;\">\n",
    "A. cos\n",
    "</div>\n",
    "\n",
    "<div style=\"padding: 15px; border: 1px solid transparent; border-color: transparent; margin-bottom: 5px; border-radius: 2px; color:#1C1C1C; background-color:#D3D3D3; border-color: #BEBEBE;\">\n",
    "B. pi\n",
    "</div>\n",
    "\n",
    "<div style=\"padding: 15px; border: 1px solid transparent; border-color: transparent; margin-bottom: 5px; border-radius: 2px; color:#1C1C1C; background-color:#D3D3D3; border-color: #BEBEBE;\">\n",
    "C. sum\n",
    "</div>\n",
    "\n",
    "<div style=\"padding: 15px; border: 1px solid transparent; border-color: transparent; margin-bottom: 5px; border-radius: 2px; color:#1C1C1C; background-color:#D3D3D3; border-color: #BEBEBE;\">\n",
    "D. real\n",
    "</div>\n"
   ]
  },
  {
   "cell_type": "markdown",
   "metadata": {},
   "source": [
    "Câu 6: Khi cần sinh số ngẫu nhiên trong khoảng [0, 200] ta sẽ viết là\n",
    "\n",
    "<div style=\"padding: 15px; border: 1px solid transparent; border-color: transparent; margin-bottom: 5px; border-radius: 2px; color:#1C1C1C; background-color:#D3D3D3; border-color: #BEBEBE;\">\n",
    "A. from random import *\n",
    "\n",
    "&nbsp;&nbsp;&nbsp;&nbsp;r=[0,200].random()\n",
    "</div>\n",
    "\n",
    "<div style=\"padding: 15px; border: 1px solid transparent; border-color: transparent; margin-bottom: 5px; border-radius: 2px; color:#1C1C1C; background-color:#D3D3D3; border-color: #BEBEBE;\">\n",
    "B. from random import random\n",
    "\n",
    "&nbsp;&nbsp;&nbsp;&nbsp; r=200*random()\n",
    "</div>\n",
    "\n",
    "<div style=\"padding: 15px; border: 1px solid transparent; border-color: transparent; margin-bottom: 5px; border-radius: 2px; color:#1C1C1C; background-color:#D3D3D3; border-color: #BEBEBE;\">\n",
    "C. import random\n",
    "\n",
    "&nbsp;&nbsp;&nbsp;&nbsp; r=200+random()\n",
    "</div>\n",
    "\n",
    "<div style=\"padding: 15px; border: 1px solid transparent; border-color: transparent; margin-bottom: 5px; border-radius: 2px; color:#1C1C1C; background-color:#D3D3D3; border-color: #BEBEBE;\">\n",
    "D. import random from random\n",
    "\n",
    "&nbsp;&nbsp;&nbsp;&nbsp;  r=200.random()\n",
    "</div>\n"
   ]
  },
  {
   "cell_type": "markdown",
   "metadata": {},
   "source": [
    "Câu 7: Chọn câu trả lời đúng nhất :\n",
    "<div style=\"padding: 15px; border: 1px solid transparent; border-color: transparent; margin-bottom: 5px; border-radius: 2px; color:#1C1C1C; background-color:#D3D3D3; border-color: #BEBEBE;\">\n",
    "A. Không thể tự thiết lập module cho riêng mình vì cần có sự cho phép của quản trị viên\n",
    "</div>\n",
    "\n",
    "<div style=\"padding: 15px; border: 1px solid transparent; border-color: transparent; margin-bottom: 5px; border-radius: 2px; color:#1C1C1C; background-color:#D3D3D3; border-color: #BEBEBE;\">\n",
    "B. Có thể thiết lập module riêng bằng cách định nghĩa hàm\n",
    "\n",
    "\n",
    "</div>\n",
    "\n",
    "<div style=\"padding: 15px; border: 1px solid transparent; border-color: transparent; margin-bottom: 5px; border-radius: 2px; color:#1C1C1C; background-color:#D3D3D3; border-color: #BEBEBE;\">\n",
    "C. Không thể tự thiết lập module riêng vì đó là việc của người tạo ra ngôn ngữ python\n",
    "\n",
    "</div>\n",
    "\n",
    "<div style=\"padding: 15px; border: 1px solid transparent; border-color: transparent; margin-bottom: 5px; border-radius: 2px; color:#1C1C1C; background-color:#D3D3D3; border-color: #BEBEBE;\">\n",
    "D. Có thể tự thiết lập module riêng bằng cách lưu tên file là tên module và các hàm trong module đó\n",
    "\n",
    "\n",
    "</div>\n",
    "      "
   ]
  },
  {
   "cell_type": "markdown",
   "metadata": {},
   "source": [
    "Câu 8: Từ khóa as trong lệnh import random as r có nghĩa là gì\n",
    "\n",
    "<div style=\"padding: 15px; border: 1px solid transparent; border-color: transparent; margin-bottom: 5px; border-radius: 2px; color:#1C1C1C; background-color:#D3D3D3; border-color: #BEBEBE;\">\n",
    "A. Gọi hàm r trong module random\n",
    "</div>\n",
    "\n",
    "<div style=\"padding: 15px; border: 1px solid transparent; border-color: transparent; margin-bottom: 5px; border-radius: 2px; color:#1C1C1C; background-color:#D3D3D3; border-color: #BEBEBE;\">\n",
    "B. Alias ánh xạ random thành r và có thể hiểu đây là các viết tắt của thư viện\n",
    "\n",
    "\n",
    "</div>\n",
    "\n",
    "<div style=\"padding: 15px; border: 1px solid transparent; border-color: transparent; margin-bottom: 5px; border-radius: 2px; color:#1C1C1C; background-color:#D3D3D3; border-color: #BEBEBE;\">\n",
    "C. Sử dụng module r trong random\n",
    "\n",
    "</div>\n",
    "\n",
    "<div style=\"padding: 15px; border: 1px solid transparent; border-color: transparent; margin-bottom: 5px; border-radius: 2px; color:#1C1C1C; background-color:#D3D3D3; border-color: #BEBEBE;\">\n",
    "D. Làm sạch module random \n",
    "\n",
    "\n",
    "</div>"
   ]
  },
  {
   "cell_type": "markdown",
   "metadata": {},
   "source": [
    "Câu 9: Cho đoạn mã sau hãy xác định giá trị của m là\n",
    "```python\n",
    "import random as r\n",
    "m=r.choice(range(2,100,2))\n",
    "```\n",
    "<div style=\"padding: 15px; border: 1px solid transparent; border-color: transparent; margin-bottom: 5px; border-radius: 2px; color:#1C1C1C; background-color:#D3D3D3; border-color: #BEBEBE;\">\n",
    "A. 100\n",
    "</div>\n",
    "\n",
    "<div style=\"padding: 15px; border: 1px solid transparent; border-color: transparent; margin-bottom: 5px; border-radius: 2px; color:#1C1C1C; background-color:#D3D3D3; border-color: #BEBEBE;\">\n",
    "B. 4\n",
    "\n",
    "\n",
    "</div>\n",
    "\n",
    "<div style=\"padding: 15px; border: 1px solid transparent; border-color: transparent; margin-bottom: 5px; border-radius: 2px; color:#1C1C1C; background-color:#D3D3D3; border-color: #BEBEBE;\">\n",
    "C. Một giá trị ngẫu nhiên từ 2 đến 100\n",
    "\n",
    "</div>\n",
    "\n",
    "<div style=\"padding: 15px; border: 1px solid transparent; border-color: transparent; margin-bottom: 5px; border-radius: 2px; color:#1C1C1C; background-color:#D3D3D3; border-color: #BEBEBE;\">\n",
    "D. Một giá trị chẵn ngẫu nhiên từ 2 đến 100\n",
    "\n",
    "\n",
    "</div>"
   ]
  },
  {
   "cell_type": "markdown",
   "metadata": {},
   "source": [
    "Câu 10: Hàm random() trong câu lệnh sau có giá trị là\n",
    "```python\n",
    "import random as r\n",
    "r.random()\n",
    "```\n",
    "<div style=\"padding: 15px; border: 1px solid transparent; border-color: transparent; margin-bottom: 5px; border-radius: 2px; color:#1C1C1C; background-color:#D3D3D3; border-color: #BEBEBE;\">\n",
    "A. Một số nguyên bất kỳ\n",
    "</div>\n",
    "\n",
    "<div style=\"padding: 15px; border: 1px solid transparent; border-color: transparent; margin-bottom: 5px; border-radius: 2px; color:#1C1C1C; background-color:#D3D3D3; border-color: #BEBEBE;\">\n",
    "B. Một số thực bất kỳ từ 0 đến 1\n",
    "\n",
    "\n",
    "</div>\n",
    "\n",
    "<div style=\"padding: 15px; border: 1px solid transparent; border-color: transparent; margin-bottom: 5px; border-radius: 2px; color:#1C1C1C; background-color:#D3D3D3; border-color: #BEBEBE;\">\n",
    "C. Một số nguyên bất kỳ từ 0 đến 1\n",
    "\n",
    "</div>\n",
    "\n",
    "<div style=\"padding: 15px; border: 1px solid transparent; border-color: transparent; margin-bottom: 5px; border-radius: 2px; color:#1C1C1C; background-color:#D3D3D3; border-color: #BEBEBE;\">\n",
    "D. Một số thực bất kỳ\n",
    "\n",
    "\n",
    "</div>"
   ]
  },
  {
   "cell_type": "markdown",
   "metadata": {},
   "source": [
    "---\n",
    "## B. Rèn luyện viết mã code"
   ]
  },
  {
   "cell_type": "markdown",
   "metadata": {},
   "source": [
    "Câu 11: Tính diện tích tam giác với độ dài a, b, c theo công thức sau đây:\n",
    "\n",
    "$S$ = $\\sqrt{p(p-a)(p-b)(p-c)}$\n",
    "\n",
    "Với p là nữa chu vi của tam giác."
   ]
  },
  {
   "cell_type": "markdown",
   "metadata": {},
   "source": [
    "Câu 12: Tính diện tích hình tròn biết công thức $S$ = $π*r^2$."
   ]
  },
  {
   "cell_type": "markdown",
   "metadata": {},
   "source": [
    "Câu 13: Viết hàm kiểm tra 2 số phải là số đối xứng hay không."
   ]
  },
  {
   "cell_type": "markdown",
   "metadata": {},
   "source": [
    "Câu 14: Viết hàm tính độ dài cạnh huyền của tam giác vuông khi biết 2 cạnh góc vuông."
   ]
  },
  {
   "cell_type": "markdown",
   "metadata": {},
   "source": [
    "Câu 15: Viết hàm tính độ dài của một cạnh bất kỳ của tam giác khi biết 2 cạnh còn lại và góc kẹp giữa."
   ]
  },
  {
   "cell_type": "markdown",
   "metadata": {},
   "source": [
    "---\n",
    "# <span style= 'color:blue'> Đáp án </span> "
   ]
  },
  {
   "cell_type": "markdown",
   "metadata": {},
   "source": [
    "<div style=\"padding: 15px; border: 1px solid transparent; border-color: transparent; margin-bottom: 5px; border-radius: 2px; color: #3c763d; background-color: #dff0d8; border-color: #d6e9c6;\">\n",
    "1.C\n",
    "</div>\n",
    "\n",
    "<div style=\"padding: 15px; border: 1px solid transparent; border-color: transparent; margin-bottom: 5px; border-radius: 2px; color: #3c763d; background-color: #dff0d8; border-color: #d6e9c6;\">\n",
    "2.B\n",
    "</div>\n",
    "\n",
    "<div style=\"padding: 15px; border: 1px solid transparent; border-color: transparent; margin-bottom: 5px; border-radius: 2px; color: #3c763d; background-color: #dff0d8; border-color: #d6e9c6;\">\n",
    "3.B\n",
    "</div>\n",
    "\n",
    "<div style=\"padding: 15px; border: 1px solid transparent; border-color: transparent; margin-bottom: 5px; border-radius: 2px; color: #3c763d; background-color: #dff0d8; border-color: #d6e9c6;\">\n",
    "4.C\n",
    "</div>\n",
    "\n",
    "<div style=\"padding: 15px; border: 1px solid transparent; border-color: transparent; margin-bottom: 5px; border-radius: 2px; color: #3c763d; background-color: #dff0d8; border-color: #d6e9c6;\">\n",
    "5.C\n",
    "</div>\n",
    "\n",
    "<div style=\"padding: 15px; border: 1px solid transparent; border-color: transparent; margin-bottom: 5px; border-radius: 2px; color: #3c763d; background-color: #dff0d8; border-color: #d6e9c6;\">\n",
    "6.B\n",
    "</div>\n",
    "\n",
    "<div style=\"padding: 15px; border: 1px solid transparent; border-color: transparent; margin-bottom: 5px; border-radius: 2px; color: #3c763d; background-color: #dff0d8; border-color: #d6e9c6;\">\n",
    "7.D\n",
    "</div>\n",
    "\n",
    "<div style=\"padding: 15px; border: 1px solid transparent; border-color: transparent; margin-bottom: 5px; border-radius: 2px; color: #3c763d; background-color: #dff0d8; border-color: #d6e9c6;\">\n",
    "8.B\n",
    "</div>\n",
    "\n",
    "<div style=\"padding: 15px; border: 1px solid transparent; border-color: transparent; margin-bottom: 5px; border-radius: 2px; color: #3c763d; background-color: #dff0d8; border-color: #d6e9c6;\">\n",
    "9.D\n",
    "</div>\n",
    "\n",
    "<div style=\"padding: 15px; border: 1px solid transparent; border-color: transparent; margin-bottom: 5px; border-radius: 2px; color: #3c763d; background-color: #dff0d8; border-color: #d6e9c6;\">\n",
    "10.B\n",
    "</div>"
   ]
  },
  {
   "cell_type": "code",
   "execution_count": 28,
   "metadata": {},
   "outputs": [
    {
     "name": "stdout",
     "output_type": "stream",
     "text": [
      "Nhập độ dài a: 4\n",
      "Nhập độ dài b: 5\n",
      "Nhập độ dài c: 3\n"
     ]
    },
    {
     "data": {
      "text/plain": [
       "77.76888838089432"
      ]
     },
     "execution_count": 28,
     "metadata": {},
     "output_type": "execute_result"
    }
   ],
   "source": [
    "#11\n",
    "a=float(input(\"Nhập độ dài a: \"))\n",
    "b=float(input(\"Nhập độ dài b: \"))\n",
    "c=float(input(\"Nhập độ dài c: \"))\n",
    "import math \n",
    "def Area_Triangle(a,b,c):\n",
    "    p=(a+b+c)\n",
    "    s=math.sqrt(p*(p-a)*(p-b)*(p-c))\n",
    "    return s\n",
    "Area_Triangle(a,b,c)"
   ]
  },
  {
   "cell_type": "code",
   "execution_count": 29,
   "metadata": {},
   "outputs": [
    {
     "name": "stdout",
     "output_type": "stream",
     "text": [
      "Nhập bán kính r: 3.4\n"
     ]
    },
    {
     "data": {
      "text/plain": [
       "36.316811075498"
      ]
     },
     "execution_count": 29,
     "metadata": {},
     "output_type": "execute_result"
    }
   ],
   "source": [
    "#12\n",
    "r=float(input(\"Nhập bán kính r: \"))\n",
    "import math\n",
    "def Area_Circle():\n",
    "    s=math.pi *math.pow(r,2)\n",
    "    return s\n",
    "Area_Circle()"
   ]
  },
  {
   "cell_type": "code",
   "execution_count": 30,
   "metadata": {},
   "outputs": [
    {
     "name": "stdout",
     "output_type": "stream",
     "text": [
      "Nhập giá trị m: 3\n",
      "Nhập giá trị n: -4\n",
      "m và n không đối xứng\n"
     ]
    }
   ],
   "source": [
    "#13\n",
    "m=float(input(\"Nhập giá trị m: \"))\n",
    "n=float(input(\"Nhập giá trị n: \"))\n",
    "def Symmetry(a,b):\n",
    "    if m<0:\n",
    "        if abs(m)==n:\n",
    "            print(\"m và n đối xứng với nhau\")\n",
    "        else:\n",
    "            print(\"m và n không đối xứng\")\n",
    "    elif n<0:\n",
    "        if abs(n)==m:\n",
    "            print(\"m và n đối xứng với nhau\")\n",
    "        else:\n",
    "            print(\"m và n không đối xứng\")\n",
    "    else:\n",
    "        print(\"m và n không đối xứng\")\n",
    "Symmetry(m,n)\n",
    "    "
   ]
  },
  {
   "cell_type": "code",
   "execution_count": 31,
   "metadata": {},
   "outputs": [
    {
     "name": "stdout",
     "output_type": "stream",
     "text": [
      "Nhập độ dài cạnh góc vuông a: 4.5\n",
      "Nhập độ dài cạnh góc vuông b: 3\n"
     ]
    },
    {
     "data": {
      "text/plain": [
       "5.408326913195984"
      ]
     },
     "execution_count": 31,
     "metadata": {},
     "output_type": "execute_result"
    }
   ],
   "source": [
    "#14\n",
    "a=float(input(\"Nhập độ dài cạnh góc vuông a: \"))\n",
    "b=float(input(\"Nhập độ dài cạnh góc vuông b: \"))\n",
    "import math\n",
    "def hypotenuse(x,y):\n",
    "    c=math.sqrt(math.pow(a,2)+math.pow(b,2))\n",
    "    return c\n",
    "hypotenuse(a,b)"
   ]
  },
  {
   "cell_type": "code",
   "execution_count": 32,
   "metadata": {},
   "outputs": [
    {
     "name": "stdout",
     "output_type": "stream",
     "text": [
      "Nhập độ dài cạnh a: 5\n",
      "Nhập độ dài cạnh b: 6\n",
      "Nhập góc giữa a và b: 60\n"
     ]
    },
    {
     "data": {
      "text/plain": [
       "5.5677643628300215"
      ]
     },
     "execution_count": 32,
     "metadata": {},
     "output_type": "execute_result"
    }
   ],
   "source": [
    "#15\n",
    "a=float(input(\"Nhập độ dài cạnh a: \"))\n",
    "b=float(input(\"Nhập độ dài cạnh b: \"))\n",
    "import math\n",
    "angle=float(input(\"Nhập góc giữa a và b: \"))\n",
    "def Edge_c(x,y,angle):\n",
    "    c=math.sqrt(math.pow(x,2)+math.pow(y,2)-2*x*y*math.cos(angle*math.pi/180))\n",
    "    return c\n",
    "Edge_c(a,b,angle)"
   ]
  },
  {
   "cell_type": "code",
   "execution_count": null,
   "metadata": {},
   "outputs": [],
   "source": []
  }
 ],
 "metadata": {
  "kernelspec": {
   "display_name": "Python 3",
   "language": "python",
   "name": "python3"
  },
  "language_info": {
   "codemirror_mode": {
    "name": "ipython",
    "version": 3
   },
   "file_extension": ".py",
   "mimetype": "text/x-python",
   "name": "python",
   "nbconvert_exporter": "python",
   "pygments_lexer": "ipython3",
   "version": "3.7.0"
  }
 },
 "nbformat": 4,
 "nbformat_minor": 2
}
