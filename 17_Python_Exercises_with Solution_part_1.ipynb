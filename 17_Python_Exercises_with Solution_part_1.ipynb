{
 "cells": [
  {
   "cell_type": "markdown",
   "metadata": {},
   "source": [
    "<img align=\"center\" width=\"500\" height=\"500\" src=\"https://hoangtronganhlinh.files.wordpress.com/2015/10/daosi.jpg\">\n"
   ]
  },
  {
   "cell_type": "markdown",
   "metadata": {},
   "source": [
    "# Hệ thống tu luyện coder, developer gồm các cấp bậc như sau:\n",
    "\n",
    "+ Đấu Khí: Giúp ta có cái nhìn về cách viết mã, cách máy tính vận hành,...\n",
    "\n",
    "+ Đấu Giả: Có thể viết được chương trình đơn giản hiểu rõ kiến thức của ngôn ngữ lập trình đang học.\n",
    "\n",
    "+ Đấu Sư: Thành thạo cấu trúc dữ liệu và giải thuật\n",
    "\n",
    "+ Đại đấu sư: Hiểu rõ lập trình hướng đối tượng oop\n",
    "\n",
    "+ Đấu Linh: Biết cách triển khai một cơ sở dữ liệu dùng ngôn ngữ truy vấn\n",
    "\n",
    "+ Đấu Vương: Tìm hiểu thêm các thư viện cho thị giác máy, học máy, trí tuệ nhân tạo, xử lý file json, xml, framework django,... \n",
    "\n",
    "+ Đấu hoàng: Có trên 2 năm kinh nghiệm làm việc ở công ty.\n",
    "\n",
    "+ Đấu Tông: Có trên 5 năm kinh nghiệm làm việc ở công ty.\n",
    "\n",
    "+ Đấu Tôn: Có trên 10 năm kinh nghiệm làm việc ở công ty.\n",
    "\n",
    "+ Đấu Thánh: Có trên 10 năm kinh nghiệm làm việc ở công ty và hiểu rõ, thành thạo toàn bộ ứng dụng của ngôn ngữ chuyên môn và các ngôn ngữ khác \n",
    "\n",
    "+ Đấu Đế: Có thể sáng lập ra một ngôn ngữ khác dựa trên những điểm mạnh của từng loại.\n",
    "\n",
    "Chúng ta đã trải qua 16 bài học về ngôn ngữ lặp trình python cơ bản mỗi chương có khoảng 15 câu hỏi sẽ có thể giúp bạn nắm một chút về kiến thức python nhưng điều đó chưa đủ vì vậy chúng ta cần phải luyện thêm bài tập để nâng cao trình độ, các kỹ thuật sau đây là 199 câu hỏi được mình tự soạn và tham khảo ở các trang web như: quantrimang, w3resource, ... nếu bạn làm đầy đủ hết thì sẽ có thể tiến đến cấp độ đấu giả."
   ]
  },
  {
   "cell_type": "markdown",
   "metadata": {},
   "source": [
    "**Câu 1:** Viết chương trình Python in ra định dạng như sau:\n",
    "\n",
    "\n",
    "<div style=\"padding: 15px; border: 2px solid transparent; border-color: transparent; margin-bottom: 5px; margin-top: 10px;border-radius: 2px; color: #000000; background-color:#A4D3EE; border-color: #FFD39B;Width:60%\">\n",
    "HelloWorld! ...\n",
    "    \n",
    "..3\n",
    "\n",
    "...2\n",
    "\n",
    "....1\n",
    "</div>\n"
   ]
  },
  {
   "cell_type": "code",
   "execution_count": 1,
   "metadata": {},
   "outputs": [
    {
     "name": "stdout",
     "output_type": "stream",
     "text": [
      "HelloWorld...\n",
      "..3\n",
      "...2\n",
      "....1\n"
     ]
    }
   ],
   "source": [
    "print(\"HelloWorld...\");print(\"..3\");print(\"...2\");print(\"....1\")"
   ]
  },
  {
   "cell_type": "markdown",
   "metadata": {},
   "source": [
    "**Câu 2:** Viết chương trình nhập từ bàn phím các số cách nhau bởi dấu cách hãy chuyển thành kiểu list.\n",
    "<div style=\"padding: 15px; border: 2px solid transparent; border-color: transparent; margin-bottom: 5px; margin-top: 10px;border-radius: 2px; color: #000000; background-color:#A4D3EE; border-color: #FFD39B;Width:60%\">\n",
    "\n",
    "Example:\n",
    "\n",
    "Input: 2 5 7 8 \n",
    "\n",
    "Output: [2, 5, 7, 8]\n",
    "</div>\n"
   ]
  },
  {
   "cell_type": "code",
   "execution_count": 2,
   "metadata": {},
   "outputs": [
    {
     "name": "stdout",
     "output_type": "stream",
     "text": [
      "Nhập các số: 2 5 7 8\n",
      "Danh sách [2, 5, 7, 8]\n"
     ]
    }
   ],
   "source": [
    "n_values=input(\"Nhập các số: \")\n",
    "l= n_values.split(\" \")\n",
    "l_new=[int(i) for i in l]\n",
    "print('Danh sách',l_new)"
   ]
  },
  {
   "cell_type": "markdown",
   "metadata": {},
   "source": [
    "**Câu 3:** Viết một chương trình có thể tính giai thừa của một số cho trước.\n",
    "<div style=\"padding: 15px; border: 2px solid transparent; border-color: transparent; margin-bottom: 5px; margin-top: 10px;border-radius: 2px; color: #000000; background-color:#A4D3EE; border-color: #FFD39B;Width:60%\">\n",
    "\n",
    "Example:\n",
    "\n",
    "Input: n = 5\n",
    "\n",
    "Output: 120\n",
    "</div>\n"
   ]
  },
  {
   "cell_type": "code",
   "execution_count": 3,
   "metadata": {},
   "outputs": [
    {
     "name": "stdout",
     "output_type": "stream",
     "text": [
      "Nhập số cần tính giai thừa:5\n"
     ]
    },
    {
     "data": {
      "text/plain": [
       "120"
      ]
     },
     "execution_count": 3,
     "metadata": {},
     "output_type": "execute_result"
    }
   ],
   "source": [
    "x=int(input(\"Nhập số cần tính giai thừa:\"))\n",
    "def fact(x):\n",
    "    if x == 0:\n",
    "        return 1\n",
    "    return x * fact(x - 1)\n",
    "fact(x)"
   ]
  },
  {
   "cell_type": "markdown",
   "metadata": {},
   "source": [
    "**Câu 4:** Viết chương trình in ra tài liệu hướng dẫn sử dụng hàm abs() trong python lõi nằm trong built-in function."
   ]
  },
  {
   "cell_type": "code",
   "execution_count": 4,
   "metadata": {},
   "outputs": [
    {
     "data": {
      "text/plain": [
       "'Return the absolute value of the argument.'"
      ]
     },
     "execution_count": 4,
     "metadata": {},
     "output_type": "execute_result"
    }
   ],
   "source": [
    "abs.__doc__"
   ]
  },
  {
   "cell_type": "markdown",
   "metadata": {},
   "source": [
    "**Câu 5:** Hãy dùng các phép tính số học để tính nhưng phép tính như sau:\n",
    "\n",
    "<div style=\"padding: 15px; border: 2px solid transparent; border-color: transparent; margin-bottom: 5px; margin-top: 10px;border-radius: 2px; color: #000000; background-color:#A4D3EE; border-color: #FFD39B;Width:60%\">\n",
    "\n",
    "a = 15; b = 12; c = 4; d = 3\n",
    "\n",
    "a + b = ???\n",
    "\n",
    "a - c = ???\n",
    "\n",
    "a / d = ???\n",
    "\n",
    "a % c = ???\n",
    "\n",
    "</div>\n"
   ]
  },
  {
   "cell_type": "code",
   "execution_count": 5,
   "metadata": {},
   "outputs": [
    {
     "name": "stdout",
     "output_type": "stream",
     "text": [
      "a+b = 3\n",
      "a-c= 11\n",
      "a/d=  5.0\n",
      "a%c= 3\n"
     ]
    }
   ],
   "source": [
    "a = 15; b = 12; c = 4; d = 3\n",
    "print(\"a+b = \"+str(a%b))\n",
    "print(\"a-c= %d\"%(a-c))\n",
    "print(\"a/d= \",a/d)\n",
    "print(\"a%c= \"+str(a%c))"
   ]
  },
  {
   "cell_type": "markdown",
   "metadata": {},
   "source": [
    "**Câu 6:** Sử dụng thư viện datetime hãy xác định ngày, tháng, năm, giờ hiện tại."
   ]
  },
  {
   "cell_type": "code",
   "execution_count": 6,
   "metadata": {},
   "outputs": [
    {
     "name": "stdout",
     "output_type": "stream",
     "text": [
      "Bây giờ là: \n",
      "2022-07-15 17:30:28\n"
     ]
    }
   ],
   "source": [
    "import datetime\n",
    "now = datetime.datetime.now()\n",
    "print (\"Bây giờ là: \")\n",
    "print (now.strftime(\"%Y-%m-%d %H:%M:%S\"))"
   ]
  },
  {
   "cell_type": "markdown",
   "metadata": {},
   "source": [
    "**Câu 7:** Hãy viết chương trình tính chu vi và diện tích hình chữ nhật:\n",
    "<div style=\"padding: 15px; border: 2px solid transparent; border-color: transparent; margin-bottom: 5px; margin-top: 10px;border-radius: 2px; color: #000000; background-color:#A4D3EE; border-color: #FFD39B;Width:60%\">\n",
    "\n",
    "Input: a = 5, b = 9\n",
    "\n",
    "Output:\n",
    "\n",
    "Perimeter: 28\n",
    "\n",
    "Area: 45\n",
    "\n",
    "</div>\n"
   ]
  },
  {
   "cell_type": "code",
   "execution_count": 7,
   "metadata": {},
   "outputs": [
    {
     "name": "stdout",
     "output_type": "stream",
     "text": [
      "Perimeter: 28\n",
      "Area: 45\n"
     ]
    }
   ],
   "source": [
    "a=5;b=9\n",
    "peri=(a+b)*2\n",
    "area=a*b\n",
    "print(\"Perimeter: \"+str(peri),\"Area: \"+str(area),sep='\\n')"
   ]
  },
  {
   "cell_type": "markdown",
   "metadata": {},
   "source": [
    "**Câu 8:** Nhập vào tọa độ 2 điểm A(xA, yA) và B(xB, yB). Tính khoảng cách AB.\n",
    "\n",
    "<div style=\"padding: 15px; border: 2px solid transparent; border-color: transparent; margin-bottom: 5px; margin-top: 10px;border-radius: 2px; color: #000000; background-color:#A4D3EE; border-color: #FFD39B;Width:60%\">\n",
    "\n",
    "Input: A(4,6), B(1,2)\n",
    "\n",
    "Output: Distance = 5\n",
    "</div>\n"
   ]
  },
  {
   "cell_type": "code",
   "execution_count": 8,
   "metadata": {},
   "outputs": [
    {
     "name": "stdout",
     "output_type": "stream",
     "text": [
      "Nhập vào xA: 4\n",
      "Nhập vào yA: 6\n",
      "Nhập vào xB: 1\n",
      "Nhập vào yB: 2\n",
      "Khoảng cách là: 5\n"
     ]
    }
   ],
   "source": [
    "from math import sqrt\n",
    "xA=float(input(\"Nhập vào xA: \"))\n",
    "yA=float(input(\"Nhập vào yA: \"))\n",
    "xB=float(input(\"Nhập vào xB: \"))\n",
    "yB=float(input(\"Nhập vào yB: \"))\n",
    "distance=sqrt(pow((xA-xB),2)+pow((yA-yB),2))\n",
    "print(\"Khoảng cách là:\",int(distance))"
   ]
  },
  {
   "cell_type": "markdown",
   "metadata": {},
   "source": [
    "**Câu 9:** Viết chương trình giải phương trình bậc 1: ax + b = 0 (a, b nhập từ bàn phím)."
   ]
  },
  {
   "cell_type": "code",
   "execution_count": 9,
   "metadata": {},
   "outputs": [
    {
     "name": "stdout",
     "output_type": "stream",
     "text": [
      "Giải phương trình bậc 1 ax+b = 0\n",
      "Nhập vào giá trị a: 3\n",
      "Nhập vào giá trị b: 4\n",
      "Phương trình ax+b=0 có nghiệm là: -1.3333333333333333\n"
     ]
    }
   ],
   "source": [
    "print(\"Giải phương trình bậc 1 ax+b = 0\")\n",
    "a=float(input(\"Nhập vào giá trị a: \"))\n",
    "b=float(input(\"Nhập vào giá trị b: \"))\n",
    "if a==0:\n",
    "    print(\"Phương trình vô số nghiệm\")\n",
    "else:\n",
    "    x=-b/a\n",
    "    print(\"Phương trình ax+b=0 có nghiệm là: \"+str(x))"
   ]
  },
  {
   "cell_type": "markdown",
   "metadata": {},
   "source": [
    "**Câu 10:** Viết chương trình tính diện tích xung quanh, diện tích toàn phần của hình hộp chữ nhật (height, width, length nhập từ bàn phím)."
   ]
  },
  {
   "cell_type": "code",
   "execution_count": 10,
   "metadata": {},
   "outputs": [
    {
     "name": "stdout",
     "output_type": "stream",
     "text": [
      "Nhập vào chiều dài: 5\n",
      "Nhập vào chiều rộng: 4\n",
      "Nhập vào chiều cao: 3\n",
      "Diện tích xung quanh: 54.0\n",
      "Diện tích toàn phần: 94.0\n"
     ]
    }
   ],
   "source": [
    "l=float(input(\"Nhập vào chiều dài: \"))\n",
    "w=float(input(\"Nhập vào chiều rộng: \"))\n",
    "h=float(input(\"Nhập vào chiều cao: \"))\n",
    "sur_area=2*l*h+2*w*h\n",
    "total_area=sur_area+2*l*w\n",
    "print('Diện tích xung quanh:',sur_area)\n",
    "print('Diện tích toàn phần:',total_area)"
   ]
  },
  {
   "cell_type": "markdown",
   "metadata": {},
   "source": [
    "**Câu 11:** Viết chương trình tính chu vi và diện tích hình tròn với bán kính r nhập từ bàn phím."
   ]
  },
  {
   "cell_type": "code",
   "execution_count": 11,
   "metadata": {},
   "outputs": [
    {
     "name": "stdout",
     "output_type": "stream",
     "text": [
      "Nhập vào bán kính r: 3.2\n",
      "Chu vi hình tròn: 20.106192982974676\n",
      "Diện tích hình tròn: 32.169908772759484\n"
     ]
    }
   ],
   "source": [
    "from math import pi\n",
    "r=float(input(\"Nhập vào bán kính r: \"))\n",
    "peri_circle=2*pi*r\n",
    "area_circle=pi*r**2\n",
    "print('Chu vi hình tròn:',peri_circle)\n",
    "print('Diện tích hình tròn:',area_circle)"
   ]
  },
  {
   "cell_type": "markdown",
   "metadata": {},
   "source": [
    "**Câu 12:**  Nhập vào hai số nguyên dương a, b. Tính ước số chung lớn nhất và bội số\n",
    "chung nhỏ nhất của a, b.\n",
    "<div style=\"padding: 15px; border: 2px solid transparent; border-color: transparent; margin-bottom: 5px; margin-top: 10px;border-radius: 2px; color: #000000; background-color:#A4D3EE; border-color: #FFD39B;Width:60%\">\n",
    "\n",
    "Input: a = 5, b = 10\n",
    "\n",
    "Output: UCLN = 5, BCNN = 10\n",
    "</div>"
   ]
  },
  {
   "cell_type": "code",
   "execution_count": 12,
   "metadata": {},
   "outputs": [
    {
     "name": "stdout",
     "output_type": "stream",
     "text": [
      "Nhập a: 10\n",
      "Nhập b: 5\n",
      "Bội chung nhỏ nhất của a và b là: 10\n",
      "Ước chung lớn nhất của a và b là 5\n"
     ]
    }
   ],
   "source": [
    "a=int(input(\"Nhập a: \"))\n",
    "b=int(input(\"Nhập b: \"))\n",
    "i=0\n",
    "while(i<=a*b):\n",
    "    if i%a==0 and i%b==0 and i!=0:\n",
    "        print(\"Bội chung nhỏ nhất của a và b là:\",i)\n",
    "        break\n",
    "    else:\n",
    "        i+=1\n",
    "while a!=b:\n",
    "    if a>b:\n",
    "        a=a-b\n",
    "    else:\n",
    "        b=b-a\n",
    "print(\"Ước chung lớn nhất của a và b là\",a)"
   ]
  },
  {
   "cell_type": "markdown",
   "metadata": {},
   "source": [
    "**Câu 13:** Viết chương trình nhập vào tọa độ (xO, yO) là tâm của một đường tròn, và R là bán kính của đường tròn đó. Nhập vào tọa độ (xM, yM) của điểm M. Xác định điểm M nằm trong, nằm trên hay nằm ngoài đường tròn."
   ]
  },
  {
   "cell_type": "code",
   "execution_count": 13,
   "metadata": {},
   "outputs": [
    {
     "name": "stdout",
     "output_type": "stream",
     "text": [
      "Nhập vào xO: 3\n",
      "Nhập vào yO: 3\n",
      "Nhập vào bán kính r: 3.5\n",
      "Nhập vào xM: 9\n",
      "Nhập vào yM: 10\n",
      "M nằm ngoài đường tròn bán kính 3.50\n"
     ]
    }
   ],
   "source": [
    "from math import sqrt\n",
    "xO=float(input(\"Nhập vào xO: \"))\n",
    "yO=float(input(\"Nhập vào yO: \"))\n",
    "radius=float(input(\"Nhập vào bán kính r: \"))\n",
    "xM=float(input(\"Nhập vào xM: \"))\n",
    "yM=float(input(\"Nhập vào yM: \"))\n",
    "distance=sqrt(pow((xO-xM),2)+pow((yO-yM),2))\n",
    "if distance>radius:\n",
    "    print(\"M nằm ngoài đường tròn bán kính %.2f\"%radius)\n",
    "elif distance==radius:\n",
    "    print(\"M nằm trên đường tròn bán kính %.2f\"%radius)\n",
    "else:\n",
    "    print(\"M nằm trong đường tròn bán kính %.2f\"%radius)"
   ]
  },
  {
   "cell_type": "markdown",
   "metadata": {},
   "source": [
    "**Câu 14:** Viết chương trình giải phương trình bậc 2: $ax^2 + bx + c = 0$ (a, b, c nhập từ bàn phím), xét tất cả các trường hợp có thể."
   ]
  },
  {
   "cell_type": "code",
   "execution_count": 14,
   "metadata": {},
   "outputs": [
    {
     "name": "stdout",
     "output_type": "stream",
     "text": [
      "Giải phương trình bậc 2 ax^2 + bx+ c = 0 \n",
      "Nhập vào giá trị a: 2\n",
      "Nhập vào giá trị b: 9\n",
      "Nhập vào giá trị c: 4\n",
      "Nghiệm x1 là -2.0\n",
      "Nghiệm x2 là -16.0\n"
     ]
    }
   ],
   "source": [
    "from math import sqrt\n",
    "print(\"Giải phương trình bậc 2 ax^2 + bx+ c = 0 \")\n",
    "a=float(input(\"Nhập vào giá trị a: \"))\n",
    "b=float(input(\"Nhập vào giá trị b: \"))\n",
    "c=float(input(\"Nhập vào giá trị c: \"))\n",
    "delta=pow(b,2)-4*a*c\n",
    "if delta<0:\n",
    "    print(\"Phương trình vô nghiệm\")\n",
    "elif delta==0:\n",
    "    print(\"Phương trình có nghiệm kép:\",-b/(2*a))\n",
    "else:\n",
    "    x1=(-b+sqrt(delta))/2*a\n",
    "    x2=(-b-sqrt(delta))/2*a\n",
    "    print(\"Nghiệm x1 là\",x1)\n",
    "    print(\"Nghiệm x2 là\",x2)"
   ]
  },
  {
   "cell_type": "markdown",
   "metadata": {},
   "source": [
    "**Câu 15:** Viết chương trình giải hệ phương trình 2 ẩn: \n",
    "$$\n",
    " \\left\\{\n",
    "    \\begin{array}\n",
    "        \\\\a_1x+b_1y = c_1 \\\\\n",
    "        \\\\a_2x+b_2y = c_2 \\\\ \n",
    "    \\end{array}\n",
    "\\right.\n",
    "$$\n"
   ]
  },
  {
   "cell_type": "code",
   "execution_count": 15,
   "metadata": {},
   "outputs": [
    {
     "name": "stdout",
     "output_type": "stream",
     "text": [
      "Giải hệ phương trình 2 ẩn:\n",
      " a1x^2 + b1y=c1\n",
      " a2^2 + b2y=c2\n",
      "Nhập a1: 2\n",
      "Nhập b1: 4\n",
      "Nhập c1: 5\n",
      "Nhập a2: 3\n",
      "Nhập b2: 8\n",
      "Nhập c2: 4\n",
      "Nghiệm của hệ phương trình x: 6.0 và y: -1.75\n"
     ]
    }
   ],
   "source": [
    "print(\"Giải hệ phương trình 2 ẩn:\\n a1x^2 + b1y=c1\\n a2^2 + b2y=c2\")\n",
    "a1=float(input(\"Nhập a1: \"))\n",
    "b1=float(input(\"Nhập b1: \"))\n",
    "c1=float(input(\"Nhập c1: \"))\n",
    "a2=float(input(\"Nhập a2: \"))\n",
    "b2=float(input(\"Nhập b2: \"))\n",
    "c2=float(input(\"Nhập c2: \"))\n",
    "detD=a1*b2-a2*b1\n",
    "detDx=c1*b2-c2*b1\n",
    "detDy=a1*c2-a2*c1\n",
    "if detD!=0:\n",
    "    x=detDx/detD\n",
    "    y=detDy/detD\n",
    "    print(\"Nghiệm của hệ phương trình x: \"+str(x)+\" và y: \"+str(y))\n",
    "elif detD==0 and detDx!=0 or detDy!=0:\n",
    "    print(\"Hệ phương trình vô nghiệm\")\n",
    "else:\n",
    "    print(\"Hệ phương trình vô số nghiệm\")"
   ]
  },
  {
   "cell_type": "markdown",
   "metadata": {},
   "source": [
    "**Câu 16:** Viết chương trình liệt kê, đếm và tính tổng các ước số của số nguyên dương n (n nhập từ bàn phím).\n",
    "<div style=\"padding: 15px; border: 2px solid transparent; border-color: transparent; margin-bottom: 5px; margin-top: 10px;border-radius: 2px; color: #000000; background-color:#A4D3EE; border-color: #FFD39B;Width:60%\">\n",
    "\n",
    "Input: n = 13\n",
    "\n",
    "Output: Sum = 14\n",
    "</div>"
   ]
  },
  {
   "cell_type": "code",
   "execution_count": 16,
   "metadata": {},
   "outputs": [
    {
     "name": "stdout",
     "output_type": "stream",
     "text": [
      "Nhập n: 13\n",
      "Tổng ước là 14\n"
     ]
    }
   ],
   "source": [
    "n=int(input(\"Nhập n: \"))\n",
    "i=1\n",
    "Sum=0\n",
    "while(i<=n):\n",
    "    if n%i==0:\n",
    "        Sum=Sum+i\n",
    "    i+=1\n",
    "print(\"Tổng ước là\",Sum)"
   ]
  },
  {
   "cell_type": "markdown",
   "metadata": {},
   "source": [
    "**Câu 17:**  Viết chương trình tìm các số hoàn hảo (perfect number) nhỏ hơn một số nguyên dương n cho trước. Biết rằng số hoàn hảo là số nguyên dương, bằng tổng các ước số thực sự của nó.\n",
    "\n",
    "<div style=\"padding: 15px; border: 2px solid transparent; border-color: transparent; margin-bottom: 5px; margin-top: 10px;border-radius: 2px; color: #000000; background-color:#A4D3EE; border-color: #FFD39B;Width:60%\">\n",
    "\n",
    "\n",
    "Example : 28 = 14 + 7 + 4 + 2 + 1\n",
    "\n",
    "Input: n = 28\n",
    "\n",
    "Output: 28 là số hoàn hảo\n",
    "</div>\n"
   ]
  },
  {
   "cell_type": "code",
   "execution_count": 17,
   "metadata": {},
   "outputs": [
    {
     "name": "stdout",
     "output_type": "stream",
     "text": [
      "Nhập n: 28\n",
      "28 là số hoàn hảo\n"
     ]
    }
   ],
   "source": [
    "n=int(input(\"Nhập n: \"))\n",
    "i=1\n",
    "s=0\n",
    "while(i<n):\n",
    "    if n%i==0:\n",
    "        s=s+i\n",
    "    i+=1\n",
    "if s==n:\n",
    "    print(str(n)+\" là số hoàn hảo\")\n",
    "else:\n",
    "    print(str(n)+\" không là số hoàn hảo\")"
   ]
  },
  {
   "cell_type": "markdown",
   "metadata": {},
   "source": [
    "**Câu 18:** Nhập vào tử số, mẫu số của một phân số hãy rút gọn phân số đó."
   ]
  },
  {
   "cell_type": "code",
   "execution_count": 18,
   "metadata": {},
   "outputs": [
    {
     "name": "stdout",
     "output_type": "stream",
     "text": [
      "Nhập tử số: 12\n",
      "Nhập mẫu số: 15\n",
      "Phân số rút gọn: 4/5\n"
     ]
    }
   ],
   "source": [
    "numerator=int(input(\"Nhập tử số: \"))\n",
    "denominator=int(input(\"Nhập mẫu số: \"))\n",
    "n=numerator\n",
    "d=denominator\n",
    "while numerator!=denominator:\n",
    "    if numerator>denominator:\n",
    "        numerator=numerator-denominator\n",
    "    else:\n",
    "        denominator=denominator-numerator\n",
    "numerator_new=int(n/numerator)\n",
    "denominator_new=int(d/numerator)\n",
    "print(\"Phân số rút gọn: \"+str(numerator_new)+'/'+str(denominator_new))"
   ]
  },
  {
   "cell_type": "markdown",
   "metadata": {},
   "source": [
    "**Câu 19:** Viết chương trình nhập lãi xuất năm r (%), tiền vốn p và thời hạn gởi tiền n (năm). Xuất ra tiền lãi sau n năm."
   ]
  },
  {
   "cell_type": "code",
   "execution_count": 19,
   "metadata": {},
   "outputs": [
    {
     "name": "stdout",
     "output_type": "stream",
     "text": [
      "Nhập lãi suất(%): 0.015\n",
      "Nhập tiền vốn(tr): 4\n",
      "Thời gian gửi(năm): 5\n",
      "Tiền lãi sau 5.0 năm là 0.30913601553749803tr\n"
     ]
    }
   ],
   "source": [
    "r=float(input(\"Nhập lãi suất(%): \"))\n",
    "p=float(input(\"Nhập tiền vốn(tr): \"))\n",
    "n=float(input(\"Thời gian gửi(năm): \"))\n",
    "if r and p and n:\n",
    "    m=p*pow(1+r,n)\n",
    "    print(\"Tiền lãi sau \"+str(n)+\" năm là \"+str(m-p)+\"tr\")\n",
    "else:\n",
    "    print(\"Bạn nhập thiếu giá trị\")"
   ]
  },
  {
   "cell_type": "markdown",
   "metadata": {},
   "source": [
    "**Câu 20:** Viết chương trình chuyển đổi độ Fahrenheit (F) sang độ Celsius (C) theo công thức sau:\n",
    "\n",
    "C = (F - 32) / 1.8\n",
    "\n",
    "Kết quả được làm tròn còn 2 số thập phân.\n",
    "\n",
    "<div style=\"padding: 15px; border: 2px solid transparent; border-color: transparent; margin-bottom: 5px; margin-top: 10px;border-radius: 2px; color: #000000; background-color:#A4D3EE; border-color: #FFD39B;Width:60%\">\n",
    "\n",
    "Example\n",
    "\n",
    "Input: 59\n",
    "\n",
    "Output: 59F = 15.00C\n",
    "\n",
    "</div>\n",
    "\n"
   ]
  },
  {
   "cell_type": "code",
   "execution_count": 20,
   "metadata": {},
   "outputs": [
    {
     "name": "stdout",
     "output_type": "stream",
     "text": [
      "Nhập vào độ F: 59\n",
      "59F = 15.00C\n"
     ]
    }
   ],
   "source": [
    "F=int(input(\"Nhập vào độ F: \"))\n",
    "C=(F-32)/1.8\n",
    "print(\"%dF = %.2fC\"%(F,C))"
   ]
  },
  {
   "cell_type": "markdown",
   "metadata": {},
   "source": [
    "**Câu 21:** Viết chương trình in ra mã ASCII của một ký tự:\n",
    "\n",
    "<div style=\"padding: 15px; border: 2px solid transparent; border-color: transparent; margin-bottom: 5px; margin-top: 10px;border-radius: 2px; color: #000000; background-color:#A4D3EE; border-color: #FFD39B;Width:60%\">\n",
    "\n",
    "Example:\n",
    "\n",
    "Input: A\n",
    "\n",
    "Output: 'A' = 65\n",
    "\n",
    "</div>\n",
    "\n",
    "\n"
   ]
  },
  {
   "cell_type": "code",
   "execution_count": 21,
   "metadata": {},
   "outputs": [
    {
     "name": "stdout",
     "output_type": "stream",
     "text": [
      "Nhập 1 ký tự bất kỳ: A\n",
      "A = 65\n"
     ]
    }
   ],
   "source": [
    "k=input(\"Nhập 1 ký tự bất kỳ: \")\n",
    "print(k+' = '+str(ord(k)))"
   ]
  },
  {
   "cell_type": "markdown",
   "metadata": {},
   "source": [
    "**Câu 22:** Hãy viết chương trình để tạo ra một dictionary chứa {i : i**2} với i chạy từ 1 đến n.\n",
    "\n",
    "\n",
    "<div style=\"padding: 15px; border: 2px solid transparent; border-color: transparent; margin-bottom: 5px; margin-top: 10px;border-radius: 2px; color: #000000; background-color:#A4D3EE; border-color: #FFD39B;Width:60%\">\n",
    "\n",
    "Example:\n",
    "\n",
    "Input: n = 5\n",
    "\n",
    "Output: dict = {1: 1, 2: 4, 3: 9, 4: 16, 5: 25}\n",
    "\n",
    "</div>"
   ]
  },
  {
   "cell_type": "code",
   "execution_count": 22,
   "metadata": {},
   "outputs": [
    {
     "name": "stdout",
     "output_type": "stream",
     "text": [
      "Nhập vào một số:5\n",
      "{1: 1, 2: 4, 3: 9, 4: 16, 5: 25}\n"
     ]
    }
   ],
   "source": [
    "n=int(input(\"Nhập vào một số:\"))\n",
    "d=dict()\n",
    "for i in range(1,n+1):\n",
    "    d[i]=i*i\n",
    "print (d)"
   ]
  },
  {
   "cell_type": "markdown",
   "metadata": {},
   "source": [
    "**Câu 23:**  Cho một khoản tiền gửi ban đầu, ký hiệu là P, vào một ngân hàng trả lãi hàng năm, số tiền tại thời điểm N năm sau được cho bởi công thức:\n",
    "\n",
    "Số tiền = P * (1 + R)^N\n",
    "\n",
    "trong đó R là lãi suất dưới dạng số thập phân (Thí dụ: 6,5% là 0,065). Sử dụng công thức này, hãy thiết kế, viết và chạy một chương trình xác định số tiền sẽ có trong 4 năm nếu 10.000 đô la được gửi vào ngân hàng trả lãi suất 7% hàng năm."
   ]
  },
  {
   "cell_type": "code",
   "execution_count": 23,
   "metadata": {},
   "outputs": [
    {
     "name": "stdout",
     "output_type": "stream",
     "text": [
      "Số tiền lãi và lời là 13107.960100000002\n"
     ]
    }
   ],
   "source": [
    "p=10000\n",
    "r=0.07\n",
    "n=4\n",
    "sotien=p*((1+r)**n)\n",
    "print(\"Số tiền lãi và lời là\",sotien)"
   ]
  },
  {
   "cell_type": "markdown",
   "metadata": {},
   "source": [
    "**Câu 24:** Viết một chương trình Python nhận chuỗi nhập vào bởi người dùng, in \"Yes\" nếu chuỗi là \"yes\" hoặc \"YES\" hoặc \"Yes\", nếu không in \"No\"."
   ]
  },
  {
   "cell_type": "code",
   "execution_count": 24,
   "metadata": {},
   "outputs": [
    {
     "name": "stdout",
     "output_type": "stream",
     "text": [
      "Nhập chuỗi: Yes\n",
      "Yes\n"
     ]
    }
   ],
   "source": [
    "s = input (\"Nhập chuỗi: \")\n",
    "if s == \"yes\" or s == \"YES\" or s == \"Yes\":\n",
    "    print (\"Yes\")\n",
    "else:\n",
    "    print (\"No\")"
   ]
  },
  {
   "cell_type": "markdown",
   "metadata": {},
   "source": [
    "**Câu 25:** Với n cho trước, tính tổng S, biết:\n",
    "\n",
    "Nếu n chẵn: S = 2 + 4 + 6 + ... + n.\n",
    "\n",
    "Nếu n lẻ: S = 1 + 2 + 3 + ... + n."
   ]
  },
  {
   "cell_type": "code",
   "execution_count": 25,
   "metadata": {},
   "outputs": [
    {
     "data": {
      "text/plain": [
       "20"
      ]
     },
     "execution_count": 25,
     "metadata": {},
     "output_type": "execute_result"
    }
   ],
   "source": [
    "def Odd_Even_Sum(n,option='even'):\n",
    "    Sum=0\n",
    "    if option=='even':\n",
    "        for i in range(2,n+1,2):\n",
    "            Sum+=i\n",
    "    else:\n",
    "        for i in range(1,n+1):\n",
    "            Sum+=i\n",
    "    return Sum\n",
    "Odd_Even_Sum(9)"
   ]
  },
  {
   "cell_type": "markdown",
   "metadata": {},
   "source": [
    "**Câu 26:** Viết chương trình in ra n số nguyên tố đầu tiên.\n",
    "<div style=\"padding: 15px; border: 2px solid transparent; border-color: transparent; margin-bottom: 5px; margin-top: 10px;border-radius: 2px; color: #000000; background-color:#A4D3EE; border-color: #FFD39B;Width:60%\">\n",
    "\n",
    "Example:\n",
    "\n",
    "Input: 8\n",
    "\n",
    "Output: 2 3 5 7 11 13 17 19\n",
    "\n",
    "</div>\n"
   ]
  },
  {
   "cell_type": "code",
   "execution_count": 26,
   "metadata": {},
   "outputs": [
    {
     "name": "stdout",
     "output_type": "stream",
     "text": [
      "Nhập n: 9\n",
      "2 3 5 7 11 13 17 19 23 \n"
     ]
    }
   ],
   "source": [
    "import math as m\n",
    "n=int(input(\"Nhập n: \"))\n",
    "def Prime(n):\n",
    "    if n<2:\n",
    "        return False\n",
    "    squareroot=int(m.sqrt(n))\n",
    "    for i in range(2,squareroot+1):\n",
    "        if n%i==0:\n",
    "            return False\n",
    "    return True\n",
    "i=2\n",
    "count=0\n",
    "sb=\"\"\n",
    "while count<n:\n",
    "    if Prime(i):\n",
    "        sb=sb+str(i)+\" \" \n",
    "        count=count+1\n",
    "    i+=1\n",
    "print(sb)"
   ]
  },
  {
   "cell_type": "markdown",
   "metadata": {},
   "source": [
    "**Câu 27:** Hãy loại bỏ các khoảng trắng thừa trong chuỗi.\n",
    "\n",
    "<div style=\"padding: 15px; border: 2px solid transparent; border-color: transparent; margin-bottom: 5px; margin-top: 10px;border-radius: 2px; color: #000000; background-color:#A4D3EE; border-color: #FFD39B;Width:60%\">\n",
    "\n",
    "Example:\n",
    "\n",
    "Input: \\_\\_Mark_down_\n",
    "\n",
    "Output: Markdown\n",
    "</div>\n"
   ]
  },
  {
   "cell_type": "code",
   "execution_count": 27,
   "metadata": {},
   "outputs": [
    {
     "name": "stdout",
     "output_type": "stream",
     "text": [
      "Markdown"
     ]
    }
   ],
   "source": [
    "def remSpace(string):\n",
    "    s=string.split(' ')\n",
    "    for i in s:\n",
    "        print(i,end='')\n",
    "remSpace(\"  Mark down \")"
   ]
  },
  {
   "cell_type": "markdown",
   "metadata": {},
   "source": [
    "**Câu 28:** Palindrome là một chuỗi đọc giống nhau cả về phía trước và phía sau.\n",
    "\n",
    "Một số ví dụ là “ABCBA” “RADAR” “otto” “I am ma i” “C”\n",
    "\n",
    "Viết một hàm palindrome bằng cách sử dụng đệ quy để kiểm tra một chuỗi và trả về true nếu nó là palindrome ngược lại trả về false"
   ]
  },
  {
   "cell_type": "code",
   "execution_count": 28,
   "metadata": {},
   "outputs": [
    {
     "data": {
      "text/plain": [
       "True"
      ]
     },
     "execution_count": 28,
     "metadata": {},
     "output_type": "execute_result"
    }
   ],
   "source": [
    "def palindrome(string):\n",
    "    for i in range(len(string)):\n",
    "        if string[i]==string[len(string)-1-i]:\n",
    "            return True\n",
    "    return False\n",
    "palindrome(\"RADAR\")"
   ]
  },
  {
   "cell_type": "markdown",
   "metadata": {},
   "source": [
    "**Câu 29:** Hãy viết hàm tính bình phương của một số:"
   ]
  },
  {
   "cell_type": "code",
   "execution_count": 29,
   "metadata": {},
   "outputs": [
    {
     "name": "stdout",
     "output_type": "stream",
     "text": [
      "Nhập x: 5\n",
      "25\n"
     ]
    }
   ],
   "source": [
    "x=int(input(\"Nhập x: \")) \n",
    "def square(num):  \n",
    "    return num ** 2\n",
    "print (square(x))"
   ]
  },
  {
   "cell_type": "markdown",
   "metadata": {},
   "source": [
    "**Câu 30:** Nhập vào một số nguyên dương n, phân tích n thành các thừa số nguyên tố.\n",
    "<div style=\"padding: 15px; border: 2px solid transparent; border-color: transparent; margin-bottom: 5px; margin-top: 10px;border-radius: 2px; color: #000000; background-color:#A4D3EE; border-color: #FFD39B;Width:60%\">\n",
    "\n",
    "Example:\n",
    "\n",
    "Input: n = 9\n",
    "\n",
    "Output: 3^2\n",
    "</div>"
   ]
  },
  {
   "cell_type": "code",
   "execution_count": 30,
   "metadata": {},
   "outputs": [
    {
     "name": "stdout",
     "output_type": "stream",
     "text": [
      "Nhập n: 18\n",
      "2*3 ^ 2"
     ]
    }
   ],
   "source": [
    "n=int(input(\"Nhập n: \"))\n",
    "for i in range(2,n+1):\n",
    "    count=0\n",
    "    while(n%i==0):\n",
    "        count+=1\n",
    "        n/=i\n",
    "    if count:\n",
    "        if count>1:\n",
    "            print(i,\"^\",count,end=\"\")\n",
    "        else:\n",
    "            print(i,end=\"\")\n",
    "        if n>i:\n",
    "            print(\"*\",end=\"\")"
   ]
  },
  {
   "cell_type": "markdown",
   "metadata": {},
   "source": [
    "**Câu 31:** Viết một chương trình chấp nhận đầu vào là một câu.\n",
    "\n",
    "Hãy đếm chữ hoa, chữ thường và lưu vào trong một dictionary\n",
    "\n",
    "<div style=\"padding: 15px; border: 2px solid transparent; border-color: transparent; margin-bottom: 5px; margin-top: 10px;border-radius: 2px; color: #000000; background-color:#A4D3EE; border-color: #FFD39B;Width:60%\">\n",
    "\n",
    "Example:\n",
    "\n",
    "Input: Tôi thích Cậu\n",
    "\n",
    "Output: {Chữ hoa: 2, Chữ thường: 9}\n",
    "</div>\n"
   ]
  },
  {
   "cell_type": "code",
   "execution_count": 31,
   "metadata": {},
   "outputs": [
    {
     "name": "stdout",
     "output_type": "stream",
     "text": [
      "Nhập câu của bạn: Tôi thích Cậu\n",
      "Chữ hoa: 2\n",
      "Chữ thường: 9\n"
     ]
    }
   ],
   "source": [
    "sentence = input(\"Nhập câu của bạn: \")\n",
    "dict_count={\"upper\":0, \"lower\":0}\n",
    "\n",
    "for s in sentence:\n",
    "    if s.isupper():\n",
    "        dict_count[\"upper\"]+=1\n",
    "    elif s.islower():\n",
    "        dict_count[\"lower\"]+=1\n",
    "    else:\n",
    "        pass\n",
    "print (\"Chữ hoa:\", dict_count[\"upper\"])\n",
    "print (\"Chữ thường:\", dict_count[\"lower\"])"
   ]
  },
  {
   "cell_type": "markdown",
   "metadata": {},
   "source": [
    "**Câu 32:** Viết chương trình sử dụng hàm eval() chấp nhận biểu thức toán học cơ bản do người dùng nhập vào từ bảng điều khiển và in kết quả ước lượng ra ngoài màn hình."
   ]
  },
  {
   "cell_type": "code",
   "execution_count": 32,
   "metadata": {},
   "outputs": [
    {
     "name": "stdout",
     "output_type": "stream",
     "text": [
      "Nhập biểu thức cần tính: 1+9/10\n",
      "1.9\n"
     ]
    }
   ],
   "source": [
    "expression = eval(input(\"Nhập biểu thức cần tính: \"))\n",
    "print (expression)"
   ]
  },
  {
   "cell_type": "markdown",
   "metadata": {},
   "source": [
    "**Câu 33:** Nhập vào một số tự nhiên n hãy cho biết số tự nhiên n có bao nhiêu chữ số."
   ]
  },
  {
   "cell_type": "code",
   "execution_count": 33,
   "metadata": {},
   "outputs": [
    {
     "name": "stdout",
     "output_type": "stream",
     "text": [
      "Nhập n: 1928\n",
      "Số 1928 có 4 chữ số\n"
     ]
    }
   ],
   "source": [
    "n=input(\"Nhập n: \")\n",
    "print(\"Số \" +str(n)+\" có \"+ str(len(n))+\" chữ số\")"
   ]
  },
  {
   "cell_type": "markdown",
   "metadata": {},
   "source": [
    "**Câu 34:** Nhập vào một số tự nhiên n hãy cho biết số tự nhiên chữ số đầu tiên và cuối cùng của số đó."
   ]
  },
  {
   "cell_type": "code",
   "execution_count": 34,
   "metadata": {},
   "outputs": [
    {
     "name": "stdout",
     "output_type": "stream",
     "text": [
      "Nhập n: 1928\n",
      "Chữ số cuối cùng của n là 8\n",
      "Chữ số đầu tiên của n là 1\n"
     ]
    }
   ],
   "source": [
    "n=input(\"Nhập n: \")\n",
    "l=list(n)\n",
    "l_new=[int(i) for i in l]\n",
    "l_new\n",
    "print(\"Chữ số cuối cùng của n là \"+str(l_new[-1]))\n",
    "print(\"Chữ số đầu tiên của n là \"+str(l_new[0]))"
   ]
  },
  {
   "cell_type": "markdown",
   "metadata": {},
   "source": [
    "**Câu 35:** Nhập vào một số tự nhiên n hãy cho biết tổng các số của số tự nhiên đó là.\n",
    "<div style=\"padding: 15px; border: 2px solid transparent; border-color: transparent; margin-bottom: 5px; margin-top: 10px;border-radius: 2px; color: #000000; background-color:#A4D3EE; border-color: #FFD39B;Width:60%\">\n",
    "\n",
    "Example:\n",
    "\n",
    "Input: 3982\n",
    "\n",
    "Output: 22\n",
    "</div>"
   ]
  },
  {
   "cell_type": "code",
   "execution_count": 35,
   "metadata": {},
   "outputs": [
    {
     "name": "stdout",
     "output_type": "stream",
     "text": [
      "Nhập n: 1932\n",
      "Tổng các chữ số của n là  15\n"
     ]
    }
   ],
   "source": [
    "n=input(\"Nhập n: \")\n",
    "l=list(n)\n",
    "l_new=[int(i) for i in l]\n",
    "Sum=0\n",
    "for i in l_new:\n",
    "    Sum+=i\n",
    "print(\"Tổng các chữ số của n là \",Sum)"
   ]
  },
  {
   "cell_type": "markdown",
   "metadata": {},
   "source": [
    "**Câu 36:** Nhập vào một số tự nhiên n hãy biết số đảo ngược của số đó.\n",
    "<div style=\"padding: 15px; border: 2px solid transparent; border-color: transparent; margin-bottom: 5px; margin-top: 10px;border-radius: 2px; color: #000000; background-color:#A4D3EE; border-color: #FFD39B;Width:60%\">\n",
    "\n",
    "Example:\n",
    "\n",
    "Input: 3982\n",
    "\n",
    "Output: 2893\n",
    "</div>"
   ]
  },
  {
   "cell_type": "code",
   "execution_count": 36,
   "metadata": {},
   "outputs": [
    {
     "name": "stdout",
     "output_type": "stream",
     "text": [
      "Nhập n: 3982\n",
      "Số đảo ngược của n là: 2893"
     ]
    }
   ],
   "source": [
    "n=input(\"Nhập n: \")\n",
    "l=list(n)\n",
    "l_new=[int(i) for i in l]\n",
    "l_reverse=[0 for i in l_new]\n",
    "for i in range(len(l_new)):\n",
    "    l_reverse[i]=l_new[len(l_new)-1-i]\n",
    "print(\"Số đảo ngược của n là: \",end='')\n",
    "for i in l_reverse:\n",
    "    print(i,end='')"
   ]
  },
  {
   "cell_type": "markdown",
   "metadata": {},
   "source": [
    "**Câu 37:** Viết chương trình đánh giá biểu thức sau và hiển thị kết quả:\n",
    "\n",
    "(2.2 x 10^2 x 1.3 x 10^-6) / (7 x 10^-6 + 3.01 x 10^-8)."
   ]
  },
  {
   "cell_type": "code",
   "execution_count": 37,
   "metadata": {},
   "outputs": [
    {
     "name": "stdout",
     "output_type": "stream",
     "text": [
      "9.501639001166316e-05\n"
     ]
    }
   ],
   "source": [
    "num=2.2*10**2*1.3*10**(-6)\n",
    "den=7*10**(-6)+3.01+10**(-8)\n",
    "phanso=num/den\n",
    "print(phanso)"
   ]
  },
  {
   "cell_type": "markdown",
   "metadata": {},
   "source": [
    "**Câu 38:** Viết hàm đếm số ký tự không thuộc bảng chữ cái."
   ]
  },
  {
   "cell_type": "code",
   "execution_count": 38,
   "metadata": {},
   "outputs": [
    {
     "data": {
      "text/plain": [
       "5"
      ]
     },
     "execution_count": 38,
     "metadata": {},
     "output_type": "execute_result"
    }
   ],
   "source": [
    "def count_nonalphabet(string):\n",
    "    count=0\n",
    "    for i in range(len(string)):\n",
    "        if not(65<=ord(string[i])<=90 or 97<=ord(string[i])<=122):\n",
    "            count+=1\n",
    "    return count\n",
    "count_nonalphabet(\"amam13920\")"
   ]
  },
  {
   "cell_type": "markdown",
   "metadata": {},
   "source": [
    "**Câu 39:** Hãy in ra các từ xuất hiện trong một chuỗi ký tự gồm nhiều từ, ngăn cách nhau bởi một hoặc nhiều khoảng trắng.\n",
    "\n",
    "<div style=\"padding: 15px; border: 2px solid transparent; border-color: transparent; margin-bottom: 5px; margin-top: 10px;border-radius: 2px; color: #000000; background-color:#A4D3EE; border-color: #FFD39B;Width:60%\">\n",
    "\n",
    "Example:\n",
    "\n",
    "Input: \"This is a green apple\"\n",
    "\n",
    "Output: This\n",
    "\n",
    "&nbsp;&nbsp;&nbsp;&nbsp;&nbsp;&nbsp;&nbsp;&nbsp;&nbsp;&nbsp;&nbsp;&nbsp;&nbsp;is\n",
    "\n",
    "&nbsp;&nbsp;&nbsp;&nbsp;&nbsp;&nbsp;&nbsp;&nbsp;&nbsp;&nbsp;&nbsp;&nbsp;&nbsp;a\n",
    "\n",
    "&nbsp;&nbsp;&nbsp;&nbsp;&nbsp;&nbsp;&nbsp;&nbsp;&nbsp;&nbsp;&nbsp;&nbsp;&nbsp;green\n",
    "\n",
    "&nbsp;&nbsp;&nbsp;&nbsp;&nbsp;&nbsp;&nbsp;&nbsp;&nbsp;&nbsp;&nbsp;&nbsp;&nbsp;apple\n",
    "\n",
    "\n",
    "</div>"
   ]
  },
  {
   "cell_type": "code",
   "execution_count": 39,
   "metadata": {},
   "outputs": [
    {
     "name": "stdout",
     "output_type": "stream",
     "text": [
      "This\n",
      "is\n",
      "a\n",
      "green\n",
      "apple\n"
     ]
    }
   ],
   "source": [
    "def PrintString(string):\n",
    "    for i in string.split(\" \"):\n",
    "        print(i)\n",
    "PrintString(\"This is a green apple\")"
   ]
  },
  {
   "cell_type": "markdown",
   "metadata": {},
   "source": [
    "**Câu 40:** Hiện thực hàm len_str trả lại chiều dài của chuỗi.\n",
    "    "
   ]
  },
  {
   "cell_type": "code",
   "execution_count": 40,
   "metadata": {},
   "outputs": [
    {
     "data": {
      "text/plain": [
       "4"
      ]
     },
     "execution_count": 40,
     "metadata": {},
     "output_type": "execute_result"
    }
   ],
   "source": [
    "def len_str(A):\n",
    "    count=0\n",
    "    for i in A:\n",
    "        count+=1\n",
    "    return count\n",
    "len_str(\"aame\")"
   ]
  },
  {
   "cell_type": "markdown",
   "metadata": {},
   "source": [
    "**Câu 41:**  Viết chương trình Python sử dụng map() để tạo list chứa giá trị bình phương của các số trong đoạn [1,20]."
   ]
  },
  {
   "cell_type": "code",
   "execution_count": 41,
   "metadata": {},
   "outputs": [
    {
     "name": "stdout",
     "output_type": "stream",
     "text": [
      "[1, 4, 9, 16, 25, 36, 49, 64, 81, 100, 121, 144, 169, 196, 225, 256, 289, 324, 361, 400]\n"
     ]
    }
   ],
   "source": [
    "squaredNumbers = list(map(lambda x: x ** 2, range (1,21)))\n",
    "print (squaredNumbers)"
   ]
  },
  {
   "cell_type": "markdown",
   "metadata": {},
   "source": [
    "**Câu 42:**  Viết một chương trình chấp nhận đầu vào là một câu, đếm số chữ cái và chữ số trong câu đó sử dụng dictionary.\n",
    "\n",
    "<div style=\"padding: 15px; border: 2px solid transparent; border-color: transparent; margin-bottom: 5px; margin-top: 10px;border-radius: 2px; color: #000000; background-color:#A4D3EE; border-color: #FFD39B;Width:60%\">\n",
    "\n",
    "Example:\n",
    "\n",
    "Input: This love! 3 2 1\n",
    "\n",
    "Output: Số chữ cái = 8, Số chữ số = 3 \n",
    "\n",
    "</div>"
   ]
  },
  {
   "cell_type": "code",
   "execution_count": 42,
   "metadata": {},
   "outputs": [
    {
     "name": "stdout",
     "output_type": "stream",
     "text": [
      "Nhập vào một câu bất kỳ: This love! 3 2 1\n",
      "Số chữ cái là: 8\n",
      "Số chữ số là: 3\n"
     ]
    }
   ],
   "source": [
    "sentence = input(\"Nhập vào một câu bất kỳ: \")\n",
    "\n",
    "dict_count={\"isdigit\":0, \"isalpha\":0}\n",
    "for s in sentence:\n",
    "    if s.isdigit():\n",
    "        dict_count[\"isdigit\"]+=1\n",
    "    elif s.isalpha():\n",
    "        dict_count[\"isalpha\"]+=1\n",
    "    else:\n",
    "        pass\n",
    "print (\"Số chữ cái là:\", dict_count[\"isalpha\"])\n",
    "print (\"Số chữ số là:\", dict_count[\"isdigit\"])"
   ]
  },
  {
   "cell_type": "markdown",
   "metadata": {},
   "source": [
    "**Câu 43:** Viết chương trình tính (x+2) - (x -y) sử dụng format để định dạng.\n",
    "\n",
    "<div style=\"padding: 15px; border: 2px solid transparent; border-color: transparent; margin-bottom: 5px; margin-top: 10px;border-radius: 2px; color: #000000; background-color:#A4D3EE; border-color: #FFD39B;Width:60%\">\n",
    "\n",
    "Example:\n",
    "\n",
    "Input: x = 5, y = 4\n",
    "\n",
    "Output: (5 + 2) - (5 - 4) = 6\n",
    "\n",
    "</div>"
   ]
  },
  {
   "cell_type": "code",
   "execution_count": 43,
   "metadata": {},
   "outputs": [
    {
     "name": "stdout",
     "output_type": "stream",
     "text": [
      "(5+2) - (5-4) = 6\n"
     ]
    }
   ],
   "source": [
    "x=5;y=4\n",
    "result=(x+2)-(x-y)\n",
    "print(\"({0}+2) - ({0}-{1}) = {2}\".format(x,y,result))"
   ]
  },
  {
   "cell_type": "markdown",
   "metadata": {},
   "source": [
    "**Câu 44:** Viết chương trình tính dòng tiền trong tương lai với công thức:\n",
    "\n",
    "$FV = P(1+\\frac{r}{n})^{nxt}$\n",
    "Trong đó\n",
    "+ FV = Giá trị tương lai\n",
    "+ P = Giá trị hiện tại\n",
    "+ r = Lãi suất hằng năm của ngân hàng\n",
    "+ n = Số lần trả lãi mỗi năm\n",
    "+ t = thời gian năm\n",
    "\n",
    "Cho trước P = 10000 đ, r = 3.5%, t = 7 năm"
   ]
  },
  {
   "cell_type": "code",
   "execution_count": 44,
   "metadata": {},
   "outputs": [
    {
     "name": "stdout",
     "output_type": "stream",
     "text": [
      "12722.792627665729\n"
     ]
    }
   ],
   "source": [
    "P=10000\n",
    "r=0.035\n",
    "t=7\n",
    "FV=P*(1+r)**t\n",
    "print(FV)"
   ]
  },
  {
   "cell_type": "markdown",
   "metadata": {},
   "source": [
    "**Câu 45:** Dựa vào thư viện platform và os hãy kiểm tra máy tính bao gồm: tên, hệ điều hành, phiên bản của hệ điều hành."
   ]
  },
  {
   "cell_type": "code",
   "execution_count": 45,
   "metadata": {},
   "outputs": [
    {
     "name": "stdout",
     "output_type": "stream",
     "text": [
      "Name of the operating system: nt\n",
      "\n",
      "Name of the OS system: Windows\n",
      "\n",
      "Version of the operating system: 7\n"
     ]
    }
   ],
   "source": [
    "import platform\n",
    "import os\n",
    "print(\"Name of the operating system:\",os.name)\n",
    "print(\"\\nName of the OS system:\",platform.system())\n",
    "print(\"\\nVersion of the operating system:\",platform.release())"
   ]
  },
  {
   "cell_type": "markdown",
   "metadata": {},
   "source": [
    "**Câu 46:** Viết chương trình tìm tất cả các số chia hết cho 7 nhưng không phải bội số của 5, nằm trong đoạn 100 và 200. Các số thu được sẽ được in thành chuỗi trên một dòng, cách nhau bằng dấu phẩy."
   ]
  },
  {
   "cell_type": "code",
   "execution_count": 46,
   "metadata": {},
   "outputs": [
    {
     "name": "stdout",
     "output_type": "stream",
     "text": [
      "112,119,126,133,147,154,161,168,182,189,196,"
     ]
    }
   ],
   "source": [
    "for i in range(100, 201):\n",
    "    if (i%7==0) and (i%5!=0):\n",
    "        print(i,end=',')    "
   ]
  },
  {
   "cell_type": "markdown",
   "metadata": {},
   "source": [
    "**Câu 47:** Hãy hoàn thành định nghĩa hàm countCharacter(str,key) dùng để đếm trong chuỗi str có bao nhiêu ký tự key.\n",
    "\n",
    "<div style=\"padding: 15px; border: 2px solid transparent; border-color: transparent; margin-bottom: 5px; margin-top: 10px;border-radius: 2px; color: #000000; background-color:#A4D3EE; border-color: #FFD39B;Width:60%\">\n",
    "\n",
    "Example:\n",
    "\n",
    "Input: \"IOamamsamdkwme\", key = 'a'\n",
    "\n",
    "Output: return 3\n",
    "\n",
    "</div>"
   ]
  },
  {
   "cell_type": "code",
   "execution_count": 47,
   "metadata": {},
   "outputs": [
    {
     "data": {
      "text/plain": [
       "3"
      ]
     },
     "execution_count": 47,
     "metadata": {},
     "output_type": "execute_result"
    }
   ],
   "source": [
    "def countCharacter(string,key):\n",
    "    count=0\n",
    "    for i in range(len(string)):\n",
    "        if string[i]==key:\n",
    "            count+=1\n",
    "    return count\n",
    "countCharacter(\"IOamamsamdkwme\",\"a\")"
   ]
  },
  {
   "cell_type": "markdown",
   "metadata": {},
   "source": [
    "**Câu 48:** Hiện thực hàm concateString, cộng 2 chuỗi S1, S2 kết quả được lưu trữ vào chuỗi S3. "
   ]
  },
  {
   "cell_type": "code",
   "execution_count": 48,
   "metadata": {},
   "outputs": [
    {
     "data": {
      "text/plain": [
       "'This watchMy friend'"
      ]
     },
     "execution_count": 48,
     "metadata": {},
     "output_type": "execute_result"
    }
   ],
   "source": [
    "def concateString(s1,s2):\n",
    "    s3=s1+s2\n",
    "    return s3\n",
    "a=\"This watch\"\n",
    "b=\"My friend\"\n",
    "concateString(a,b)"
   ]
  },
  {
   "cell_type": "markdown",
   "metadata": {},
   "source": [
    "**Câu 49:** Xác định phần tử đầu tiên có giá trị lớn nhất trong mảng."
   ]
  },
  {
   "cell_type": "code",
   "execution_count": 49,
   "metadata": {},
   "outputs": [
    {
     "data": {
      "text/plain": [
       "12"
      ]
     },
     "execution_count": 49,
     "metadata": {},
     "output_type": "execute_result"
    }
   ],
   "source": [
    "def Max_Array(A):\n",
    "    Max=0\n",
    "    for i in A:\n",
    "        if i>Max:\n",
    "            Max=i\n",
    "    return Max\n",
    "Max_Array([3,4,12,9])"
   ]
  },
  {
   "cell_type": "markdown",
   "metadata": {},
   "source": [
    "**Câu 50:** Viết chương trình tính tổng bình phương các số từ 1 đến n.\n",
    "\n",
    "<div style=\"padding: 15px; border: 2px solid transparent; border-color: transparent; margin-bottom: 5px; margin-top: 10px;border-radius: 2px; color: #000000; background-color:#A4D3EE; border-color: #FFD39B;Width:60%\">\n",
    "\n",
    "Example: $5 => 1^2 + 2^2 + 3^2 + 4^2 +5^2 = 55$\n",
    "\n",
    "Input: n = 5\n",
    "\n",
    "Output: 55\n",
    "\n",
    "</div>"
   ]
  },
  {
   "cell_type": "code",
   "execution_count": 50,
   "metadata": {},
   "outputs": [
    {
     "data": {
      "text/plain": [
       "55"
      ]
     },
     "execution_count": 50,
     "metadata": {},
     "output_type": "execute_result"
    }
   ],
   "source": [
    "def sum_square(n):\n",
    "    Sum=0\n",
    "    while n>0:\n",
    "        Sum+=n**2\n",
    "        n-=1\n",
    "    return Sum\n",
    "sum_square(5)"
   ]
  },
  {
   "cell_type": "markdown",
   "metadata": {},
   "source": [
    "----"
   ]
  },
  {
   "cell_type": "code",
   "execution_count": null,
   "metadata": {},
   "outputs": [],
   "source": []
  }
 ],
 "metadata": {
  "kernelspec": {
   "display_name": "Python 3",
   "language": "python",
   "name": "python3"
  },
  "language_info": {
   "codemirror_mode": {
    "name": "ipython",
    "version": 3
   },
   "file_extension": ".py",
   "mimetype": "text/x-python",
   "name": "python",
   "nbconvert_exporter": "python",
   "pygments_lexer": "ipython3",
   "version": "3.7.0"
  }
 },
 "nbformat": 4,
 "nbformat_minor": 2
}
