{
 "cells": [
  {
   "cell_type": "markdown",
   "metadata": {},
   "source": [
    "**Lưu ý:** *Bạn có thể xem trực tiếp trên github, tải xuống, nếu bạn muốn chạy thử hãy truy cập vào google colab nó cung cấp cho bạn thư viện có sẵn và chạy bằng GPU.*\n",
    "\n",
    "[![Open In Colab](https://colab.research.google.com/assets/colab-badge.svg)](https://colab.research.google.com/github/CrackerLambda/PythonBasics/blob/master/06_Overloaded_Operator.ipynb)"
   ]
  },
  {
   "cell_type": "markdown",
   "metadata": {},
   "source": [
    "# 5.1 Giới thiệu về nạp chồng toán tử\n",
    "\n",
    "Các toán tử `+` ,  `-` , `*` , ... thông thường sử dụng cho biểu thức toán học nếu ta dùng sử dụng trong hoàn cảnh khác nhau sẽ được hiểu với ý nghĩa khác nhau nữa.\n",
    "+ Phép cộng\n",
    "\n",
    "    +   **<Xâu>** + **<Xâu>**: Phép nối hai xâu\n",
    "    \n",
    "    +   **<Số kiểu int>** +**<Số kiểu float>**: Kết quả số thực\n",
    "+ Phép nhân\n",
    "    +   **<Xâu>** * **<Xâu>**: Không thể thực hiện\n",
    "    +   **<Số kiểu int>** * **<Số kiểu float>**: Kết quả là số thực\n",
    "    +   **<Số kiểu int>** * **<Xâu>**: Kết quả số lần của xâu nếu số kiểu int âm thì sẽ ra xâu rỗng"
   ]
  },
  {
   "cell_type": "code",
   "execution_count": 1,
   "metadata": {},
   "outputs": [
    {
     "data": {
      "text/plain": [
       "8"
      ]
     },
     "execution_count": 1,
     "metadata": {},
     "output_type": "execute_result"
    }
   ],
   "source": [
    "4+4"
   ]
  },
  {
   "cell_type": "code",
   "execution_count": 2,
   "metadata": {},
   "outputs": [
    {
     "data": {
      "text/plain": [
       "14.0"
      ]
     },
     "execution_count": 2,
     "metadata": {},
     "output_type": "execute_result"
    }
   ],
   "source": [
    "5.0+9.0"
   ]
  },
  {
   "cell_type": "code",
   "execution_count": 3,
   "metadata": {},
   "outputs": [
    {
     "data": {
      "text/plain": [
       "9.0"
      ]
     },
     "execution_count": 3,
     "metadata": {},
     "output_type": "execute_result"
    }
   ],
   "source": [
    "4.0+5"
   ]
  },
  {
   "cell_type": "code",
   "execution_count": 4,
   "metadata": {},
   "outputs": [
    {
     "data": {
      "text/plain": [
       "'Bạn Tên là'"
      ]
     },
     "execution_count": 4,
     "metadata": {},
     "output_type": "execute_result"
    }
   ],
   "source": [
    "\"Bạn\"+\" Tên là\""
   ]
  },
  {
   "cell_type": "code",
   "execution_count": 5,
   "metadata": {},
   "outputs": [
    {
     "data": {
      "text/plain": [
       "12.0"
      ]
     },
     "execution_count": 5,
     "metadata": {},
     "output_type": "execute_result"
    }
   ],
   "source": [
    "4*3.0"
   ]
  },
  {
   "cell_type": "code",
   "execution_count": 6,
   "metadata": {},
   "outputs": [
    {
     "data": {
      "text/plain": [
       "16"
      ]
     },
     "execution_count": 6,
     "metadata": {},
     "output_type": "execute_result"
    }
   ],
   "source": [
    "4*4"
   ]
  },
  {
   "cell_type": "code",
   "execution_count": 7,
   "metadata": {},
   "outputs": [
    {
     "data": {
      "text/plain": [
       "45.0"
      ]
     },
     "execution_count": 7,
     "metadata": {},
     "output_type": "execute_result"
    }
   ],
   "source": [
    "5.0*9.0"
   ]
  },
  {
   "cell_type": "code",
   "execution_count": 8,
   "metadata": {},
   "outputs": [
    {
     "data": {
      "text/plain": [
       "'Bạn là ai Bạn là ai Bạn là ai Bạn là ai '"
      ]
     },
     "execution_count": 8,
     "metadata": {},
     "output_type": "execute_result"
    }
   ],
   "source": [
    "4*\"Bạn là ai \""
   ]
  },
  {
   "cell_type": "markdown",
   "metadata": {},
   "source": [
    "# 5.2 Dãy thoát Escape\n",
    "Dãy thoát dùng để chỉ những ký tự có ý nghĩa đặc biệt bên trong kiểu string, các ký tự này điều khiển chuỗi đều bắt đầu bằng ký tự \" \\\\\".\n",
    "\n",
    "Một số dãy thoát thông dụng:\n",
    "\n",
    "+ `\\n`: Xuống dòng mới\n",
    "+ `\\t`: Tạo một tab\n",
    "+ `\\<Xuống dòng>`:Nối chuỗi khi xuống dòng"
   ]
  },
  {
   "cell_type": "code",
   "execution_count": 9,
   "metadata": {},
   "outputs": [
    {
     "name": "stdout",
     "output_type": "stream",
     "text": [
      "Bạn\n",
      "Tên là\n"
     ]
    }
   ],
   "source": [
    "print(\"Bạn\\nTên là\")"
   ]
  },
  {
   "cell_type": "code",
   "execution_count": 10,
   "metadata": {},
   "outputs": [
    {
     "name": "stdout",
     "output_type": "stream",
     "text": [
      "Bạn\tTên là\n"
     ]
    }
   ],
   "source": [
    "print(\"Bạn\\tTên là\")"
   ]
  },
  {
   "cell_type": "code",
   "execution_count": 11,
   "metadata": {},
   "outputs": [
    {
     "name": "stdout",
     "output_type": "stream",
     "text": [
      "BạnTên là\n"
     ]
    }
   ],
   "source": [
    "print(\"Bạn\\\n",
    "Tên là\")"
   ]
  },
  {
   "cell_type": "markdown",
   "metadata": {},
   "source": [
    "# 5.3 Định dạng chuỗi bằng toán tử %\n",
    "\n",
    "Một số định dạng thông dụng cho string:\n",
    "+ `%s`**: format cho đối tượng kiểu string**\n",
    "\n",
    "+ `%c`**: format cho đối tượng char**\n",
    "\n",
    "+ `%d`**: format cho đối tượng decimal**\n",
    "\n",
    "+ `%u`**: format giống với %d nhưng cho unsigned**\n",
    "\n",
    "+ `%e`**: format cho số thực với mũ exponent**\n",
    "\n",
    "+ `%f`**: format cho đối tượng float**\n",
    "\n"
   ]
  },
  {
   "cell_type": "code",
   "execution_count": 12,
   "metadata": {},
   "outputs": [
    {
     "name": "stdout",
     "output_type": "stream",
     "text": [
      "Giá trị của s là 4 phải không\n",
      "Giá trị của s là      4 phải không\n",
      "Giá trị của s là 000004 phải không\n",
      "Giá trị của s là 4      phải không\n"
     ]
    }
   ],
   "source": [
    "s=4\n",
    "print(\"Giá trị của s là %d phải không\"%s)\n",
    "print(\"Giá trị của s là %6d phải không\"%s)\n",
    "print(\"Giá trị của s là %06d phải không\"%s)\n",
    "print(\"Giá trị của s là %-6d phải không\"%s)"
   ]
  },
  {
   "cell_type": "code",
   "execution_count": 13,
   "metadata": {},
   "outputs": [
    {
     "name": "stdout",
     "output_type": "stream",
     "text": [
      "Giá trị của s là 4.200000\n"
     ]
    }
   ],
   "source": [
    "s=4.2\n",
    "print(\"Giá trị của s là %f\"%s)"
   ]
  },
  {
   "cell_type": "code",
   "execution_count": 14,
   "metadata": {},
   "outputs": [
    {
     "name": "stdout",
     "output_type": "stream",
     "text": [
      "Giá trị của s là 4.200\n"
     ]
    }
   ],
   "source": [
    "s=4.2\n",
    "print(\"Giá trị của s là %.3f\"%s)"
   ]
  },
  {
   "cell_type": "code",
   "execution_count": 15,
   "metadata": {},
   "outputs": [
    {
     "name": "stdout",
     "output_type": "stream",
     "text": [
      "Giá trị của a và b là 1 và 2\n"
     ]
    }
   ],
   "source": [
    "a,b=1,2\n",
    "print(\"Giá trị của a và b là %d và %d\"%(a,b))"
   ]
  },
  {
   "cell_type": "code",
   "execution_count": 16,
   "metadata": {},
   "outputs": [
    {
     "name": "stdout",
     "output_type": "stream",
     "text": [
      "Tôi tên là Cracker Lambda\n"
     ]
    }
   ],
   "source": [
    "s=\"Cracker Lambda\"\n",
    "print(\"Tôi tên là %s\"%s)"
   ]
  },
  {
   "cell_type": "markdown",
   "metadata": {},
   "source": [
    "# 5.4 Bài tập Exercise\n",
    "\n",
    "## A. Lý thuyết chọn đáp án"
   ]
  },
  {
   "cell_type": "markdown",
   "metadata": {},
   "source": [
    "Câu 1: Kiểu dữ liệu của biến a khi thực hiện phép tính sau:\n",
    "\n",
    "```python\n",
    "b,c=3,6.0\n",
    "a=b+c\n",
    "```\n",
    "<div style=\"padding: 15px; border: 1px solid transparent; border-color: transparent; margin-bottom: 5px; border-radius: 2px; color:#1C1C1C; background-color:#D3D3D3; border-color: #BEBEBE;\">\n",
    "A. interger\n",
    "</div>\n",
    "\n",
    "<div style=\"padding: 15px; border: 1px solid transparent; border-color: transparent; margin-bottom: 5px; border-radius: 2px; color:#1C1C1C; background-color:#D3D3D3; border-color: #BEBEBE;\">\n",
    "B. float\n",
    "</div>\n",
    "\n",
    "<div style=\"padding: 15px; border: 1px solid transparent; border-color: transparent; margin-bottom: 5px; border-radius: 2px; color:#1C1C1C; background-color:#D3D3D3; border-color: #BEBEBE;\">\n",
    "C. unsigned interger\n",
    "</div>\n",
    "\n",
    "<div style=\"padding: 15px; border: 1px solid transparent; border-color: transparent; margin-bottom: 5px; border-radius: 2px; color:#1C1C1C; background-color:#D3D3D3; border-color: #BEBEBE;\">\n",
    "D. boolean\n",
    "</div>"
   ]
  },
  {
   "cell_type": "markdown",
   "metadata": {},
   "source": [
    "Câu 2: Ý nghĩa của dãy thoát \"\\n\" là gì?\n",
    "\n",
    "<div style=\"padding: 15px; border: 1px solid transparent; border-color: transparent; margin-bottom: 5px; border-radius: 2px; color:#1C1C1C; background-color:#D3D3D3; border-color: #BEBEBE;\">\n",
    "A. Thêm khoảng cách \n",
    "</div>\n",
    "\n",
    "<div style=\"padding: 15px; border: 1px solid transparent; border-color: transparent; margin-bottom: 5px; border-radius: 2px; color:#1C1C1C; background-color:#D3D3D3; border-color: #BEBEBE;\">\n",
    "B. Xuống dòng\n",
    "</div>\n",
    "\n",
    "<div style=\"padding: 15px; border: 1px solid transparent; border-color: transparent; margin-bottom: 5px; border-radius: 2px; color:#1C1C1C; background-color:#D3D3D3; border-color: #BEBEBE;\">\n",
    "C. Cách nhau một tab\n",
    "</div>\n",
    "\n",
    "<div style=\"padding: 15px; border: 1px solid transparent; border-color: transparent; margin-bottom: 5px; border-radius: 2px; color:#1C1C1C; background-color:#D3D3D3; border-color: #BEBEBE;\">\n",
    "D. Thêm khoảng trắng\n",
    "</div>"
   ]
  },
  {
   "cell_type": "markdown",
   "metadata": {},
   "source": [
    "Câu 3: Kiểu dữ liệu của biến z khi thực hiện phép tính?\n",
    "```python\n",
    "x,y,t=3,4.0,5.2\n",
    "z=x*y+t\n",
    "```\n",
    "<div style=\"padding: 15px; border: 1px solid transparent; border-color: transparent; margin-bottom: 5px; border-radius: 2px; color:#1C1C1C; background-color:#D3D3D3; border-color: #BEBEBE;\">\n",
    "A. Kiểu interger\n",
    "</div>\n",
    "\n",
    "<div style=\"padding: 15px; border: 1px solid transparent; border-color: transparent; margin-bottom: 5px; border-radius: 2px; color:#1C1C1C; background-color:#D3D3D3; border-color: #BEBEBE;\">\n",
    "B. Kiểu float\n",
    "</div>\n",
    "\n",
    "<div style=\"padding: 15px; border: 1px solid transparent; border-color: transparent; margin-bottom: 5px; border-radius: 2px; color:#1C1C1C; background-color:#D3D3D3; border-color: #BEBEBE;\">\n",
    "C. Kiểu longsigned interger\n",
    "</div>\n",
    "\n",
    "<div style=\"padding: 15px; border: 1px solid transparent; border-color: transparent; margin-bottom: 5px; border-radius: 2px; color:#1C1C1C; background-color:#D3D3D3; border-color: #BEBEBE;\">\n",
    "D. Kiểu boolean\n",
    "</div>"
   ]
  },
  {
   "cell_type": "markdown",
   "metadata": {},
   "source": [
    "Câu 4: Kết quả khi thực hiện phép tính cộng là:\n",
    "\n",
    "```python\n",
    "s1=\"Ai Thông Minh\"\n",
    "s2=\"Hơn học sinh lớp 5\"\n",
    "s3=s1+s2\n",
    "print(s3)\n",
    "```\n",
    "<div style=\"padding: 15px; border: 1px solid transparent; border-color: transparent; margin-bottom: 5px; border-radius: 2px; color:#1C1C1C; background-color:#D3D3D3; border-color: #BEBEBE;\">\n",
    "A. Ai Thông Minh Hơn học sinh lớp 5\n",
    "</div>\n",
    "\n",
    "<div style=\"padding: 15px; border: 1px solid transparent; border-color: transparent; margin-bottom: 5px; border-radius: 2px; color:#1C1C1C; background-color:#D3D3D3; border-color: #BEBEBE;\">\n",
    "B. Ai Thông MinhHơn học sinh lớp 5\n",
    "</div>\n",
    "\n",
    "<div style=\"padding: 15px; border: 1px solid transparent; border-color: transparent; margin-bottom: 5px; border-radius: 2px; color:#1C1C1C; background-color:#D3D3D3; border-color: #BEBEBE;\">\n",
    "C. Ai Thông Minh\\nHơn học sinh lớp 5\n",
    "</div>\n",
    "\n",
    "<div style=\"padding: 15px; border: 1px solid transparent; border-color: transparent; margin-bottom: 5px; border-radius: 2px; color:#1C1C1C; background-color:#D3D3D3; border-color: #BEBEBE;\">\n",
    "D. Ai Thông Minh hơn học sinh lớp 5\n",
    "</div>"
   ]
  },
  {
   "cell_type": "markdown",
   "metadata": {},
   "source": [
    "Câu 5: Cho đoạn mã dưới đây hãy cho biết kết quả cuối cùng là\n",
    "```python\n",
    "a=-3\n",
    "m=\"Sinh viên\"\n",
    "print(a*m)\n",
    "```\n",
    "<div style=\"padding: 15px; border: 1px solid transparent; border-color: transparent; margin-bottom: 5px; border-radius: 2px; color:#1C1C1C; background-color:#D3D3D3; border-color: #BEBEBE;\">\n",
    "A. Sinh viên\n",
    "</div>\n",
    "\n",
    "<div style=\"padding: 15px; border: 1px solid transparent; border-color: transparent; margin-bottom: 5px; border-radius: 2px; color:#1C1C1C; background-color:#D3D3D3; border-color: #BEBEBE;\">\n",
    "B. Sinh viênSinh viênSinh viên \n",
    "</div>\n",
    "\n",
    "<div style=\"padding: 15px; border: 1px solid transparent; border-color: transparent; margin-bottom: 5px; border-radius: 2px; color:#1C1C1C; background-color:#D3D3D3; border-color: #BEBEBE;\">\n",
    "C. -Sinh viên\n",
    "</div>\n",
    "\n",
    "<div style=\"padding: 15px; border: 1px solid transparent; border-color: transparent; margin-bottom: 5px; border-radius: 2px; color:#1C1C1C; background-color:#D3D3D3; border-color: #BEBEBE;\">\n",
    "D. Xâu rỗng\n",
    "</div>"
   ]
  },
  {
   "cell_type": "markdown",
   "metadata": {},
   "source": [
    "Câu 6: Hãy cho biết kết quả của chương trình sau đây:\n",
    "```python\n",
    "m=4.5632\n",
    "print(\"Giá trị m là %.2f\"%m)\n",
    "```\n",
    "<div style=\"padding: 15px; border: 1px solid transparent; border-color: transparent; margin-bottom: 5px; border-radius: 2px; color:#1C1C1C; background-color:#D3D3D3; border-color: #BEBEBE;\">\n",
    "A. Giá trị m là 4.5\n",
    "</div>\n",
    "\n",
    "<div style=\"padding: 15px; border: 1px solid transparent; border-color: transparent; margin-bottom: 5px; border-radius: 2px; color:#1C1C1C; background-color:#D3D3D3; border-color: #BEBEBE;\">\n",
    "B. Giá trị m là 4.56 \n",
    "</div>\n",
    "\n",
    "<div style=\"padding: 15px; border: 1px solid transparent; border-color: transparent; margin-bottom: 5px; border-radius: 2px; color:#1C1C1C; background-color:#D3D3D3; border-color: #BEBEBE;\">\n",
    "C. Giá trị m là 4.563\n",
    "</div>\n",
    "\n",
    "<div style=\"padding: 15px; border: 1px solid transparent; border-color: transparent; margin-bottom: 5px; border-radius: 2px; color:#1C1C1C; background-color:#D3D3D3; border-color: #BEBEBE;\">\n",
    "D. Giá trị m là %4.5632\n",
    "</div>"
   ]
  },
  {
   "cell_type": "markdown",
   "metadata": {},
   "source": [
    "Câu 7. Cho đoạn code sau đây có dãy thoát escape \n",
    "```python\n",
    "print(\"Việt Nam\\\n",
    "Đất nước\\\n",
    "Tôi yêu\")\n",
    "```\n",
    "Kết quả là:\n",
    "\n",
    "<div style=\"padding: 15px; border: 1px solid transparent; border-color: transparent; margin-bottom: 5px; border-radius: 2px; color:#1C1C1C; background-color:#D3D3D3; border-color: #BEBEBE;\">\n",
    "A. Việt NamĐất nướcTôi yêu\n",
    "</div>\n",
    "\n",
    "<div style=\"padding: 15px; border: 1px solid transparent; border-color: transparent; margin-bottom: 5px; border-radius: 2px; color:#1C1C1C; background-color:#D3D3D3; border-color: #BEBEBE;\">\n",
    "B. Việt Nam Đất nước Tôi yêu\n",
    "</div>\n",
    "\n",
    "<div style=\"padding: 15px; border: 1px solid transparent; border-color: transparent; margin-bottom: 5px; border-radius: 2px; color:#1C1C1C; background-color:#D3D3D3; border-color: #BEBEBE;\">\n",
    "C. Việt Nam\n",
    "\n",
    "&nbsp;&nbsp;&nbsp;&nbsp;&nbsp;Đất nước\n",
    "\n",
    "&nbsp;&nbsp;&nbsp;&nbsp;&nbsp;Tôi yêu\n",
    "</div>\n",
    "\n",
    "<div style=\"padding: 15px; border: 1px solid transparent; border-color: transparent; margin-bottom: 5px; border-radius: 2px; color:#1C1C1C; background-color:#D3D3D3; border-color: #BEBEBE;\">\n",
    "D. \"Việt Nam Đất nước Tôi yêu\"\n",
    "</div>"
   ]
  },
  {
   "cell_type": "markdown",
   "metadata": {},
   "source": [
    "Câu 8: Ký tự nào sau đây dùng để định dạng chuỗi:\n",
    "\n",
    "<div style=\"padding: 15px; border: 1px solid transparent; border-color: transparent; margin-bottom: 5px; border-radius: 2px; color:#1C1C1C; background-color:#D3D3D3; border-color: #BEBEBE;\">\n",
    "A. %f\n",
    "</div>\n",
    "\n",
    "<div style=\"padding: 15px; border: 1px solid transparent; border-color: transparent; margin-bottom: 5px; border-radius: 2px; color:#1C1C1C; background-color:#D3D3D3; border-color: #BEBEBE;\">\n",
    "B. %c\n",
    "</div>\n",
    "\n",
    "<div style=\"padding: 15px; border: 1px solid transparent; border-color: transparent; margin-bottom: 5px; border-radius: 2px; color:#1C1C1C; background-color:#D3D3D3; border-color: #BEBEBE;\">\n",
    "C. %d\n",
    "</div>\n",
    "\n",
    "<div style=\"padding: 15px; border: 1px solid transparent; border-color: transparent; margin-bottom: 5px; border-radius: 2px; color:#1C1C1C; background-color:#D3D3D3; border-color: #BEBEBE;\">\n",
    "D. %s\n",
    "</div>"
   ]
  },
  {
   "cell_type": "markdown",
   "metadata": {},
   "source": [
    "Câu 9: Cho đoạn mã sau kết quả cuối cùng là:\n",
    "```python\n",
    "s=\"Hòa bình\"\n",
    "c=\"Chiến tranh\"\n",
    "print(s*c)\n",
    "```\n",
    "\n",
    "<div style=\"padding: 15px; border: 1px solid transparent; border-color: transparent; margin-bottom: 5px; border-radius: 2px; color:#1C1C1C; background-color:#D3D3D3; border-color: #BEBEBE;\">\n",
    "A. None\n",
    "</div>\n",
    "\n",
    "<div style=\"padding: 15px; border: 1px solid transparent; border-color: transparent; margin-bottom: 5px; border-radius: 2px; color:#1C1C1C; background-color:#D3D3D3; border-color: #BEBEBE;\">\n",
    "B. Xâu rỗng\n",
    "</div>\n",
    "\n",
    "<div style=\"padding: 15px; border: 1px solid transparent; border-color: transparent; margin-bottom: 5px; border-radius: 2px; color:#1C1C1C; background-color:#D3D3D3; border-color: #BEBEBE;\">\n",
    "C. Hòa bình*Chiến tranh\n",
    "</div>\n",
    "\n",
    "<div style=\"padding: 15px; border: 1px solid transparent; border-color: transparent; margin-bottom: 5px; border-radius: 2px; color:#1C1C1C; background-color:#D3D3D3; border-color: #BEBEBE;\">\n",
    "D. Error\n",
    "</div>"
   ]
  },
  {
   "cell_type": "markdown",
   "metadata": {},
   "source": [
    "Câu 10: Kiểu dữ liệu của biến a khi thực hiện phép tính:\n",
    "```python\n",
    "e=2\n",
    "h=4.2\n",
    "a=int(float(h*e))\n",
    "```\n",
    "<div style=\"padding: 15px; border: 1px solid transparent; border-color: transparent; margin-bottom: 5px; border-radius: 2px; color:#1C1C1C; background-color:#D3D3D3; border-color: #BEBEBE;\">\n",
    "A. Kiểu interger\n",
    "</div>\n",
    "\n",
    "<div style=\"padding: 15px; border: 1px solid transparent; border-color: transparent; margin-bottom: 5px; border-radius: 2px; color:#1C1C1C; background-color:#D3D3D3; border-color: #BEBEBE;\">\n",
    "B. Kiểu float\n",
    "</div>\n",
    "\n",
    "<div style=\"padding: 15px; border: 1px solid transparent; border-color: transparent; margin-bottom: 5px; border-radius: 2px; color:#1C1C1C; background-color:#D3D3D3; border-color: #BEBEBE;\">\n",
    "C. Kiểu boolean\n",
    "</div>\n",
    "\n",
    "<div style=\"padding: 15px; border: 1px solid transparent; border-color: transparent; margin-bottom: 5px; border-radius: 2px; color:#1C1C1C; background-color:#D3D3D3; border-color: #BEBEBE;\">\n",
    "D. Kiểu string\n",
    "</div>"
   ]
  },
  {
   "cell_type": "markdown",
   "metadata": {},
   "source": [
    "---\n",
    "# <span style= 'color:blue'> Đáp án </span> "
   ]
  },
  {
   "cell_type": "markdown",
   "metadata": {},
   "source": [
    "<div style=\"padding: 15px; border: 1px solid transparent; border-color: transparent; margin-bottom: 5px; border-radius: 2px; color: #3c763d; background-color: #dff0d8; border-color: #d6e9c6;\">\n",
    "1.B\n",
    "</div>\n",
    "\n",
    "<div style=\"padding: 15px; border: 1px solid transparent; border-color: transparent; margin-bottom: 5px; border-radius: 2px; color: #3c763d; background-color: #dff0d8; border-color: #d6e9c6;\">\n",
    "2.B\n",
    "</div>\n",
    "\n",
    "<div style=\"padding: 15px; border: 1px solid transparent; border-color: transparent; margin-bottom: 5px; border-radius: 2px; color: #3c763d; background-color: #dff0d8; border-color: #d6e9c6;\">\n",
    "3.B\n",
    "</div>\n",
    "\n",
    "<div style=\"padding: 15px; border: 1px solid transparent; border-color: transparent; margin-bottom: 5px; border-radius: 2px; color: #3c763d; background-color: #dff0d8; border-color: #d6e9c6;\">\n",
    "4.B\n",
    "</div>\n",
    "\n",
    "<div style=\"padding: 15px; border: 1px solid transparent; border-color: transparent; margin-bottom: 5px; border-radius: 2px; color: #3c763d; background-color: #dff0d8; border-color: #d6e9c6;\">\n",
    "5.B\n",
    "</div>\n",
    "\n",
    "<div style=\"padding: 15px; border: 1px solid transparent; border-color: transparent; margin-bottom: 5px; border-radius: 2px; color: #3c763d; background-color: #dff0d8; border-color: #d6e9c6;\">\n",
    "6.B\n",
    "</div>\n",
    "\n",
    "<div style=\"padding: 15px; border: 1px solid transparent; border-color: transparent; margin-bottom: 5px; border-radius: 2px; color: #3c763d; background-color: #dff0d8; border-color: #d6e9c6;\">\n",
    "7.A\n",
    "</div>\n",
    "\n",
    "<div style=\"padding: 15px; border: 1px solid transparent; border-color: transparent; margin-bottom: 5px; border-radius: 2px; color: #3c763d; background-color: #dff0d8; border-color: #d6e9c6;\">\n",
    "8.D\n",
    "</div>\n",
    "\n",
    "<div style=\"padding: 15px; border: 1px solid transparent; border-color: transparent; margin-bottom: 5px; border-radius: 2px; color: #3c763d; background-color: #dff0d8; border-color: #d6e9c6;\">\n",
    "9.D\n",
    "</div>\n",
    "\n",
    "<div style=\"padding: 15px; border: 1px solid transparent; border-color: transparent; margin-bottom: 5px; border-radius: 2px; color: #3c763d; background-color: #dff0d8; border-color: #d6e9c6;\">\n",
    "10.A\n",
    "</div>"
   ]
  },
  {
   "cell_type": "code",
   "execution_count": null,
   "metadata": {},
   "outputs": [],
   "source": []
  }
 ],
 "metadata": {
  "kernelspec": {
   "display_name": "Python 3",
   "language": "python",
   "name": "python3"
  },
  "language_info": {
   "codemirror_mode": {
    "name": "ipython",
    "version": 3
   },
   "file_extension": ".py",
   "mimetype": "text/x-python",
   "name": "python",
   "nbconvert_exporter": "python",
   "pygments_lexer": "ipython3",
   "version": "3.7.0"
  }
 },
 "nbformat": 4,
 "nbformat_minor": 2
}
