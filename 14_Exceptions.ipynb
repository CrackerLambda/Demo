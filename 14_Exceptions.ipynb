{
 "cells": [
  {
   "cell_type": "markdown",
   "metadata": {},
   "source": [
    "**Lưu ý:** *Bạn có thể xem trực tiếp trên github, tải xuống, nếu bạn muốn chạy thử hãy truy cập vào google colab nó cung cấp cho bạn thư viện có sẵn và chạy bằng GPU.*\n",
    "\n",
    "[![Open In Colab](https://colab.research.google.com/assets/colab-badge.svg)](https://colab.research.google.com/github/CrackerLambda/PythonBasics/blob/master/14_Exceptions.ipynb)"
   ]
  },
  {
   "cell_type": "markdown",
   "metadata": {},
   "source": [
    "# 1. Bắt lỗi là gì?\n",
    "\n",
    "Khi viết chương trình thì thường sẽ có 2 lỗi là lỗi cú pháp và lỗi logic được python gọi là exception.\n",
    "\n",
    "Một số exception phổ biến có thể kể đến là:\n",
    "+ Lỗi chia cho zero.\n",
    "+ Lỗi thời gian chạy quá lâu.\n",
    "+ Lỗi import thư viện.\n",
    "+ Lỗi sai index."
   ]
  },
  {
   "cell_type": "code",
   "execution_count": 1,
   "metadata": {},
   "outputs": [
    {
     "name": "stdout",
     "output_type": "stream",
     "text": [
      "Nhập một số n:2.3\n",
      "Sai rồi.Bạn hãy nhập lại\n",
      "Nhập một số n:4\n"
     ]
    }
   ],
   "source": [
    "while True:\n",
    "    try:\n",
    "        x=int(input(\"Nhập một số n:\"))\n",
    "        break\n",
    "    except ValueError:\n",
    "        print(\"Sai rồi.Bạn hãy nhập lại\")"
   ]
  },
  {
   "cell_type": "markdown",
   "metadata": {},
   "source": [
    "Từ đây ta thấy nhiệm vụ của exception giúp chúng ta có thể nhập lại mà không bị thoát khỏi chương trình."
   ]
  },
  {
   "cell_type": "markdown",
   "metadata": {},
   "source": [
    "**Cú pháp bắt lỗi**\n",
    "\n",
    "try: <br>\n",
    "&nbsp;&nbsp;&nbsp;    `<Đoạn mã cần bắt lỗi>`\n",
    "    \n",
    "except `<Mã lỗi>`:\n",
    " <br>\n",
    " &nbsp;&nbsp;&nbsp;   `<Lệnh xử lý khi gặp lỗi>`"
   ]
  },
  {
   "cell_type": "code",
   "execution_count": 2,
   "metadata": {},
   "outputs": [
    {
     "name": "stdout",
     "output_type": "stream",
     "text": [
      "Bắt đầu vòng lặp: 0\n",
      "Không thể chuyển thành số nguyên\n",
      "Kết thúc vùng lặp 0\n",
      "Bắt đầu vòng lặp: 1\n",
      "Không thể chuyển thành số nguyên\n",
      "Kết thúc vùng lặp 1\n",
      "Bắt đầu vòng lặp: 2\n",
      "Chia cho số 0\n",
      "Kết thúc vùng lặp 2\n",
      "Bắt đầu vòng lặp: 3\n",
      "Chỉ số vượt quá giới hạn\n",
      "Kết thúc vùng lặp 3\n",
      "Bắt đầu vòng lặp: 4\n",
      "Không thể chuyển thành số nguyên\n",
      "Kết thúc vùng lặp 4\n"
     ]
    }
   ],
   "source": [
    "import random\n",
    "for i in range(5):\n",
    "    print('Bắt đầu vòng lặp:',i)\n",
    "    try:\n",
    "        r=random.randint(1,3)\n",
    "        if r==1:\n",
    "            print(int('Fred'))#Lệnh ép kiểu sai\n",
    "        elif r==2:\n",
    "            [][2]=5 # lệnh gán sai\n",
    "        else:\n",
    "            print(3/0)# lỗi chia cho 0\n",
    "    except ValueError:\n",
    "        print(\"Không thể chuyển thành số nguyên\")\n",
    "    except IndexError:\n",
    "        print(\"Chỉ số vượt quá giới hạn\")\n",
    "    except ZeroDivisionError:\n",
    "        print(\"Chia cho số 0\")\n",
    "    print(\"Kết thúc vùng lặp\",i)"
   ]
  },
  {
   "cell_type": "markdown",
   "metadata": {},
   "source": [
    "# 2. Bắt lỗi Exception đầy đủ"
   ]
  },
  {
   "cell_type": "markdown",
   "metadata": {},
   "source": [
    "Khi thực hiện bắt lỗi, chương trình bắt lỗi thực thi khi có mã lỗi chính xác, vì thế ta cần phải có một cú pháp bắt lỗi đầy đủ để khi đó chương trình sẽ chạy mà không dừng đột ngột."
   ]
  },
  {
   "cell_type": "markdown",
   "metadata": {},
   "source": [
    "**Cú pháp**\n",
    "\n",
    "try: <br>\n",
    "&nbsp;&nbsp;&nbsp;    `<Đoạn mã cần bắt lỗi>`\n",
    "    \n",
    "except `<Mã lỗi 1>`:\n",
    " <br>\n",
    " &nbsp;&nbsp;&nbsp;   `<Lệnh xử lý khi gặp lỗi>`\n",
    " \n",
    "except `<Mã lỗi 2>`:\n",
    " <br>\n",
    " &nbsp;&nbsp;&nbsp;   `<Lệnh xử lý khi gặp lỗi>`\n",
    " \n",
    "except `<Mã lỗi N>`:\n",
    " <br>\n",
    " &nbsp;&nbsp;&nbsp;   `<Lệnh xử lý khi gặp lỗi>`\n",
    " \n",
    "except Exception:\n",
    " <br>\n",
    " &nbsp;&nbsp;&nbsp;   `<Lệnh xử lý khi gặp lỗi>`"
   ]
  },
  {
   "cell_type": "code",
   "execution_count": 3,
   "metadata": {},
   "outputs": [
    {
     "name": "stdout",
     "output_type": "stream",
     "text": [
      "Bắt đầu vòng lặp: 0\n",
      "Không thể chuyển thành số nguyên\n",
      "Bắt đầu vòng lặp: 1\n",
      "Chia cho số 0\n",
      "Bắt đầu vòng lặp: 2\n",
      "Lỗi khác\n",
      "Bắt đầu vòng lặp: 3\n",
      "Chia cho số 0\n",
      "Bắt đầu vòng lặp: 4\n",
      "Chia cho số 0\n"
     ]
    }
   ],
   "source": [
    "import random\n",
    "for i in range(5):\n",
    "    print('Bắt đầu vòng lặp:',i)\n",
    "    try:\n",
    "        r=random.randint(1,4)\n",
    "        if r==1:\n",
    "            print(int('Fred'))#Lệnh ép kiểu sai\n",
    "        elif r==2:\n",
    "            [][2]=5 # lệnh gán sai\n",
    "        elif r==3:\n",
    "            print({}[1])\n",
    "        else:\n",
    "            print(3/0)# lỗi chia cho 0\n",
    "    except ValueError:\n",
    "        print(\"Không thể chuyển thành số nguyên\")\n",
    "    except IndexError:\n",
    "        print(\"Chỉ số vượt quá giới hạn\")\n",
    "    except ZeroDivisionError:\n",
    "        print(\"Chia cho số 0\")\n",
    "    except Exception:\n",
    "        print('Lỗi khác')"
   ]
  },
  {
   "cell_type": "code",
   "execution_count": 4,
   "metadata": {},
   "outputs": [
    {
     "name": "stdout",
     "output_type": "stream",
     "text": [
      "Hãy nhập một số:2.3\n",
      "Sai rồi bạn hãy nhập lại invalid literal for int() with base 10: '2.3'\n",
      "Hãy nhập lại\n",
      "Hãy nhập một số:2\n",
      "Bạn đã nhập đúng\n"
     ]
    }
   ],
   "source": [
    "while True:\n",
    "    try:\n",
    "        x=int(input(\"Hãy nhập một số:\"))\n",
    "        break\n",
    "    except ValueError as Err:\n",
    "        print(\"Sai rồi bạn hãy nhập lại\",Err)\n",
    "        print(\"Hãy nhập lại\")\n",
    "print(\"Bạn đã nhập đúng\")"
   ]
  },
  {
   "cell_type": "markdown",
   "metadata": {},
   "source": [
    "**Bỏ qua lỗi bằng lệnh pass**"
   ]
  },
  {
   "cell_type": "code",
   "execution_count": 5,
   "metadata": {},
   "outputs": [
    {
     "name": "stdout",
     "output_type": "stream",
     "text": [
      "Hãy nhập một số:8.2\n",
      "Hãy nhập một số:8\n",
      "Bạn đã nhập đúng\n"
     ]
    }
   ],
   "source": [
    "while True:\n",
    "    try:\n",
    "        x=int(input(\"Hãy nhập một số:\"))\n",
    "        break\n",
    "    except ValueError:\n",
    "        pass\n",
    "print(\"Bạn đã nhập đúng\")"
   ]
  },
  {
   "cell_type": "markdown",
   "metadata": {},
   "source": [
    "**Lệnh else và finally**"
   ]
  },
  {
   "cell_type": "code",
   "execution_count": 6,
   "metadata": {},
   "outputs": [
    {
     "name": "stdout",
     "output_type": "stream",
     "text": [
      "Phép cho cho 0\n",
      "Đã thực hiện xong\n"
     ]
    }
   ],
   "source": [
    "try:\n",
    "    result=1/0\n",
    "except ZeroDivisionError:\n",
    "    print(\"Phép cho cho 0\")\n",
    "else:\n",
    "    print(\"Kết quả là\",result)\n",
    "finally:\n",
    "    print(\"Đã thực hiện xong\")"
   ]
  },
  {
   "cell_type": "markdown",
   "metadata": {},
   "source": [
    "+ Các lệnh trong else khi không có lỗi sẽ được xử lý\n",
    "\n",
    "+ Các lệnh trong finally khi không có lỗi và có lỗi điều được xử lý sau cùng"
   ]
  },
  {
   "cell_type": "markdown",
   "metadata": {},
   "source": [
    "# 3. Tự tạo lỗi "
   ]
  },
  {
   "cell_type": "code",
   "execution_count": 7,
   "metadata": {},
   "outputs": [
    {
     "name": "stdout",
     "output_type": "stream",
     "text": [
      "Nhập một số tự nhiên từ 1 đến 20 21\n",
      "Bạn đã nhập sai\n",
      "Nhập một số tự nhiên từ 1 đến 20 19\n",
      "Bạn đã nhập đúng\n"
     ]
    }
   ],
   "source": [
    "def Nhapso():\n",
    "    n=int(input(\"Nhập một số tự nhiên từ 1 đến 20 \"))\n",
    "    if n<=0 or n>20:\n",
    "        raise ValueError(n)\n",
    "    return n\n",
    "while True:\n",
    "    try:\n",
    "        x=Nhapso()\n",
    "        break\n",
    "    except ValueError:\n",
    "        print(\"Bạn đã nhập sai\")\n",
    "print(\"Bạn đã nhập đúng\")"
   ]
  },
  {
   "cell_type": "markdown",
   "metadata": {},
   "source": [
    "**Tạo lỗi bằng cách kế thường lớp Exception**"
   ]
  },
  {
   "cell_type": "code",
   "execution_count": 8,
   "metadata": {},
   "outputs": [
    {
     "name": "stdout",
     "output_type": "stream",
     "text": [
      "Nhập vào một số tự nhiên2.4\n",
      "Bạn đã nhập sai rồi\n",
      "Nhập vào một số tự nhiên2\n",
      "Bạn đã nhập đúng số\n"
     ]
    }
   ],
   "source": [
    "class inputError(Exception):\n",
    "    def __init__(self,message):\n",
    "        self.message=message\n",
    "def Nhapso():\n",
    "    n=int(input(\"Nhập vào một số tự nhiên\"))\n",
    "    if n<=0 or n>20:\n",
    "        raise inputError(\"Bạn nhập sai\")\n",
    "    return n\n",
    "while True:\n",
    "    try:\n",
    "        x=Nhapso()\n",
    "        break\n",
    "    except ValueError:\n",
    "        print(\"Bạn đã nhập sai rồi\")\n",
    "    except inputError as Err:\n",
    "        print(Err)\n",
    "print(\"Bạn đã nhập đúng số\")"
   ]
  },
  {
   "cell_type": "markdown",
   "metadata": {},
   "source": [
    "# 4. Bài tập Exercise"
   ]
  },
  {
   "cell_type": "markdown",
   "metadata": {},
   "source": [
    "+ Lý thuyết chọn đáp án"
   ]
  },
  {
   "cell_type": "markdown",
   "metadata": {},
   "source": [
    "Câu 1: Các lỗi Exception trong Python thuộc kiểu dữ liệu nào?\n",
    "<div style=\"padding: 15px; border: 1px solid transparent; border-color: transparent; margin-bottom: 5px; border-radius: 2px; color:#1C1C1C; background-color:#D3D3D3; border-color: #BEBEBE;\">\n",
    "A. List\n",
    "</div>\n",
    "\n",
    "<div style=\"padding: 15px; border: 1px solid transparent; border-color: transparent; margin-bottom: 5px; border-radius: 2px; color:#1C1C1C; background-color:#D3D3D3; border-color: #BEBEBE;\">\n",
    "B. Dictionary\n",
    "</div>\n",
    "\n",
    "<div style=\"padding: 15px; border: 1px solid transparent; border-color: transparent; margin-bottom: 5px; border-radius: 2px; color:#1C1C1C; background-color:#D3D3D3; border-color: #BEBEBE;\">\n",
    "C. Không thuộc kiểu dữ liệu nào\n",
    "</div>\n",
    "\n",
    "<div style=\"padding: 15px; border: 1px solid transparent; border-color: transparent; margin-bottom: 5px; border-radius: 2px; color:#1C1C1C; background-color:#D3D3D3; border-color: #BEBEBE;\">\n",
    "D. Là lớp con của lớp Exception\n",
    "</div>\n"
   ]
  },
  {
   "cell_type": "markdown",
   "metadata": {},
   "source": [
    "Câu 2: Lỗi do người dùng tự định nghĩa phải là:\n",
    "<div style=\"padding: 15px; border: 1px solid transparent; border-color: transparent; margin-bottom: 5px; border-radius: 2px; color:#1C1C1C; background-color:#D3D3D3; border-color: #BEBEBE;\">\n",
    "A. Phải kết thúc bằng từ Error\n",
    "</div>\n",
    "\n",
    "<div style=\"padding: 15px; border: 1px solid transparent; border-color: transparent; margin-bottom: 5px; border-radius: 2px; color:#1C1C1C; background-color:#D3D3D3; border-color: #BEBEBE;\">\n",
    "B. Phải là lớp con của Exception\n",
    "</div>\n",
    "\n",
    "<div style=\"padding: 15px; border: 1px solid transparent; border-color: transparent; margin-bottom: 5px; border-radius: 2px; color:#1C1C1C; background-color:#D3D3D3; border-color: #BEBEBE;\">\n",
    "C. Phải là lớp con của BaseException\n",
    "</div>\n",
    "\n",
    "<div style=\"padding: 15px; border: 1px solid transparent; border-color: transparent; margin-bottom: 5px; border-radius: 2px; color:#1C1C1C; background-color:#D3D3D3; border-color: #BEBEBE;\">\n",
    "D. Phải là một lỗi dựa vào các lỗi của Exception\n",
    "</div>\n"
   ]
  },
  {
   "cell_type": "markdown",
   "metadata": {},
   "source": [
    "Câu 3: Trong khối except có thể có bao nhiêu ngoại lệ:\n",
    "<div style=\"padding: 15px; border: 1px solid transparent; border-color: transparent; margin-bottom: 5px; border-radius: 2px; color:#1C1C1C; background-color:#D3D3D3; border-color: #BEBEBE;\">\n",
    "A. 1\n",
    "</div>\n",
    "\n",
    "<div style=\"padding: 15px; border: 1px solid transparent; border-color: transparent; margin-bottom: 5px; border-radius: 2px; color:#1C1C1C; background-color:#D3D3D3; border-color: #BEBEBE;\">\n",
    "B. 2\n",
    "</div>\n",
    "\n",
    "<div style=\"padding: 15px; border: 1px solid transparent; border-color: transparent; margin-bottom: 5px; border-radius: 2px; color:#1C1C1C; background-color:#D3D3D3; border-color: #BEBEBE;\">\n",
    "C. Tối đa 2 \n",
    "</div>\n",
    "\n",
    "<div style=\"padding: 15px; border: 1px solid transparent; border-color: transparent; margin-bottom: 5px; border-radius: 2px; color:#1C1C1C; background-color:#D3D3D3; border-color: #BEBEBE;\">\n",
    "D. Nhiều hơn 0\n",
    "</div>"
   ]
  },
  {
   "cell_type": "markdown",
   "metadata": {},
   "source": [
    "Câu 4: Khi nào phần else của try except else thực thi:\n",
    "<div style=\"padding: 15px; border: 1px solid transparent; border-color: transparent; margin-bottom: 5px; border-radius: 2px; color:#1C1C1C; background-color:#D3D3D3; border-color: #BEBEBE;\">\n",
    "A. Luôn luôn\n",
    "</div>\n",
    "\n",
    "<div style=\"padding: 15px; border: 1px solid transparent; border-color: transparent; margin-bottom: 5px; border-radius: 2px; color:#1C1C1C; background-color:#D3D3D3; border-color: #BEBEBE;\">\n",
    "B. Khi có nhiều hơn một ngoại lệ\n",
    "</div>\n",
    "\n",
    "<div style=\"padding: 15px; border: 1px solid transparent; border-color: transparent; margin-bottom: 5px; border-radius: 2px; color:#1C1C1C; background-color:#D3D3D3; border-color: #BEBEBE;\">\n",
    "C. Khi không có ngoại lệ nào xảy ra\n",
    "</div>\n",
    "\n",
    "<div style=\"padding: 15px; border: 1px solid transparent; border-color: transparent; margin-bottom: 5px; border-radius: 2px; color:#1C1C1C; background-color:#D3D3D3; border-color: #BEBEBE;\">\n",
    "D. Khi ngoại lệ trong khối except xảy ra\n",
    "</div>"
   ]
  },
  {
   "cell_type": "markdown",
   "metadata": {},
   "source": [
    "Câu 5: Khi nào khối finally trong cấu trúc try except finally được thực thi?\n",
    "<div style=\"padding: 15px; border: 1px solid transparent; border-color: transparent; margin-bottom: 5px; border-radius: 2px; color:#1C1C1C; background-color:#D3D3D3; border-color: #BEBEBE;\">\n",
    "A. Khi không có ngoại lệ\n",
    "</div>\n",
    "\n",
    "<div style=\"padding: 15px; border: 1px solid transparent; border-color: transparent; margin-bottom: 5px; border-radius: 2px; color:#1C1C1C; background-color:#D3D3D3; border-color: #BEBEBE;\">\n",
    "B. Khi chỉ có một ngoại lệ\n",
    "</div>\n",
    "\n",
    "<div style=\"padding: 15px; border: 1px solid transparent; border-color: transparent; margin-bottom: 5px; border-radius: 2px; color:#1C1C1C; background-color:#D3D3D3; border-color: #BEBEBE;\">\n",
    "C. Luôn luôn xảy ra\n",
    "</div>\n",
    "\n",
    "<div style=\"padding: 15px; border: 1px solid transparent; border-color: transparent; margin-bottom: 5px; border-radius: 2px; color:#1C1C1C; background-color:#D3D3D3; border-color: #BEBEBE;\">\n",
    "D. Chỉ xảy ra khi có một vài điều điện thiết lập\n",
    "</div>"
   ]
  },
  {
   "cell_type": "markdown",
   "metadata": {},
   "source": [
    "Câu 6: Cho đoạn mã sau hãy cho biết kết quả cuối cùng?\n",
    "```python\n",
    "def bamboo():\n",
    "    try:\n",
    "        return 1\n",
    "    except ValueError:\n",
    "        return 2\n",
    "    finally:\n",
    "        return 3\n",
    "bamboo()\n",
    "```\n",
    "<div style=\"padding: 15px; border: 1px solid transparent; border-color: transparent; margin-bottom: 5px; border-radius: 2px; color:#1C1C1C; background-color:#D3D3D3; border-color: #BEBEBE;\">\n",
    "A. 1\n",
    "</div>\n",
    "\n",
    "<div style=\"padding: 15px; border: 1px solid transparent; border-color: transparent; margin-bottom: 5px; border-radius: 2px; color:#1C1C1C; background-color:#D3D3D3; border-color: #BEBEBE;\">\n",
    "B. 2\n",
    "</div>\n",
    "\n",
    "<div style=\"padding: 15px; border: 1px solid transparent; border-color: transparent; margin-bottom: 5px; border-radius: 2px; color:#1C1C1C; background-color:#D3D3D3; border-color: #BEBEBE;\">\n",
    "C. 3\n",
    "</div>\n",
    "\n",
    "<div style=\"padding: 15px; border: 1px solid transparent; border-color: transparent; margin-bottom: 5px; border-radius: 2px; color:#1C1C1C; background-color:#D3D3D3; border-color: #BEBEBE;\">\n",
    "D. Error\n",
    "</div>"
   ]
  },
  {
   "cell_type": "markdown",
   "metadata": {},
   "source": [
    "Câu 7: Hãy cho biết kết quả của đoạn mã sau\n",
    "```python\n",
    "def f():\n",
    "    try:\n",
    "        print(1)\n",
    "    finally:\n",
    "        print(2)\n",
    "f()\n",
    "```\n",
    "<div style=\"padding: 15px; border: 1px solid transparent; border-color: transparent; margin-bottom: 5px; border-radius: 2px; color:#1C1C1C; background-color:#D3D3D3; border-color: #BEBEBE;\">\n",
    "A. 1\n",
    "</div>\n",
    "\n",
    "<div style=\"padding: 15px; border: 1px solid transparent; border-color: transparent; margin-bottom: 5px; border-radius: 2px; color:#1C1C1C; background-color:#D3D3D3; border-color: #BEBEBE;\">\n",
    "B. 2\n",
    "</div>\n",
    "\n",
    "<div style=\"padding: 15px; border: 1px solid transparent; border-color: transparent; margin-bottom: 5px; border-radius: 2px; color:#1C1C1C; background-color:#D3D3D3; border-color: #BEBEBE;\">\n",
    "C. 1\n",
    "\n",
    "&nbsp;&nbsp;&nbsp;&nbsp;&nbsp;2\n",
    "</div>\n",
    "\n",
    "<div style=\"padding: 15px; border: 1px solid transparent; border-color: transparent; margin-bottom: 5px; border-radius: 2px; color:#1C1C1C; background-color:#D3D3D3; border-color: #BEBEBE;\">\n",
    "D. Error\n",
    "</div>"
   ]
  },
  {
   "cell_type": "markdown",
   "metadata": {},
   "source": [
    "Câu 8: Cho đoạn mã sau hãy cho biết có hợp lệ hay không?\n",
    "```python\n",
    "try:\n",
    "    if 'True' != False:\n",
    "        raise \"someError\"\n",
    "    else:\n",
    "        print(\"someError has not occurred\")\n",
    "except \"someError\":\n",
    "    print (\"someError has occurred\")\n",
    "```\n",
    "<div style=\"padding: 15px; border: 1px solid transparent; border-color: transparent; margin-bottom: 5px; border-radius: 2px; color:#1C1C1C; background-color:#D3D3D3; border-color: #BEBEBE;\">\n",
    "A. Xảy ra bình thường\n",
    "</div>\n",
    "\n",
    "<div style=\"padding: 15px; border: 1px solid transparent; border-color: transparent; margin-bottom: 5px; border-radius: 2px; color:#1C1C1C; background-color:#D3D3D3; border-color: #BEBEBE;\">\n",
    "B. Không xảy ra ngoại lệ\n",
    "</div>\n",
    "\n",
    "<div style=\"padding: 15px; border: 1px solid transparent; border-color: transparent; margin-bottom: 5px; border-radius: 2px; color:#1C1C1C; background-color:#D3D3D3; border-color: #BEBEBE;\">\n",
    "C. Cú pháp định nghĩa ngoại lệ lỗi\n",
    "</div>\n",
    "\n",
    "<div style=\"padding: 15px; border: 1px solid transparent; border-color: transparent; margin-bottom: 5px; border-radius: 2px; color:#1C1C1C; background-color:#D3D3D3; border-color: #BEBEBE;\">\n",
    "D. Chỉ xảy ra điều kiện else\n",
    "</div>"
   ]
  },
  {
   "cell_type": "markdown",
   "metadata": {},
   "source": [
    "Câu 9: Khi nào \"1\"==1 xảy ra?\n",
    "<div style=\"padding: 15px; border: 1px solid transparent; border-color: transparent; margin-bottom: 5px; border-radius: 2px; color:#1C1C1C; background-color:#D3D3D3; border-color: #BEBEBE;\">\n",
    "A. Khi xài ngoại lệ TypeError\n",
    "</div>\n",
    "\n",
    "<div style=\"padding: 15px; border: 1px solid transparent; border-color: transparent; margin-bottom: 5px; border-radius: 2px; color:#1C1C1C; background-color:#D3D3D3; border-color: #BEBEBE;\">\n",
    "B. Khi xài ngoại lệ ValueError\n",
    "</div>\n",
    "\n",
    "<div style=\"padding: 15px; border: 1px solid transparent; border-color: transparent; margin-bottom: 5px; border-radius: 2px; color:#1C1C1C; background-color:#D3D3D3; border-color: #BEBEBE;\">\n",
    "C. Điều đó luôn luôn đúng\n",
    "</div>\n",
    "\n",
    "<div style=\"padding: 15px; border: 1px solid transparent; border-color: transparent; margin-bottom: 5px; border-radius: 2px; color:#1C1C1C; background-color:#D3D3D3; border-color: #BEBEBE;\">\n",
    "D. Điều đó luôn luôn sai\n",
    "</div>"
   ]
  },
  {
   "cell_type": "markdown",
   "metadata": {},
   "source": [
    "Câu 10: Cho đoạn mã sau hãy cho biết kết quả là:\n",
    "```python\n",
    "def Select_Num(n):\n",
    "    if n>=1 and n<=15:\n",
    "        raise ValueError(\"UnValid\")\n",
    "    print(n)\n",
    "Select_Num(19)\n",
    "```\n",
    "<div style=\"padding: 15px; border: 1px solid transparent; border-color: transparent; margin-bottom: 5px; border-radius: 2px; color:#1C1C1C; background-color:#D3D3D3; border-color: #BEBEBE;\">\n",
    "A. 19\n",
    "</div>\n",
    "\n",
    "<div style=\"padding: 15px; border: 1px solid transparent; border-color: transparent; margin-bottom: 5px; border-radius: 2px; color:#1C1C1C; background-color:#D3D3D3; border-color: #BEBEBE;\">\n",
    "B. ValueError\n",
    "</div>\n",
    "\n",
    "<div style=\"padding: 15px; border: 1px solid transparent; border-color: transparent; margin-bottom: 5px; border-radius: 2px; color:#1C1C1C; background-color:#D3D3D3; border-color: #BEBEBE;\">\n",
    "C. UnValid\n",
    "</div>\n",
    "\n",
    "<div style=\"padding: 15px; border: 1px solid transparent; border-color: transparent; margin-bottom: 5px; border-radius: 2px; color:#1C1C1C; background-color:#D3D3D3; border-color: #BEBEBE;\">\n",
    "D. ValueError(\"UnValid\")\n",
    "</div>"
   ]
  },
  {
   "cell_type": "markdown",
   "metadata": {},
   "source": [
    "+ Rèn luyện viết mã code"
   ]
  },
  {
   "cell_type": "markdown",
   "metadata": {},
   "source": [
    "Câu 11: Viết chương trình nhập 2 số a và b là số nguyên, hãy viết lệnh chia 2 số và 2 exception kiểu dữ liệu và chia cho 0. "
   ]
  },
  {
   "cell_type": "markdown",
   "metadata": {},
   "source": [
    "Câu 12: Hãy tạo một list gồm 4 phần tử và viết một exception ngoài vùng index."
   ]
  },
  {
   "cell_type": "markdown",
   "metadata": {},
   "source": [
    "Câu 13: Hãy viết ngoại lệ cho phép cộng số kiểu interger với chuỗi."
   ]
  },
  {
   "cell_type": "markdown",
   "metadata": {},
   "source": [
    "Câu 14: Viết một hàm bắt lỗi import một thư viện bất kỳ."
   ]
  },
  {
   "cell_type": "markdown",
   "metadata": {},
   "source": [
    "Câu 15: Viết một hàm bắt lỗi tên chưa có giá trị bất kỳ."
   ]
  },
  {
   "cell_type": "markdown",
   "metadata": {},
   "source": [
    "---\n",
    "# <span style= 'color:blue'> Đáp án </span>"
   ]
  },
  {
   "cell_type": "markdown",
   "metadata": {},
   "source": [
    "<div style=\"padding: 15px; border: 1px solid transparent; border-color: transparent; margin-bottom: 5px; border-radius: 2px; color: #3c763d; background-color: #dff0d8; border-color: #d6e9c6;\">\n",
    "1.D\n",
    "</div>\n",
    "\n",
    "<div style=\"padding: 15px; border: 1px solid transparent; border-color: transparent; margin-bottom: 5px; border-radius: 2px; color: #3c763d; background-color: #dff0d8; border-color: #d6e9c6;\">\n",
    "2.B\n",
    "</div>\n",
    "\n",
    "<div style=\"padding: 15px; border: 1px solid transparent; border-color: transparent; margin-bottom: 5px; border-radius: 2px; color: #3c763d; background-color: #dff0d8; border-color: #d6e9c6;\">\n",
    "3.D\n",
    "</div>\n",
    "\n",
    "<div style=\"padding: 15px; border: 1px solid transparent; border-color: transparent; margin-bottom: 5px; border-radius: 2px; color: #3c763d; background-color: #dff0d8; border-color: #d6e9c6;\">\n",
    "4.C\n",
    "</div>\n",
    "\n",
    "<div style=\"padding: 15px; border: 1px solid transparent; border-color: transparent; margin-bottom: 5px; border-radius: 2px; color: #3c763d; background-color: #dff0d8; border-color: #d6e9c6;\">\n",
    "5.C\n",
    "</div>\n",
    "\n",
    "<div style=\"padding: 15px; border: 1px solid transparent; border-color: transparent; margin-bottom: 5px; border-radius: 2px; color: #3c763d; background-color: #dff0d8; border-color: #d6e9c6;\">\n",
    "6.C\n",
    "</div>\n",
    "\n",
    "<div style=\"padding: 15px; border: 1px solid transparent; border-color: transparent; margin-bottom: 5px; border-radius: 2px; color: #3c763d; background-color: #dff0d8; border-color: #d6e9c6;\">\n",
    "7.C\n",
    "</div>\n",
    "\n",
    "<div style=\"padding: 15px; border: 1px solid transparent; border-color: transparent; margin-bottom: 5px; border-radius: 2px; color: #3c763d; background-color: #dff0d8; border-color: #d6e9c6;\">\n",
    "8.C\n",
    "</div>\n",
    "\n",
    "<div style=\"padding: 15px; border: 1px solid transparent; border-color: transparent; margin-bottom: 5px; border-radius: 2px; color: #3c763d; background-color: #dff0d8; border-color: #d6e9c6;\">\n",
    "9.D\n",
    "</div>\n",
    "\n",
    "<div style=\"padding: 15px; border: 1px solid transparent; border-color: transparent; margin-bottom: 5px; border-radius: 2px; color: #3c763d; background-color: #dff0d8; border-color: #d6e9c6;\">\n",
    "10.A\n",
    "</div>"
   ]
  },
  {
   "cell_type": "code",
   "execution_count": 9,
   "metadata": {},
   "outputs": [
    {
     "name": "stdout",
     "output_type": "stream",
     "text": [
      "Nhập số a nguyên: 2.8\n",
      "Nhập số a nguyên: 2\n",
      "Nhập số b nguyên: 2.9\n",
      "Nhập số a nguyên: 3\n",
      "Nhập số b nguyên: 4\n",
      "Số a/b là:  0.75\n"
     ]
    }
   ],
   "source": [
    "#11\n",
    "while True:\n",
    "    try:\n",
    "        a=int(input(\"Nhập số a nguyên: \"))\n",
    "        b=int(input(\"Nhập số b nguyên: \"))\n",
    "        c=a/b\n",
    "        print(\"Số a/b là: \",c)\n",
    "        break\n",
    "    except ValueError:\n",
    "        pass\n",
    "    except ZeroDivisionError:\n",
    "        pass"
   ]
  },
  {
   "cell_type": "code",
   "execution_count": 10,
   "metadata": {},
   "outputs": [
    {
     "name": "stdout",
     "output_type": "stream",
     "text": [
      "list index out of range\n"
     ]
    }
   ],
   "source": [
    "#12\n",
    "listA=[3,\"Cracker\",19,8]\n",
    "try:\n",
    "    print(listA[5])\n",
    "except IndexError as Err:\n",
    "    print(Err)"
   ]
  },
  {
   "cell_type": "code",
   "execution_count": 15,
   "metadata": {},
   "outputs": [
    {
     "name": "stdout",
     "output_type": "stream",
     "text": [
      "You can't add int to string\n"
     ]
    }
   ],
   "source": [
    "#13\n",
    "s=\"James\"\n",
    "try:\n",
    "    s + 10\n",
    "except Exception:\n",
    "    message=\"You can't add int to string\"\n",
    "print(message)"
   ]
  },
  {
   "cell_type": "code",
   "execution_count": 16,
   "metadata": {},
   "outputs": [
    {
     "name": "stdout",
     "output_type": "stream",
     "text": [
      "Error import library\n"
     ]
    }
   ],
   "source": [
    "#14\n",
    "try:\n",
    "    import keras\n",
    "except ImportError:\n",
    "    print(\"Error import library\")"
   ]
  },
  {
   "cell_type": "code",
   "execution_count": 18,
   "metadata": {},
   "outputs": [
    {
     "name": "stdout",
     "output_type": "stream",
     "text": [
      "An exception name 'e' is not defined\n"
     ]
    }
   ],
   "source": [
    "#15\n",
    "try:\n",
    "    print(e)\n",
    "except NameError as Err:\n",
    "    print (\"An exception\",Err)"
   ]
  },
  {
   "cell_type": "code",
   "execution_count": null,
   "metadata": {},
   "outputs": [],
   "source": []
  }
 ],
 "metadata": {
  "kernelspec": {
   "display_name": "Python 3",
   "language": "python",
   "name": "python3"
  },
  "language_info": {
   "codemirror_mode": {
    "name": "ipython",
    "version": 3
   },
   "file_extension": ".py",
   "mimetype": "text/x-python",
   "name": "python",
   "nbconvert_exporter": "python",
   "pygments_lexer": "ipython3",
   "version": "3.7.0"
  }
 },
 "nbformat": 4,
 "nbformat_minor": 2
}
