{
 "cells": [
  {
   "cell_type": "markdown",
   "metadata": {},
   "source": [
    "**Câu 151:** Viết chương trình kiểm tra tin nhắn có chữ thường hay không nếu có trả về True ngược lại trả về False."
   ]
  },
  {
   "cell_type": "code",
   "execution_count": 1,
   "metadata": {},
   "outputs": [
    {
     "name": "stdout",
     "output_type": "stream",
     "text": [
      "True\n"
     ]
    }
   ],
   "source": [
    "message = 'Toilaai2'\n",
    "for msg in message:\n",
    "    if msg.islower():\n",
    "        print(True)\n",
    "        break\n",
    "else:\n",
    "    print(False)"
   ]
  },
  {
   "cell_type": "markdown",
   "metadata": {},
   "source": [
    "**Câu 152:** Viết chương trình lọc các số lẻ từ danh sách được người dùng nhập vào các số cách nhau bởi dấu phẩy.\n",
    "\n",
    "<div style=\"padding: 15px; border: 2px solid transparent; border-color: transparent; margin-bottom: 5px; margin-top: 10px;border-radius: 2px; color: #000000; background-color:#A4D3EE; border-color: #FFD39B;Width:60%\">\n",
    "\n",
    "Example:\n",
    "<br>\n",
    "<br>\n",
    "Input: 1,2,3,4,5,6,7,8,9,10\n",
    "<br>\n",
    "<br>\n",
    "Output: 1,3,5,7,9\n",
    "\n",
    "</div>"
   ]
  },
  {
   "cell_type": "code",
   "execution_count": 2,
   "metadata": {},
   "outputs": [
    {
     "name": "stdout",
     "output_type": "stream",
     "text": [
      "Nhập các số cách nhau bởi đấu phẩy:1,2,3,4,5,6,7,8,9,10\n",
      "Các số lẻ là 1,3,5,7,9\n"
     ]
    }
   ],
   "source": [
    "values=input(\"Nhập các số cách nhau bởi đấu phẩy:\").split(\",\")\n",
    "results=[]\n",
    "for v in values:\n",
    "    if int(v)%2!=0:\n",
    "        results=results+[v]\n",
    "print(\"Các số lẻ là\",\",\".join(results))"
   ]
  },
  {
   "cell_type": "markdown",
   "metadata": {},
   "source": [
    "**Câu 153:** Viết hàm tính số cặp các số nguyên giống nhau của một mảng.\n",
    "<div style=\"padding: 15px; border: 2px solid transparent; border-color: transparent; margin-bottom: 5px; margin-top: 10px;border-radius: 2px; color: #000000; background-color:#A4D3EE; border-color: #FFD39B;Width:60%\">\n",
    "\n",
    "Example:\n",
    "<br>\n",
    "<br> \n",
    "Input: [10, 20, 20, 10, 10, 30, 50, 10, 20]\n",
    "<br>\n",
    "<br>\n",
    "Output: 3\n",
    "\n",
    "</div>"
   ]
  },
  {
   "cell_type": "code",
   "execution_count": 3,
   "metadata": {},
   "outputs": [
    {
     "data": {
      "text/plain": [
       "3"
      ]
     },
     "execution_count": 3,
     "metadata": {},
     "output_type": "execute_result"
    }
   ],
   "source": [
    "def sockMerchant(ar):\n",
    "    set_ar=set(ar)\n",
    "    counter=0\n",
    "    for s in set_ar:\n",
    "        counter+=ar.count(s)//2\n",
    "    return counter\n",
    "sockMerchant([10, 20, 20, 10, 10, 30, 50, 10, 20])"
   ]
  },
  {
   "cell_type": "markdown",
   "metadata": {},
   "source": [
    "**Câu 154:** Hiện thực hàm stringlen() trả lại chiều dài của chuỗi."
   ]
  },
  {
   "cell_type": "code",
   "execution_count": 4,
   "metadata": {},
   "outputs": [
    {
     "data": {
      "text/plain": [
       "4"
      ]
     },
     "execution_count": 4,
     "metadata": {},
     "output_type": "execute_result"
    }
   ],
   "source": [
    "def stringlen(A):\n",
    "    count=0\n",
    "    for i in A:\n",
    "        count+=1\n",
    "    return count\n",
    "stringlen(\"aame\")"
   ]
  },
  {
   "cell_type": "markdown",
   "metadata": {},
   "source": [
    "**Câu 155:** Viết hàm xác định phần tử đầu tiên có giá trị là số nguyên tố và nhỏ hơn 100 và trả về vị trí của phần tử đó, ngược lại trả về -1."
   ]
  },
  {
   "cell_type": "code",
   "execution_count": 5,
   "metadata": {},
   "outputs": [
    {
     "data": {
      "text/plain": [
       "1"
      ]
     },
     "execution_count": 5,
     "metadata": {},
     "output_type": "execute_result"
    }
   ],
   "source": [
    "def Prime(n):\n",
    "    if n<=2:\n",
    "        return False\n",
    "    else:\n",
    "        for i in range(2,n):\n",
    "            if n%i==0:\n",
    "                return False\n",
    "    return True\n",
    "def FindPrimeArray(A):\n",
    "    for i in range(len(A)):\n",
    "        if A[i]<100:\n",
    "            if Prime(A[i]):\n",
    "                return i\n",
    "        else: \n",
    "            return -1\n",
    "FindPrimeArray([1,3,5,19])"
   ]
  },
  {
   "cell_type": "markdown",
   "metadata": {},
   "source": [
    "**Câu 156:** Viết chương trình xáo trộn chuỗi."
   ]
  },
  {
   "cell_type": "code",
   "execution_count": 6,
   "metadata": {},
   "outputs": [
    {
     "name": "stdout",
     "output_type": "stream",
     "text": [
      "ieauo\n"
     ]
    }
   ],
   "source": [
    "import random\n",
    "char_list = ['a','e','i','o','u']\n",
    "random.shuffle(char_list)\n",
    "print(''.join(char_list))"
   ]
  },
  {
   "cell_type": "markdown",
   "metadata": {},
   "source": [
    "**Câu 157:** Viết chương trình tính tiền điện dựa vào số Kw tiêu thụ biết khung giá tiền điện như sau:\n",
    "+ Từ 0kW đến 100kW giá 500d/kW\n",
    "+ Từ 100kW trở lên  đến 250kW giá 800d/kW\n",
    "+ Từ 250kW trở lên đến 350kW giá 1000d/kW\n",
    "+ Từ 350kW trở lên giá 1500d/kW "
   ]
  },
  {
   "cell_type": "code",
   "execution_count": 7,
   "metadata": {},
   "outputs": [
    {
     "name": "stdout",
     "output_type": "stream",
     "text": [
      "Nhập số kW tiên thụ trong tháng:423\n",
      "Giá tiền điện tháng này là:579400.0 d\n"
     ]
    }
   ],
   "source": [
    "values=float(input(\"Nhập số kW tiên thụ trong tháng:\"))\n",
    "money=values*500\n",
    "if values>100 and values>=250:\n",
    "    money=money+(values-100)*800\n",
    "if values>250 and values<=350:\n",
    "    money=money+(values-250)*1000\n",
    "if values>350:\n",
    "    money=money+(values-350)*1500\n",
    "print(\"Giá tiền điện tháng này là:{} d\".format(money))"
   ]
  },
  {
   "cell_type": "markdown",
   "metadata": {},
   "source": [
    "**Câu 158:** Viết chương trình nhận chuỗi đầu vào từ giao diện điều khiển và in nó theo thứ tự ngược lại.\n",
    "\n",
    "<div style=\"padding: 15px; border: 2px solid transparent; border-color: transparent; margin-bottom: 5px; margin-top: 10px;border-radius: 2px; color: #000000; background-color:#A4D3EE; border-color: #FFD39B;Width:60%\">\n",
    "\n",
    "Example:\n",
    "<br>\n",
    "<br>\n",
    "Input: anh\n",
    "<br>\n",
    "<br>\n",
    "Output: hna\n",
    "</div>\n"
   ]
  },
  {
   "cell_type": "code",
   "execution_count": 8,
   "metadata": {},
   "outputs": [
    {
     "name": "stdout",
     "output_type": "stream",
     "text": [
      "Nhập chuỗi vào đây: anh\n",
      "hna\n"
     ]
    }
   ],
   "source": [
    "chuoi=input(\"Nhập chuỗi vào đây: \")\n",
    "chuoi = chuoi[::-1]\n",
    "print (chuoi)"
   ]
  },
  {
   "cell_type": "markdown",
   "metadata": {},
   "source": [
    "**Câu 159:** Viết hàm để in ra tất cả các số nguyên tố trong một phạm vi nhất định $m<= x <=n$.\n",
    "<div style=\"padding: 15px; border: 2px solid transparent; border-color: transparent; margin-bottom: 5px; margin-top: 10px;border-radius: 2px; color: #000000; background-color:#A4D3EE; border-color: #FFD39B;Width:60%\">\n",
    "\n",
    "Example:\n",
    "<br>\n",
    "<br>\n",
    "Input: printprime(17,25)\n",
    "<br>\n",
    "<br>\n",
    "Output: 17 19 23 \n",
    "</div>"
   ]
  },
  {
   "cell_type": "code",
   "execution_count": 9,
   "metadata": {},
   "outputs": [
    {
     "name": "stdout",
     "output_type": "stream",
     "text": [
      "17 19 23 \n",
      "Đã kiểm tra\n"
     ]
    }
   ],
   "source": [
    "def printprime(m,n):\n",
    "    for i in range(m,n+1):\n",
    "        count=0\n",
    "        for j in range(1,i+1):\n",
    "            \n",
    "            if i%j==0:\n",
    "                count+=1\n",
    "        if count==2:\n",
    "            print(j,end=' ')\n",
    "    print(\"\\nĐã kiểm tra\")\n",
    "printprime(17,25)   "
   ]
  },
  {
   "cell_type": "markdown",
   "metadata": {},
   "source": [
    "**Câu 160:** Một hàm getRooms yêu cầu đầu vào là tên và nếu người dùng có tên bắt đầu bằng chữ cái giữa P và S, với các thông báo sau hiển thị đến người dùng:\n",
    "- Nếu đúng khóa: \"Bạn đi đến phòng 223 để lấy khóa\"\n",
    "- Khác: \"Bạn có thể lấy khóa tại đây\"\n",
    "\n",
    "Lưu ý: không phân biệt ký tự hoa và thường."
   ]
  },
  {
   "cell_type": "code",
   "execution_count": 10,
   "metadata": {},
   "outputs": [
    {
     "name": "stdout",
     "output_type": "stream",
     "text": [
      "Bạn đi đến phòng 223 để lấy khóa\n"
     ]
    }
   ],
   "source": [
    "def getRooms(string):\n",
    "    if string[0]=='P' or string[0]=='S':\n",
    "        print(\"Bạn đi đến phòng 223 để lấy khóa\")\n",
    "    else:\n",
    "        print(\"Bạn có thể lấy khóa tại đây\")\n",
    "getRooms(\"Phon\")"
   ]
  },
  {
   "cell_type": "markdown",
   "metadata": {},
   "source": [
    "**Câu 161:** Xác định số lượng phần tử có giá trị lẻ trong mảng 1 chiều."
   ]
  },
  {
   "cell_type": "code",
   "execution_count": 11,
   "metadata": {},
   "outputs": [
    {
     "name": "stdout",
     "output_type": "stream",
     "text": [
      "3\n"
     ]
    }
   ],
   "source": [
    "def Odd_NumArray(A):\n",
    "    d=0\n",
    "    for i in range(len(A)):\n",
    "        if A[i]%2!=0:\n",
    "            d+=1\n",
    "    print(d)\n",
    "Odd_NumArray([3,4,5,7,8])"
   ]
  },
  {
   "cell_type": "markdown",
   "metadata": {},
   "source": [
    "**Câu 162:** Viết chương trình nhập vào một số nhị phân ở dạng chuỗi ký tự 0 và 1, chuyển số này thành một số nguyên hệ thập phân."
   ]
  },
  {
   "cell_type": "code",
   "execution_count": 12,
   "metadata": {},
   "outputs": [
    {
     "name": "stdout",
     "output_type": "stream",
     "text": [
      "Nhập vào số nhị phân bất kỳ:10100\n",
      "5\n"
     ]
    }
   ],
   "source": [
    "values=input(\"Nhập vào số nhị phân bất kỳ:\")\n",
    "results=0\n",
    "for i in range(len(values),0,-1):\n",
    "    results=results+int(values[len(values)-i])*2**(len(values)-i)\n",
    "print(results)"
   ]
  },
  {
   "cell_type": "markdown",
   "metadata": {},
   "source": [
    "**Câu 163:** Một Robot di chuyển trong mặt phẳng bắt đầu từ điểm đầu tiên (0,0). Robot có thể di chuyển theo hướng UP, DOWN, LEFT và RIGHT với những bước nhất định. Dấu di chuyển của robot được đánh hiển thị như sau:\n",
    "\n",
    "UP 5\n",
    "\n",
    "DOWN 3\n",
    "\n",
    "LEFT 3\n",
    "\n",
    "RIGHT 3\n",
    "\n",
    "Các con số sau phía sau hướng di chuyển chính là số bước đi. Hãy viết chương trình để tính toán khoảng cách từ vị trí hiện tại đến vị trí đầu tiên, sau khi robot đã di chuyển một quãng đường. Nếu khoảng cách là một số thập phân chỉ cần in số nguyên gần nhất.\n",
    "\n",
    "\n",
    "<div style=\"padding: 15px; border: 2px solid transparent; border-color: transparent; margin-bottom: 5px; margin-top: 10px;border-radius: 2px; color: #000000; background-color:#A4D3EE; border-color: #FFD39B;Width:60%\">\n",
    "\n",
    "Example:\n",
    "<br>\n",
    "<br>\n",
    "Input: printprime(17,25)\n",
    "<br>\n",
    "<br>\n",
    "UP 5\n",
    "<br>\n",
    "<br>\n",
    "DOWN 3\n",
    "<br>\n",
    "<br>\n",
    "LEFT 3\n",
    "<br>\n",
    "<br>\n",
    "RIGHT 2\n",
    "<br>\n",
    "<br>\n",
    "Output:\n",
    "<br>\n",
    "<br>\n",
    "DISTANCE = 2\n",
    "</div>\n",
    "\n",
    "\n"
   ]
  },
  {
   "cell_type": "code",
   "execution_count": 13,
   "metadata": {},
   "outputs": [
    {
     "name": "stdout",
     "output_type": "stream",
     "text": [
      "DOWN 3\n",
      "UP 5\n",
      "LEFT 3\n",
      "RIGHT 2\n",
      "\n",
      "DISTANCE=  2\n"
     ]
    }
   ],
   "source": [
    "import math \n",
    "pos = [0,0]\n",
    "while True:\n",
    "    s = input()\n",
    "    if not s:\n",
    "        break\n",
    "    move = s.split(\" \")\n",
    "    direct = move[0]\n",
    "    steps = int(move[1])\n",
    "    if direct==\"UP\":\n",
    "        pos[0]+=steps\n",
    "    elif direct==\"DOWN\":\n",
    "        pos[0]-=steps\n",
    "    elif direct==\"LEFT\":\n",
    "        pos[1]-=steps\n",
    "    elif direct==\"RIGHT\":\n",
    "        pos[1]+=steps\n",
    "    else:\n",
    "        pass\n",
    "distance=math.sqrt(pos[1]**2+pos[0]**2)\n",
    "print (\"DISTANCE= \",int(round(distance)))"
   ]
  },
  {
   "cell_type": "markdown",
   "metadata": {},
   "source": [
    "**Câu 164:** Định nghĩa một hàm có tạo ra dictionary chứa các key là số từ 1 đến 20 và giá trị values là bình phương của chúng. Hãy in ra giá trị values của dictionary đó."
   ]
  },
  {
   "cell_type": "code",
   "execution_count": 14,
   "metadata": {},
   "outputs": [
    {
     "name": "stdout",
     "output_type": "stream",
     "text": [
      "1 4 9 16 25 36 49 64 81 100 121 144 169 196 225 256 289 324 361 400 "
     ]
    }
   ],
   "source": [
    "def printDict():\n",
    "    d=dict() \n",
    "    for i in range(1,21): \n",
    "         d[i]=i**2 \n",
    "    for (k,v) in d.items(): \n",
    "           print (v,end=' ') \n",
    "\n",
    "printDict()"
   ]
  },
  {
   "cell_type": "markdown",
   "metadata": {},
   "source": [
    "**Câu 165:** Định nghĩa hàm có thể nhận hai số nguyên trong dạng chuỗi và tính tổng của chúng, sau đó in tổng ra giao diện điều khiển."
   ]
  },
  {
   "cell_type": "code",
   "execution_count": 15,
   "metadata": {},
   "outputs": [
    {
     "name": "stdout",
     "output_type": "stream",
     "text": [
      "7\n"
     ]
    }
   ],
   "source": [
    "def printValue(s1,s2):\n",
    "    print (int(s1)+int(s2))\n",
    "printValue(\"3\",\"4\")"
   ]
  },
  {
   "cell_type": "markdown",
   "metadata": {},
   "source": [
    "**Câu 166:** Viết chương trình nhận chuỗi do người dùng nhập vào và in các ký tự có chỉ số chẵn."
   ]
  },
  {
   "cell_type": "code",
   "execution_count": 16,
   "metadata": {},
   "outputs": [
    {
     "name": "stdout",
     "output_type": "stream",
     "text": [
      "Nhập chuỗi vào đây: 32me\n",
      "3m\n"
     ]
    }
   ],
   "source": [
    "msg=input(\"Nhập chuỗi vào đây: \")\n",
    "msg_new = msg[::2]\n",
    "print (msg_new)"
   ]
  },
  {
   "cell_type": "markdown",
   "metadata": {},
   "source": [
    "**Câu 167:** Viết chương trình cộng 2 chuỗi nhị phân được nhập từ bàn phím."
   ]
  },
  {
   "cell_type": "code",
   "execution_count": 17,
   "metadata": {},
   "outputs": [
    {
     "name": "stdout",
     "output_type": "stream",
     "text": [
      "Nhập chuỗi nhị phân thứ 1:1010\n",
      "Nhập chuỗi nhị phân thứ 2:1000\n",
      "Tổng hai số nhị phân là 10010\n"
     ]
    }
   ],
   "source": [
    "values_1=input(\"Nhập chuỗi nhị phân thứ 1:\")\n",
    "values_2=input(\"Nhập chuỗi nhị phân thứ 2:\")\n",
    "decimal_1=int(values_1,2)\n",
    "decimal_2=int(values_2,2)\n",
    "Sum=bin(decimal_1+decimal_2)\n",
    "print(\"Tổng hai số nhị phân là\",Sum[2:])# Bỏ đi ký hiệu 0b"
   ]
  },
  {
   "cell_type": "markdown",
   "metadata": {},
   "source": [
    "**Câu 168:** Viết hàm xác định phần tử đầu tiên có giá trị lớn nhất trong mảng 1 chiều."
   ]
  },
  {
   "cell_type": "code",
   "execution_count": 18,
   "metadata": {},
   "outputs": [
    {
     "name": "stdout",
     "output_type": "stream",
     "text": [
      "12\n"
     ]
    }
   ],
   "source": [
    "def Max_Array(A):\n",
    "    Max=0\n",
    "    for i in A:\n",
    "        if i>Max:\n",
    "            Max=i\n",
    "    print(Max)\n",
    "Max_Array([3,4,12,9])"
   ]
  },
  {
   "cell_type": "markdown",
   "metadata": {},
   "source": [
    "**Câu 169:** Viết chương trình nhập một chuỗi và một ký tự. Tìm tất cả các vị trí xuất hiện của ký tự key='c' trong một chuỗi string."
   ]
  },
  {
   "cell_type": "code",
   "execution_count": 19,
   "metadata": {},
   "outputs": [
    {
     "name": "stdout",
     "output_type": "stream",
     "text": [
      "Nhập vào một chuỗi bất kỳ:Ban co biet trai cam khong\n",
      "Key 'c' nằm ở vị trí index thứ: 4,17\n"
     ]
    }
   ],
   "source": [
    "seq=input(\"Nhập vào một chuỗi bất kỳ:\")\n",
    "results=[]\n",
    "for i in range(len(seq)):\n",
    "    if seq[i]=='c':\n",
    "        results+=[str(i)]\n",
    "print(\"Key 'c' nằm ở vị trí index thứ: {}\".format(','.join(results)))\n"
   ]
  },
  {
   "cell_type": "markdown",
   "metadata": {},
   "source": [
    "**Câu 170:** Viết chương trình nhập hai chuỗi và xác định xem chúng có được tạo ra với cùng các ký tự hay không. Ví dụ “dear” và “reader” là hai chuỗi tạo từ cùng các ký tự a, d, e, r."
   ]
  },
  {
   "cell_type": "code",
   "execution_count": 20,
   "metadata": {},
   "outputs": [
    {
     "name": "stdout",
     "output_type": "stream",
     "text": [
      "Nhập chuỗi thứ 1:dear\n",
      "Nhập chuỗi thứ 2:reader\n"
     ]
    },
    {
     "data": {
      "text/plain": [
       "True"
      ]
     },
     "execution_count": 20,
     "metadata": {},
     "output_type": "execute_result"
    }
   ],
   "source": [
    "seq_1=input(\"Nhập chuỗi thứ 1:\")\n",
    "seq_2=input(\"Nhập chuỗi thứ 2:\")\n",
    "list_1=list(seq_1)\n",
    "list_2=list(seq_2)\n",
    "set_1=set(list_1)\n",
    "set_2=set(list_2)\n",
    "test=True if set_1==set_2 else False\n",
    "test"
   ]
  },
  {
   "cell_type": "markdown",
   "metadata": {},
   "source": [
    "**Câu 171:** Viết chương trình nhập hai chuỗi sau đó chèn chuỗi 2 vào chuỗi 1 tại vị trí thứ k nhập từ bàn phím."
   ]
  },
  {
   "cell_type": "code",
   "execution_count": 21,
   "metadata": {},
   "outputs": [
    {
     "name": "stdout",
     "output_type": "stream",
     "text": [
      "Nhập chuỗi thứ 1:Toilaai\n",
      "Nhập chuỗi thứ 2:ngungoc\n",
      "Nhập vị trí index cần chèn vài chuỗi 1:3\n"
     ]
    },
    {
     "data": {
      "text/plain": [
       "'Toilngungocaai'"
      ]
     },
     "execution_count": 21,
     "metadata": {},
     "output_type": "execute_result"
    }
   ],
   "source": [
    "seq_1=input(\"Nhập chuỗi thứ 1:\")\n",
    "seq_2=input(\"Nhập chuỗi thứ 2:\")\n",
    "k=int(input(\"Nhập vị trí index cần chèn vài chuỗi 1:\"))\n",
    "seq_new=''\n",
    "for i in range(k+1):\n",
    "    seq_new=seq_new+seq_1[i]\n",
    "for i in range(len(seq_2)):\n",
    "    seq_new=seq_new+seq_2[i]\n",
    "for i in range(k+1,len(seq_1)):\n",
    "    seq_new=seq_new+seq_1[i]\n",
    "seq_new"
   ]
  },
  {
   "cell_type": "markdown",
   "metadata": {},
   "source": [
    "**Câu 172:** Viết chương trình in ra tam giác pascal."
   ]
  },
  {
   "cell_type": "code",
   "execution_count": 22,
   "metadata": {},
   "outputs": [
    {
     "name": "stdout",
     "output_type": "stream",
     "text": [
      "      1 \n",
      "     1 1 \n",
      "    1 2 1 \n",
      "   1 3 3 1 \n",
      "  1 4 6 4 1 \n"
     ]
    }
   ],
   "source": [
    "from math import factorial\n",
    "n = 5\n",
    "for i in range(n):\n",
    "    for j in range(n-i+1):\n",
    "         print(end=\" \")\n",
    "    for j in range(i+1):\n",
    "        print(factorial(i)//(factorial(j)*factorial(i-j)), end=\" \")\n",
    "\n",
    "    print()"
   ]
  },
  {
   "cell_type": "markdown",
   "metadata": {},
   "source": [
    "**Câu 173:** Viết chương trình tạo ra dictionary mà có nhiều key một values."
   ]
  },
  {
   "cell_type": "code",
   "execution_count": 23,
   "metadata": {},
   "outputs": [
    {
     "name": "stdout",
     "output_type": "stream",
     "text": [
      "{(5, 3, 4): 8, (2, 3, 9): -7}\n"
     ]
    }
   ],
   "source": [
    "mydict= {}\n",
    "\n",
    "x, y, z = 5,3,4\n",
    "mydict[x, y, z] =x+y \n",
    " \n",
    "x, y, z = 2,3,9\n",
    "mydict[x, y, z] = x-z;\n",
    " \n",
    "print(mydict)"
   ]
  },
  {
   "cell_type": "markdown",
   "metadata": {},
   "source": [
    "**Câu 174:** Số tự nhiên có n chữ số là một số Armstrong (còn gọi là narcissistic numbers\n",
    "hoặc pluperfect digital invariants - PPDI) nếu tổng các lũy thừa bậc n của các chữ số\n",
    "của nó bằng chính nó. Hãy kiểm tra n phải là số Armstrong hay không.\n",
    "<div style=\"padding: 15px; border: 2px solid transparent; border-color: transparent; margin-bottom: 5px; margin-top: 10px;border-radius: 2px; color: #000000; background-color:#A4D3EE; border-color: #FFD39B;Width:60%\">\n",
    "\n",
    "Example: 1^3 + 5^3 + 3^3 = 153\n",
    "<br>\n",
    "<br>\n",
    "Input: 153\n",
    "<br>\n",
    "<br>\n",
    "Output: 153 là số Armstrong\n",
    "</div>"
   ]
  },
  {
   "cell_type": "code",
   "execution_count": 24,
   "metadata": {},
   "outputs": [
    {
     "name": "stdout",
     "output_type": "stream",
     "text": [
      "153 là số Armstrong\n"
     ]
    }
   ],
   "source": [
    "x=153\n",
    "x_orgin=x\n",
    "results=[]\n",
    "Sum=0\n",
    "while x>0:\n",
    "    temp=x%10\n",
    "    x=int(x/10)\n",
    "    results.append(temp)\n",
    "for r in results:\n",
    "    Sum+=r**3\n",
    "if Sum==x_orgin:\n",
    "    print(\"{} là số Armstrong\".format(x_orgin))\n",
    "else:\n",
    "    print(\"{} không là số Armstrong\".format(x_orgin))"
   ]
  },
  {
   "cell_type": "markdown",
   "metadata": {},
   "source": [
    "**Câu 175:** Hãy sử dụng module datetime in ra thời gian thực hiện tại."
   ]
  },
  {
   "cell_type": "code",
   "execution_count": 25,
   "metadata": {},
   "outputs": [
    {
     "name": "stdout",
     "output_type": "stream",
     "text": [
      "Bây giờ là: 09:05:20.826353\n"
     ]
    }
   ],
   "source": [
    "from datetime import datetime\n",
    "\n",
    "time = datetime.now().time() \n",
    "  \n",
    "print(\"Bây giờ là:\", time)"
   ]
  },
  {
   "cell_type": "markdown",
   "metadata": {},
   "source": [
    "**Câu 176:** Hãy dùng hàm getsizeof trong module sys kiểm tra tập hợp A, B, C chiếm bao nhiêu dung lượng lưu trữ."
   ]
  },
  {
   "cell_type": "code",
   "execution_count": 26,
   "metadata": {},
   "outputs": [
    {
     "name": "stdout",
     "output_type": "stream",
     "text": [
      "Kích thước của tập A là: 116 byte\n",
      "Kích thước của tập B là: 116 byte\n",
      "Kích thước của tập C là: 372 byte\n"
     ]
    }
   ],
   "source": [
    "import sys\n",
    "set_A={1,3,4,5}\n",
    "set_B={\"a\",\"b\",\"c\",\"d\"}\n",
    "set_C={1,\"a\",3,\"c\",4,\"d\"}\n",
    "print(\"Kích thước của tập A là:\",sys.getsizeof(set_A),\"byte\")\n",
    "print(\"Kích thước của tập B là:\",sys.getsizeof(set_B),\"byte\")\n",
    "print(\"Kích thước của tập C là:\",sys.getsizeof(set_C),\"byte\")"
   ]
  },
  {
   "cell_type": "markdown",
   "metadata": {},
   "source": [
    "**Câu 177:** Viết chương trình để đọc chuỗi ASCII và chuyển đổi nó sang một chuỗi Unicode được mã hóa bằng UTF-8."
   ]
  },
  {
   "cell_type": "code",
   "execution_count": 27,
   "metadata": {},
   "outputs": [
    {
     "name": "stdout",
     "output_type": "stream",
     "text": [
      "bà\n",
      "b'b\\xc3\\xa0'\n"
     ]
    }
   ],
   "source": [
    "s = input()\n",
    "v = s.encode()\n",
    "print (v)"
   ]
  },
  {
   "cell_type": "markdown",
   "metadata": {},
   "source": [
    "**Câu 178:** Viết chương trình tính: f(n) = f(n-1)+100 khi n>0 và f(0) = 1, với n là số được nhập vào (n>0).\n",
    "<div style=\"padding: 15px; border: 2px solid transparent; border-color: transparent; margin-bottom: 5px; margin-top: 10px;border-radius: 2px; color: #000000; background-color:#A4D3EE; border-color: #FFD39B;Width:60%\">\n",
    "\n",
    "Example:\n",
    "<br>\n",
    "<br>\n",
    "Input: 5\n",
    "<br>\n",
    "<br>\n",
    "Output: 500\n",
    "\n",
    "</div>\n",
    "\n"
   ]
  },
  {
   "cell_type": "code",
   "execution_count": 28,
   "metadata": {},
   "outputs": [
    {
     "name": "stdout",
     "output_type": "stream",
     "text": [
      "Nhập số n>0: 5\n",
      "500\n"
     ]
    }
   ],
   "source": [
    "def f(n):\n",
    "    if n==0:\n",
    "        return 0\n",
    "    else:\n",
    "        return f(n-1)+100\n",
    "\n",
    "n=int(input(\"Nhập số n>0: \"))\n",
    "print (f(n))"
   ]
  },
  {
   "cell_type": "markdown",
   "metadata": {},
   "source": [
    "**Câu 179:** Viết hàm kiểm tra  list A có là tập chứa của list B hay không?"
   ]
  },
  {
   "cell_type": "code",
   "execution_count": 29,
   "metadata": {},
   "outputs": [
    {
     "data": {
      "text/plain": [
       "True"
      ]
     },
     "execution_count": 29,
     "metadata": {},
     "output_type": "execute_result"
    }
   ],
   "source": [
    "def contains(A,B):\n",
    "    set_A=set(A)\n",
    "    set_B=set(B)\n",
    "    results=True if set_A&set_B else  False\n",
    "    return results\n",
    "A=[1,3,4,5]\n",
    "B=[4,5,3,5,9]\n",
    "contains(A,B)"
   ]
  },
  {
   "cell_type": "markdown",
   "metadata": {},
   "source": [
    "**Câu 180:** Viết chương trình tính tổng của các values trong một dictionary."
   ]
  },
  {
   "cell_type": "code",
   "execution_count": 30,
   "metadata": {},
   "outputs": [
    {
     "data": {
      "text/plain": [
       "500"
      ]
     },
     "execution_count": 30,
     "metadata": {},
     "output_type": "execute_result"
    }
   ],
   "source": [
    "def Sum_values(dic):\n",
    "    Sum=0\n",
    "    for (k,v) in dic.items():\n",
    "        Sum+=v\n",
    "    return Sum\n",
    "dict_A={\"a\":100,\"b\":200,\"c\":200}\n",
    "Sum_values(dict_A)"
   ]
  },
  {
   "cell_type": "markdown",
   "metadata": {},
   "source": [
    "**Câu 181:** Viết một chương trình tính giá trị của a+aa+aaa+aaaa bằng cách ép qua kiểu int với a là số được nhập vào bởi người dùng.\n",
    "\n",
    "<div style=\"padding: 15px; border: 2px solid transparent; border-color: transparent; margin-bottom: 5px; margin-top: 10px;border-radius: 2px; color: #000000; background-color:#A4D3EE; border-color: #FFD39B;Width:60%\">\n",
    "\n",
    "Example:\n",
    "<br>\n",
    "<br>\n",
    "Input: n = 1\n",
    "<br>\n",
    "<br>\n",
    "Output: 1234\n",
    "\n",
    "</div>\n"
   ]
  },
  {
   "cell_type": "code",
   "execution_count": 31,
   "metadata": {},
   "outputs": [
    {
     "name": "stdout",
     "output_type": "stream",
     "text": [
      "Nhập số a: 4\n",
      "Tổng cần tính là:  4936\n"
     ]
    }
   ],
   "source": [
    "a = input(\"Nhập số a: \")\n",
    "n1 = int( \"%s\" % a )\n",
    "n2 = int( \"%s%s\" % (a,a) )\n",
    "n3 = int( \"%s%s%s\" % (a,a,a) )\n",
    "n4 = int( \"%s%s%s%s\" % (a,a,a,a) )\n",
    "print (\"Tổng cần tính là: \",n1+n2+n3+n4)# 4+44+444+4444"
   ]
  },
  {
   "cell_type": "markdown",
   "metadata": {},
   "source": [
    "**Câu 182:** Viết chương trình loại bỏ ký tự thứ 3 trong một chuỗi."
   ]
  },
  {
   "cell_type": "code",
   "execution_count": 32,
   "metadata": {},
   "outputs": [
    {
     "name": "stdout",
     "output_type": "stream",
     "text": [
      "Chuỗi mới sau khi loại bỏ ký tự thứ 3 trong chuỗi là:Banaai\n"
     ]
    }
   ],
   "source": [
    "seq='Banlaai'\n",
    "results= \"\"\n",
    "for i in range(len(seq)):\n",
    "    if i != 3:\n",
    "        results = results + seq[i]\n",
    "print (\"Chuỗi mới sau khi loại bỏ ký tự thứ 3 trong chuỗi là:\" + results)"
   ]
  },
  {
   "cell_type": "markdown",
   "metadata": {},
   "source": [
    "**Câu 183:** Viết chương trình swap hai số a và b."
   ]
  },
  {
   "cell_type": "code",
   "execution_count": 33,
   "metadata": {},
   "outputs": [
    {
     "name": "stdout",
     "output_type": "stream",
     "text": [
      "Số a là 5\n",
      "Số b là 4\n"
     ]
    }
   ],
   "source": [
    "a=4;b=5\n",
    "a,b=b,a\n",
    "print(\"Số a là\",a)\n",
    "print(\"Số b là\",b)"
   ]
  },
  {
   "cell_type": "markdown",
   "metadata": {},
   "source": [
    "**Câu 184:** Viết chương trình để giải 1 câu đố cổ của Trung Quốc: Một trang trại thỏ và gà có 35 đầu, 94 chân, hỏi số thỏ và gà là bao nhiêu?"
   ]
  },
  {
   "cell_type": "code",
   "execution_count": 34,
   "metadata": {},
   "outputs": [
    {
     "name": "stdout",
     "output_type": "stream",
     "text": [
      "(23, 12)\n"
     ]
    }
   ],
   "source": [
    "def giai(dau,chan):\n",
    "    results='Không có dáp án phù hợp!'\n",
    "    for i in range(dau+1):\n",
    "        j=dau-i\n",
    "        if 2*i+4*j==legs:\n",
    "            return i,j\n",
    "    return results,results\n",
    "\n",
    "heads=35\n",
    "legs=94\n",
    "dap_an=giai(heads,legs)\n",
    "print (dap_an)"
   ]
  },
  {
   "cell_type": "markdown",
   "metadata": {},
   "source": [
    "**Câu 185:** Tìm các bộ (trâu đứng, trâu nằm, trâu già) thỏa mãn bài toán cổ:\n",
    "\n",
    "*Trăm trâu ăn trăm bó cỏ*\n",
    "\n",
    "*Trâu đứng ăn năm*\n",
    "\n",
    "*Trâu nằm ăn ba*\n",
    "\n",
    "*Lụ khụ trâu già*\n",
    "\n",
    "*Ba con một bó.*\n",
    "\n",
    "Thử tìm cách giảm số vòng lặp khi tính toán xuống."
   ]
  },
  {
   "cell_type": "code",
   "execution_count": 35,
   "metadata": {},
   "outputs": [
    {
     "name": "stdout",
     "output_type": "stream",
     "text": [
      "4 18 78\n",
      "8 11 81\n",
      "12 4 84\n"
     ]
    }
   ],
   "source": [
    "for x in range(1,int(100/5)):\n",
    "    for y in range(1,int(100/3)):\n",
    "        z=100-(x+y)\n",
    "        if 300==15*x+9*y+z:\n",
    "            print(x,y,z,sep=' ')"
   ]
  },
  {
   "cell_type": "markdown",
   "metadata": {},
   "source": [
    "**Câu 186:**  Hiện thực hàm để tính hiệu các số chẳn trong khoảng [m,n]  với m, n >= 0.\n",
    "\n",
    "Nếu m < n thì xuất ra \"Input Error!!!\"\n",
    "\n",
    "Ngược lại xuất ra kết quả hiệu các số chẵn trong khoảng đó.\n",
    "<div style=\"padding: 15px; border: 2px solid transparent; border-color: transparent; margin-bottom: 5px; margin-top: 10px;border-radius: 2px; color: #000000; background-color:#A4D3EE; border-color: #FFD39B;Width:60%\">\n",
    "\n",
    "Example:\n",
    "<br>\n",
    "<br>\n",
    "Input: MinusInt(9,3)     \n",
    "<br>\n",
    "<br>\n",
    "Output: -10\n",
    "\n",
    "</div>"
   ]
  },
  {
   "cell_type": "code",
   "execution_count": 36,
   "metadata": {},
   "outputs": [
    {
     "name": "stdout",
     "output_type": "stream",
     "text": [
      "Hiệu các số chẵn là:  -10\n"
     ]
    }
   ],
   "source": [
    "def MinusInt(m,n):\n",
    "    if m<n:\n",
    "        print(\"Input Error!!!\")\n",
    "    else:\n",
    "        dem=0\n",
    "        h=0\n",
    "        for i in range(n,m+1):\n",
    "            if i%2==0:\n",
    "                dem+=1\n",
    "                if dem ==1:\n",
    "                    h=i\n",
    "                else:\n",
    "                    h-=i\n",
    "        if dem==1:\n",
    "            print(\"Hiệu các số chẵn là: \",i)\n",
    "        elif dem==0:\n",
    "            print(\"Not Values\")\n",
    "        else:\n",
    "            print(\"Hiệu các số chẵn là: \",h)\n",
    "MinusInt(9,3)           "
   ]
  },
  {
   "cell_type": "markdown",
   "metadata": {},
   "source": [
    "**Câu 187:** Viết chương trình chuyển đổi nhiệt độ với các tùy chọn từ người dùng\n",
    "    \n",
    "- Nếu người dùng nhâp vào ký tự 'F' thì cho nhập vào nhiệt độ temp và đổi sang nhiệt độ C theo công thức:\n",
    "\n",
    "C = (5/9)(temp - 32)\n",
    "\n",
    "- Trường hợp ký tự 'C' thì thì cho nhập vào nhiệt độ temp và đổi sang nhiệt độ F theo công thức:\n",
    "\n",
    "F = (9/5)temp + 32\n",
    "\n",
    "- Trường hợp khác thì xuất ra \"Tuy chon khong hop le!!!\""
   ]
  },
  {
   "cell_type": "code",
   "execution_count": 37,
   "metadata": {},
   "outputs": [
    {
     "name": "stdout",
     "output_type": "stream",
     "text": [
      "Chọn option (C/F): C\n",
      "Nhập vào nhiệt độ(F): 190\n",
      "Chuyển đổi nhiệt độ sang C:  87.77777777777779\n"
     ]
    }
   ],
   "source": [
    "option=input(\"Chọn option (C/F): \")\n",
    "if option==\"C\":\n",
    "    temp=float(input(\"Nhập vào nhiệt độ(F): \"))\n",
    "    print(\"Chuyển đổi nhiệt độ sang C: \",5/9*(temp-32))\n",
    "elif option=='F':\n",
    "    temp=float(input(\"Nhập vào nhiệt độ(C): \"))\n",
    "    print(\"Chuyển đổi nhiệt độ sang F: \",9/5*temp+32)\n",
    "else:\n",
    "    print(\"Tùy chọn không hợp lệ\")"
   ]
  },
  {
   "cell_type": "markdown",
   "metadata": {},
   "source": [
    "**Câu 188:** Viết chương trình in list từ list [12,24,35,24,88,120,155,88,120,155], sau khi đã xóa hết các giá trị trùng nhau."
   ]
  },
  {
   "cell_type": "code",
   "execution_count": 39,
   "metadata": {},
   "outputs": [
    {
     "name": "stdout",
     "output_type": "stream",
     "text": [
      "List sau khi xóa giá trị trùng là: [12, 15, 24, 35, 88, 120, 155]\n"
     ]
    }
   ],
   "source": [
    "def delete_duplicate( listA ):\n",
    "    list_new=[]\n",
    "    SetA = set()\n",
    "    for i in listA:\n",
    "        if i not in SetA:\n",
    "            SetA.add(i)\n",
    "            list_new.append(i)\n",
    "            \n",
    "    return list_new\n",
    "\n",
    "listA=[12,12,15,24,35,35,24,88,120,155,88,120,155]\n",
    "print (\"List sau khi xóa giá trị trùng là:\",delete_duplicate(listA))"
   ]
  },
  {
   "cell_type": "markdown",
   "metadata": {},
   "source": [
    "**Câu 189:**  Viết hàm tìm kiếm nhị phân để tìm các item trong một list đã được sắp xếp. Hàm sẽ trả lại chỉ số của phần tử được tìm thấy trong list nếu không tìm thấy sẽ trả về \"-1\"."
   ]
  },
  {
   "cell_type": "code",
   "execution_count": 40,
   "metadata": {},
   "outputs": [
    {
     "name": "stdout",
     "output_type": "stream",
     "text": [
      "4\n",
      "-1\n"
     ]
    }
   ],
   "source": [
    "import math\n",
    "def bin_search(li, element):\n",
    "    bottom = 0\n",
    "    top = len(li)-1\n",
    "    index = -1\n",
    "    while top>=bottom and index==-1:\n",
    "        mid = int(math.floor((top+bottom)/2.0))\n",
    "        if li[mid]==element:\n",
    "            index = mid\n",
    "        elif li[mid]>element:\n",
    "            top = mid-1\n",
    "        else:\n",
    "            bottom = mid+1\n",
    "    return index\n",
    "\n",
    "li=[2,5,7,9,11,17,222]\n",
    "print (bin_search(li,11))\n",
    "print (bin_search(li,12))"
   ]
  },
  {
   "cell_type": "markdown",
   "metadata": {},
   "source": [
    "**Câu 190:** Viết chương tìm số nhỏ nhất trong hai số a và b và sử dụng if expression."
   ]
  },
  {
   "cell_type": "code",
   "execution_count": 41,
   "metadata": {},
   "outputs": [
    {
     "name": "stdout",
     "output_type": "stream",
     "text": [
      "Số nhỏ nhất trong 109 và 201 là 109\n"
     ]
    }
   ],
   "source": [
    "a,b=109,201\n",
    "Min=b if a>=b else a \n",
    "print('Số nhỏ nhất trong {0} và {1} là {2}'.format(a,b,Min))"
   ]
  },
  {
   "cell_type": "markdown",
   "metadata": {},
   "source": [
    "**Câu 191:** Hãy viết hàm tính khoảng cách điểm M(x,y) đến đường thẳng ax + by + c = 0 với a, b, c được nhập từ bàn phím."
   ]
  },
  {
   "cell_type": "code",
   "execution_count": 42,
   "metadata": {},
   "outputs": [
    {
     "name": "stdout",
     "output_type": "stream",
     "text": [
      "Nhập vào a: 3\n",
      "Nhập vào b: 4\n",
      "Nhập vào c: 5\n",
      "Nhập vào xM: 2\n",
      "Nhập vào yM: 2\n"
     ]
    },
    {
     "data": {
      "text/plain": [
       "4.8"
      ]
     },
     "execution_count": 42,
     "metadata": {},
     "output_type": "execute_result"
    }
   ],
   "source": [
    "from math import sqrt\n",
    "def distance(x,y):\n",
    "    dis=abs(a*x+b*y+c*y)/sqrt(a**2+b**2)\n",
    "    return dis\n",
    "a=float(input(\"Nhập vào a: \"))\n",
    "b=float(input(\"Nhập vào b: \"))\n",
    "c=float(input(\"Nhập vào c: \"))\n",
    "xM=float(input(\"Nhập vào xM: \"))\n",
    "yM=float(input(\"Nhập vào yM: \"))\n",
    "distance(xM,yM)"
   ]
  },
  {
   "cell_type": "markdown",
   "metadata": {},
   "source": [
    "**Câu 192:** Viết chương trình kiểm tra một danh sách có 2 số 15 và 3 trở lên số 7 nếu đúng thì trả về True ngược lại trả về False."
   ]
  },
  {
   "cell_type": "code",
   "execution_count": 43,
   "metadata": {},
   "outputs": [
    {
     "data": {
      "text/plain": [
       "True"
      ]
     },
     "execution_count": 43,
     "metadata": {},
     "output_type": "execute_result"
    }
   ],
   "source": [
    "def test(nums):\n",
    "    return nums.count(15) == 2 and nums.count(7) >= 3\n",
    "nums = [15,15,18,2,7,7,7,3]\n",
    "test(nums)"
   ]
  },
  {
   "cell_type": "markdown",
   "metadata": {},
   "source": [
    "**Câu 193:** Viết chương trình tạo 1 mảng nxn rỗng toàn phần tử 0."
   ]
  },
  {
   "cell_type": "code",
   "execution_count": 44,
   "metadata": {},
   "outputs": [
    {
     "name": "stdout",
     "output_type": "stream",
     "text": [
      "[[0, 0, 0], [0, 0, 0], [0, 0, 0]]\n"
     ]
    }
   ],
   "source": [
    "n=3\n",
    "matrix=[[0]*n]*n\n",
    "print(matrix)"
   ]
  },
  {
   "cell_type": "markdown",
   "metadata": {},
   "source": [
    "**Câu 194:** Tính tổng các thành phần của tuple."
   ]
  },
  {
   "cell_type": "code",
   "execution_count": 45,
   "metadata": {},
   "outputs": [
    {
     "name": "stdout",
     "output_type": "stream",
     "text": [
      "Tổng các thành phần của tuple là 13\n"
     ]
    }
   ],
   "source": [
    "tuple_A=(1,3,4,5)\n",
    "list_A=list(tuple_A) # Hàm sum chỉ tính tổng của list được nên phải ép qua dạng list\n",
    "print(\"Tổng các thành phần của tuple là\",sum(list_A))"
   ]
  },
  {
   "cell_type": "markdown",
   "metadata": {},
   "source": [
    "**Câu 195:** Cho mảng số nguyên hãy viết hàm tìm số lớn nhất trong mỗi cặp của mảng.\n",
    "<div style=\"padding: 15px; border: 2px solid transparent; border-color: transparent; margin-bottom: 5px; margin-top: 10px;border-radius: 2px; color: #000000; background-color:#A4D3EE; border-color: #FFD39B;Width:60%\">\n",
    "\n",
    "Example:\n",
    "<br>\n",
    "<br>\n",
    "Input: 4 5 6 2 9 5    \n",
    "<br>\n",
    "<br>\n",
    "Output: 5 6 6 9 9\n",
    "\n",
    "</div>"
   ]
  },
  {
   "cell_type": "code",
   "execution_count": 46,
   "metadata": {},
   "outputs": [
    {
     "name": "stdout",
     "output_type": "stream",
     "text": [
      "5 6 6 9 9 "
     ]
    }
   ],
   "source": [
    "def MaxAdjacent(arr,n):\n",
    "    results=[]\n",
    "    for i in range(1,n):\n",
    "        r=max(arr[i],arr[i-1])\n",
    "        results.append(r)\n",
    "    for r in results:\n",
    "        print(r, end=\" \")\n",
    "arr=[4,5,6,2,9,5]\n",
    "n=6\n",
    "MaxAdjacent(arr,6)"
   ]
  },
  {
   "cell_type": "markdown",
   "metadata": {},
   "source": [
    "**Câu 196:** Cho hàm số y = ax + b hãy tính hệ số góc và góc hợp với trục hoành. "
   ]
  },
  {
   "cell_type": "code",
   "execution_count": 47,
   "metadata": {},
   "outputs": [
    {
     "name": "stdout",
     "output_type": "stream",
     "text": [
      "Nhập vào a: -3\n",
      "Nhập vào b: 3\n",
      "Hệ số góc là -3.0\n",
      "Góc hợp với trục hoành là:  108.39864998990899\n"
     ]
    }
   ],
   "source": [
    "from math import atan\n",
    "a=float(input(\"Nhập vào a: \"))\n",
    "b=float(input(\"Nhập vào b: \"))\n",
    "print(\"Hệ số góc là\",a)\n",
    "if a>0:\n",
    "    print(\"Góc hợp với trục hoành là: \",atan(a)*180/3.14)\n",
    "else:\n",
    "    print(\"Góc hợp với trục hoành là: \",180-atan(-a)*180/3.14)"
   ]
  },
  {
   "cell_type": "markdown",
   "metadata": {},
   "source": [
    "**Câu 197:** Tìm chuỗi dài nhất trong danh sách các chuỗi:"
   ]
  },
  {
   "cell_type": "code",
   "execution_count": 48,
   "metadata": {},
   "outputs": [
    {
     "name": "stdout",
     "output_type": "stream",
     "text": [
      "Chuỗi gốc:\n",
      "['cat', 'car', 'fear', 'center']\n",
      "Chuỗi dài nhất là :\n",
      "center\n"
     ]
    }
   ],
   "source": [
    "def test(words):\n",
    "    return  max(words, key=len) \n",
    "strs =  ['cat', 'car', 'fear', 'center']\n",
    "print(\"Chuỗi gốc:\")\n",
    "print(strs)\n",
    "print(\"Chuỗi dài nhất là :\")\n",
    "print(test(strs))"
   ]
  },
  {
   "cell_type": "markdown",
   "metadata": {},
   "source": [
    "**Câu 198:** Viết hàm kiểm tra mảng có sắp xếp theo thứ tự tăng dần hay không nếu có trả về True không trả về False."
   ]
  },
  {
   "cell_type": "code",
   "execution_count": 53,
   "metadata": {},
   "outputs": [
    {
     "data": {
      "text/plain": [
       "True"
      ]
     },
     "execution_count": 53,
     "metadata": {},
     "output_type": "execute_result"
    }
   ],
   "source": [
    "def TestSort(arr):\n",
    "    temp=arr[:]\n",
    "    arr.sort()\n",
    "    return arr==temp\n",
    "arr_A=[3,5,9,10,29]\n",
    "TestSort(arr_A)"
   ]
  },
  {
   "cell_type": "markdown",
   "metadata": {},
   "source": [
    "**Câu 199:** Viết hàm kiểm tra danh sách sao cho tổng hai số bằng 0 kết quả trả về vị trí 2 index đó.\n",
    "\n",
    "<div style=\"padding: 15px; border: 2px solid transparent; border-color: transparent; margin-bottom: 5px; margin-top: 10px;border-radius: 2px; color: #000000; background-color:#A4D3EE; border-color: #FFD39B;Width:60%\">\n",
    "\n",
    "Example: [1, -4, 6, 7, 4]\n",
    "<br>\n",
    "<br>\n",
    "Số 1 có thể cộng với [-4, 6, 7, 4] bằng [-3, 7, 8, 5]\n",
    "<br>\n",
    "<br>\n",
    "Số -4 có thể cộng với [6, 7, 4] bằng [2, 3, 0]\n",
    "<br>\n",
    "<br>\n",
    "Số 6 có thể cộng với [7, 4] bằng [13, 10]\n",
    "<br>\n",
    "<br>\n",
    "Số 7 có thể cộng với [4] bằng [11]\n",
    "<br>\n",
    "<br>\n",
    "Input: [1, -4, 6, 7, 4]\n",
    "<br>\n",
    "<br>\n",
    "Output: [4, 1]\n",
    "\n",
    "</div>"
   ]
  },
  {
   "cell_type": "code",
   "execution_count": 54,
   "metadata": {},
   "outputs": [
    {
     "name": "stdout",
     "output_type": "stream",
     "text": [
      "Danh sách gốc:\n",
      "[1, -4, 6, 7, 4]\n",
      "Index các số cộng với nhau bằng 0:\n",
      "[4, 1]\n"
     ]
    }
   ],
   "source": [
    "def test(nums):\n",
    "    s = set(nums)\n",
    "    for i in s:\n",
    "        if -i in s:\n",
    "            return [nums.index(i), nums.index(-i)]\n",
    "\n",
    "nums = [1, -4, 6, 7, 4]\n",
    "print(\"Danh sách gốc:\")\n",
    "print(nums) \n",
    "print(\"Index các số cộng với nhau bằng 0:\")\n",
    "print(test(nums))"
   ]
  },
  {
   "cell_type": "markdown",
   "metadata": {},
   "source": [
    "-----"
   ]
  },
  {
   "cell_type": "code",
   "execution_count": null,
   "metadata": {},
   "outputs": [],
   "source": []
  }
 ],
 "metadata": {
  "kernelspec": {
   "display_name": "Python 3",
   "language": "python",
   "name": "python3"
  },
  "language_info": {
   "codemirror_mode": {
    "name": "ipython",
    "version": 3
   },
   "file_extension": ".py",
   "mimetype": "text/x-python",
   "name": "python",
   "nbconvert_exporter": "python",
   "pygments_lexer": "ipython3",
   "version": "3.7.0"
  }
 },
 "nbformat": 4,
 "nbformat_minor": 2
}
