{
 "cells": [
  {
   "cell_type": "markdown",
   "metadata": {},
   "source": [
    "**Câu 101:** Viết chương trình in ra danh sách list các mã byte là của một chuỗi."
   ]
  },
  {
   "cell_type": "code",
   "execution_count": 1,
   "metadata": {},
   "outputs": [
    {
     "name": "stdout",
     "output_type": "stream",
     "text": [
      "[65, 98, 99]\n"
     ]
    }
   ],
   "source": [
    "x = b'Abc'\n",
    "print(list(x))"
   ]
  },
  {
   "cell_type": "markdown",
   "metadata": {},
   "source": [
    "**Câu 102:** Viết hàm tính tỷ lệ số âm , số dương, số zeros có trong mảng được nhập từ bàn phím cách nhau bởi dấu cách."
   ]
  },
  {
   "cell_type": "code",
   "execution_count": 2,
   "metadata": {},
   "outputs": [
    {
     "name": "stdout",
     "output_type": "stream",
     "text": [
      "Nhập số lượng phần tử cả mảng:6\n",
      "-2 2 0 4 2 3\n",
      "Phần trăm số dương trong mảng là: 0.666667\n",
      "Phần trăm số âm trong mảng là: 0.166667\n",
      "Phần trong số zeros trong mảng là: 0.166667\n"
     ]
    }
   ],
   "source": [
    "def plusMinus(arr):\n",
    "    count_1=0;count_2=0;count_3=0\n",
    "    for i in arr:\n",
    "        if i>0:\n",
    "            count_1+=1\n",
    "        elif i<0:\n",
    "            count_2+=1\n",
    "        else:\n",
    "            count_3+=1\n",
    "    print(\"Phần trăm số dương trong mảng là: {0:.6f}\".format(count_1/len(arr)))\n",
    "    print(\"Phần trăm số âm trong mảng là: {0:.6f}\".format(count_2/len(arr)))\n",
    "    print(\"Phần trong số zeros trong mảng là: {0:.6f}\".format(count_3/len(arr)))\n",
    "n=int(input(\"Nhập số lượng phần tử cả mảng:\"))\n",
    "arr=[]\n",
    "for i in input().split(\" \"):\n",
    "    arr.append(int(i))\n",
    "plusMinus(arr)"
   ]
  },
  {
   "cell_type": "markdown",
   "metadata": {},
   "source": [
    "**Câu 103:** Viết hàm tìm số lần để cộng các mẫu(10, 20, 50, 100, 200, 500) thành số n:\n",
    "\n",
    "<div style=\"padding: 15px; border: 2px solid transparent; border-color: transparent; margin-bottom: 5px; margin-top: 10px;border-radius: 2px; color: #000000; background-color:#A4D3EE; border-color: #FFD39B;Width:60%\">\n",
    "\n",
    "Example: 880 = 500 + 200 + 100 + 50 + 20 + 10\n",
    "<br>\n",
    "<br>\n",
    "Input: 880\n",
    "<br>\n",
    "<br>\n",
    "Output: 6\n",
    "</div>"
   ]
  },
  {
   "cell_type": "code",
   "execution_count": 3,
   "metadata": {},
   "outputs": [
    {
     "name": "stdout",
     "output_type": "stream",
     "text": [
      "6\n",
      "2\n"
     ]
    }
   ],
   "source": [
    "def no_notes(a):\n",
    "    Q = [500, 200, 100, 50, 20, 10]\n",
    "    x = 0\n",
    "    for i in range(6):\n",
    "        q = Q[i]\n",
    "        x += int(a / q)\n",
    "        a = int(a % q)\n",
    "    if a > 0:\n",
    "        x = -1\n",
    "    return x\n",
    "print(no_notes(880))\n",
    "print(no_notes(1000))"
   ]
  },
  {
   "cell_type": "markdown",
   "metadata": {},
   "source": [
    "**Câu 104:** Cho mảng A gồm n phần tử. Hãy viết chương trình tạo ra mảng B[1...n], trong đó B[i] là tổng của i phần tử đầu tiên của A."
   ]
  },
  {
   "cell_type": "code",
   "execution_count": 4,
   "metadata": {},
   "outputs": [
    {
     "name": "stdout",
     "output_type": "stream",
     "text": [
      "Nhập số lượng phần tử: 5\n",
      "Mảng A [180, 116, -254, -206, -190]\n",
      "Mảng B [180, 296, 42, -164, -354]\n"
     ]
    }
   ],
   "source": [
    "import random as r\n",
    "n=int(input(\"Nhập số lượng phần tử: \"))\n",
    "a=[0]*n\n",
    "for i in range(n):\n",
    "    a[i]=r.randint(-300,300)\n",
    "print(\"Mảng A\",a)\n",
    "b=[]\n",
    "for i in range(1,n+1):\n",
    "    b.append(sum(a[:i]))\n",
    "print(\"Mảng B\",b)"
   ]
  },
  {
   "cell_type": "markdown",
   "metadata": {},
   "source": [
    "**Câu 105:** Cho mảng 2 chiều nxn với các phần tử là các số nguyên. Tìm trong mỗi hàng phần tử lớn nhất rồi đổi chổ nó với phần tử có chỉ số hàng bằng chỉ số cột."
   ]
  },
  {
   "cell_type": "code",
   "execution_count": 5,
   "metadata": {},
   "outputs": [
    {
     "name": "stdout",
     "output_type": "stream",
     "text": [
      "Nhập n:4\n",
      "Mảng mới là:\n",
      "67 -46 -29 26 \n",
      "-14 68 14 -91 \n",
      "-4 -79 98 -73 \n",
      "10 -13 -61 11 \n"
     ]
    }
   ],
   "source": [
    "import random as r\n",
    "n=int(input(\"Nhập n:\"))\n",
    "a=[]\n",
    "for i in range(n):\n",
    "    a.append([])\n",
    "    for j in range(n):\n",
    "        t=r.randint(-100,100)\n",
    "        a[i].append(t)\n",
    "for i in range(n):\n",
    "    mx=max(a[i])\n",
    "    for j in range(n):\n",
    "        if a[i][j]==mx:\n",
    "            a[i][j]=a[i][i]\n",
    "            a[i][i]=mx\n",
    "print(\"Mảng mới là:\")\n",
    "for i in range(n):\n",
    "    for j in range(n):\n",
    "        print(a[i][j],end=' ')\n",
    "    print()"
   ]
  },
  {
   "cell_type": "markdown",
   "metadata": {},
   "source": [
    "**Câu 106:** Viết hàm tính toán tổng hiệu các cặp của từng phần tử trong mảng.\n",
    "\n",
    "<div style=\"padding: 15px; border: 2px solid transparent; border-color: transparent; margin-bottom: 5px; margin-top: 10px;border-radius: 2px; color: #000000; background-color:#A4D3EE; border-color: #FFD39B;Width:60%\">\n",
    "\n",
    "Example: Mảng [1, 2, 3]\n",
    "<br>\n",
    "<br>\n",
    "Hiệu 1 - 3 = -2 lấy tuyệt đối = 2\n",
    "<br>\n",
    "<br>\n",
    "Hiệu 1 - 2 = -1 lấy tuyệt đối = 1\n",
    "<br>\n",
    "<br>\n",
    "Hiệu 2 - 3 = -1 lấy tuyệt đối = 1\n",
    "<br>\n",
    "<br>\n",
    "Tổng 2 + 1 + 1 = 4\n",
    "<br>\n",
    "<br>\n",
    "Input: [1, 2, 3]\n",
    "<br>\n",
    "<br>\n",
    "Output: 4\n",
    "</div>"
   ]
  },
  {
   "cell_type": "code",
   "execution_count": 6,
   "metadata": {},
   "outputs": [
    {
     "data": {
      "text/plain": [
       "4"
      ]
     },
     "execution_count": 6,
     "metadata": {},
     "output_type": "execute_result"
    }
   ],
   "source": [
    "def sum_distinct_pairs(arr):\n",
    "    result = 0\n",
    "    i = 0\n",
    "    while i<len(arr):\n",
    "        result+=i*arr[i]-(len(arr)-i-1)*arr[i]\n",
    "        i+=1\n",
    "    return result\n",
    "sum_distinct_pairs([1,2,3])"
   ]
  },
  {
   "cell_type": "markdown",
   "metadata": {},
   "source": [
    "**Câu 107:** Viết hàm kiểm tra mảng một chiều có chứa giá trị k không? Nếu có trả về True, ngược lại trả về False."
   ]
  },
  {
   "cell_type": "code",
   "execution_count": 7,
   "metadata": {},
   "outputs": [
    {
     "data": {
      "text/plain": [
       "True"
      ]
     },
     "execution_count": 7,
     "metadata": {},
     "output_type": "execute_result"
    }
   ],
   "source": [
    "def FindKArray(A,k):\n",
    "    for i in range(len(A)):\n",
    "        if A[i]==k:\n",
    "            return True\n",
    "            break\n",
    "    return False\n",
    "FindKArray([3,4,5],4)"
   ]
  },
  {
   "cell_type": "markdown",
   "metadata": {},
   "source": [
    " **Câu 108:** Cho năm số nguyên dương, hãy tìm các giá trị nhỏ nhất và lớn nhất có thể được tính bằng cách tính tổng chính xác bốn trong năm số nguyên. Sau đó, in các giá trị tối thiểu và tối đa tương ứng dưới dạng một dòng gồm hai số nguyên dài được phân tách bằng dấu cách."
   ]
  },
  {
   "cell_type": "code",
   "execution_count": 8,
   "metadata": {},
   "outputs": [
    {
     "name": "stdout",
     "output_type": "stream",
     "text": [
      "Nhập vào 5 số cách nhau bởi dấu cách\n",
      "12 14 4 5 9\n",
      "30 40\n"
     ]
    }
   ],
   "source": [
    "def miniMaxSum(arr):\n",
    "    Max=max(arr)\n",
    "    Min=min(arr)\n",
    "    SumMin,SumMax=0,0\n",
    "    if Max==Min:\n",
    "        SumMax=SumMin=(len(arr)-1)*Max\n",
    "    for i in arr:\n",
    "        if i < Max:\n",
    "            SumMin+=i\n",
    "    for i in arr:\n",
    "        if i>Min:\n",
    "            SumMax+=i\n",
    "    print(SumMin,SumMax,sep=' ')\n",
    "arr=[]\n",
    "print(\"Nhập vào 5 số cách nhau bởi dấu cách\")\n",
    "for i in input().rstrip().split():\n",
    "    arr.append(int(i))\n",
    "miniMaxSum(arr)"
   ]
  },
  {
   "cell_type": "markdown",
   "metadata": {},
   "source": [
    "**Câu 109:**  Chúng ta có thể xác định một cách đệ quy số lượng tổ hợp của m trong số n,\n",
    "ký hiệu C (n, m), cho n> = 1 và 0 <= m <= n\n",
    "\n",
    "Với:\n",
    "\n",
    "C (n, m) = 1 nếu m = 0 hoặc m = n.\n",
    "\n",
    "C (n, m) = C (n-1, m) + C (n-1, m-1) nếu 0 <m <n.\n",
    "\n",
    "Viết hàm đệ quy recursC để tính C(n,m)."
   ]
  },
  {
   "cell_type": "code",
   "execution_count": 9,
   "metadata": {},
   "outputs": [
    {
     "data": {
      "text/plain": [
       "4"
      ]
     },
     "execution_count": 9,
     "metadata": {},
     "output_type": "execute_result"
    }
   ],
   "source": [
    "def recursC(n,m):\n",
    "    if m==1 or m==n :\n",
    "        return 1\n",
    "    else:\n",
    "        return recursC(n-1,m)+ recursC(n-1,m-1)\n",
    "recursC(5,2)    "
   ]
  },
  {
   "cell_type": "markdown",
   "metadata": {},
   "source": [
    "**Câu 110:** Viết chương trình đoán số tiếp theo của một dãy số cấp số cộng hoặc cấp số nhân.\n",
    "<div style=\"padding: 15px; border: 2px solid transparent; border-color: transparent; margin-bottom: 5px; margin-top: 10px;border-radius: 2px; color: #000000; background-color:#A4D3EE; border-color: #FFD39B;Width:60%\">\n",
    "\n",
    "Example:\n",
    "<br>\n",
    "<br>\n",
    "<strong>Case 1</strong>\n",
    "<br>\n",
    "<br>\n",
    "Input: [2, 4, 6]\n",
    "<br>\n",
    "<br>\n",
    "Output: 8\n",
    "<br>\n",
    "<br>\n",
    "<strong>Case 2</strong>\n",
    "<br>\n",
    "<br>\n",
    "Input: [2, 6, 18]\n",
    "<br>\n",
    "<br>\n",
    "Output: 54\n",
    "</div>"
   ]
  },
  {
   "cell_type": "code",
   "execution_count": 10,
   "metadata": {},
   "outputs": [
    {
     "name": "stdout",
     "output_type": "stream",
     "text": [
      "Cấp số cộng, số tiếp theo của dãy là: 4\n",
      "Cấp số nhân, số tiếp theo của dãy là:  54.0\n",
      "Số bạn nhập sai\n"
     ]
    }
   ],
   "source": [
    "def ap_gp_sequence(arr):\n",
    "    if arr[0]==arr[1]==arr[2]==0:\n",
    "        return \"Số bạn nhập sai\"\n",
    "    else:\n",
    "        if arr[1]-arr[0]==arr[2]-arr[1]:\n",
    "            n=2*arr[2]-arr[1]\n",
    "            return \"Cấp số cộng, \"+'số tiếp theo của dãy là: '+str(n)\n",
    "        else:\n",
    "            n=arr[2]**2/arr[1]\n",
    "            return \"Cấp số nhân, \" + 'số tiếp theo của dãy là:  '+str(n)\n",
    "\n",
    "print(ap_gp_sequence([1,2,3]))\n",
    "print(ap_gp_sequence([2,6,18]))\n",
    "print(ap_gp_sequence([0,0,0]))"
   ]
  },
  {
   "cell_type": "markdown",
   "metadata": {},
   "source": [
    "**Câu 111:** Viết hàm nhập bàn phím n là số nguyên, tạo chuỗi từ 0 đến n hiển thị ra màn hình cách nhau bởi dấu cách."
   ]
  },
  {
   "cell_type": "code",
   "execution_count": 11,
   "metadata": {},
   "outputs": [
    {
     "name": "stdout",
     "output_type": "stream",
     "text": [
      "Nhập n:4\n",
      "Chuỗi từ 0 đến 4:\n",
      "0 1 2 3 4 "
     ]
    }
   ],
   "source": [
    "n=int(input(\"Nhập n:\"))\n",
    "def printstring(n):\n",
    "    print(\"Chuỗi từ 0 đến {}:\".format(n))\n",
    "    for i in range(n+1):\n",
    "        print(str(i),end=' ')\n",
    "printstring(n)"
   ]
  },
  {
   "cell_type": "markdown",
   "metadata": {},
   "source": [
    "**Câu 112:**  Hãy định nghĩa các biến A = 70.0, B = 3 sau và lần lượt in kết quả các toán tử sau:\n",
    "    \n",
    "- Example += operator A = ???\n",
    "- Example -= operator B = ???\n",
    "- Example *= operator A = ???\n",
    "- Example /= operator B = ???\n",
    "- Example %= operator A = ???"
   ]
  },
  {
   "cell_type": "code",
   "execution_count": 12,
   "metadata": {},
   "outputs": [
    {
     "name": "stdout",
     "output_type": "stream",
     "text": [
      "+= operator A = 73\n",
      "-= operator A = 67\n",
      "*= operator A = 210\n",
      "/= operator A = 23\n",
      "%= operator A = 1\n"
     ]
    }
   ],
   "source": [
    "a=70;b=3\n",
    "print(\"+= operator A =\",a+b)\n",
    "print(\"-= operator A =\",a-b)\n",
    "print(\"*= operator A =\",a*b)\n",
    "print(\"/= operator A =\",a//b)\n",
    "print(\"%= operator A =\",a%b)"
   ]
  },
  {
   "cell_type": "markdown",
   "metadata": {},
   "source": [
    "**Câu 113:** Viết hàm kiểm tra mảng một chiều có chứa số chẵn không? Nếu có trả về True, ngược lại trả về False."
   ]
  },
  {
   "cell_type": "code",
   "execution_count": 13,
   "metadata": {},
   "outputs": [
    {
     "data": {
      "text/plain": [
       "True"
      ]
     },
     "execution_count": 13,
     "metadata": {},
     "output_type": "execute_result"
    }
   ],
   "source": [
    "def EvenNumberIncludingArray(A):\n",
    "    for i in A:\n",
    "        if i%2==0:\n",
    "            return True\n",
    "        else:\n",
    "            return False\n",
    "EvenNumberIncludingArray([6,6,8])"
   ]
  },
  {
   "cell_type": "markdown",
   "metadata": {},
   "source": [
    "**Câu 114:**  Định nghĩa một hàm có input là 2 chuỗi và in chuỗi có độ dài lớn hơn trong giao diện điều khiển. Nếu 2 chuỗi có chiều dài như nhau thì in tất cả các chuỗi theo dòng."
   ]
  },
  {
   "cell_type": "code",
   "execution_count": 14,
   "metadata": {},
   "outputs": [
    {
     "name": "stdout",
     "output_type": "stream",
     "text": [
      "xoai\n"
     ]
    }
   ],
   "source": [
    "def printstringmax(s1,s2): \n",
    "    len1 = len(s1) \n",
    "    len2 = len(s2)\n",
    "    if len1>len2:\n",
    "        print (s1)\n",
    "    elif len2>len1:\n",
    "        print (s2)\n",
    "    else:\n",
    "        print(s1)\n",
    "        print (s2) \n",
    "printstringmax(\"xoai\",\"cam\")"
   ]
  },
  {
   "cell_type": "markdown",
   "metadata": {},
   "source": [
    "**Câu 115:** Viết hàm kiểm tra danh sách các chuỗi có phải là đối xứng hay không.\n",
    "<div style=\"padding: 15px; border: 2px solid transparent; border-color: transparent; margin-bottom: 5px; margin-top: 10px;border-radius: 2px; color: #000000; background-color:#A4D3EE; border-color: #FFD39B;Width:60%\">\n",
    "\n",
    "Example:\n",
    "<br>\n",
    "<br>\n",
    "Input: ['palindrome', 'madamimadam', '', 'foo', 'eyes']\n",
    "<br>\n",
    "<br>\n",
    "Output: [False, True, True, False, False]\n",
    "\n",
    "</div>"
   ]
  },
  {
   "cell_type": "code",
   "execution_count": 15,
   "metadata": {},
   "outputs": [
    {
     "data": {
      "text/plain": [
       "[False, True, True, False, False]"
      ]
     },
     "execution_count": 15,
     "metadata": {},
     "output_type": "execute_result"
    }
   ],
   "source": [
    "def test_palind(seq):\n",
    "    results=[]\n",
    "    for s in seq:\n",
    "        if s==s[::-1]:\n",
    "            results.append(True)\n",
    "        else:\n",
    "            results.append(False)\n",
    "    return results\n",
    "strs = ['palindrome', 'madamimadam', '', 'foo', 'eyes']\n",
    "test_palind(strs)"
   ]
  },
  {
   "cell_type": "markdown",
   "metadata": {},
   "source": [
    "**Câu 116:** Viết hàm tìm index các số mà trong danh sách nhỏ hơn 1 ngưỡng threshold <100.\n",
    "<div style=\"padding: 15px; border: 2px solid transparent; border-color: transparent; margin-bottom: 5px; margin-top: 10px;border-radius: 2px; color: #000000; background-color:#A4D3EE; border-color: #FFD39B;Width:60%\">\n",
    "\n",
    "Example:\n",
    "<br>\n",
    "<br>\n",
    "Input: [0, 12, 45, 3, 4923, 322, 105, 29, 15, 39, 55]\n",
    "<br>\n",
    "<br>\n",
    "Output: [0, 1, 2, 3, 7, 8, 9, 10]\n",
    "\n",
    "</div>"
   ]
  },
  {
   "cell_type": "code",
   "execution_count": 16,
   "metadata": {},
   "outputs": [
    {
     "data": {
      "text/plain": [
       "[0, 1, 2, 3, 7, 8, 9, 10]"
      ]
     },
     "execution_count": 16,
     "metadata": {},
     "output_type": "execute_result"
    }
   ],
   "source": [
    "def find_index_thres(array,threshold):\n",
    "    results=[]\n",
    "    for i in range(len(array)):\n",
    "        if array[i]<threshold:\n",
    "            results.append(i)\n",
    "    return results\n",
    "arr=[0, 12, 45, 3, 4923, 322, 105, 29, 15, 39, 55]\n",
    "thres = 100\n",
    "find_index_thres(arr,thres)"
   ]
  },
  {
   "cell_type": "markdown",
   "metadata": {},
   "source": [
    "**Câu 117:** Sử dụng một danh sách để lọc các số lẻ từ danh sách được người dùng nhập vào cách nhau bởi dấu phảy.\n",
    "\n",
    "<div style=\"padding: 15px; border: 2px solid transparent; border-color: transparent; margin-bottom: 5px; margin-top: 10px;border-radius: 2px; color: #000000; background-color:#A4D3EE; border-color: #FFD39B;Width:60%\">\n",
    "\n",
    "Example:\n",
    "<br>\n",
    "<br>\n",
    "Input: 1,2,3,4,5,6,7,8,9,10\n",
    "<br>\n",
    "<br>\n",
    "Output: 1,3,5,7,9\n",
    "\n",
    "</div>"
   ]
  },
  {
   "cell_type": "code",
   "execution_count": 17,
   "metadata": {},
   "outputs": [
    {
     "name": "stdout",
     "output_type": "stream",
     "text": [
      "Nhập dãy số của bạn và cách nhau bởi dấu phẩy:1,2,3,4,5,6,7,8,9,10\n",
      "1,3,5,7,9,"
     ]
    }
   ],
   "source": [
    "numbers=input(\"Nhập dãy số của bạn và cách nhau bởi dấu phẩy:\")\n",
    "for num in numbers.split(','):\n",
    "    if int(num)%2!=0:\n",
    "        print(num,end=',')"
   ]
  },
  {
   "cell_type": "markdown",
   "metadata": {},
   "source": [
    "**Câu 118:** Vui lòng viết hàm để xuất một số ngẫu nhiên, chia hết cho 5 và 7, từ 0 đến 200. "
   ]
  },
  {
   "cell_type": "code",
   "execution_count": 19,
   "metadata": {},
   "outputs": [
    {
     "data": {
      "text/plain": [
       "0"
      ]
     },
     "execution_count": 19,
     "metadata": {},
     "output_type": "execute_result"
    }
   ],
   "source": [
    "import random\n",
    "def sample(n):\n",
    "    results=[]\n",
    "    for i in range(n):\n",
    "        if i%5==0 and i%7==0:\n",
    "             results.append(i)\n",
    "    return results\n",
    "random.choice(sample(200))"
   ]
  },
  {
   "cell_type": "markdown",
   "metadata": {},
   "source": [
    "**Câu 119:** Viết chương trình tạo ngẫu nhiên list gồm 5 số chẵn nằm trong đoạn [100;200]."
   ]
  },
  {
   "cell_type": "code",
   "execution_count": 20,
   "metadata": {},
   "outputs": [
    {
     "data": {
      "text/plain": [
       "[132, 150, 148, 128, 100]"
      ]
     },
     "execution_count": 20,
     "metadata": {},
     "output_type": "execute_result"
    }
   ],
   "source": [
    "import random\n",
    "results=[]\n",
    "for i in range(100,201):\n",
    "    if i%2==0:\n",
    "        results.append(i)\n",
    "random.sample(results,5)"
   ]
  },
  {
   "cell_type": "markdown",
   "metadata": {},
   "source": [
    "**Câu 120:** Viết một chương trình tính $\\frac{1}{2} + \\frac{2}{3} + \\frac{3}{4} + ... + \\frac{n}{n + 1}$ với một n là số được nhập vào (n> 0).\n",
    "\n",
    "<div style=\"padding: 15px; border: 2px solid transparent; border-color: transparent; margin-bottom: 5px; margin-top: 10px;border-radius: 2px; color: #000000; background-color:#A4D3EE; border-color: #FFD39B;Width:60%\">\n",
    "\n",
    "Example:\n",
    "<br>\n",
    "<br>\n",
    "Input: 3\n",
    "<br>\n",
    "<br>\n",
    "Output: 1.92\n",
    "\n",
    "</div>"
   ]
  },
  {
   "cell_type": "code",
   "execution_count": 21,
   "metadata": {},
   "outputs": [
    {
     "name": "stdout",
     "output_type": "stream",
     "text": [
      "Nhập số n >0: 3\n"
     ]
    },
    {
     "data": {
      "text/plain": [
       "1.92"
      ]
     },
     "execution_count": 21,
     "metadata": {},
     "output_type": "execute_result"
    }
   ],
   "source": [
    "n=int(input(\"Nhập số n >0: \"))\n",
    "Sum=0\n",
    "for i in range(1,n+1):\n",
    "    Sum += float(float(i)/(i+1))\n",
    "round(Sum,2)"
   ]
  },
  {
   "cell_type": "markdown",
   "metadata": {},
   "source": [
    "**Câu 121:** In chuỗi Unicode \"Hello world\"."
   ]
  },
  {
   "cell_type": "code",
   "execution_count": 22,
   "metadata": {},
   "outputs": [
    {
     "name": "stdout",
     "output_type": "stream",
     "text": [
      "Hello world!\n"
     ]
    }
   ],
   "source": [
    "unicodeString = u\"Hello world!\"\n",
    "print (unicodeString)"
   ]
  },
  {
   "cell_type": "markdown",
   "metadata": {},
   "source": [
    "**Câu 122:** Viết chương trình kiểm tra 3 số có tạo thành tam giác vuông hay không (với x, y, z được nhập từ bàn phím cách nhau bởi dấu cách)."
   ]
  },
  {
   "cell_type": "code",
   "execution_count": 24,
   "metadata": {},
   "outputs": [
    {
     "name": "stdout",
     "output_type": "stream",
     "text": [
      "3 4 5\n",
      "Ba số 3.0,4.0,5.0 tạo thành tam giá vuông\n"
     ]
    }
   ],
   "source": [
    "values=input().split()\n",
    "list_num=[]\n",
    "for l in values:\n",
    "    list_num.append(float(l))\n",
    "x,y,z=sorted(list_num)\n",
    "if x**2+y**2==z**2:\n",
    "    print(\"Ba số {},{},{} tạo thành tam giác vuông\".format(x,y,z))\n",
    "else:\n",
    "    print(\"Ba số {},{},{} không tạo thành tam giác vuông\".format(x,y,z))"
   ]
  },
  {
   "cell_type": "markdown",
   "metadata": {},
   "source": [
    "**Câu 123:** Viết chương trình tìm số các số để hình thành phép tính nhân tạo ra n.\n",
    "<div style=\"padding: 15px; border: 2px solid transparent; border-color: transparent; margin-bottom: 5px; margin-top: 10px;border-radius: 2px; color: #000000; background-color:#A4D3EE; border-color: #FFD39B;Width:60%\">\n",
    "\n",
    "Example: 12 = 12x1, 12 = 6x2, 12 = 3x4\n",
    "<br>\n",
    "<br>\n",
    "Input: 12\n",
    "<br>\n",
    "<br>\n",
    "Output: 6\n",
    "</div>"
   ]
  },
  {
   "cell_type": "code",
   "execution_count": 25,
   "metadata": {},
   "outputs": [
    {
     "data": {
      "text/plain": [
       "6"
      ]
     },
     "execution_count": 25,
     "metadata": {},
     "output_type": "execute_result"
    }
   ],
   "source": [
    "def divisor(n):\n",
    "    results=[]\n",
    "    for i in range(1,n+1):\n",
    "        if not n%i:\n",
    "            results.append(i)\n",
    "    return len(results)\n",
    "divisor(12)"
   ]
  },
  {
   "cell_type": "markdown",
   "metadata": {},
   "source": [
    "**Câu 124:** Viết hàm để lấy các index ở những vị trí có chữ thường của chuỗi.\n",
    "<div style=\"padding: 15px; border: 2px solid transparent; border-color: transparent; margin-bottom: 5px; margin-top: 10px;border-radius: 2px; color: #000000; background-color:#A4D3EE; border-color: #FFD39B;Width:60%\">\n",
    "\n",
    "Example:\n",
    "<br>\n",
    "<br>\n",
    "Input: Python\n",
    "<br>\n",
    "<br>\n",
    "Output: [1, 2, 3, 4, 5]\n",
    "\n",
    "</div>"
   ]
  },
  {
   "cell_type": "code",
   "execution_count": 27,
   "metadata": {},
   "outputs": [
    {
     "data": {
      "text/plain": [
       "[1, 2, 3, 4, 5]"
      ]
     },
     "execution_count": 27,
     "metadata": {},
     "output_type": "execute_result"
    }
   ],
   "source": [
    "def test_lower(seq):\n",
    "    results=[]\n",
    "    for i in range(len(seq)):\n",
    "        if seq[i].islower():\n",
    "            results=results+[i]\n",
    "        else:\n",
    "            pass\n",
    "    return results\n",
    "test_lower(\"Python\")"
   ]
  },
  {
   "cell_type": "markdown",
   "metadata": {},
   "source": [
    "**Câu 125:**  Viết chương trình tính khoảng cách giữa hai số nguyên.\n",
    "<div style=\"padding: 15px; border: 2px solid transparent; border-color: transparent; margin-bottom: 5px; margin-top: 10px;border-radius: 2px; color: #000000; background-color:#A4D3EE; border-color: #FFD39B;Width:60%\">\n",
    "\n",
    "Example: \n",
    "<br>\n",
    "<br>\n",
    "Input: 123 và 256\n",
    "<br>\n",
    "<br>\n",
    "Output: |1-2| + |2-5| + |3-6| = 7\n",
    "</div>"
   ]
  },
  {
   "cell_type": "code",
   "execution_count": 28,
   "metadata": {},
   "outputs": [
    {
     "data": {
      "text/plain": [
       "7"
      ]
     },
     "execution_count": 28,
     "metadata": {},
     "output_type": "execute_result"
    }
   ],
   "source": [
    "def digit_distance_nums(a, b):\n",
    "    dis=abs(a-b)\n",
    "    dis_str=str(dis)\n",
    "    results=[]\n",
    "    for i in dis_str:\n",
    "        results.append(int(i))\n",
    "    return sum(results)\n",
    "digit_distance_nums(123, 256)"
   ]
  },
  {
   "cell_type": "markdown",
   "metadata": {},
   "source": [
    "**Câu 126:** Viết chương trình kiểm tra hai số có là số nguyên tố cùng nhau."
   ]
  },
  {
   "cell_type": "code",
   "execution_count": 29,
   "metadata": {},
   "outputs": [
    {
     "name": "stdout",
     "output_type": "stream",
     "text": [
      "True\n",
      "True\n",
      "False\n"
     ]
    }
   ],
   "source": [
    "def gcd(p,q):\n",
    "    while q != 0:\n",
    "        p, q = q, p%q\n",
    "    return p\n",
    "#Ước chung lớn nhất hai số phải bằng 1\n",
    "def is_coprime(x, y):\n",
    "    return gcd(x, y) == 1\n",
    "print(is_coprime(17, 13))\n",
    "print(is_coprime(17, 21))\n",
    "print(is_coprime(15, 21))"
   ]
  },
  {
   "cell_type": "markdown",
   "metadata": {},
   "source": [
    "**Câu 127:** Tính tổng của dãy số âm và dãy số dương trong một mảng rồi so sánh giá trị tuyệt đối nào lớn hơn.\n",
    "<div style=\"padding: 15px; border: 2px solid transparent; border-color: transparent; margin-bottom: 5px; margin-top: 10px;border-radius: 2px; color: #000000; background-color:#A4D3EE; border-color: #FFD39B;Width:60%\">\n",
    "\n",
    "Example: Sum positive = 105, Sum negative = -60 \n",
    "<br>\n",
    "<br>  \n",
    "Input: { 0, -10, -11, -12, -13, -14, 15, 16, 17, 18, 19, 20 } \n",
    "<br>\n",
    "<br>\n",
    "Output: 105\n",
    "\n",
    "\n",
    "</div>"
   ]
  },
  {
   "cell_type": "code",
   "execution_count": 30,
   "metadata": {},
   "outputs": [
    {
     "name": "stdout",
     "output_type": "stream",
     "text": [
      "Mảng gốc:\n",
      "{0, 15, 16, 17, -14, -13, -12, -11, -10, 18, 19, 20}\n",
      "Tổng lớn nhất: 105\n",
      "Mảng gốc:\n",
      "{0, 3, 4, 5, 9, -22, -44, -11}\n",
      "Tổng lớn nhất: -77\n"
     ]
    }
   ],
   "source": [
    "def test(lst):\n",
    "    pos_sum = 0\n",
    "    neg_sum = 0\n",
    "    for n in lst:\n",
    "        if n > 0:\n",
    "            pos_sum += n\n",
    "        elif n < 0:\n",
    "            neg_sum += n\n",
    "    return max(pos_sum, neg_sum, key=abs)\n",
    "\n",
    "nums = { 0, -10, -11, -12, -13, -14, 15, 16, 17, 18, 19, 20 };\n",
    "print(\"Mảng gốc:\");\n",
    "print(nums)\n",
    "print(\"Tổng lớn nhất:\", test(nums));\n",
    "nums = { -11, -22, -44, 0, 3, 4 , 5, 9 };\n",
    "print(\"Mảng gốc:\");\n",
    "print(nums)\n",
    "print(\"Tổng lớn nhất:\", test(nums));"
   ]
  },
  {
   "cell_type": "markdown",
   "metadata": {},
   "source": [
    "**Câu 128:** Viết chương trình xác định vùng của kiểu dữ liệu int, float."
   ]
  },
  {
   "cell_type": "code",
   "execution_count": 31,
   "metadata": {},
   "outputs": [
    {
     "name": "stdout",
     "output_type": "stream",
     "text": [
      "Float value information:  sys.float_info(max=1.7976931348623157e+308, max_exp=1024, max_10_exp=308, min=2.2250738585072014e-308, min_exp=-1021, min_10_exp=-307, dig=15, mant_dig=53, epsilon=2.220446049250313e-16, radix=2, rounds=1)\n",
      "\n",
      "Integer value information:  sys.int_info(bits_per_digit=15, sizeof_digit=2)\n",
      "\n",
      "Maximum size of an integer:  2147483647\n"
     ]
    }
   ],
   "source": [
    "import sys\n",
    "print(\"Float value information: \",sys.float_info)\n",
    "print(\"\\nInteger value information: \",sys.int_info)\n",
    "print(\"\\nMaximum size of an integer: \",sys.maxsize) "
   ]
  },
  {
   "cell_type": "markdown",
   "metadata": {},
   "source": [
    "**Câu 129:** Với 2 list cho trước: [3,4,2,8,4] và [4,3,0,3,9] hãy viết chương trình để tạo list có phần tử là giao của 2 list đã cho."
   ]
  },
  {
   "cell_type": "code",
   "execution_count": 32,
   "metadata": {},
   "outputs": [
    {
     "name": "stdout",
     "output_type": "stream",
     "text": [
      "[3, 4]\n"
     ]
    }
   ],
   "source": [
    "listA=set([3,4,2,8,4])\n",
    "listB=set([4,3,0,3,9])\n",
    "\n",
    "listA &= listB\n",
    "li=list(listA)\n",
    "print (li)"
   ]
  },
  {
   "cell_type": "markdown",
   "metadata": {},
   "source": [
    "**Câu 135:** Dãy Fibonacci được tính dựa trên công thức sau:\n",
    "\n",
    "+ f(n) = 0 nếu n = 0\n",
    "\n",
    "+ f(n) = 1 nếu n = 1\n",
    "\n",
    "+ f(n) = f(n-1) + f(n-2) nếu n>1\n",
    "\n",
    "Hãy viết chương trình sử dụng list comprehension để in dãy Fibonacci dưới dạng tách biệt bằng dấu \",\" và n được người dùng nhập vào.\n",
    "<div style=\"padding: 15px; border: 2px solid transparent; border-color: transparent; margin-bottom: 5px; margin-top: 10px;border-radius: 2px; color: #000000; background-color:#A4D3EE; border-color: #FFD39B;Width:60%\">\n",
    "\n",
    "Example: \n",
    "<br>\n",
    "<br>  \n",
    "Input: 4\n",
    "<br>\n",
    "<br>\n",
    "Output: 0,1,1,2,3\n",
    "\n",
    "\n",
    "</div>"
   ]
  },
  {
   "cell_type": "code",
   "execution_count": 33,
   "metadata": {},
   "outputs": [
    {
     "name": "stdout",
     "output_type": "stream",
     "text": [
      "Nhập số n: 4\n"
     ]
    },
    {
     "data": {
      "text/plain": [
       "'0,1,1,2,3'"
      ]
     },
     "execution_count": 33,
     "metadata": {},
     "output_type": "execute_result"
    }
   ],
   "source": [
    "def fibo(n):\n",
    "    if n == 0: \n",
    "        return 0\n",
    "    elif n == 1: \n",
    "        return 1\n",
    "    else: \n",
    "        return fibo(n-1)+fibo(n-2)\n",
    "n=int(input(\"Nhập số n: \"))\n",
    "results=[]\n",
    "for x in range(0,n+1):\n",
    "    results.append(str(fibo(x)))\n",
    "\",\".join(results)"
   ]
  },
  {
   "cell_type": "markdown",
   "metadata": {},
   "source": [
    "**Câu 151:** Viết chương trình đếm và in số ký tự của chuỗi do người dùng nhập vào.\n",
    "<div style=\"padding: 15px; border: 2px solid transparent; border-color: transparent; margin-bottom: 5px; margin-top: 10px;border-radius: 2px; color: #000000; background-color:#A4D3EE; border-color: #FFD39B;Width:60%\">\n",
    "\n",
    "Example:\n",
    "<br>\n",
    "<br>\n",
    "Input: AMDK\n",
    "<br>\n",
    "<br>\n",
    "Output:\n",
    "<br>\n",
    "A,1\n",
    "<br>\n",
    "M,1\n",
    "<br>\n",
    "D,1\n",
    "<br>\n",
    "K,1\n",
    "</div>"
   ]
  },
  {
   "cell_type": "code",
   "execution_count": 34,
   "metadata": {},
   "outputs": [
    {
     "name": "stdout",
     "output_type": "stream",
     "text": [
      "Nhập chuỗi cần đếm ký tựAMDK\n",
      "A,1\n",
      "M,1\n",
      "D,1\n",
      "K,1\n"
     ]
    }
   ],
   "source": [
    "dict_results={}\n",
    "seq=input(\"Nhập chuỗi cần đếm ký tự\")\n",
    "for s in seq:\n",
    "    dict_results[s]=dict_results.get(s,0)+1\n",
    "for k,v in dict_results.items():\n",
    "    print(k,v,sep=\",\")"
   ]
  },
  {
   "cell_type": "markdown",
   "metadata": {},
   "source": [
    "**Câu 132:**  Bạn hãy viết một chương trình để in thời gian thực thi (running time of execution) phép tính \"1+1\" 100 lần."
   ]
  },
  {
   "cell_type": "code",
   "execution_count": null,
   "metadata": {},
   "outputs": [],
   "source": [
    "from timeit import Timer\n",
    "t = Timer(\"for i in range(100):1+1\")\n",
    "print (t.timeit())"
   ]
  },
  {
   "cell_type": "markdown",
   "metadata": {},
   "source": [
    "**Câu 133:** Viết chương trình để in một số nguyên ngẫu nhiên từ 1 đến 100."
   ]
  },
  {
   "cell_type": "code",
   "execution_count": 33,
   "metadata": {},
   "outputs": [
    {
     "name": "stdout",
     "output_type": "stream",
     "text": [
      "31\n"
     ]
    }
   ],
   "source": [
    "import random\n",
    "print (random.randrange(1,101))"
   ]
  },
  {
   "cell_type": "markdown",
   "metadata": {},
   "source": [
    "**Câu 134:**  Viết các lệnh assert để xác minh rằng tất cả các số trong list [2,4,6,8] là chẵn."
   ]
  },
  {
   "cell_type": "code",
   "execution_count": 8,
   "metadata": {},
   "outputs": [],
   "source": [
    "li = [2,4,6,8]\n",
    "for i in li:\n",
    "    assert i%2==0"
   ]
  },
  {
   "cell_type": "markdown",
   "metadata": {},
   "source": [
    "**Câu 135:** Viết một chương trình chấp nhận đầu vào là chuỗi các số nhị phân 4 chữ số, phân tách bởi dấu phẩy, kiểm tra xem chúng có chia hết cho 5 không. Sau đó in các số chia hết cho 5 thành dãy phân tách bởi dấu phẩy.\n",
    "\n",
    "<div style=\"padding: 15px; border: 2px solid transparent; border-color: transparent; margin-bottom: 5px; margin-top: 10px;border-radius: 2px; color: #000000; background-color:#A4D3EE; border-color: #FFD39B;Width:60%\">\n",
    "\n",
    "Example:\n",
    "<br>\n",
    "<br>\n",
    "Input: 0100,0011,1010,1001\n",
    "<br>\n",
    "<br>\n",
    "Output: 1010\n",
    "\n",
    "</div>"
   ]
  },
  {
   "cell_type": "code",
   "execution_count": 7,
   "metadata": {},
   "outputs": [
    {
     "name": "stdout",
     "output_type": "stream",
     "text": [
      "Nhập các số nhị phân cách nhau bởi dấu phẩy:0100,0011,1010,1001\n"
     ]
    },
    {
     "data": {
      "text/plain": [
       "'1010'"
      ]
     },
     "execution_count": 7,
     "metadata": {},
     "output_type": "execute_result"
    }
   ],
   "source": [
    "values=input(\"Nhập các số nhị phân cách nhau bởi dấu phẩy:\").split(\",\")\n",
    "results=[]\n",
    "for v in values:\n",
    "    int_values=int(v,2)\n",
    "    if int_values%5==0:\n",
    "        results.append(str(v))\n",
    "','.join(results)"
   ]
  },
  {
   "cell_type": "markdown",
   "metadata": {},
   "source": [
    "**Câu 136:** Viết hàm tìm ra số unique trong một mảng số nguyên."
   ]
  },
  {
   "cell_type": "code",
   "execution_count": 9,
   "metadata": {},
   "outputs": [
    {
     "data": {
      "text/plain": [
       "4"
      ]
     },
     "execution_count": 9,
     "metadata": {},
     "output_type": "execute_result"
    }
   ],
   "source": [
    "def lonelyinteger(arr):\n",
    "    result=[]\n",
    "    ans=0\n",
    "    for a in arr :\n",
    "        count=arr.count(a)\n",
    "        result.append(count)\n",
    "    ans=result.index(1)\n",
    "    return arr[ans]\n",
    "lonelyinteger([1,2,3,4,3,2,1,3])"
   ]
  },
  {
   "cell_type": "markdown",
   "metadata": {},
   "source": [
    "**Câu 137:** Viết chương trình hỗ trợ tính cước taxi.\n",
    "\n",
    "Biết rằng phí dịch vu taxi được tính theo những trường hợp dưới đây :\n",
    "\n",
    "– Với chiều đường đi dưới 10km, giá phải trả là 10 000 VND/km,\n",
    "\n",
    "– Từ cây số thứ 11 đến cây số thứ 30, giá phải trả là 6 000 VND/km,\n",
    "\n",
    "– Kể từ cây số thứ 31, giá phải trả là 4 000 VND/km.\n",
    " "
   ]
  },
  {
   "cell_type": "code",
   "execution_count": 37,
   "metadata": {},
   "outputs": [
    {
     "name": "stdout",
     "output_type": "stream",
     "text": [
      "Cước phí là 178000\n"
     ]
    }
   ],
   "source": [
    "def Charge(d):\n",
    "    if d<=10:\n",
    "        p=10000*d\n",
    "        print(\"Cước phí là\",p)\n",
    "    if 11<=d<=30:\n",
    "        p=10000*10+6000*(d-10)\n",
    "        print(\"Cước phí là\",p)\n",
    "    if d>=31:\n",
    "        p=10000*10+6000*20+4000*(d-30)\n",
    "        print(\"Cước phí là\",p)\n",
    "Charge(23)"
   ]
  },
  {
   "cell_type": "markdown",
   "metadata": {},
   "source": [
    "**Câu 138:** Kiểm tra một ma trận có phải là ma trận thưa hay không, chúng ta chỉ cần kiểm tra tổng số phần tử bằng không.\n",
    "Ma trận là ma trận thưa nếu T ≥ ((m * n) / 2); trong đó T xác định tổng số phần tử bằng không. Nếu là ma trận thưa thì xuất ra chuỗi \"Is a Sparse matrix.\", ngược lại \"Is not Sparse matrix.\""
   ]
  },
  {
   "cell_type": "code",
   "execution_count": 38,
   "metadata": {},
   "outputs": [
    {
     "name": "stdout",
     "output_type": "stream",
     "text": [
      "Is a Sparse matrix.\n"
     ]
    }
   ],
   "source": [
    "def sparsematrix(A):\n",
    "    count_zero=0\n",
    "    for i in range(len(A)):\n",
    "        for j in range(len(A[i])):\n",
    "            if A[i][j]==0:\n",
    "                count_zero+=1\n",
    "    if count_zero>=(len(A)*len(A[i]))//2:\n",
    "        print(\"Is a Sparse matrix.\")\n",
    "    else:\n",
    "        print(\"Is not Sparse matrix.\")\n",
    "sparsematrix([[0,3,0,0],[2,0,0,0]])"
   ]
  },
  {
   "cell_type": "markdown",
   "metadata": {},
   "source": [
    "**Câu 139:** Một ma trận A được gọi là tam giác dưới (lower triangular) nếu tất cả các phần tử bên trên đường chéo chính là bằng 0. Hiện thực hàm lowerTriangular trả về true nếu ma trận là tam giác dưới, và false cho ngược lại."
   ]
  },
  {
   "cell_type": "code",
   "execution_count": 39,
   "metadata": {},
   "outputs": [
    {
     "data": {
      "text/plain": [
       "True"
      ]
     },
     "execution_count": 39,
     "metadata": {},
     "output_type": "execute_result"
    }
   ],
   "source": [
    "def lower_triangular(A):\n",
    "    count=0\n",
    "    for i in range(len(A)):\n",
    "        count+=1\n",
    "        for j in range(count,len(A[i])):\n",
    "            if A[i][j]==0:\n",
    "                return True\n",
    "    return False\n",
    "lower_triangular([[1,0,0],[2,2,0],[3,3,3]])                "
   ]
  },
  {
   "cell_type": "markdown",
   "metadata": {},
   "source": [
    "**Câu 140:** Xác định phần tử đầu tiên có giá trị là số nguyên tố và nhỏ hơn 100; và trả về vị trí của phần tử đó, ngược lại trả về -1."
   ]
  },
  {
   "cell_type": "code",
   "execution_count": 40,
   "metadata": {},
   "outputs": [
    {
     "data": {
      "text/plain": [
       "True"
      ]
     },
     "execution_count": 40,
     "metadata": {},
     "output_type": "execute_result"
    }
   ],
   "source": [
    "def prime(n):\n",
    "    if n<2:\n",
    "        return True\n",
    "    else:\n",
    "        for i in range(2,n):\n",
    "            if n%i==0:\n",
    "                return False\n",
    "    return True\n",
    "def PrimeNumberIncludingArray(A):\n",
    "    for i in range(len(A)):\n",
    "        if prime(A[i]):\n",
    "            return True\n",
    "    return False\n",
    "PrimeNumberIncludingArray([1,3,4,5])"
   ]
  },
  {
   "cell_type": "markdown",
   "metadata": {},
   "source": [
    "**Câu 141:** Hãy hoàn thành định nghĩa hàm deleteAllCharacter dùng để xóa hết các kí tự key xuất hiện trong chuỗi str.\n",
    "\n",
    "<div style=\"padding: 15px; border: 2px solid transparent; border-color: transparent; margin-bottom: 5px; margin-top: 10px;border-radius: 2px; color: #000000; background-color:#A4D3EE; border-color: #FFD39B;Width:60%\">\n",
    "\n",
    "Example:\n",
    "<br>\n",
    "<br>\n",
    "Input: string = signal, key = i\n",
    "<br>\n",
    "<br>\n",
    "Output: ignal\n",
    "\n",
    "</div>"
   ]
  },
  {
   "cell_type": "code",
   "execution_count": 43,
   "metadata": {},
   "outputs": [
    {
     "name": "stdout",
     "output_type": "stream",
     "text": [
      "ignal"
     ]
    }
   ],
   "source": [
    "def deleteCharacter(string,key):\n",
    "    for i in range(len(string)):\n",
    "        if string[i]==key:\n",
    "            for j in range(len(string)-1):\n",
    "                print(string[j+1],end='')\n",
    "                i-=1\n",
    "deleteCharacter('signal','i')"
   ]
  },
  {
   "cell_type": "markdown",
   "metadata": {},
   "source": [
    "**Câu 142:** Hiện thực hàm tính tổng các dòng lẻ của matrix."
   ]
  },
  {
   "cell_type": "code",
   "execution_count": 44,
   "metadata": {},
   "outputs": [
    {
     "data": {
      "text/plain": [
       "9"
      ]
     },
     "execution_count": 44,
     "metadata": {},
     "output_type": "execute_result"
    }
   ],
   "source": [
    "def SumOddRowsMatrix(A):\n",
    "    Sum=0\n",
    "    for i in range(1,len(A),2):\n",
    "        for j in range(len(A[i])):\n",
    "            Sum+=A[i][j]\n",
    "    return Sum\n",
    "SumOddRowsMatrix([[3,4,5],[2,4,3]])"
   ]
  },
  {
   "cell_type": "markdown",
   "metadata": {},
   "source": [
    "**Câu 143:**  Viết một hàm tính tổng các phần tử nằm phía trên đường chéo chính (bao gồm đường chéo chính) ma trận vuông kích thước nxn kiểu số thực và trả về giá trị đó.\n",
    "<div style=\"padding: 15px; border: 2px solid transparent; border-color: transparent; margin-bottom: 5px; margin-top: 10px;border-radius: 2px; color: #000000; background-color:#A4D3EE; border-color: #FFD39B;Width:60%\">\n",
    "\n",
    "Example:\n",
    "<br>\n",
    "<br>\n",
    "Input: [[1,3,4],[4,5,6],[3,4,3]]\n",
    "<br>\n",
    "<br>\n",
    "Output: 9\n",
    "\n",
    "</div>"
   ]
  },
  {
   "cell_type": "code",
   "execution_count": 45,
   "metadata": {},
   "outputs": [
    {
     "name": "stdout",
     "output_type": "stream",
     "text": [
      "9\n"
     ]
    }
   ],
   "source": [
    "def trace_matrix(A):\n",
    "    trace=0\n",
    "    for i in range(len(A)):\n",
    "        trace+=A[i][i]\n",
    "    print(trace)\n",
    "trace_matrix([[1,3,4],[4,5,6],[3,4,3]])"
   ]
  },
  {
   "cell_type": "markdown",
   "metadata": {},
   "source": [
    "**Câu 144:** Xác định số lượng phần tử có giá trị lẻ trong mảng 1 chiều."
   ]
  },
  {
   "cell_type": "code",
   "execution_count": 46,
   "metadata": {},
   "outputs": [
    {
     "name": "stdout",
     "output_type": "stream",
     "text": [
      "3\n"
     ]
    }
   ],
   "source": [
    "def Odd_NumArray(A):\n",
    "    d=0\n",
    "    for i in range(len(A)):\n",
    "        if A[i]%2!=0:\n",
    "            d+=1\n",
    "    print(d)\n",
    "Odd_NumArray([3,4,5,7,8])"
   ]
  },
  {
   "cell_type": "markdown",
   "metadata": {},
   "source": [
    "**Câu 145:** Đếm xem có bao nhiêu phẩn tử chẳn trong matrix 2 chiều."
   ]
  },
  {
   "cell_type": "code",
   "execution_count": 47,
   "metadata": {},
   "outputs": [
    {
     "name": "stdout",
     "output_type": "stream",
     "text": [
      "3\n"
     ]
    }
   ],
   "source": [
    "def even_numMatrix(A):\n",
    "    count=0\n",
    "    for i in range(len(A)):\n",
    "        for j in range(len(A[i])):\n",
    "            if A[i][j]%2==0:\n",
    "                count+=1\n",
    "    print(count)\n",
    "even_numMatrix([[3,4,5],[2,4]])"
   ]
  },
  {
   "cell_type": "markdown",
   "metadata": {},
   "source": [
    "**Câu 146:** Viết một hàm xuất các phần tử của mảng hai chiều (nxm) ra màn hình không có khoảng trắng hay dấu xuống dòng ở cuối, giữa các phần tử chỉ có đúng 1 khoảng trắng."
   ]
  },
  {
   "cell_type": "code",
   "execution_count": 48,
   "metadata": {},
   "outputs": [
    {
     "name": "stdout",
     "output_type": "stream",
     "text": [
      "1 2 3 \n",
      "3 4 4 \n"
     ]
    }
   ],
   "source": [
    "def printMatrix(A):\n",
    "    for i in range(len(A)):\n",
    "        for j in range(len(A[i])):\n",
    "            print(A[i][j],end=' ')\n",
    "        print()\n",
    "printMatrix([[1,2,3],[3,4,4]])"
   ]
  },
  {
   "cell_type": "markdown",
   "metadata": {},
   "source": [
    "**Câu 147:** Một ma trận vuông A được gọi là đối xứng nếu ma trận A' = A, với A' là ma trận chuyển vị.\n",
    "\n",
    "Hiện thực hàm isSymmetricMatrix để kiểm tra xem một ma trận vuông có phải là ma trận đối xứng không?\n",
    "\n",
    "Nếu đối xứng thì trả về 1, ngược lại trả về 0."
   ]
  },
  {
   "cell_type": "code",
   "execution_count": 49,
   "metadata": {},
   "outputs": [
    {
     "data": {
      "text/plain": [
       "1"
      ]
     },
     "execution_count": 49,
     "metadata": {},
     "output_type": "execute_result"
    }
   ],
   "source": [
    "def isSymmetricMatrix(A):\n",
    "    Sum=0\n",
    "    for i in range(len(A)):\n",
    "        for j in range(len(A[i])):\n",
    "            if A[i][j]==A[j][i]:\n",
    "                Sum+=1\n",
    "    if Sum==len(A)*len(A[i]):\n",
    "        return 1\n",
    "    else:\n",
    "        return 0\n",
    "isSymmetricMatrix([[1,7,3],[7,4,5],[3,5,6]])"
   ]
  },
  {
   "cell_type": "markdown",
   "metadata": {},
   "source": [
    "**Câu 148:** Viết chương trình hiển thị True nếu ba đối số theo thứ tự không giảm;\n",
    "mặt khác, nó trả về False.\n",
    "\n",
    "Ví dụ: thứ tự (1,2, 3) và in_order (1, 2, 2) đều trả về true, trong khi thứ tự (1, 3,2) trả về false."
   ]
  },
  {
   "cell_type": "code",
   "execution_count": 50,
   "metadata": {},
   "outputs": [
    {
     "data": {
      "text/plain": [
       "False"
      ]
     },
     "execution_count": 50,
     "metadata": {},
     "output_type": "execute_result"
    }
   ],
   "source": [
    "def inorder(a,b,c):\n",
    "    if a<b and b<=c:\n",
    "        return True\n",
    "    else:\n",
    "        return False\n",
    "inorder(1,3,2)"
   ]
  },
  {
   "cell_type": "markdown",
   "metadata": {},
   "source": [
    "**Câu 148:** Xác định phần tử chẵn thứ k trong mảng và trả về giá trị của phần tử đó (trả về “-1” nếu không tồn tại).\n",
    "<div style=\"padding: 15px; border: 2px solid transparent; border-color: transparent; margin-bottom: 5px; margin-top: 10px;border-radius: 2px; color: #000000; background-color:#A4D3EE; border-color: #FFD39B;Width:60%\">\n",
    "\n",
    "Example:\n",
    "<br>\n",
    "<br>\n",
    "Input: [3,4,5,2]\n",
    "<br>\n",
    "<br>\n",
    "Output: [-1, 4, -1, 2]\n",
    "\n",
    "</div>"
   ]
  },
  {
   "cell_type": "code",
   "execution_count": 51,
   "metadata": {},
   "outputs": [
    {
     "name": "stdout",
     "output_type": "stream",
     "text": [
      "[-1, 4, -1, 2]\n"
     ]
    }
   ],
   "source": [
    "B=list()\n",
    "def Even_Array(A):\n",
    "    for i in range(len(A)):\n",
    "        if A[i]%2==0:\n",
    "            B.append(A[i])\n",
    "        else:\n",
    "            B.append(-1)\n",
    "    print(B)\n",
    "Even_Array([3,4,5,2])"
   ]
  },
  {
   "cell_type": "markdown",
   "metadata": {},
   "source": [
    "**Câu 149:** Viết một hàm tính tổng các phần tử trong ma trận (nxm) kiểu số thực và trả về giá trị đó."
   ]
  },
  {
   "cell_type": "code",
   "execution_count": 52,
   "metadata": {},
   "outputs": [
    {
     "name": "stdout",
     "output_type": "stream",
     "text": [
      "28\n"
     ]
    }
   ],
   "source": [
    "def sumMatrix(A):\n",
    "    Sum=0\n",
    "    for i in range(len(A)):\n",
    "        for j in range(len(A[i])):\n",
    "            Sum+=A[i][j]\n",
    "    print(Sum)\n",
    "sumMatrix([[3,4,3],[9,4,5]])"
   ]
  },
  {
   "cell_type": "markdown",
   "metadata": {},
   "source": [
    "**Câu 150:** Hãy tính tổng của hai ma trận 2 chiều có cùng kích thước."
   ]
  },
  {
   "cell_type": "code",
   "execution_count": 53,
   "metadata": {},
   "outputs": [
    {
     "name": "stdout",
     "output_type": "stream",
     "text": [
      "[[5, 5, 5], [5, 5, 7]]\n"
     ]
    }
   ],
   "source": [
    "def add_Matrix(A,B):\n",
    "    for i in range(len(A)):\n",
    "        for j in range(len(A[i])):\n",
    "            A[i][j]=A[i][j]+B[i][j]\n",
    "    print(A)\n",
    "add_Matrix([[1,2,3],[2,3,4]],[[4,3,2],[3,2,3]])"
   ]
  },
  {
   "cell_type": "markdown",
   "metadata": {},
   "source": [
    "----"
   ]
  },
  {
   "cell_type": "code",
   "execution_count": null,
   "metadata": {},
   "outputs": [],
   "source": []
  }
 ],
 "metadata": {
  "kernelspec": {
   "display_name": "Python 3",
   "language": "python",
   "name": "python3"
  },
  "language_info": {
   "codemirror_mode": {
    "name": "ipython",
    "version": 3
   },
   "file_extension": ".py",
   "mimetype": "text/x-python",
   "name": "python",
   "nbconvert_exporter": "python",
   "pygments_lexer": "ipython3",
   "version": "3.7.0"
  }
 },
 "nbformat": 4,
 "nbformat_minor": 2
}
