{
 "cells": [
  {
   "cell_type": "markdown",
   "metadata": {},
   "source": [
    "# 1. Giới thiệu về test code trong python\n",
    "\n",
    "Khi bạn làm một project hay dự án nào đó thì cần phải nên kiểm tra mã đó viết đúng yêu cầu hay chưa vì thế chúng ta cần một testcase để kiểm tra những trường hợp đó đúng chưa, trong bài này chúng ta sẽ biết cách testcase vượt qua như thế nào cũng như thất bại trông ra sao."
   ]
  },
  {
   "cell_type": "markdown",
   "metadata": {},
   "source": [
    "**Một testcase đơn giản**\n",
    "\n",
    "Example 1: Kiểm tra hàm cộng hai số a và b"
   ]
  },
  {
   "cell_type": "code",
   "execution_count": 91,
   "metadata": {},
   "outputs": [
    {
     "name": "stdout",
     "output_type": "stream",
     "text": [
      "5\n"
     ]
    }
   ],
   "source": [
    "def add(a,b):\n",
    "    c=a+b\n",
    "    return c\n",
    "if __name__ == \"__main__\":\n",
    "    print(add(5,0))"
   ]
  },
  {
   "cell_type": "code",
   "execution_count": 96,
   "metadata": {},
   "outputs": [
    {
     "name": "stderr",
     "output_type": "stream",
     "text": [
      "......\n",
      "----------------------------------------------------------------------\n",
      "Ran 6 tests in 0.016s\n",
      "\n",
      "OK\n"
     ]
    }
   ],
   "source": [
    "import unittest\n",
    "class TestCase_add(unittest.TestCase):\n",
    "    def test_add(self):\n",
    "        args = (2, 5)\n",
    "        self.assertEqual(add(*args), 7)\n",
    "        args = (105, 20)\n",
    "        self.assertEqual(add(*args),125 )\n",
    "        args = (0, 0)\n",
    "        self.assertEqual(add(*args), 0)\n",
    "        args = (-4, -5)\n",
    "        self.assertEqual(add(*args), -9)\n",
    "if __name__ == '__main__':\n",
    "    unittest.main(argv=['first-arg-is-ignored'], exit=False)"
   ]
  },
  {
   "cell_type": "markdown",
   "metadata": {},
   "source": [
    "# 2. Một số phương thức hay dùng trong thư viên unittest\n",
    "\n",
    "\n",
    "| Phương thức              | Ý nghĩa                                   |\n",
    "| :------------------      | :----------------------------------------:|\n",
    "| **assertEqual(a, b)**    | Kiểm tra a có bằng b                      |\n",
    "| **assertNotEqual(a, b)** | Kiểm tra a có khác b                      |\n",
    "| **assertIn(a, b)**       | Kiểm tra a có nằm trong b                 |\n",
    "| **assertIs(a, b)**       | Kiểm tra a có phải là b                   |\n",
    "| **assertIsNone(a)**      | Kiểm tra a có phải là None                |\n",
    "| **assertTupleEqual(a,b)**| Kiểm tra a và b có phải là kiểu Tuple     |\n",
    "| **assertListEqual(a, b)**| Kiểm tra a và b có phải là kiểu list      |\n",
    "| **assertDictEqual(a, b)**| Kiểm tra a và b có phải là kiểu dictionary|\n",
    "| **assertSetEqual(a, b)** | Kiểm tra a và b có phải là kiểu set       |"
   ]
  },
  {
   "cell_type": "markdown",
   "metadata": {},
   "source": [
    "Example 2: Kiểm tra định dạng tên"
   ]
  },
  {
   "cell_type": "code",
   "execution_count": 101,
   "metadata": {},
   "outputs": [],
   "source": [
    "def format_name(first, last):\n",
    "    full_name = first + ' ' + last\n",
    "    return full_name.title()"
   ]
  },
  {
   "cell_type": "markdown",
   "metadata": {},
   "source": [
    "**Testcase trường hợp sai**\n",
    "\n",
    "Nhập thiếu chữ c trong chữ cracker thành craker khi đó testcase sẽ hiện thị ra lỗi."
   ]
  },
  {
   "cell_type": "code",
   "execution_count": 153,
   "metadata": {},
   "outputs": [
    {
     "name": "stderr",
     "output_type": "stream",
     "text": [
      "....F.\n",
      "======================================================================\n",
      "FAIL: test_first_last_name (__main__.TestCase_fullname)\n",
      "----------------------------------------------------------------------\n",
      "Traceback (most recent call last):\n",
      "  File \"<ipython-input-153-64a1db774fe3>\", line 5, in test_first_last_name\n",
      "    self.assertEqual(fm_name, 'Cracker Lambda')\n",
      "AssertionError: 'Craker Lambda' != 'Cracker Lambda'\n",
      "- Craker Lambda\n",
      "+ Cracker Lambda\n",
      "?    +\n",
      "\n",
      "\n",
      "----------------------------------------------------------------------\n",
      "Ran 6 tests in 0.017s\n",
      "\n",
      "FAILED (failures=1)\n"
     ]
    }
   ],
   "source": [
    "import unittest\n",
    "class TestCase_fullname(unittest.TestCase):\n",
    "    def test_first_last_name(self):\n",
    "        fm_name = format_name('craker', 'lambda')\n",
    "        self.assertEqual(fm_name, 'Cracker Lambda')\n",
    "if __name__ == '__main__':\n",
    "    unittest.main(argv=['first-arg-is-ignored'], exit=False)"
   ]
  },
  {
   "cell_type": "code",
   "execution_count": 154,
   "metadata": {},
   "outputs": [
    {
     "name": "stderr",
     "output_type": "stream",
     "text": [
      "......\n",
      "----------------------------------------------------------------------\n",
      "Ran 6 tests in 0.029s\n",
      "\n",
      "OK\n"
     ]
    }
   ],
   "source": [
    "import unittest\n",
    "class TestCase_fullname(unittest.TestCase):\n",
    "    def test_first_last_name(self):\n",
    "        fm_name = format_name('cracker', 'lambda')\n",
    "        self.assertEqual(fm_name, 'Cracker Lambda')\n",
    "if __name__ == '__main__':\n",
    "    unittest.main(argv=['first-arg-is-ignored'], exit=False)"
   ]
  },
  {
   "cell_type": "markdown",
   "metadata": {},
   "source": [
    "Example 3: Sử dụng testcase để kiểm tra lớp "
   ]
  },
  {
   "cell_type": "code",
   "execution_count": 155,
   "metadata": {},
   "outputs": [],
   "source": [
    "class AnonymousSurvey():\n",
    "    def __init__(self, question):\n",
    "        self.question = question\n",
    "        self.responses = []\n",
    "    def show_question(self):\n",
    "        print(question)\n",
    "    def store_response(self, new_response):\n",
    "        self.responses.append(new_response)\n",
    "    def show_results(self):\n",
    "        print(\"Survey results: \")\n",
    "        for response in self.responses:\n",
    "            print('-' + response)"
   ]
  },
  {
   "cell_type": "code",
   "execution_count": 156,
   "metadata": {},
   "outputs": [
    {
     "name": "stdout",
     "output_type": "stream",
     "text": [
      "What language did you first learn to speak?\n",
      "Enter 'q' at any time to quit.\n",
      "\n",
      "Language: english\n",
      "Language: q\n",
      "\n",
      "Thank you to everyone who participated in the survey!\n",
      "Survey results: \n",
      "-english\n"
     ]
    }
   ],
   "source": [
    "question = \"What language did you first learn to speak?\"\n",
    "my_survey = AnonymousSurvey(question)\n",
    "\n",
    "my_survey.show_question()\n",
    "print(\"Enter 'q' at any time to quit.\\n\")\n",
    "\n",
    "while True:\n",
    "    response = input(\"Language: \")\n",
    "    if response == 'q':\n",
    "        break\n",
    "    my_survey.store_response(response)\n",
    "print(\"\\nThank you to everyone who participated in the survey!\")\n",
    "my_survey.show_results()"
   ]
  },
  {
   "cell_type": "code",
   "execution_count": 157,
   "metadata": {},
   "outputs": [
    {
     "name": "stderr",
     "output_type": "stream",
     "text": [
      "......\n",
      "----------------------------------------------------------------------\n",
      "Ran 6 tests in 0.021s\n",
      "\n",
      "OK\n"
     ]
    }
   ],
   "source": [
    "import unittest\n",
    "class TestAnonmyousSurvey(unittest.TestCase):\n",
    "    def test_store_single_response(self):\n",
    "        question = \"What language did you first learn to speak?\"\n",
    "        my_survey = AnonymousSurvey(question)\n",
    "        my_survey.store_response('English')\n",
    "        self.assertIn(\"English\", my_survey.responses)\n",
    "if __name__ == '__main__':\n",
    "    unittest.main(argv=['first-arg-is-ignored'], exit=False)"
   ]
  },
  {
   "cell_type": "code",
   "execution_count": 160,
   "metadata": {},
   "outputs": [
    {
     "name": "stderr",
     "output_type": "stream",
     "text": [
      "..F...\n",
      "======================================================================\n",
      "FAIL: test_store_single_response (__main__.TestAnonmyousSurvey)\n",
      "----------------------------------------------------------------------\n",
      "Traceback (most recent call last):\n",
      "  File \"<ipython-input-160-e0bc6bf0cd91>\", line 7, in test_store_single_response\n",
      "    self.assertIn(\"English\", my_survey.responses)\n",
      "AssertionError: 'English' not found in ['english']\n",
      "\n",
      "----------------------------------------------------------------------\n",
      "Ran 6 tests in 0.018s\n",
      "\n",
      "FAILED (failures=1)\n"
     ]
    }
   ],
   "source": [
    "import unittest\n",
    "class TestAnonmyousSurvey(unittest.TestCase):\n",
    "    def test_store_single_response(self):\n",
    "        question = \"What language did you first learn to speak?\"\n",
    "        my_survey = AnonymousSurvey(question)\n",
    "        my_survey.store_response('english')\n",
    "        self.assertIn(\"English\", my_survey.responses)\n",
    "if __name__ == '__main__':\n",
    "    unittest.main(argv=['first-arg-is-ignored'], exit=False)"
   ]
  },
  {
   "cell_type": "code",
   "execution_count": null,
   "metadata": {},
   "outputs": [],
   "source": []
  }
 ],
 "metadata": {
  "kernelspec": {
   "display_name": "Python 3",
   "language": "python",
   "name": "python3"
  },
  "language_info": {
   "codemirror_mode": {
    "name": "ipython",
    "version": 3
   },
   "file_extension": ".py",
   "mimetype": "text/x-python",
   "name": "python",
   "nbconvert_exporter": "python",
   "pygments_lexer": "ipython3",
   "version": "3.7.0"
  }
 },
 "nbformat": 4,
 "nbformat_minor": 2
}
