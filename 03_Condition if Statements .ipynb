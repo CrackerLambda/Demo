{
 "cells": [
  {
   "cell_type": "markdown",
   "metadata": {},
   "source": [
    "# 1. Cấu trúc lệnh if đơn giản\n",
    "Câu lệnh rẽ nhánh if là một trong những lệnh được dùng nhiều nhất trong ngôn ngữ lập trình. \n",
    "\n",
    "Ví dụ sau đây ta sẽ hiểu rõ ý nghĩa thực tế của câu lệnh.\n",
    "\n",
    "Nếu ngày mai mưa tôi sẽ ở nhà.\n",
    "\n",
    "Cú pháp lệnh if:\n",
    "\n",
    "**if** `<điều kiện>`**:**\n",
    "  \n",
    "   &nbsp;&nbsp;&nbsp;`<câu lệnh>`\n",
    "   \n",
    "Lưu ý rằng khối lệnh trong if sẽ được thụt lề.\n",
    "\n",
    "Lưu đồ giải thuật của if\n",
    "\n",
    "<img align=\"left\" width=\"300\" height=\"300\" src=\"https://dungkcna113.files.wordpress.com/2013/04/dc493-1.jpg?w=306&h=314\">"
   ]
  },
  {
   "cell_type": "code",
   "execution_count": 2,
   "metadata": {},
   "outputs": [
    {
     "name": "stdout",
     "output_type": "stream",
     "text": [
      "Nhập vào số nguyên 3\n",
      "Đây là số nhỏ hơn 10\n"
     ]
    }
   ],
   "source": [
    "a=int(input('Nhập vào số nguyên '))\n",
    "if a<10:\n",
    "    print('Đây là số nhỏ hơn 10')\n"
   ]
  },
  {
   "cell_type": "markdown",
   "metadata": {},
   "source": [
    "# 2. Cấu trúc lệnh if...else\n",
    "\n",
    "Chương trình sẽ kiểm tra điều kiện của if nếu đúng thì sẽ thực hiện các điều kiện trong if, còn nếu sai thì sẽ thực hiện hành động của lệnh else.\n",
    "\n",
    "Cú pháp:\n",
    "\n",
    "**if** `<điều kiện>` **:**\n",
    "       \n",
    "&nbsp;&nbsp;&nbsp;`<câu lệnh>`\n",
    "\n",
    "**else** **:**\n",
    "\n",
    "&nbsp;&nbsp;&nbsp;`<câu lệnh của nhóm else>`\n",
    "\n",
    "Lưu đồ giải thuật của if-else\n",
    "\n",
    "<img align=\"left\" width=\"300\" height=\"300\" src=\"https://t3h.edu.vn/sites/default/files/cau-lenh-if-else.jpg\">"
   ]
  },
  {
   "cell_type": "code",
   "execution_count": 3,
   "metadata": {},
   "outputs": [
    {
     "name": "stdout",
     "output_type": "stream",
     "text": [
      "a là số nhỏ hơn 10\n"
     ]
    }
   ],
   "source": [
    "a=5\n",
    "if a>10:\n",
    "    print('a là số lớn hơn 10')\n",
    "else:\n",
    "    print('a là số nhỏ hơn 10')"
   ]
  },
  {
   "cell_type": "code",
   "execution_count": 8,
   "metadata": {},
   "outputs": [
    {
     "name": "stdout",
     "output_type": "stream",
     "text": [
      "m và n là 2 số bằng nhau\n"
     ]
    }
   ],
   "source": [
    "m=3\n",
    "n=3\n",
    "if m==n:\n",
    "    print('m và n là 2 số bằng nhau')\n",
    "else:\n",
    "    print('m và n là 2 số khác nhau')"
   ]
  },
  {
   "cell_type": "markdown",
   "metadata": {},
   "source": [
    "# 3. Cấu trúc rẽ nhánh đầy đủ lệnh if - elif - else\n",
    "\n",
    "Đây có thể xem là một cấu trúc lệnh rẽ nhánh đầy đủ, có thể rẽ được nhiều nhánh.\n",
    "\n",
    "Cú pháp:\n",
    "\n",
    "**if** `<điều kiện 1>`**:**\n",
    "\n",
    "&nbsp;&nbsp;&nbsp;`<câu lệnh 1>`\n",
    "\n",
    "**elif** `<điều kiện 2>`**:**\n",
    "\n",
    "&nbsp;&nbsp;&nbsp;&nbsp;&nbsp;&nbsp;`<câu lệnh 2>`\n",
    "\n",
    "**elif**  &nbsp;&nbsp;&nbsp;&nbsp;&nbsp;&nbsp;**. . .**\n",
    "\n",
    "**else** **:**\n",
    "\n",
    "&nbsp;&nbsp;&nbsp;&nbsp;&nbsp;&nbsp;`<câu lệnh N>`\n",
    "\n",
    "Lưu đồ giải thuật của if-elif-else\n",
    "\n",
    "<img align=\"left\" width=\"500\" height=\"500\" src=\"https://t3h.edu.vn/sites/default/files/if-elseif-ladder.jpg\">"
   ]
  },
  {
   "cell_type": "code",
   "execution_count": 14,
   "metadata": {},
   "outputs": [
    {
     "name": "stdout",
     "output_type": "stream",
     "text": [
      "Nó là số âm\n"
     ]
    }
   ],
   "source": [
    "k=-1\n",
    "if k==6:\n",
    "    print('Nó là một số bằng 6')\n",
    "elif k>6:\n",
    "    print('Nó là một số lớn hơn 6')\n",
    "elif 0<k<6:\n",
    "    print('Nó là một số nhỏ hơn 6')\n",
    "else:\n",
    "    print('Nó là số âm')"
   ]
  },
  {
   "cell_type": "code",
   "execution_count": 24,
   "metadata": {},
   "outputs": [
    {
     "name": "stdout",
     "output_type": "stream",
     "text": [
      "Nhập số điểm của bạn 2.3\n",
      "Bạn là học sinh kém\n"
     ]
    }
   ],
   "source": [
    "q=float(input(\"Nhập số điểm của bạn \"))\n",
    "if q>10:\n",
    "    print('Bạn đã nhập sai')\n",
    "else:\n",
    "    if 0<= q <=3:\n",
    "        print('Bạn là học sinh kém')\n",
    "    elif 3<q<7:\n",
    "        print('Bạn là học sinh trung bình')\n",
    "    elif 7<= q <8:\n",
    "        print('Bạn là học sinh khá')\n",
    "    else:\n",
    "        print('Bạn là học sinh giỏi')"
   ]
  },
  {
   "cell_type": "markdown",
   "metadata": {},
   "source": [
    "# 4. Bài tập Exercise"
   ]
  },
  {
   "cell_type": "markdown",
   "metadata": {},
   "source": [
    "+ Lý thuyết chọn đáp án\n",
    "\n",
    "Câu 1: Hãy cho biết giá trị cuối cùng của x là bao nhiêu khi thực hiện các câu lệnh?\n",
    "\n",
    "```python\n",
    "    x=4\n",
    "    if 43%8==1:\n",
    "          x+=2\n",
    "    ```\n",
    "\n",
    "<div style=\"padding: 15px; border: 1px solid transparent; border-color: transparent; margin-bottom: 5px; border-radius: 2px; color:#1C1C1C; background-color:#D3D3D3; border-color: #BEBEBE;\">\n",
    "A. 4\n",
    "</div>\n",
    "\n",
    "<div style=\"padding: 15px; border: 1px solid transparent; border-color: transparent; margin-bottom: 5px; border-radius: 2px; color:#1C1C1C; background-color:#D3D3D3; border-color: #BEBEBE;\">\n",
    "B. 2\n",
    "</div>\n",
    "\n",
    "<div style=\"padding: 15px; border: 1px solid transparent; border-color: transparent; margin-bottom: 5px; border-radius: 2px; color:#1C1C1C; background-color:#D3D3D3; border-color: #BEBEBE;\">\n",
    "C. 6\n",
    "</div>\n",
    "\n",
    "<div style=\"padding: 15px; border: 1px solid transparent; border-color: transparent; margin-bottom: 5px; border-radius: 2px; color:#1C1C1C; background-color:#D3D3D3; border-color: #BEBEBE;\">\n",
    "D. 5\n",
    "</div>"
   ]
  },
  {
   "cell_type": "markdown",
   "metadata": {},
   "source": [
    "Câu 2: Hãy cho biết kết quả của đoạn chương trình?\n",
    "\n",
    "```python\n",
    "    x=10\n",
    "    if(not x <8):\n",
    "        print('Cracker')\n",
    "    else:\n",
    "        print('Lambda')\n",
    "```\n",
    "\n",
    "<div style=\"padding: 15px; border: 1px solid transparent; border-color: transparent; margin-bottom: 5px; border-radius: 2px; color:#1C1C1C; background-color:#D3D3D3; border-color: #BEBEBE;\">\n",
    "A. Craker\n",
    "</div>\n",
    "\n",
    "<div style=\"padding: 15px; border: 1px solid transparent; border-color: transparent; margin-bottom: 5px; border-radius: 2px; color:#1C1C1C; background-color:#D3D3D3; border-color: #BEBEBE;\">\n",
    "B. Lambda\n",
    "</div>\n",
    "\n",
    "<div style=\"padding: 15px; border: 1px solid transparent; border-color: transparent; margin-bottom: 5px; border-radius: 2px; color:#1C1C1C; background-color:#D3D3D3; border-color: #BEBEBE;\">\n",
    "C. CrackerLambda\n",
    "</div>\n",
    "\n",
    "<div style=\"padding: 15px; border: 1px solid transparent; border-color: transparent; margin-bottom: 5px; border-radius: 2px; color:#1C1C1C; background-color:#D3D3D3; border-color: #BEBEBE;\">\n",
    "D. None\n",
    "</div>"
   ]
  },
  {
   "cell_type": "markdown",
   "metadata": {},
   "source": [
    "Câu 3: Đoạn chương trình in ra kết quả gì?\n",
    "\n",
    "```python\n",
    "    a,b=30,40\n",
    "    if b%a>=3:\n",
    "        print('MemMem')\n",
    "    else:\n",
    "        print('Icon')\n",
    "```\n",
    "\n",
    "<div style=\"padding: 15px; border: 1px solid transparent; border-color: transparent; margin-bottom: 5px; border-radius: 2px; color:#1C1C1C; background-color:#D3D3D3; border-color: #BEBEBE;\">\n",
    "A. Error\n",
    "</div>\n",
    "\n",
    "<div style=\"padding: 15px; border: 1px solid transparent; border-color: transparent; margin-bottom: 5px; border-radius: 2px; color:#1C1C1C; background-color:#D3D3D3; border-color: #BEBEBE;\">\n",
    "B. Icon\n",
    "</div>\n",
    "\n",
    "<div style=\"padding: 15px; border: 1px solid transparent; border-color: transparent; margin-bottom: 5px; border-radius: 2px; color:#1C1C1C; background-color:#D3D3D3; border-color: #BEBEBE;\">\n",
    "C. MemMem\n",
    "</div>\n",
    "\n",
    "<div style=\"padding: 15px; border: 1px solid transparent; border-color: transparent; margin-bottom: 5px; border-radius: 2px; color:#1C1C1C; background-color:#D3D3D3; border-color: #BEBEBE;\">\n",
    "D. None\n",
    "</div>"
   ]
  },
  {
   "cell_type": "markdown",
   "metadata": {},
   "source": [
    "Câu 4: Cú pháp lệnh if sau đây là đúng?\n",
    "\n",
    "<div style=\"padding: 15px; border: 1px solid transparent; border-color: transparent; margin-bottom: 5px; border-radius: 2px; color:#1C1C1C; background-color:#D3D3D3; border-color: #BEBEBE;\">\n",
    "A. if d>5: d+=1\n",
    "</div>\n",
    "\n",
    "<div style=\"padding: 15px; border: 1px solid transparent; border-color: transparent; margin-bottom: 5px; border-radius: 2px; color:#1C1C1C; background-color:#D3D3D3; border-color: #BEBEBE;\">\n",
    "B. if d==19; d+=1\n",
    "</div>\n",
    "\n",
    "<div style=\"padding: 15px; border: 1px solid transparent; border-color: transparent; margin-bottom: 5px; border-radius: 2px; color:#1C1C1C; background-color:#D3D3D3; border-color: #BEBEBE;\">\n",
    "C. if d%6==0: else: d-=3\n",
    "</div>\n",
    "\n",
    "<div style=\"padding: 15px; border: 1px solid transparent; border-color: transparent; margin-bottom: 5px; border-radius: 2px; color:#1C1C1C; background-color:#D3D3D3; border-color: #BEBEBE;\">\n",
    "D. if d>3 else print(d)\n",
    "</div>"
   ]
  },
  {
   "cell_type": "markdown",
   "metadata": {},
   "source": [
    "Câu 5: Kết quả của z từ đoạn chương trình trên là:\n",
    "\n",
    "```python\n",
    "    x,y=2,2\n",
    "    if (x**y<45) or (x<y):\n",
    "        z=(x+y)*x\n",
    "    else:\n",
    "        z=x*y\n",
    "```\n",
    "\n",
    "<div style=\"padding: 15px; border: 1px solid transparent; border-color: transparent; margin-bottom: 5px; border-radius: 2px; color:#1C1C1C; background-color:#D3D3D3; border-color: #BEBEBE;\">\n",
    "A. 4\n",
    "</div>\n",
    "\n",
    "<div style=\"padding: 15px; border: 1px solid transparent; border-color: transparent; margin-bottom: 5px; border-radius: 2px; color:#1C1C1C; background-color:#D3D3D3; border-color: #BEBEBE;\">\n",
    "B. 8\n",
    "</div>\n",
    "\n",
    "<div style=\"padding: 15px; border: 1px solid transparent; border-color: transparent; margin-bottom: 5px; border-radius: 2px; color:#1C1C1C; background-color:#D3D3D3; border-color: #BEBEBE;\">\n",
    "C. 2\n",
    "</div>\n",
    "\n",
    "<div style=\"padding: 15px; border: 1px solid transparent; border-color: transparent; margin-bottom: 5px; border-radius: 2px; color:#1C1C1C; background-color:#D3D3D3; border-color: #BEBEBE;\">\n",
    "D. True\n",
    "</div>"
   ]
  },
  {
   "cell_type": "markdown",
   "metadata": {},
   "source": [
    "Câu 6: Cho đoạn chương trình sau:\n",
    "```python\n",
    "    a,b,c=1,2,3\n",
    "    if a>b:\n",
    "        t=a*c\n",
    "    elif a==b:\n",
    "        t=a*b\n",
    "    else:\n",
    "        t=(a+1)*b\n",
    "```\n",
    "\n",
    "Giá trị của t sau khi thực hiện các câu lệnh trên là:\n",
    "\n",
    "<div style=\"padding: 15px; border: 1px solid transparent; border-color: transparent; margin-bottom: 5px; border-radius: 2px; color:#1C1C1C; background-color:#D3D3D3; border-color: #BEBEBE;\">\n",
    "A. 2\n",
    "</div>\n",
    "\n",
    "<div style=\"padding: 15px; border: 1px solid transparent; border-color: transparent; margin-bottom: 5px; border-radius: 2px; color:#1C1C1C; background-color:#D3D3D3; border-color: #BEBEBE;\">\n",
    "B. 3\n",
    "</div>\n",
    "\n",
    "<div style=\"padding: 15px; border: 1px solid transparent; border-color: transparent; margin-bottom: 5px; border-radius: 2px; color:#1C1C1C; background-color:#D3D3D3; border-color: #BEBEBE;\">\n",
    "C. 5\n",
    "</div>\n",
    "\n",
    "<div style=\"padding: 15px; border: 1px solid transparent; border-color: transparent; margin-bottom: 5px; border-radius: 2px; color:#1C1C1C; background-color:#D3D3D3; border-color: #BEBEBE;\">\n",
    "D. 4\n",
    "</div>\n"
   ]
  },
  {
   "cell_type": "markdown",
   "metadata": {},
   "source": [
    "Câu 7: Để tìm giá trị lớn nhất của hai số a và b ta viết:\n",
    "\n",
    "<div style=\"padding: 15px; border: 1px solid transparent; border-color: transparent; margin-bottom: 5px; border-radius: 2px; color:#1C1C1C; background-color:#D3D3D3; border-color: #BEBEBE;\">\n",
    "A. max=a\n",
    "\n",
    "&nbsp;&nbsp;&nbsp;&nbsp;&nbsp;if b>max: max=b\n",
    "\n",
    "</div>\n",
    "\n",
    "<div style=\"padding: 15px; border: 1px solid transparent; border-color: transparent; margin-bottom: 5px; border-radius: 2px; color:#1C1C1C; background-color:#D3D3D3; border-color: #BEBEBE;\">\n",
    "B. max=b\n",
    "\n",
    "&nbsp;&nbsp;&nbsp;&nbsp;&nbsp;if b>max: max=a\n",
    "</div>\n",
    "\n",
    "<div style=\"padding: 15px; border: 1px solid transparent; border-color: transparent; margin-bottom: 5px; border-radius: 2px; color:#1C1C1C; background-color:#D3D3D3; border-color: #BEBEBE;\">\n",
    "C. max=a\n",
    "\n",
    "&nbsp;&nbsp;&nbsp;&nbsp;&nbsp;if b>max: max=a\n",
    "\n",
    "&nbsp;&nbsp;&nbsp;&nbsp;&nbsp;else: Max=b\n",
    "</div>\n",
    "\n",
    "<div style=\"padding: 15px; border: 1px solid transparent; border-color: transparent; margin-bottom: 5px; border-radius: 2px; color:#1C1C1C; background-color:#D3D3D3; border-color: #BEBEBE;\">\n",
    "D. max=b\n",
    "\n",
    "&nbsp;&nbsp;&nbsp;&nbsp;&nbsp;if a<max: max=a\n",
    "\n",
    "&nbsp;&nbsp;&nbsp;&nbsp;&nbsp;else: max=b\n",
    "</div>"
   ]
  },
  {
   "cell_type": "markdown",
   "metadata": {},
   "source": [
    "Câu 8: Giá trị của biến m là bao nhiêu khi hoàn thành các câu lệnh?\n",
    "\n",
    "```python\n",
    "    m=3\n",
    "    if (m+2)%5==0 and (m+2)//3 >9:\n",
    "        m=m+10\n",
    "    else:\n",
    "        m*=m\n",
    "``` \n",
    "\n",
    "<div style=\"padding: 15px; border: 1px solid transparent; border-color: transparent; margin-bottom: 5px; border-radius: 2px; color:#1C1C1C; background-color:#D3D3D3; border-color: #BEBEBE;\">\n",
    "A. 4\n",
    "</div>\n",
    "\n",
    "<div style=\"padding: 15px; border: 1px solid transparent; border-color: transparent; margin-bottom: 5px; border-radius: 2px; color:#1C1C1C; background-color:#D3D3D3; border-color: #BEBEBE;\">\n",
    "B. 10\n",
    "</div>\n",
    "\n",
    "<div style=\"padding: 15px; border: 1px solid transparent; border-color: transparent; margin-bottom: 5px; border-radius: 2px; color:#1C1C1C; background-color:#D3D3D3; border-color: #BEBEBE;\">\n",
    "C. 13\n",
    "</div>\n",
    "\n",
    "<div style=\"padding: 15px; border: 1px solid transparent; border-color: transparent; margin-bottom: 5px; border-radius: 2px; color:#1C1C1C; background-color:#D3D3D3; border-color: #BEBEBE;\">\n",
    "D. 9\n",
    "</div>"
   ]
  },
  {
   "cell_type": "markdown",
   "metadata": {},
   "source": [
    "Câu 9: Kết quả của đoạn chương trình sau đây?\n",
    "\n",
    "```python\n",
    "    a=True; b=False \n",
    "    if not b or a:\n",
    "        print('FFFF')\n",
    "    else:\n",
    "        if not a or not b and a:\n",
    "            print('0000')\n",
    "        else:\n",
    "            print('0FFF')\n",
    "```\n",
    "\n",
    "<div style=\"padding: 15px; border: 1px solid transparent; border-color: transparent; margin-bottom: 5px; border-radius: 2px; color:#1C1C1C; background-color:#D3D3D3; border-color: #BEBEBE;\">\n",
    "A. 0000\n",
    "</div>\n",
    "\n",
    "<div style=\"padding: 15px; border: 1px solid transparent; border-color: transparent; margin-bottom: 5px; border-radius: 2px; color:#1C1C1C; background-color:#D3D3D3; border-color: #BEBEBE;\">\n",
    "B. FFFF\n",
    "</div>\n",
    "\n",
    "<div style=\"padding: 15px; border: 1px solid transparent; border-color: transparent; margin-bottom: 5px; border-radius: 2px; color:#1C1C1C; background-color:#D3D3D3; border-color: #BEBEBE;\">\n",
    "C. None\n",
    "</div>\n",
    "\n",
    "<div style=\"padding: 15px; border: 1px solid transparent; border-color: transparent; margin-bottom: 5px; border-radius: 2px; color:#1C1C1C; background-color:#D3D3D3; border-color: #BEBEBE;\">\n",
    "D. 0FFF\n",
    "</div>"
   ]
  },
  {
   "cell_type": "markdown",
   "metadata": {},
   "source": [
    "Câu 10: Đoạn code chương trình in ra kết quả?\n",
    "\n",
    "```python\n",
    "    m=3;n=2\n",
    "    if m>n:\n",
    "        m,n=n,m\n",
    "        m+=2\n",
    "    else:\n",
    "        m,n=m+2,n+2\n",
    "    print(m,n)\n",
    "```\n",
    "\n",
    "<div style=\"padding: 15px; border: 1px solid transparent; border-color: transparent; margin-bottom: 5px; border-radius: 2px; color:#1C1C1C; background-color:#D3D3D3; border-color: #BEBEBE;\">\n",
    "A. 32\n",
    "</div>\n",
    "\n",
    "<div style=\"padding: 15px; border: 1px solid transparent; border-color: transparent; margin-bottom: 5px; border-radius: 2px; color:#1C1C1C; background-color:#D3D3D3; border-color: #BEBEBE;\">\n",
    "B. 2 3\n",
    "</div>\n",
    "\n",
    "<div style=\"padding: 15px; border: 1px solid transparent; border-color: transparent; margin-bottom: 5px; border-radius: 2px; color:#1C1C1C; background-color:#D3D3D3; border-color: #BEBEBE;\">\n",
    "C. 4 3\n",
    "</div>\n",
    "\n",
    "<div style=\"padding: 15px; border: 1px solid transparent; border-color: transparent; margin-bottom: 5px; border-radius: 2px; color:#1C1C1C; background-color:#D3D3D3; border-color: #BEBEBE;\">\n",
    "D. 43\n",
    "</div>"
   ]
  },
  {
   "cell_type": "markdown",
   "metadata": {},
   "source": [
    "---\n",
    "+ Rèn luyện viết mã code"
   ]
  },
  {
   "cell_type": "markdown",
   "metadata": {},
   "source": [
    "Câu 11: Nhập vào một số n kiểm tra số đó là số lẻ hay chẵn?"
   ]
  },
  {
   "cell_type": "markdown",
   "metadata": {},
   "source": [
    "Câu 12: Nhập vào 2 số m và n kiểm tra hai số đó lẻ, chẵn, lẻ và chẵn?"
   ]
  },
  {
   "cell_type": "markdown",
   "metadata": {},
   "source": [
    "Câu 13: Nhập vào ba số a, b, c tính số lớn nhất trong ba số đó?\n"
   ]
  },
  {
   "cell_type": "markdown",
   "metadata": {},
   "source": [
    "Câu 14: Nhập số a, b, c hãy kiểm tra chúng có thể lập thành một tam giác được không?"
   ]
  },
  {
   "cell_type": "markdown",
   "metadata": {},
   "source": [
    "Câu 15: Nhập a, b, c hãy kiểm tra chúng tạo thành tam giác gì?"
   ]
  },
  {
   "cell_type": "markdown",
   "metadata": {},
   "source": [
    "# <span style= 'color:blue'> Đáp án </span> "
   ]
  },
  {
   "cell_type": "markdown",
   "metadata": {},
   "source": [
    "<div style=\"padding: 15px; border: 1px solid transparent; border-color: transparent; margin-bottom: 5px; border-radius: 2px; color: #3c763d; background-color: #dff0d8; border-color: #d6e9c6;\">\n",
    "1.A\n",
    "</div>\n",
    "\n",
    "<div style=\"padding: 15px; border: 1px solid transparent; border-color: transparent; margin-bottom: 5px; border-radius: 2px; color: #3c763d; background-color: #dff0d8; border-color: #d6e9c6;\">\n",
    "2.A\n",
    "</div>\n",
    "\n",
    "<div style=\"padding: 15px; border: 1px solid transparent; border-color: transparent; margin-bottom: 5px; border-radius: 2px; color: #3c763d; background-color: #dff0d8; border-color: #d6e9c6;\">\n",
    "3.C\n",
    "</div>\n",
    "\n",
    "<div style=\"padding: 15px; border: 1px solid transparent; border-color: transparent; margin-bottom: 5px; border-radius: 2px; color: #3c763d; background-color: #dff0d8; border-color: #d6e9c6;\">\n",
    "4.A\n",
    "</div>\n",
    "\n",
    "<div style=\"padding: 15px; border: 1px solid transparent; border-color: transparent; margin-bottom: 5px; border-radius: 2px; color: #3c763d; background-color: #dff0d8; border-color: #d6e9c6;\">\n",
    "5.B\n",
    "</div>\n",
    "\n",
    "<div style=\"padding: 15px; border: 1px solid transparent; border-color: transparent; margin-bottom: 5px; border-radius: 2px; color: #3c763d; background-color: #dff0d8; border-color: #d6e9c6;\">\n",
    "6.D\n",
    "</div>\n",
    "\n",
    "<div style=\"padding: 15px; border: 1px solid transparent; border-color: transparent; margin-bottom: 5px; border-radius: 2px; color: #3c763d; background-color: #dff0d8; border-color: #d6e9c6;\">\n",
    "7.A\n",
    "</div>\n",
    "\n",
    "<div style=\"padding: 15px; border: 1px solid transparent; border-color: transparent; margin-bottom: 5px; border-radius: 2px; color: #3c763d; background-color: #dff0d8; border-color: #d6e9c6;\">\n",
    "8.D\n",
    "</div>\n",
    "\n",
    "<div style=\"padding: 15px; border: 1px solid transparent; border-color: transparent; margin-bottom: 5px; border-radius: 2px; color: #3c763d; background-color: #dff0d8; border-color: #d6e9c6;\">\n",
    "9.B\n",
    "</div>\n",
    "\n",
    "<div style=\"padding: 15px; border: 1px solid transparent; border-color: transparent; margin-bottom: 5px; border-radius: 2px; color: #3c763d; background-color: #dff0d8; border-color: #d6e9c6;\">\n",
    "10.C\n",
    "</div>"
   ]
  },
  {
   "cell_type": "code",
   "execution_count": 13,
   "metadata": {},
   "outputs": [
    {
     "name": "stdout",
     "output_type": "stream",
     "text": [
      "Nhập vào một số bất kỳ 3\n",
      "n là số lẻ\n"
     ]
    }
   ],
   "source": [
    "#11\n",
    "n=int(input('Nhập vào một số bất kỳ '))\n",
    "if n%2==0:\n",
    "    print('n là số chẵn')\n",
    "else:\n",
    "    print('n là số lẻ')"
   ]
  },
  {
   "cell_type": "code",
   "execution_count": 14,
   "metadata": {},
   "outputs": [
    {
     "name": "stdout",
     "output_type": "stream",
     "text": [
      "Nhập vào một số m bất kỳ 3\n",
      "Nhập vào một số n bất kỳ 4\n",
      "Một số lẻ và một số chẵn\n"
     ]
    }
   ],
   "source": [
    "#12\n",
    "m=int(input('Nhập vào một số m bất kỳ '))\n",
    "n=int(input('Nhập vào một số n bất kỳ '))\n",
    "if m%2==0 and n%2==0:\n",
    "    print('Hai số chẵn cùng nhau')\n",
    "elif m%2!=0 and n%2!=0:\n",
    "    print('Hai số lẻ cùng nhau')\n",
    "else:\n",
    "    print('Một số lẻ và một số chẵn')"
   ]
  },
  {
   "cell_type": "code",
   "execution_count": 15,
   "metadata": {},
   "outputs": [
    {
     "name": "stdout",
     "output_type": "stream",
     "text": [
      "Nhập vào một số a bất kỳ 34\n",
      "Nhập vào một số b bất kỳ 34\n",
      "Nhập vào một số c bất kỳ 32\n",
      "Số lớn nhất là 34.0\n"
     ]
    }
   ],
   "source": [
    "#13\n",
    "a=float(input('Nhập vào một số a bất kỳ '))\n",
    "b=float(input('Nhập vào một số b bất kỳ '))\n",
    "c=float(input('Nhập vào một số c bất kỳ '))\n",
    "max=a\n",
    "if max>b and max >c:\n",
    "    print('Số lớn nhất là',max)\n",
    "elif max<b and max<c:\n",
    "    max=b\n",
    "    if max>c:\n",
    "        print('Số lớn nhất là',max)\n",
    "    else:\n",
    "        max=c\n",
    "        print('Số lớn nhất là',max)\n",
    "elif max>b and max<c:\n",
    "    max =c\n",
    "    print('Số lớn nhất là',max)\n",
    "else:\n",
    "    max=b\n",
    "    print('Số lớn nhất là',max)"
   ]
  },
  {
   "cell_type": "code",
   "execution_count": 17,
   "metadata": {},
   "outputs": [
    {
     "name": "stdout",
     "output_type": "stream",
     "text": [
      "Nhập vào một số a bất kỳ -2\n",
      "Nhập vào một số b bất kỳ -3\n",
      "Nhập vào một số c bất kỳ -9\n",
      "Ba số a, b, c không thể tạo thành tam giác\n"
     ]
    }
   ],
   "source": [
    "#14\n",
    "a=float(input('Nhập vào một số a bất kỳ '))\n",
    "b=float(input('Nhập vào một số b bất kỳ '))\n",
    "c=float(input('Nhập vào một số c bất kỳ '))\n",
    "if abs(a-b)<c and a+b>c:\n",
    "    print('Ba số a, b, c tạo thành một tam giác')\n",
    "elif abs(a-c)<b and a+c>b:\n",
    "    print('Ba số a, b, c tạo thành một tam giác')\n",
    "elif abs(b-c)<a and b+c>a:\n",
    "    print('Ba số a, b, c tạo thành một tam giác')\n",
    "else:\n",
    "    print('Ba số a, b, c không thể tạo thành tam giác')\n",
    "    "
   ]
  },
  {
   "cell_type": "code",
   "execution_count": 18,
   "metadata": {},
   "outputs": [
    {
     "name": "stdout",
     "output_type": "stream",
     "text": [
      "Nhập vào một số a bất kỳ 23\n",
      "Nhập vào một số b bất kỳ 35\n",
      "Nhập vào một số c bất kỳ 32\n",
      "Ba số a, b, c tạo thành tam giác\n"
     ]
    }
   ],
   "source": [
    "#15\n",
    "a=float(input('Nhập vào một số a bất kỳ '))\n",
    "b=float(input('Nhập vào một số b bất kỳ '))\n",
    "c=float(input('Nhập vào một số c bất kỳ '))\n",
    "\n",
    "if abs(a-b)<c and a+b>c:\n",
    "    if a==b==c:\n",
    "        print('Ba số a, b, c tạo thành tam giác đều')\n",
    "    elif a==b or b==c or a==c:\n",
    "        print('Ba số a, b, c tạo thành tam giác cân')\n",
    "    else:\n",
    "        print('Ba số a, b, c tạo thành tam giác')\n",
    "elif abs(a-c)<b and a+c>b:\n",
    "    if a==b==c:\n",
    "        print('Ba số a, b, c tạo thành tam giác đều')\n",
    "    elif a==b or b==c or a==c:\n",
    "        print('Ba số a, b, c tạo thành tam giác cân')\n",
    "    else:\n",
    "        print('Ba số a, b, c tạo thành tam giác')\n",
    "elif abs(b-c)<a and b+c>a:\n",
    "    if a==b==c:\n",
    "        print('Ba số a, b, c tạo thành tam giác đều')\n",
    "    elif a==b or b==c or a==c:\n",
    "        print('Ba số a, b, c tạo thành tam giác cân')\n",
    "    else:\n",
    "        print('Ba số a, b, c tạo thành tam giác')\n",
    "else:\n",
    "    print('Ba số a, b, c không thể tạo thành tam giác')"
   ]
  },
  {
   "cell_type": "code",
   "execution_count": null,
   "metadata": {},
   "outputs": [],
   "source": []
  }
 ],
 "metadata": {
  "kernelspec": {
   "display_name": "Python 3",
   "language": "python",
   "name": "python3"
  },
  "language_info": {
   "codemirror_mode": {
    "name": "ipython",
    "version": 3
   },
   "file_extension": ".py",
   "mimetype": "text/x-python",
   "name": "python",
   "nbconvert_exporter": "python",
   "pygments_lexer": "ipython3",
   "version": "3.7.0"
  }
 },
 "nbformat": 4,
 "nbformat_minor": 2
}
