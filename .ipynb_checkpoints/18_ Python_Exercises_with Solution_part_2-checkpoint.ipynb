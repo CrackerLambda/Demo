{
 "cells": [
  {
   "cell_type": "markdown",
   "metadata": {},
   "source": [
    "**Câu 51:** Viết một chương trình để tạo tuple khác chứa các giá trị là số chẵn trong tuple (1,2,3,4,5,6,7,8,9,10) cho trước.\n",
    "<div style=\"padding: 15px; border: 2px solid transparent; border-color: transparent; margin-bottom: 5px; margin-top: 10px;border-radius: 2px; color: #000000; background-color:#A4D3EE; border-color: #FFD39B;Width:60%\">\n",
    "\n",
    "Example: \n",
    "<br>\n",
    "<br>\n",
    "Input: (1,2,3,4,5,6,7,8,9,10)\n",
    "<br>\n",
    "<br>\n",
    "Output: (2, 4, 6, 8, 10)\n",
    "\n",
    "</div>\n"
   ]
  },
  {
   "cell_type": "code",
   "execution_count": 1,
   "metadata": {},
   "outputs": [
    {
     "name": "stdout",
     "output_type": "stream",
     "text": [
      "(2, 4, 6, 8, 10)\n"
     ]
    }
   ],
   "source": [
    "tupleA=(1,2,3,4,5,6,7,8,9,10)\n",
    "li=list()\n",
    "for t in tupleA: \n",
    "    if tupleA[-t]%2==0: \n",
    "        li.append(tupleA[t])\n",
    "\n",
    "tuple_B=tuple(li)\n",
    "print (tuple_B)"
   ]
  },
  {
   "cell_type": "markdown",
   "metadata": {},
   "source": [
    "**Câu 52:** Viết chương trình Python có thể lọc các số chẵn trong danh sách [1,2,3,4,5,6,7,8,9,10] sử dụng hàm filter().\n",
    "\n",
    "<div style=\"padding: 15px; border: 2px solid transparent; border-color: transparent; margin-bottom: 5px; margin-top: 10px;border-radius: 2px; color: #000000; background-color:#A4D3EE; border-color: #FFD39B;Width:60%\">\n",
    "\n",
    "Example: \n",
    "<br>\n",
    "<br>\n",
    "Input: [1,2,3,4,5,6,7,8,9,10]\n",
    "<br>\n",
    "<br>\n",
    "Output: [2, 4, 6, 8, 10]\n",
    "\n",
    "</div>"
   ]
  },
  {
   "cell_type": "code",
   "execution_count": 2,
   "metadata": {},
   "outputs": [
    {
     "name": "stdout",
     "output_type": "stream",
     "text": [
      "[2, 4, 6, 8, 10]\n"
     ]
    }
   ],
   "source": [
    "li = [1,2,3,4,5,6,7,8,9,10]\n",
    "evenNumbers = list(filter (lambda x: x% 2 == 0, li))\n",
    "print (evenNumbers)"
   ]
  },
  {
   "cell_type": "markdown",
   "metadata": {},
   "source": [
    "**Câu 53:** Viết chương trình sử dụng hàm map để tính giá trị bình phương các số trong đoạn [1,2,3,4,5,6,7,8,9,10].\n",
    "\n",
    "<div style=\"padding: 15px; border: 2px solid transparent; border-color: transparent; margin-bottom: 5px; margin-top: 10px;border-radius: 2px; color: #000000; background-color:#A4D3EE; border-color: #FFD39B;Width:60%\">\n",
    "\n",
    "Example: \n",
    "<br>\n",
    "<br>\n",
    "Input: [1,2,3,4,5,6,7,8,9,10]\n",
    "<br>\n",
    "<br>\n",
    "Output: [1, 4, 9, 16, 25, 36, 49, 64, 81, 100]\n",
    "\n",
    "</div>"
   ]
  },
  {
   "cell_type": "code",
   "execution_count": 3,
   "metadata": {},
   "outputs": [
    {
     "name": "stdout",
     "output_type": "stream",
     "text": [
      "[1, 4, 9, 16, 25, 36, 49, 64, 81, 100]\n"
     ]
    }
   ],
   "source": [
    "listA = [1,2,3,4,5,6,7,8,9,10]\n",
    "sq_num = list(map(lambda x: x ** 2, listA))\n",
    "print (sq_num)"
   ]
  },
  {
   "cell_type": "markdown",
   "metadata": {},
   "source": [
    "**Câu 54:** Viết chương trình Python dùng map() và filter() để tạo list chứa giá trị bình phương của các số chẵn trong [1,2,3,4,5,6,7,8,9,10].\n",
    "<div style=\"padding: 15px; border: 2px solid transparent; border-color: transparent; margin-bottom: 5px; margin-top: 10px;border-radius: 2px; color: #000000; background-color:#A4D3EE; border-color: #FFD39B;Width:60%\">\n",
    "\n",
    "Example: \n",
    "<br>\n",
    "<br>\n",
    "Input: [1,2,3,4,5,6,7,8,9,10]\n",
    "<br>\n",
    "<br>\n",
    "Output: [4, 16, 36, 64, 100]\n",
    "\n",
    "</div>"
   ]
  },
  {
   "cell_type": "code",
   "execution_count": 4,
   "metadata": {},
   "outputs": [
    {
     "name": "stdout",
     "output_type": "stream",
     "text": [
      "[4, 16, 36, 64, 100]\n"
     ]
    }
   ],
   "source": [
    "listA = [1,2,3,4,5,6,7,8,9,10]\n",
    "squareOfEvenNumbers = list (map (lambda x: x ** 2, filter (lambda x: x% 2 == 0, listA)))\n",
    "print (squareOfEvenNumbers)"
   ]
  },
  {
   "cell_type": "markdown",
   "metadata": {},
   "source": [
    "**Câu 55:** Viết chương trình kiểm tra tin nhắn có chữ thường hay không."
   ]
  },
  {
   "cell_type": "code",
   "execution_count": 5,
   "metadata": {},
   "outputs": [
    {
     "data": {
      "text/plain": [
       "True"
      ]
     },
     "execution_count": 5,
     "metadata": {},
     "output_type": "execute_result"
    }
   ],
   "source": [
    "message = 'A8238i823acdeOUEI'\n",
    "any(c.islower() for c in message)"
   ]
  },
  {
   "cell_type": "markdown",
   "metadata": {},
   "source": [
    "**Câu 56:** Viết chương trình để chứng minh rằng hai biến chuỗi cùng trỏ đến 1 vị trí ô nhớ."
   ]
  },
  {
   "cell_type": "code",
   "execution_count": 6,
   "metadata": {},
   "outputs": [
    {
     "name": "stdout",
     "output_type": "stream",
     "text": [
      "\n",
      "Memory location of str1 = 0x72c300\n",
      "Memory location of str2 = 0x72c300\n"
     ]
    }
   ],
   "source": [
    "a = \"Python\"\n",
    "b = \"Python\"\n",
    "print(\"\\nMemory location of str1 =\", hex(id(a)))\n",
    "print(\"Memory location of str2 =\", hex(id(a)))"
   ]
  },
  {
   "cell_type": "markdown",
   "metadata": {},
   "source": [
    "**Câu 57:** Viết chương trình nhập một số bất kỳ và kiểm tra nó nằm ở vị trí nào trên trục số.\n",
    "<div style=\"padding: 15px; border: 2px solid transparent; border-color: transparent; margin-bottom: 5px; margin-top: 10px;border-radius: 2px; color: #000000; background-color:#A4D3EE; border-color: #FFD39B;Width:60%\">\n",
    "\n",
    "Example:\n",
    "<br>\n",
    "<br>\n",
    "Input: -9\n",
    "<br>\n",
    "<br>\n",
    "Ouput: It is a negative number\n",
    "</div>\n"
   ]
  },
  {
   "cell_type": "code",
   "execution_count": 7,
   "metadata": {},
   "outputs": [
    {
     "name": "stdout",
     "output_type": "stream",
     "text": [
      "Input a number: 4\n",
      "It is positive number\n"
     ]
    }
   ],
   "source": [
    "num = float(input(\"Input a number: \"))\n",
    "if num > 0:\n",
    "    print(\"It is positive number\")\n",
    "elif num == 0:\n",
    "    print(\"It is Zero\")\n",
    "else:\n",
    "    print(\"It is a negative number\")"
   ]
  },
  {
   "cell_type": "markdown",
   "metadata": {},
   "source": [
    "**Câu 58:** Viết chương trình chuyển đổi số ngày thành năm, tuần và ngày.\n",
    "<div style=\"padding: 15px; border: 2px solid transparent; border-color: transparent; margin-bottom: 5px; margin-top: 10px;border-radius: 2px; color: #000000; background-color:#A4D3EE; border-color: #FFD39B;Width:60%\">\n",
    "\n",
    "Example: 1532 ngày = 4 năm + 10 tuần + 2 ngày.\n",
    "<br>\n",
    "<br>\n",
    "Giả sử 1 năm có 365 ngày\n",
    "\n",
    "</div>\n"
   ]
  },
  {
   "cell_type": "code",
   "execution_count": 8,
   "metadata": {},
   "outputs": [
    {
     "name": "stdout",
     "output_type": "stream",
     "text": [
      "1532  =  4 năm 10 tuần 2 ngày\n"
     ]
    }
   ],
   "source": [
    "def covert_calendar(n):\n",
    "    y=n//365\n",
    "    m=(n%365)//7\n",
    "    d=(n%365)%7\n",
    "    print(n,\" = \",y,\"năm\",m,\"tuần\",d,\"ngày\")\n",
    "covert_calendar(1532)"
   ]
  },
  {
   "cell_type": "markdown",
   "metadata": {},
   "source": [
    "**Câu 59:** Viết chương trình tính đa thức sau $2X^3 -3X^2 + 3$ làm tròn 3 số thập phân:\n",
    "        \n",
    "<div style=\"padding: 15px; border: 2px solid transparent; border-color: transparent; margin-bottom: 5px; margin-top: 10px;border-radius: 2px; color: #000000; background-color:#A4D3EE; border-color: #FFD39B;Width:60%\">\n",
    "\n",
    "Example:\n",
    "<br>\n",
    "<br>\n",
    "Input: 3.24\n",
    "<br>\n",
    "<br>\n",
    "Ouput: 62.024\n",
    "\n",
    "</div>"
   ]
  },
  {
   "cell_type": "code",
   "execution_count": 9,
   "metadata": {},
   "outputs": [
    {
     "name": "stdout",
     "output_type": "stream",
     "text": [
      "62.024\n"
     ]
    }
   ],
   "source": [
    "x=3.24\n",
    "poly=2*x**3-3**2+3\n",
    "print(round(poly,3))"
   ]
  },
  {
   "cell_type": "markdown",
   "metadata": {},
   "source": [
    "**Câu 60:** Viết chương trình hỗ trợ và xuất ra kết quả các phép tính toán kết hợp giữa hai số nguyên a và b.\n",
    "<br>\n",
    "<br>\n",
    "Các option dùng để trả về kết quả:\n",
    "<br>\n",
    "<br>\n",
    "1 : (a + b)\n",
    "<br>\n",
    "<br>\n",
    "2 : (a - b)\n",
    "<br>\n",
    "<br>\n",
    "3 : (a * b)\n",
    "<br>\n",
    "<br>\n",
    "4 : (a / b)\n",
    "<br>\n",
    "<br>\n",
    "5 : a^2 + b^2\n",
    "\n",
    "\n",
    "<div style=\"padding: 15px; border: 2px solid transparent; border-color: transparent; margin-bottom: 5px; margin-top: 10px;border-radius: 2px; color: #000000; background-color:#A4D3EE; border-color: #FFD39B;Width:60%\">\n",
    "\n",
    "Example:\n",
    "<br>\n",
    "<br>\n",
    "Input: a = 1, b = 3, option =3\n",
    "<br>\n",
    "<br>\n",
    "Ouput: 3\n",
    "\n",
    "</div>"
   ]
  },
  {
   "cell_type": "code",
   "execution_count": 10,
   "metadata": {},
   "outputs": [
    {
     "name": "stdout",
     "output_type": "stream",
     "text": [
      "3\n"
     ]
    }
   ],
   "source": [
    "def Caculate(a,b,option):\n",
    "    if option ==1:\n",
    "        print(a+b)\n",
    "    elif option==2:\n",
    "        print(a-b)\n",
    "    elif option==3:\n",
    "        print(a*b)\n",
    "    elif option==4:\n",
    "        if b==0:\n",
    "            print(\"Do not divide 6 by zero!\")\n",
    "        else:\n",
    "            print(a/b)\n",
    "    elif option==5:\n",
    "        print(a**2+b**2)\n",
    "Caculate(1,3,3)"
   ]
  },
  {
   "cell_type": "markdown",
   "metadata": {},
   "source": [
    "**Câu 61:** Viết chương trình kiểm tra danh sách list gồm các số khác nhau."
   ]
  },
  {
   "cell_type": "code",
   "execution_count": 11,
   "metadata": {},
   "outputs": [
    {
     "data": {
      "text/plain": [
       "True"
      ]
     },
     "execution_count": 11,
     "metadata": {},
     "output_type": "execute_result"
    }
   ],
   "source": [
    "def test_distinct(data):\n",
    "    if len(data) == len(set(data)):\n",
    "        return True\n",
    "    else:\n",
    "        return False\n",
    "test_distinct([1,5,7,9])"
   ]
  },
  {
   "cell_type": "markdown",
   "metadata": {},
   "source": [
    "**Câu 62**: Viết chương trình in hình tam giác vuông với h = 5\n",
    "\n",
    "<div style=\"padding: 15px; border: 2px solid transparent; border-color: transparent; margin-bottom: 5px; margin-top: 10px;border-radius: 2px; color: #000000; background-color:#A4D3EE; border-color: #FFD39B;Width:60%\">\n",
    "\n",
    "Example:\n",
    "<br>\n",
    "<br>\n",
    "Input: h=5\n",
    "<br>\n",
    "<br>\n",
    "Ouput:\n",
    "<br>\n",
    "\\*\n",
    "<br>\n",
    "\\* *\n",
    "<br>\n",
    "\\* * *\n",
    "<br>\n",
    "\\* * * *\n",
    "<br>\n",
    "\\* * * * *\n",
    "\n",
    "</div>"
   ]
  },
  {
   "cell_type": "code",
   "execution_count": 12,
   "metadata": {},
   "outputs": [
    {
     "name": "stdout",
     "output_type": "stream",
     "text": [
      "\n",
      "*\n",
      "**\n",
      "***\n",
      "****\n",
      "*****\n"
     ]
    }
   ],
   "source": [
    "for i in range(6):\n",
    "    print(i*\"*\")"
   ]
  },
  {
   "cell_type": "markdown",
   "metadata": {},
   "source": [
    "**Câu 63:** Viết chương trình đưa vào 1 số thể hiện góc phần tư của hệ trục tọa độ, chương trình sẽ hiển thị khoảng góc tương ứng:\n",
    "<br>\n",
    "<br>\n",
    "1: \"Between 0 and 90 degrees\"\n",
    "<br>\n",
    "<br>\n",
    "2: \"Between 90 and 180 degrees\"\n",
    "<br>\n",
    "<br>\n",
    "3: \"Between 180 and 270 degrees\"\n",
    "<br>\n",
    "<br>\n",
    "4: \"Between 270 and 360 degrees\"\n",
    "<br>\n",
    "<br>\n",
    "Ngược lại -> \"Not exists\"."
   ]
  },
  {
   "cell_type": "code",
   "execution_count": 13,
   "metadata": {},
   "outputs": [
    {
     "name": "stdout",
     "output_type": "stream",
     "text": [
      "Góc phần tư thứ: 3\n",
      "Between 180 and 270 degrees\n"
     ]
    }
   ],
   "source": [
    "quaters_angle=int(input(\"Góc phần tư thứ: \"))\n",
    "if quaters_angle==1:\n",
    "    print(\"Between 0 and 90 degrees\")\n",
    "elif quaters_angle==2:\n",
    "    print(\"Between 90 and 180 degrees\")\n",
    "elif quaters_angle==3:\n",
    "    print(\"Between 180 and 270 degrees\")\n",
    "elif quaters_angle==4:\n",
    "    print(\"Between 270 and 360 degrees\")\n",
    "else:\n",
    "    print(\"Not exists\")"
   ]
  },
  {
   "cell_type": "markdown",
   "metadata": {},
   "source": [
    "**Câu 64:** Viết chương trình xáo trộn chuỗi."
   ]
  },
  {
   "cell_type": "code",
   "execution_count": 14,
   "metadata": {},
   "outputs": [
    {
     "name": "stdout",
     "output_type": "stream",
     "text": [
      "cbda\n"
     ]
    }
   ],
   "source": [
    "import random\n",
    "listA = ['a','b','c','d']\n",
    "random.shuffle(listA)\n",
    "print(''.join(listA))"
   ]
  },
  {
   "cell_type": "markdown",
   "metadata": {},
   "source": [
    "**Câu 65:** Tính tổng các số chẵn trong đoạn 1 đến N."
   ]
  },
  {
   "cell_type": "code",
   "execution_count": 15,
   "metadata": {},
   "outputs": [
    {
     "name": "stdout",
     "output_type": "stream",
     "text": [
      "Tổng các số chẵn từ 1 đến n là:  90\n"
     ]
    }
   ],
   "source": [
    "def EvenSum(n):\n",
    "    s=0\n",
    "    for i in range(1,n+1):\n",
    "        if i%2==0:\n",
    "            s+=i\n",
    "    print(\"Tổng các số chẵn từ 1 đến n là: \",s)\n",
    "EvenSum(19)"
   ]
  },
  {
   "cell_type": "markdown",
   "metadata": {},
   "source": [
    "**Câu 66:** Viết chương trình kiểm tra 3 số có tạo thành tam giác vuông hay không sử dụng hàm map()."
   ]
  },
  {
   "cell_type": "code",
   "execution_count": 16,
   "metadata": {},
   "outputs": [
    {
     "name": "stdout",
     "output_type": "stream",
     "text": [
      "Input three integers(sides of a triangle)\n",
      "3 4 5\n",
      "Yes\n"
     ]
    }
   ],
   "source": [
    "print(\"Input three integers(sides of a triangle)\")\n",
    "int_num = list(map(int,input().split()))\n",
    "x,y,z = sorted(int_num)\n",
    "if x**2+y**2==z**2:\n",
    "    print('Yes')\n",
    "else:\n",
    "    print('No')"
   ]
  },
  {
   "cell_type": "markdown",
   "metadata": {},
   "source": [
    "**Câu 67:** Viết chương trình tính tổng số n và số đảo ngược của nó.\n",
    "\n",
    "<div style=\"padding: 15px; border: 2px solid transparent; border-color: transparent; margin-bottom: 5px; margin-top: 10px;border-radius: 2px; color: #000000; background-color:#A4D3EE; border-color: #FFD39B;Width:60%\">\n",
    "\n",
    "Example:\n",
    "<br>\n",
    "<br>\n",
    "Input: n = 1234\n",
    "<br>\n",
    "<br>\n",
    "Ouput: 5555 = 1234 + 4321\n",
    "\n",
    "</div>"
   ]
  },
  {
   "cell_type": "code",
   "execution_count": 17,
   "metadata": {},
   "outputs": [
    {
     "data": {
      "text/plain": [
       "5555"
      ]
     },
     "execution_count": 17,
     "metadata": {},
     "output_type": "execute_result"
    }
   ],
   "source": [
    "def Sum_rev_orgin(n):\n",
    "    s = 0\n",
    "    while True:\n",
    "        k = str(n)\n",
    "        if k == k[::-1]:\n",
    "            break\n",
    "        else:\n",
    "            m = int(k[::-1])\n",
    "            n += m\n",
    "            s += 1\n",
    "    return n \n",
    "Sum_rev_orgin(1234)"
   ]
  },
  {
   "cell_type": "markdown",
   "metadata": {},
   "source": [
    "**Câu 68:** Viết hàm tính tổng theo định dạng như sau: \n",
    "\n",
    "<div style=\"padding: 15px; border: 2px solid transparent; border-color: transparent; margin-bottom: 5px; margin-top: 10px;border-radius: 2px; color: #000000; background-color:#A4D3EE; border-color: #FFD39B;Width:60%\">\n",
    "\n",
    "Example:\n",
    "<br>\n",
    "<br>\n",
    "Input: n = 5\n",
    "<br>\n",
    "<br>\n",
    "Ouput:\n",
    "<br>\n",
    "<br>\n",
    "\n",
    "n   &nbsp;&nbsp;&nbsp;  Sum\n",
    "<br>\n",
    "1  &nbsp;&nbsp;&nbsp;   1\n",
    "<br>\n",
    "2   &nbsp;&nbsp;&nbsp;  3\n",
    "<br>\n",
    "3   &nbsp;&nbsp;&nbsp;  6\n",
    "<br>\n",
    "4   &nbsp;&nbsp;&nbsp;  10\n",
    "<br>\n",
    "5    &nbsp;&nbsp;&nbsp;  15\n",
    "\n",
    "</div>"
   ]
  },
  {
   "cell_type": "code",
   "execution_count": 18,
   "metadata": {},
   "outputs": [
    {
     "name": "stdout",
     "output_type": "stream",
     "text": [
      "1\t1\n",
      "2\t3\n",
      "3\t6\n",
      "4\t10\n",
      "5\t15\n"
     ]
    }
   ],
   "source": [
    "def enumSum(n):\n",
    "    s=0\n",
    "    for i in range(1,n+1):\n",
    "        s+=i\n",
    "        print(str(i)+\"\\t\"+str(s))\n",
    "enumSum(5)"
   ]
  },
  {
   "cell_type": "markdown",
   "metadata": {},
   "source": [
    "**Câu 69:** Viết hàm đo chỉ số BMI được tính bằng công thức:\n",
    "        \n",
    "$BMI = \\frac{m}{h^2}$\n",
    "\n",
    "Với m khối lượng đơn vị là kg, h là chiều cao đơn vị là mét.\n",
    "\n",
    "+ Nếu BMI<18.5 người đó sẽ là gầy\n",
    "+ Nếu 18.5<=BMI<=24.9 người đó bình thường\n",
    "+ Nếu 25<=BMI<=29.9 người đó béo phì nhẹ\n",
    "+ Nếu 30<=BMI<=40 người đó béo phì trung bình\n",
    "+ Nếu BMI>40 người đó béo phì nặng"
   ]
  },
  {
   "cell_type": "code",
   "execution_count": 19,
   "metadata": {},
   "outputs": [
    {
     "name": "stdout",
     "output_type": "stream",
     "text": [
      "Bình thường\n"
     ]
    }
   ],
   "source": [
    "def BMI_index(m,h):\n",
    "    BMI= m/(h**2)\n",
    "    if BMI<18.5:\n",
    "        print(\"Gầy\")\n",
    "    elif 18.5<BMI<=24.9:\n",
    "        print(\"Bình thường\")\n",
    "    elif 25<=BMI<=29.9:\n",
    "        print(\"Béo phì nhẹ\")\n",
    "    elif 30<=BMI<=40:\n",
    "        print(\"Béo phì trung bình\")\n",
    "    else:\n",
    "        print(\"Béo phì nặng\")\n",
    "BMI_index(56,1.58)"
   ]
  },
  {
   "cell_type": "markdown",
   "metadata": {},
   "source": [
    "**Câu 70:** Viết hàm tính giá trị tuyệt đối của một số nguyên."
   ]
  },
  {
   "cell_type": "code",
   "execution_count": 20,
   "metadata": {},
   "outputs": [
    {
     "name": "stdout",
     "output_type": "stream",
     "text": [
      "Giá trị tuyệt đối của n:  4\n"
     ]
    }
   ],
   "source": [
    "def Abs(n):\n",
    "    if n<0:\n",
    "        print(\"Giá trị tuyệt đối của n: \",-n)\n",
    "    else:\n",
    "        print(\"Giá trị tuyệt đối của n: \",n)\n",
    "Abs(-4)"
   ]
  },
  {
   "cell_type": "markdown",
   "metadata": {},
   "source": [
    "**Câu 71:** Viết chương trình tìm số lớn nhất trong ba số thực a, b, c \n",
    "\n",
    "<div style=\"padding: 15px; border: 2px solid transparent; border-color: transparent; margin-bottom: 5px; margin-top: 10px;border-radius: 2px; color: #000000; background-color:#A4D3EE; border-color: #FFD39B;Width:60%\">\n",
    "\n",
    "Example:\n",
    "<br>\n",
    "<br>\n",
    "Input: a = 4, b = 2, c =7 \n",
    "<br>\n",
    "<br>\n",
    "Ouput: 7\n",
    "\n",
    "</div>"
   ]
  },
  {
   "cell_type": "code",
   "execution_count": 21,
   "metadata": {},
   "outputs": [
    {
     "name": "stdout",
     "output_type": "stream",
     "text": [
      "7\n"
     ]
    }
   ],
   "source": [
    "a=4;b=2;c=7\n",
    "Max=a\n",
    "if b>Max:\n",
    "    if c>b:\n",
    "        Max=c\n",
    "    else:\n",
    "        Max=b\n",
    "elif b<Max:\n",
    "    if c<Max:\n",
    "        Max=a\n",
    "    else:\n",
    "        Max=c\n",
    "elif Max==a==b==c:\n",
    "    Max=a\n",
    "print(Max)"
   ]
  },
  {
   "cell_type": "markdown",
   "metadata": {},
   "source": [
    "**Câu 72:** Cho độ dài ba cạnh của tam giác a, b, c.Hãy viết hàm kiểm tra xem tam giác này có phải là tam giác cân (trả về 1), tam giác vuông (trả về 2), tam giác vuông cân (trả về 3), hay là tam giác đều (trả về 4), ngược lại trả về 0."
   ]
  },
  {
   "cell_type": "code",
   "execution_count": 22,
   "metadata": {},
   "outputs": [
    {
     "data": {
      "text/plain": [
       "2"
      ]
     },
     "execution_count": 22,
     "metadata": {},
     "output_type": "execute_result"
    }
   ],
   "source": [
    "from math import sqrt\n",
    "def checkTriangle(a,b,c):\n",
    "    if a==b or a==c or b==c:\n",
    "        return 1\n",
    "    elif c==sqrt(a**2+b**2) or a==sqrt(b**2+c**2) or b==sqrt(a**2+c**2):\n",
    "        return 2\n",
    "    elif (c==sqrt(a**2+b**2) or a==sqrt(b**2+c**2) or b==sqrt(a**2+c**2)) and (a==b or a==c or b==c):\n",
    "        return 3\n",
    "    elif a==b==c:\n",
    "        return 4\n",
    "    else:\n",
    "        return 0\n",
    "checkTriangle(4,5,3)  "
   ]
  },
  {
   "cell_type": "markdown",
   "metadata": {},
   "source": [
    "**Câu 73:** Viết hàm tìm số các số 0 của n!.\n",
    "\n",
    "<div style=\"padding: 15px; border: 2px solid transparent; border-color: transparent; margin-bottom: 5px; margin-top: 10px;border-radius: 2px; color: #000000; background-color:#A4D3EE; border-color: #FFD39B;Width:60%\">\n",
    "\n",
    "Example: 5! = 120 ==> có 1 số 0 \n",
    "<br>\n",
    "<br>\n",
    "Input: 5\n",
    "<br>\n",
    "<br>\n",
    "Ouput: 1\n",
    "\n",
    "</div>"
   ]
  },
  {
   "cell_type": "code",
   "execution_count": 23,
   "metadata": {},
   "outputs": [
    {
     "name": "stdout",
     "output_type": "stream",
     "text": [
      "1\n",
      "2\n"
     ]
    }
   ],
   "source": [
    "def factendzero(n):\n",
    "    x = n // 5\n",
    "    y = x \n",
    "    while x > 0:\n",
    "        x /= 5\n",
    "        y += int(x)\n",
    "    return y\n",
    "       \n",
    "print(factendzero(5))\n",
    "print(factendzero(12))"
   ]
  },
  {
   "cell_type": "markdown",
   "metadata": {},
   "source": [
    "**Câu 74:** Viết hàm kiểm tra 1 số có phải là số nguyên tố hay không."
   ]
  },
  {
   "cell_type": "code",
   "execution_count": 24,
   "metadata": {},
   "outputs": [
    {
     "name": "stdout",
     "output_type": "stream",
     "text": [
      "19 is prime\n"
     ]
    }
   ],
   "source": [
    "def isprime(n):\n",
    "    dem=0\n",
    "    for i in range(1,n+1):\n",
    "        if n%i==0:\n",
    "            dem+=1\n",
    "    if dem==2:\n",
    "        print(n,\"is prime\")\n",
    "    else:\n",
    "        print(n,\"is not prime\")\n",
    "isprime(19)"
   ]
  },
  {
   "cell_type": "markdown",
   "metadata": {},
   "source": [
    "**Câu 75:** Viết chương trình tìm số nguyên ứng với việc đảo ngược các chữ số trong số nguyên dương a."
   ]
  },
  {
   "cell_type": "code",
   "execution_count": 25,
   "metadata": {},
   "outputs": [
    {
     "data": {
      "text/plain": [
       "9091"
      ]
     },
     "execution_count": 25,
     "metadata": {},
     "output_type": "execute_result"
    }
   ],
   "source": [
    "def reverveNumber(a):\n",
    "    reverse=0\n",
    "    while a>0:\n",
    "        reverse=reverse*10+a%10\n",
    "        a=a//10\n",
    "    return reverse\n",
    "reverveNumber(1909)"
   ]
  },
  {
   "cell_type": "markdown",
   "metadata": {},
   "source": [
    "**Câu 76:** Định nghĩa 1 hàm có thể tạo và in một tuple chứa các giá trị bình phương của các số từ 1 đến 20 (tính cả 1 và 20)."
   ]
  },
  {
   "cell_type": "code",
   "execution_count": 26,
   "metadata": {},
   "outputs": [
    {
     "name": "stdout",
     "output_type": "stream",
     "text": [
      "(1, 4, 9, 16, 25, 36, 49, 64, 81, 100, 121, 144, 169, 196, 225, 256, 289, 324, 361, 400)\n"
     ]
    }
   ],
   "source": [
    "def printTuple():\n",
    "    li=list()\n",
    "    for i in range(1,21):\n",
    "        li.append(i**2)\n",
    "    print (tuple(li)) \n",
    "\n",
    "printTuple()"
   ]
  },
  {
   "cell_type": "markdown",
   "metadata": {},
   "source": [
    "**Câu 77:** Định nghĩa một hàm có thể tạo list chứa giá trị bình phương của các số từ 1 đến 20 (bao gồm cả 1 và 20)."
   ]
  },
  {
   "cell_type": "code",
   "execution_count": 27,
   "metadata": {},
   "outputs": [
    {
     "name": "stdout",
     "output_type": "stream",
     "text": [
      "[1, 4, 9, 16, 25, 36, 49, 64, 81, 100, 121, 144, 169, 196, 225, 256, 289, 324, 361, 400]\n"
     ]
    }
   ],
   "source": [
    "def printList():\n",
    "    li=list()\n",
    "    for i in range(1,21):\n",
    "        li.append(i**2) \n",
    "    return li\n",
    "li=printList()\n",
    "print(li)"
   ]
  },
  {
   "cell_type": "markdown",
   "metadata": {},
   "source": [
    "**Câu 78:** Viết chương trình tính tần suất xuất hiện các chữ trong chuỗi.\n",
    "<div style=\"padding: 15px; border: 2px solid transparent; border-color: transparent; margin-bottom: 5px; margin-top: 10px;border-radius: 2px; color: #000000; background-color:#A4D3EE; border-color: #FFD39B;Width:60%\">\n",
    "\n",
    "Example: \n",
    "<br>\n",
    "<br>\n",
    "Input: My favorite programming language is python and python\n",
    "<br>\n",
    "<br>\n",
    "Output: \n",
    "<br>\n",
    "<br>\n",
    "My: 1\n",
    "<br>\n",
    "favorite: 1\n",
    "<br>\n",
    "programming: 1\n",
    "<br>\n",
    "language:1 \n",
    "<br>\n",
    "is: 1\n",
    "<br>\n",
    "python: 2\n",
    "<br>\n",
    "and: 1\n",
    "\n",
    "</div>"
   ]
  },
  {
   "cell_type": "code",
   "execution_count": 28,
   "metadata": {},
   "outputs": [
    {
     "name": "stdout",
     "output_type": "stream",
     "text": [
      "My favorite programming language is python and python\n",
      "My:1\n",
      "and:1\n",
      "favorite:1\n",
      "is:1\n",
      "language:1\n",
      "programming:1\n",
      "python:2\n"
     ]
    }
   ],
   "source": [
    "freq = {} \n",
    "line = input()\n",
    "for word in line.split():\n",
    "    freq[word] = freq.get(word,0)+1\n",
    "\n",
    "words = sorted(freq.keys())\n",
    "for w in words:\n",
    "    print (\"%s:%d\" % (w,freq[w]))"
   ]
  },
  {
   "cell_type": "markdown",
   "metadata": {},
   "source": [
    "**Câu 79:** Viết hàm tính tổng hai số."
   ]
  },
  {
   "cell_type": "code",
   "execution_count": 29,
   "metadata": {},
   "outputs": [
    {
     "data": {
      "text/plain": [
       "7"
      ]
     },
     "execution_count": 29,
     "metadata": {},
     "output_type": "execute_result"
    }
   ],
   "source": [
    "def Sum_ab(a,b):\n",
    "    return a+b\n",
    "Sum_ab(b=5,a=2)"
   ]
  },
  {
   "cell_type": "markdown",
   "metadata": {},
   "source": [
    "**Câu 80:** Viết chương trình hiển thị hình tam giác cân có chiều cao là h.\n",
    "\n",
    "<div style=\"padding: 15px; border: 2px solid transparent; border-color: transparent; margin-bottom: 5px; margin-top: 10px;border-radius: 2px; color: #000000; background-color:#A4D3EE; border-color: #FFD39B;Width:60%\">\n",
    "\n",
    "Example: \n",
    "<br>\n",
    "<br>\n",
    "Input: h = 5\n",
    "<br>\n",
    "<br>\n",
    "Ouput: \n",
    "<br>\n",
    "<br>\n",
    "&nbsp;&nbsp;&nbsp;&nbsp;&nbsp;&nbsp;&nbsp;*\n",
    "<br>    \n",
    "&nbsp;&nbsp;&nbsp;&nbsp;&nbsp;&nbsp;* *\n",
    "<br>\n",
    "&nbsp;&nbsp;&nbsp;&nbsp;&nbsp;* * *\n",
    "<br>  \n",
    "&nbsp;&nbsp;&nbsp;&nbsp;* * * *\n",
    "<br>\n",
    "&nbsp;&nbsp;&nbsp;* * * * *\n",
    "</div>"
   ]
  },
  {
   "cell_type": "code",
   "execution_count": 30,
   "metadata": {},
   "outputs": [
    {
     "name": "stdout",
     "output_type": "stream",
     "text": [
      "    * \n",
      "\n",
      "   * * \n",
      "\n",
      "  * * * \n",
      "\n",
      " * * * * \n",
      "\n",
      "* * * * * \n",
      "\n"
     ]
    }
   ],
   "source": [
    "def printStar(n):\n",
    "    for i in range(1,n+1):\n",
    "        for k in range(1,n-i+1):\n",
    "            print(\" \",end='')\n",
    "        for k in range(1,i+1):\n",
    "            print(\"* \",end='')\n",
    "        print(\"\\n\")\n",
    "printStar(5)"
   ]
  },
  {
   "cell_type": "markdown",
   "metadata": {},
   "source": [
    "**Câu 81:** Viết hàm kiểm tra một số là số chẵn hay lẻ."
   ]
  },
  {
   "cell_type": "code",
   "execution_count": 31,
   "metadata": {},
   "outputs": [
    {
     "name": "stdout",
     "output_type": "stream",
     "text": [
      "7 là số lẻ\n"
     ]
    }
   ],
   "source": [
    "def checkValue(n): \n",
    "    if n%2 == 0: \n",
    "        print (str(n)+ \" là số chẵn\") \n",
    "    else: \n",
    "        print (str(n)+\" là số lẻ\") \n",
    "checkValue(7)"
   ]
  },
  {
   "cell_type": "markdown",
   "metadata": {},
   "source": [
    "**Câu 82:**  Định nghĩa một hàm có thể in dictionary chứa các key là số từ 1 đến 20 (bao gồm cả 1 và 20) và các giá trị bình phương của chúng."
   ]
  },
  {
   "cell_type": "code",
   "execution_count": 32,
   "metadata": {},
   "outputs": [
    {
     "name": "stdout",
     "output_type": "stream",
     "text": [
      "{1: 1, 2: 4, 3: 9, 4: 16, 5: 25, 6: 36, 7: 49, 8: 64, 9: 81, 10: 100, 11: 121, 12: 144, 13: 169, 14: 196, 15: 225, 16: 256, 17: 289, 18: 324, 19: 361, 20: 400}\n"
     ]
    }
   ],
   "source": [
    "def printDict():\n",
    "    d=dict() \n",
    "    for i in range(1,21): \n",
    "        d[i]=i**2 \n",
    "    print (d) \n",
    "\n",
    "printDict()"
   ]
  },
  {
   "cell_type": "markdown",
   "metadata": {},
   "source": [
    "**Câu 83:** Định nghĩa một hàm có thể tạo và in list chứa các giá trị bình phương của các số từ 1 đến 15 và in ra khi mỗi lần thêm vào."
   ]
  },
  {
   "cell_type": "code",
   "execution_count": 33,
   "metadata": {},
   "outputs": [
    {
     "name": "stdout",
     "output_type": "stream",
     "text": [
      "[1]\n",
      "[1, 4]\n",
      "[1, 4, 9]\n",
      "[1, 4, 9, 16]\n",
      "[1, 4, 9, 16, 25]\n",
      "[1, 4, 9, 16, 25, 36]\n",
      "[1, 4, 9, 16, 25, 36, 49]\n",
      "[1, 4, 9, 16, 25, 36, 49, 64]\n",
      "[1, 4, 9, 16, 25, 36, 49, 64, 81]\n",
      "[1, 4, 9, 16, 25, 36, 49, 64, 81, 100]\n",
      "[1, 4, 9, 16, 25, 36, 49, 64, 81, 100, 121]\n",
      "[1, 4, 9, 16, 25, 36, 49, 64, 81, 100, 121, 144]\n",
      "[1, 4, 9, 16, 25, 36, 49, 64, 81, 100, 121, 144, 169]\n",
      "[1, 4, 9, 16, 25, 36, 49, 64, 81, 100, 121, 144, 169, 196]\n",
      "[1, 4, 9, 16, 25, 36, 49, 64, 81, 100, 121, 144, 169, 196, 225]\n"
     ]
    }
   ],
   "source": [
    "def printList():\n",
    "    li=list()\n",
    "    for i in range(1,16):\n",
    "        li.append(i**2)\n",
    "        print (li)\n",
    "\n",
    "printList()"
   ]
  },
  {
   "cell_type": "markdown",
   "metadata": {},
   "source": [
    "**Câu 84:**  Định nghĩa một hàm có thể tạo ra list chứa các giá trị bình phương của các số từ 1 đến 20 (bao gồm cả 1 và 20), rồi in 5 mục cuối cùng trong list."
   ]
  },
  {
   "cell_type": "code",
   "execution_count": 34,
   "metadata": {},
   "outputs": [
    {
     "name": "stdout",
     "output_type": "stream",
     "text": [
      "[256, 289, 324, 361, 400]\n"
     ]
    }
   ],
   "source": [
    "def printList():\n",
    "    li=list()\n",
    "    for i in range(1,21):\n",
    "        li.append(i**2)\n",
    "    print (li[-5:]) \n",
    "\n",
    "printList()"
   ]
  },
  {
   "cell_type": "markdown",
   "metadata": {},
   "source": [
    "**Câu 85:** Viết chương trình đếm và trả về số lượng các ký số trong số nguyên a.\n",
    "\n",
    "\n",
    "<div style=\"padding: 15px; border: 2px solid transparent; border-color: transparent; margin-bottom: 5px; margin-top: 10px;border-radius: 2px; color: #000000; background-color:#A4D3EE; border-color: #FFD39B;Width:60%\">\n",
    "\n",
    "Example: \n",
    "<br>\n",
    "<br>\n",
    "Input: a = -123\n",
    "<br>\n",
    "<br>\n",
    "Ouput: 3\n",
    "</div>"
   ]
  },
  {
   "cell_type": "code",
   "execution_count": 35,
   "metadata": {},
   "outputs": [
    {
     "data": {
      "text/plain": [
       "3"
      ]
     },
     "execution_count": 35,
     "metadata": {},
     "output_type": "execute_result"
    }
   ],
   "source": [
    "def countDigit(n):\n",
    "    count=1\n",
    "    c=abs(n)\n",
    "    while(c>=10):\n",
    "        c=c/10\n",
    "        count+=1\n",
    "    return count\n",
    "countDigit(-108)"
   ]
  },
  {
   "cell_type": "markdown",
   "metadata": {},
   "source": [
    "**Câu 86**: Viết một chương trình chấp nhận chuỗi từ do người dùng nhập vào, phân tách nhau bởi dấu phẩy sau đó sort theo bảng chữ cái rồi in ra màn hình."
   ]
  },
  {
   "cell_type": "code",
   "execution_count": 36,
   "metadata": {},
   "outputs": [
    {
     "name": "stdout",
     "output_type": "stream",
     "text": [
      "Nhập một chuỗi: her,this,that\n",
      "her,that,this\n"
     ]
    }
   ],
   "source": [
    "items=[x for x in input(\"Nhập một chuỗi: \").split(',')]\n",
    "items.sort()\n",
    "print (','.join(items))"
   ]
  },
  {
   "cell_type": "markdown",
   "metadata": {},
   "source": [
    "**Câu 87:** Viết một chương trình chấp nhận chuỗi là các dòng được nhập vào, chuyển các dòng này thành chữ in hoa và in ra màn hình.\n",
    "\n",
    "<div style=\"padding: 15px; border: 2px solid transparent; border-color: transparent; margin-bottom: 5px; margin-top: 10px;border-radius: 2px; color: #000000; background-color:#A4D3EE; border-color: #FFD39B;Width:60%\">\n",
    "\n",
    "Example: \n",
    "<br>\n",
    "<br>\n",
    "Input: Python\n",
    "<br>\n",
    "<br>\n",
    "Ouput: PYTHON\n",
    "</div>"
   ]
  },
  {
   "cell_type": "code",
   "execution_count": 37,
   "metadata": {},
   "outputs": [
    {
     "name": "stdout",
     "output_type": "stream",
     "text": [
      "Python\n",
      "\n",
      "PYTHON\n"
     ]
    }
   ],
   "source": [
    "lines = []\n",
    "while True:\n",
    "    s = input()\n",
    "    if s:\n",
    "        lines.append(s.upper())\n",
    "    else:\n",
    "        break\n",
    "\n",
    "for sentence in lines:\n",
    "    print (sentence)"
   ]
  },
  {
   "cell_type": "markdown",
   "metadata": {},
   "source": [
    "**Câu 88:** Viết chương trình hiển thị tất cả k chữ cái đầu tiên (in hoa) trong bảng chữ cái tiếng Anh.\n",
    "\n",
    "<div style=\"padding: 15px; border: 2px solid transparent; border-color: transparent; margin-bottom: 5px; margin-top: 10px;border-radius: 2px; color: #000000; background-color:#A4D3EE; border-color: #FFD39B;Width:60%\">\n",
    "\n",
    "Example: \n",
    "<br>\n",
    "<br>\n",
    "Input: k = 5\n",
    "<br>\n",
    "<br>\n",
    "Ouput: A B C D E\n",
    "</div>"
   ]
  },
  {
   "cell_type": "code",
   "execution_count": 38,
   "metadata": {},
   "outputs": [
    {
     "name": "stdout",
     "output_type": "stream",
     "text": [
      "A B C D E "
     ]
    }
   ],
   "source": [
    "def printABC(k):\n",
    "    for i in range(65,65+k):\n",
    "        print(chr(i),end=\" \")\n",
    "printABC(5)"
   ]
  },
  {
   "cell_type": "markdown",
   "metadata": {},
   "source": [
    "**Câu 89:** Viết một chương trình chấp nhận đầu vào là một chuỗi các từ tách biệt bởi khoảng trắng sau đó hãy loại bỏ các từ trùng lặp và sắp xếp theo thứ tự bảng chữ cái."
   ]
  },
  {
   "cell_type": "code",
   "execution_count": 39,
   "metadata": {},
   "outputs": [
    {
     "name": "stdout",
     "output_type": "stream",
     "text": [
      "Nhập chuỗi của bạn: 1 3e 2 4\n",
      "1 2 3e 4\n"
     ]
    }
   ],
   "source": [
    "s = input(\"Nhập chuỗi của bạn: \")\n",
    "words = [word for word in s.split(\" \")]\n",
    "print (\" \".join(sorted(list(set(words)))))"
   ]
  },
  {
   "cell_type": "markdown",
   "metadata": {},
   "source": [
    "**Câu 90:** Hãy viết hàm thực hiện in ra tất cả các số trong đoạn [M, N] cách nhau bởi khoản trắng ngoại trừ các số là nhân của một giá trị K.\n",
    "<div style=\"padding: 15px; border: 2px solid transparent; border-color: transparent; margin-bottom: 5px; margin-top: 10px;border-radius: 2px; color: #000000; background-color:#A4D3EE; border-color: #FFD39B;Width:60%\">\n",
    "\n",
    "Example: \n",
    "<br>\n",
    "<br>\n",
    "Input: M = -3, N = 4, K = 2 \n",
    "<br>\n",
    "<br>\n",
    "Ouput: -3 -2 -1 0 1 3 4\n",
    "</div>"
   ]
  },
  {
   "cell_type": "code",
   "execution_count": 40,
   "metadata": {},
   "outputs": [
    {
     "name": "stdout",
     "output_type": "stream",
     "text": [
      "-3 -2 -1 0 1 3 4 "
     ]
    }
   ],
   "source": [
    "def multipleOfNumber(M,N,K):\n",
    "    if M<=N and K!=0:\n",
    "        for i in range(M,N+1):\n",
    "            if i!=K:\n",
    "                print(i,end=' ')\n",
    "    else:\n",
    "        print(\"Need M <= N and K != 0\")\n",
    "multipleOfNumber(-3,4,2)"
   ]
  },
  {
   "cell_type": "markdown",
   "metadata": {},
   "source": [
    "**Câu 91:** Viết một chương trình tìm tất cả các số trong đoạn 200 và 300 (tính cả 2 số này) sao cho tất cả các chữ số trong số đó là số chẵn. In các số tìm được thành chuỗi cách nhau bởi dấu phẩy, trên một dòng.\n",
    "\n",
    "<div style=\"padding: 15px; border: 2px solid transparent; border-color: transparent; margin-bottom: 5px; margin-top: 10px;border-radius: 2px; color: #000000; background-color:#A4D3EE; border-color: #FFD39B;Width:60%\">\n",
    "\n",
    "Example: 246\n",
    "</div>"
   ]
  },
  {
   "cell_type": "code",
   "execution_count": 41,
   "metadata": {},
   "outputs": [
    {
     "name": "stdout",
     "output_type": "stream",
     "text": [
      "200,202,204,206,208,220,222,224,226,228,240,242,244,246,248,260,262,264,266,268,280,282,284,286,288\n"
     ]
    }
   ],
   "source": [
    "values = []\n",
    "for i in range(200, 301):\n",
    "    s = str(i)\n",
    "    if (int(s[0])%2==0) and (int(s[1])%2==0) and (int(s[2])%2==0):\n",
    "         values.append(s)\n",
    "\n",
    "print (\",\".join(values))"
   ]
  },
  {
   "cell_type": "markdown",
   "metadata": {},
   "source": [
    "**Câu 92:** Viết hàm in ra bảng với định dạng như sau\n",
    "\n",
    "Trường hợp : n = 3\n",
    "\n",
    "1 2 3\n",
    "\n",
    "2 4 6\n",
    "\n",
    "3 6 9\n"
   ]
  },
  {
   "cell_type": "code",
   "execution_count": 42,
   "metadata": {},
   "outputs": [
    {
     "name": "stdout",
     "output_type": "stream",
     "text": [
      "1 2 3 4 \n",
      "\n",
      "2 4 6 8 \n",
      "\n",
      "3 6 9 12 "
     ]
    }
   ],
   "source": [
    "def multTable(n):\n",
    "    \n",
    "    for i in range(1,n+1):\n",
    "        print(i,end=' ')\n",
    "    print(\"\\n\")\n",
    "    for j in range(1,n+1):\n",
    "        print(2*j,end=' ')\n",
    "    print(\"\\n\")\n",
    "    for k in range(1,n+1):\n",
    "        print(3*k,end=' ')\n",
    "multTable(4)        "
   ]
  },
  {
   "cell_type": "markdown",
   "metadata": {},
   "source": [
    "**Câu 93:** Hiện thực hàm xuất các phần tử mảng một chiều nguyên với các phần tử cách nhau khoảng trắng và không có khoảng trắng cuối cùng."
   ]
  },
  {
   "cell_type": "code",
   "execution_count": 43,
   "metadata": {},
   "outputs": [
    {
     "name": "stdout",
     "output_type": "stream",
     "text": [
      "1 3 4 "
     ]
    }
   ],
   "source": [
    "def printArray(n):\n",
    "    for i in n:\n",
    "        print(i,end=' ')\n",
    "printArray([1,3,4])"
   ]
  },
  {
   "cell_type": "markdown",
   "metadata": {},
   "source": [
    "**Câu 94:** Viết chương trình nhận chuỗi do người dùng nhập vào và in các ký tự có chỉ số chẵn."
   ]
  },
  {
   "cell_type": "code",
   "execution_count": 44,
   "metadata": {},
   "outputs": [
    {
     "name": "stdout",
     "output_type": "stream",
     "text": [
      "Nhập chuỗi vào đây: lambda\n",
      "lmd\n"
     ]
    }
   ],
   "source": [
    "string=input(\"Nhập chuỗi vào đây: \")\n",
    "string_new = string[::2]\n",
    "print (string_new)"
   ]
  },
  {
   "cell_type": "markdown",
   "metadata": {},
   "source": [
    "**Câu 95**: Viết chương trình để trộn và in list [3,6,7,8,4,5]."
   ]
  },
  {
   "cell_type": "code",
   "execution_count": 45,
   "metadata": {},
   "outputs": [
    {
     "name": "stdout",
     "output_type": "stream",
     "text": [
      "[4, 8, 5, 3, 6, 7]\n"
     ]
    }
   ],
   "source": [
    "from random import shuffle\n",
    "li = [3,6,7,8,4,5]\n",
    "\n",
    "shuffle(li)\n",
    "print (li)"
   ]
  },
  {
   "cell_type": "markdown",
   "metadata": {},
   "source": [
    "**Câu 96:** Hiện thực hàm xuất các phần tử mảng một chiều nguyên gồm 2 cột cách nhau 1 TAB và không có xuống hàng ở dòng cuối cùng.\n",
    "<div style=\"padding: 15px; border: 2px solid transparent; border-color: transparent; margin-bottom: 5px; margin-top: 10px;border-radius: 2px; color: #000000; background-color:#A4D3EE; border-color: #FFD39B;Width:60%\">\n",
    "\n",
    "Example: \n",
    "<br>\n",
    "<br>\n",
    "Input: [1,3, 4]\n",
    "<br>\n",
    "<br>\n",
    "Output:\n",
    "<br>\n",
    "<br>\n",
    "0  &nbsp;&nbsp;&nbsp;&nbsp;&nbsp;1\n",
    "<br>\n",
    "<br>\n",
    "1  &nbsp;&nbsp;&nbsp;&nbsp;&nbsp;3\n",
    "<br>\n",
    "<br>\n",
    "2  &nbsp;&nbsp;&nbsp;&nbsp;&nbsp;4\n",
    "</div>"
   ]
  },
  {
   "cell_type": "code",
   "execution_count": 46,
   "metadata": {},
   "outputs": [
    {
     "name": "stdout",
     "output_type": "stream",
     "text": [
      "0 \t 1\n",
      "1 \t 3\n",
      "2 \t 4\n"
     ]
    }
   ],
   "source": [
    "def printIndexEle(A):\n",
    "    for i in range(len(A)):\n",
    "        print(i,\"\\t\",A[i])\n",
    "printIndexEle([1,3,4])"
   ]
  },
  {
   "cell_type": "markdown",
   "metadata": {},
   "source": [
    "**Câu 97:** Hiện thực hàm tổng các phần tử mảng một chiều thực xuất ra theo định dạng 2 số thập phân.\n"
   ]
  },
  {
   "cell_type": "code",
   "execution_count": 47,
   "metadata": {},
   "outputs": [
    {
     "name": "stdout",
     "output_type": "stream",
     "text": [
      "20.00\n"
     ]
    }
   ],
   "source": [
    "def sumArray(A):\n",
    "    Sum=0\n",
    "    for i in A:\n",
    "        Sum+=i\n",
    "    print(\"%.2f\"%Sum)\n",
    "sumArray([2,3,4,5,6])"
   ]
  },
  {
   "cell_type": "markdown",
   "metadata": {},
   "source": [
    "**Câu 98:** Kiểm tra mảng có chứa số chẵn không? Nếu có trả về “1”, ngược lại trả về “0”."
   ]
  },
  {
   "cell_type": "code",
   "execution_count": 48,
   "metadata": {},
   "outputs": [
    {
     "data": {
      "text/plain": [
       "1"
      ]
     },
     "execution_count": 48,
     "metadata": {},
     "output_type": "execute_result"
    }
   ],
   "source": [
    "def EvenNumberIncludingArray(A):\n",
    "    for i in A:\n",
    "        if i%2==0:\n",
    "            return 1\n",
    "        else:\n",
    "            return 0\n",
    "EvenNumberIncludingArray([6,6,8])"
   ]
  },
  {
   "cell_type": "markdown",
   "metadata": {},
   "source": [
    "**Câu 99:** Viết comment đặc biệt để chỉ định file code nguồn Python ở Unicode."
   ]
  },
  {
   "cell_type": "code",
   "execution_count": 49,
   "metadata": {},
   "outputs": [],
   "source": [
    "# -*- coding: utf-8 -*-"
   ]
  },
  {
   "cell_type": "markdown",
   "metadata": {},
   "source": [
    "**Câu 100:** Viết chương trình sử list comprehension để xóa các số chẵn trong [5,6,77,45,22,12,24]."
   ]
  },
  {
   "cell_type": "code",
   "execution_count": 50,
   "metadata": {},
   "outputs": [
    {
     "name": "stdout",
     "output_type": "stream",
     "text": [
      "[5, 77, 45]\n"
     ]
    }
   ],
   "source": [
    "li = [5,6,77,45,22,12,24]\n",
    "\n",
    "li = [x for x in li if x%2!=0]\n",
    "print (li)"
   ]
  },
  {
   "cell_type": "markdown",
   "metadata": {},
   "source": [
    "------"
   ]
  },
  {
   "cell_type": "code",
   "execution_count": null,
   "metadata": {},
   "outputs": [],
   "source": []
  }
 ],
 "metadata": {
  "kernelspec": {
   "display_name": "Python 3",
   "language": "python",
   "name": "python3"
  },
  "language_info": {
   "codemirror_mode": {
    "name": "ipython",
    "version": 3
   },
   "file_extension": ".py",
   "mimetype": "text/x-python",
   "name": "python",
   "nbconvert_exporter": "python",
   "pygments_lexer": "ipython3",
   "version": "3.7.0"
  }
 },
 "nbformat": 4,
 "nbformat_minor": 2
}
