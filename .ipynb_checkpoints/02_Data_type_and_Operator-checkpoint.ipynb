{
 "cells": [
  {
   "cell_type": "markdown",
   "metadata": {},
   "source": [
    "**Lưu ý:** *Bạn có thể xem trực tiếp trên github, tải xuống, nếu bạn muốn chạy thử hãy truy cập vào google colab nó cung cấp cho bạn thư viện có sẵn và chạy bằng GPU.*\n",
    "\n",
    "[![Open In Colab](https://colab.research.google.com/assets/colab-badge.svg)](https://colab.research.google.com/github/CrackerLambda/PythonBasics/blob/master/02_Data_type_and_Operator.ipynb)"
   ]
  },
  {
   "cell_type": "markdown",
   "metadata": {},
   "source": [
    "# 1. Kiểu dữ liệu trong Python\n"
   ]
  },
  {
   "cell_type": "markdown",
   "metadata": {},
   "source": [
    "Trong Python điều đặc biệt là khi viết chương trình không cần định nghĩa biến thuộc kiểu nào, máy sẽ tự động hiểu.\n",
    "\n",
    "Các kiểu dữ liệu cơ bản trong Python gồm có:\n",
    "- interger: số nguyên\n",
    "\n",
    "- float: số thực\n",
    "\n",
    "- bool: kiểu logic với hai giá trị True và False\n",
    "\n",
    "- string: xâu ký tự"
   ]
  },
  {
   "cell_type": "code",
   "execution_count": 1,
   "metadata": {},
   "outputs": [
    {
     "data": {
      "text/plain": [
       "int"
      ]
     },
     "execution_count": 1,
     "metadata": {},
     "output_type": "execute_result"
    }
   ],
   "source": [
    "type(5)"
   ]
  },
  {
   "cell_type": "code",
   "execution_count": 2,
   "metadata": {},
   "outputs": [
    {
     "data": {
      "text/plain": [
       "float"
      ]
     },
     "execution_count": 2,
     "metadata": {},
     "output_type": "execute_result"
    }
   ],
   "source": [
    "type(1.4)"
   ]
  },
  {
   "cell_type": "code",
   "execution_count": 3,
   "metadata": {},
   "outputs": [
    {
     "data": {
      "text/plain": [
       "int"
      ]
     },
     "execution_count": 3,
     "metadata": {},
     "output_type": "execute_result"
    }
   ],
   "source": [
    "a=4\n",
    "type(a)"
   ]
  },
  {
   "cell_type": "code",
   "execution_count": 4,
   "metadata": {},
   "outputs": [
    {
     "data": {
      "text/plain": [
       "str"
      ]
     },
     "execution_count": 4,
     "metadata": {},
     "output_type": "execute_result"
    }
   ],
   "source": [
    "type(\"Học sinh lớp 2\")"
   ]
  },
  {
   "cell_type": "code",
   "execution_count": 5,
   "metadata": {},
   "outputs": [
    {
     "data": {
      "text/plain": [
       "bool"
      ]
     },
     "execution_count": 5,
     "metadata": {},
     "output_type": "execute_result"
    }
   ],
   "source": [
    "type(True)"
   ]
  },
  {
   "cell_type": "code",
   "execution_count": 6,
   "metadata": {},
   "outputs": [
    {
     "data": {
      "text/plain": [
       "bool"
      ]
     },
     "execution_count": 6,
     "metadata": {},
     "output_type": "execute_result"
    }
   ],
   "source": [
    "type(3>2)"
   ]
  },
  {
   "cell_type": "markdown",
   "metadata": {},
   "source": [
    "# 2. Biểu thức trong Python"
   ]
  },
  {
   "cell_type": "markdown",
   "metadata": {},
   "source": [
    "## Biểu thức số học\n",
    "\n",
    "+ Toán tử cộng: `+`\n",
    "\n",
    "+ Toán tử trừ: `-`\n",
    "\n",
    "+ Toán tử nhân: `*`\n",
    "\n",
    "+ Toán tử chia: `/`\n",
    "\n",
    "+ Toán tử lấy mũ: `**`\n",
    "\n",
    "+ Toán tử chia làm tròn xuống: `//`\n",
    "\n",
    "+ Toán tử chia lấy dư: `%`"
   ]
  },
  {
   "cell_type": "code",
   "execution_count": 7,
   "metadata": {},
   "outputs": [
    {
     "data": {
      "text/plain": [
       "6"
      ]
     },
     "execution_count": 7,
     "metadata": {},
     "output_type": "execute_result"
    }
   ],
   "source": [
    "1+5"
   ]
  },
  {
   "cell_type": "code",
   "execution_count": 8,
   "metadata": {},
   "outputs": [
    {
     "data": {
      "text/plain": [
       "-1"
      ]
     },
     "execution_count": 8,
     "metadata": {},
     "output_type": "execute_result"
    }
   ],
   "source": [
    "4-5"
   ]
  },
  {
   "cell_type": "code",
   "execution_count": 9,
   "metadata": {},
   "outputs": [
    {
     "data": {
      "text/plain": [
       "8"
      ]
     },
     "execution_count": 9,
     "metadata": {},
     "output_type": "execute_result"
    }
   ],
   "source": [
    "2*4"
   ]
  },
  {
   "cell_type": "code",
   "execution_count": 10,
   "metadata": {},
   "outputs": [
    {
     "data": {
      "text/plain": [
       "1.25"
      ]
     },
     "execution_count": 10,
     "metadata": {},
     "output_type": "execute_result"
    }
   ],
   "source": [
    "5/4"
   ]
  },
  {
   "cell_type": "code",
   "execution_count": 11,
   "metadata": {},
   "outputs": [
    {
     "data": {
      "text/plain": [
       "25"
      ]
     },
     "execution_count": 11,
     "metadata": {},
     "output_type": "execute_result"
    }
   ],
   "source": [
    "5**2"
   ]
  },
  {
   "cell_type": "code",
   "execution_count": 12,
   "metadata": {},
   "outputs": [
    {
     "data": {
      "text/plain": [
       "2"
      ]
     },
     "execution_count": 12,
     "metadata": {},
     "output_type": "execute_result"
    }
   ],
   "source": [
    "5//2"
   ]
  },
  {
   "cell_type": "code",
   "execution_count": 13,
   "metadata": {},
   "outputs": [
    {
     "data": {
      "text/plain": [
       "1"
      ]
     },
     "execution_count": 13,
     "metadata": {},
     "output_type": "execute_result"
    }
   ],
   "source": [
    "4%3"
   ]
  },
  {
   "cell_type": "markdown",
   "metadata": {},
   "source": [
    "### Tính toán biểu thức phức hợp"
   ]
  },
  {
   "cell_type": "code",
   "execution_count": 14,
   "metadata": {},
   "outputs": [
    {
     "data": {
      "text/plain": [
       "37"
      ]
     },
     "execution_count": 14,
     "metadata": {},
     "output_type": "execute_result"
    }
   ],
   "source": [
    "(4+9)*3-2"
   ]
  },
  {
   "cell_type": "code",
   "execution_count": 15,
   "metadata": {},
   "outputs": [
    {
     "data": {
      "text/plain": [
       "75"
      ]
     },
     "execution_count": 15,
     "metadata": {},
     "output_type": "execute_result"
    }
   ],
   "source": [
    "7**2-4%3+9*3"
   ]
  },
  {
   "cell_type": "code",
   "execution_count": 16,
   "metadata": {},
   "outputs": [
    {
     "data": {
      "text/plain": [
       "13"
      ]
     },
     "execution_count": 16,
     "metadata": {},
     "output_type": "execute_result"
    }
   ],
   "source": [
    "6*(9//4)+1%5"
   ]
  },
  {
   "cell_type": "markdown",
   "metadata": {},
   "source": [
    "## Biểu thức so sánh\n",
    "\n",
    "+ So sánh bằng `x==y`\n",
    "\n",
    "+ So sánh lớn hơn `x>y`\n",
    "\n",
    "+ So sánh nhỏ hơn `x<y`\n",
    "\n",
    "+ So sánh khác `x!=y`\n",
    "\n",
    "+ So sánh lớn hơn hoặc bằng `x>=y`\n",
    "\n",
    "+ So sánh nhỏ hơn hoặc bằng `x<=y`\n",
    "\n",
    "Phép so sánh giữa vế trái và vế phải thành biểu thức điều kiện kết quả trả về của phép so sánh là kiểu boolean True hoặc False."
   ]
  },
  {
   "cell_type": "code",
   "execution_count": 17,
   "metadata": {},
   "outputs": [
    {
     "data": {
      "text/plain": [
       "True"
      ]
     },
     "execution_count": 17,
     "metadata": {},
     "output_type": "execute_result"
    }
   ],
   "source": [
    "3>2"
   ]
  },
  {
   "cell_type": "code",
   "execution_count": 18,
   "metadata": {},
   "outputs": [
    {
     "data": {
      "text/plain": [
       "False"
      ]
     },
     "execution_count": 18,
     "metadata": {},
     "output_type": "execute_result"
    }
   ],
   "source": [
    "4<2"
   ]
  },
  {
   "cell_type": "code",
   "execution_count": 19,
   "metadata": {},
   "outputs": [
    {
     "data": {
      "text/plain": [
       "True"
      ]
     },
     "execution_count": 19,
     "metadata": {},
     "output_type": "execute_result"
    }
   ],
   "source": [
    "3==3"
   ]
  },
  {
   "cell_type": "code",
   "execution_count": 20,
   "metadata": {},
   "outputs": [
    {
     "data": {
      "text/plain": [
       "False"
      ]
     },
     "execution_count": 20,
     "metadata": {},
     "output_type": "execute_result"
    }
   ],
   "source": [
    "3!=3"
   ]
  },
  {
   "cell_type": "code",
   "execution_count": 21,
   "metadata": {},
   "outputs": [
    {
     "data": {
      "text/plain": [
       "False"
      ]
     },
     "execution_count": 21,
     "metadata": {},
     "output_type": "execute_result"
    }
   ],
   "source": [
    "4.5>=5"
   ]
  },
  {
   "cell_type": "markdown",
   "metadata": {},
   "source": [
    "## Toán tử logic\n",
    "\n",
    "+ `not` nghĩa là phủ định.\n",
    "\n",
    "+ `and` nghĩa là và, cả hai.\n",
    "\n",
    "+ `or` nghĩa là hoặc, một trong hai.\n",
    "\n",
    "Kết quả trả về của phép toán logic cũng là kiểu boolean với một trong hai giá trị True hoặc False."
   ]
  },
  {
   "cell_type": "code",
   "execution_count": 22,
   "metadata": {},
   "outputs": [
    {
     "data": {
      "text/plain": [
       "False"
      ]
     },
     "execution_count": 22,
     "metadata": {},
     "output_type": "execute_result"
    }
   ],
   "source": [
    "x=True\n",
    "not x"
   ]
  },
  {
   "cell_type": "code",
   "execution_count": 23,
   "metadata": {},
   "outputs": [
    {
     "data": {
      "text/plain": [
       "True"
      ]
     },
     "execution_count": 23,
     "metadata": {},
     "output_type": "execute_result"
    }
   ],
   "source": [
    "y=False\n",
    "n=True\n",
    "not y and n"
   ]
  },
  {
   "cell_type": "code",
   "execution_count": 24,
   "metadata": {},
   "outputs": [
    {
     "data": {
      "text/plain": [
       "True"
      ]
     },
     "execution_count": 24,
     "metadata": {},
     "output_type": "execute_result"
    }
   ],
   "source": [
    "f=True\n",
    "n=True\n",
    "y=False\n",
    "n or y and f"
   ]
  },
  {
   "cell_type": "code",
   "execution_count": 25,
   "metadata": {},
   "outputs": [
    {
     "data": {
      "text/plain": [
       "5"
      ]
     },
     "execution_count": 25,
     "metadata": {},
     "output_type": "execute_result"
    }
   ],
   "source": [
    "5 or 6 and 4"
   ]
  },
  {
   "cell_type": "markdown",
   "metadata": {},
   "source": [
    "Phép tính sẽ ưu tiên số hạng đầu để trả về."
   ]
  },
  {
   "cell_type": "markdown",
   "metadata": {},
   "source": [
    "## Cách đặt tên biến(Rule)\n",
    "\n",
    "- Chữ hoa và chữ thường khác nhau.\n",
    "\n",
    "- Chỉ có thể chứa ký tự là chữ, chữ số, dấu gạch dưới_.\n",
    "\n",
    "- Không được đặt biến nhớ bằng các ký tự sau:dấu cách, dấu chấm, hai chấm :, dấu chấm phẩy; , #, @, &, (), +, -, *, /, %.\n",
    "\n",
    "- Tên biến nhớ phải bắt đầu bằng chữ cái không được phép bắt đầu bằng số."
   ]
  },
  {
   "cell_type": "markdown",
   "metadata": {},
   "source": [
    "## Toán tử gán\n",
    "\n",
    "Dùng để gán một giá trị số, chuỗi, list, ... cho một biến trong Python."
   ]
  },
  {
   "cell_type": "markdown",
   "metadata": {},
   "source": [
    "### Toán tử gán lần lượt từng hàng"
   ]
  },
  {
   "cell_type": "code",
   "execution_count": 26,
   "metadata": {},
   "outputs": [],
   "source": [
    "x=3\n",
    "y=\"Học sinh\""
   ]
  },
  {
   "cell_type": "code",
   "execution_count": 27,
   "metadata": {},
   "outputs": [],
   "source": [
    "z1=48\n",
    "z2=35\n",
    "z1=z2"
   ]
  },
  {
   "cell_type": "markdown",
   "metadata": {},
   "source": [
    "### Toán tử gán đồng thời trên một hàng"
   ]
  },
  {
   "cell_type": "code",
   "execution_count": 28,
   "metadata": {},
   "outputs": [],
   "source": [
    "d1,d2,d3=3,\"Trung Thu\",3.4"
   ]
  },
  {
   "cell_type": "code",
   "execution_count": 29,
   "metadata": {},
   "outputs": [],
   "source": [
    "q1=1; q2=3"
   ]
  },
  {
   "cell_type": "markdown",
   "metadata": {},
   "source": [
    "### Toán tử gán phức hợp"
   ]
  },
  {
   "cell_type": "code",
   "execution_count": 30,
   "metadata": {},
   "outputs": [
    {
     "name": "stdout",
     "output_type": "stream",
     "text": [
      "3\n"
     ]
    }
   ],
   "source": [
    "e2=2\n",
    "e2+=1    # tương đương e2=e2+1\n",
    "print(e2)"
   ]
  },
  {
   "cell_type": "code",
   "execution_count": 31,
   "metadata": {},
   "outputs": [
    {
     "name": "stdout",
     "output_type": "stream",
     "text": [
      "1.6666666666666667\n"
     ]
    }
   ],
   "source": [
    "w2=5\n",
    "w2/=3    # tương đương w2=w2/3\n",
    "print(w2)"
   ]
  },
  {
   "cell_type": "code",
   "execution_count": 32,
   "metadata": {},
   "outputs": [
    {
     "name": "stdout",
     "output_type": "stream",
     "text": [
      "1\n"
     ]
    }
   ],
   "source": [
    "s=3;n=2\n",
    "s-=n    # tương dương s=s-n\n",
    "print(s)"
   ]
  },
  {
   "cell_type": "markdown",
   "metadata": {},
   "source": [
    "## Toán tử 3 ngôi"
   ]
  },
  {
   "cell_type": "code",
   "execution_count": 2,
   "metadata": {},
   "outputs": [
    {
     "data": {
      "text/plain": [
       "'đúng'"
      ]
     },
     "execution_count": 2,
     "metadata": {},
     "output_type": "execute_result"
    }
   ],
   "source": [
    "a=6\n",
    "msg=\"đúng\" if a==6 else \"sai\"\n",
    "msg"
   ]
  },
  {
   "cell_type": "markdown",
   "metadata": {},
   "source": [
    "## Toán tử mũ liên tiếp"
   ]
  },
  {
   "cell_type": "code",
   "execution_count": 33,
   "metadata": {},
   "outputs": [
    {
     "data": {
      "text/plain": [
       "43046721"
      ]
     },
     "execution_count": 33,
     "metadata": {},
     "output_type": "execute_result"
    }
   ],
   "source": [
    "3**4**2"
   ]
  },
  {
   "cell_type": "code",
   "execution_count": 34,
   "metadata": {},
   "outputs": [
    {
     "data": {
      "text/plain": [
       "6561"
      ]
     },
     "execution_count": 34,
     "metadata": {},
     "output_type": "execute_result"
    }
   ],
   "source": [
    "(3**4)**2"
   ]
  },
  {
   "cell_type": "code",
   "execution_count": 35,
   "metadata": {},
   "outputs": [
    {
     "data": {
      "text/plain": [
       "43046721"
      ]
     },
     "execution_count": 35,
     "metadata": {},
     "output_type": "execute_result"
    }
   ],
   "source": [
    "3**(4**2)"
   ]
  },
  {
   "cell_type": "markdown",
   "metadata": {},
   "source": [
    "Biểu thức khi muốn xuống dòng."
   ]
  },
  {
   "cell_type": "code",
   "execution_count": 36,
   "metadata": {},
   "outputs": [],
   "source": [
    "y=5+(2+4*5\n",
    "       -8)"
   ]
  },
  {
   "cell_type": "markdown",
   "metadata": {},
   "source": [
    "**Sau đây là một số từ khóa trong Python vì vậy không nên đặt tên biến trùng với những từ này.**"
   ]
  },
  {
   "attachments": {
    "image.png": {
     "image/png": "[encoded data removed]"
    }
   },
   "cell_type": "markdown",
   "metadata": {},
   "source": [
    "![image.png](attachment:image.png)"
   ]
  },
  {
   "cell_type": "markdown",
   "metadata": {},
   "source": [
    "# 3. Chuyển đổi kiểu dữ liệu\n"
   ]
  },
  {
   "cell_type": "code",
   "execution_count": 37,
   "metadata": {},
   "outputs": [
    {
     "data": {
      "text/plain": [
       "24"
      ]
     },
     "execution_count": 37,
     "metadata": {},
     "output_type": "execute_result"
    }
   ],
   "source": [
    "int(24.4)"
   ]
  },
  {
   "cell_type": "code",
   "execution_count": 38,
   "metadata": {},
   "outputs": [
    {
     "data": {
      "text/plain": [
       "25.0"
      ]
     },
     "execution_count": 38,
     "metadata": {},
     "output_type": "execute_result"
    }
   ],
   "source": [
    "float(25)"
   ]
  },
  {
   "cell_type": "code",
   "execution_count": 39,
   "metadata": {},
   "outputs": [
    {
     "data": {
      "text/plain": [
       "234.0"
      ]
     },
     "execution_count": 39,
     "metadata": {},
     "output_type": "execute_result"
    }
   ],
   "source": [
    "float(\"234\")"
   ]
  },
  {
   "cell_type": "code",
   "execution_count": 40,
   "metadata": {},
   "outputs": [
    {
     "data": {
      "text/plain": [
       "'24.5'"
      ]
     },
     "execution_count": 40,
     "metadata": {},
     "output_type": "execute_result"
    }
   ],
   "source": [
    "str(24.5)"
   ]
  },
  {
   "cell_type": "code",
   "execution_count": 41,
   "metadata": {},
   "outputs": [
    {
     "data": {
      "text/plain": [
       "77"
      ]
     },
     "execution_count": 41,
     "metadata": {},
     "output_type": "execute_result"
    }
   ],
   "source": [
    "# Hàm tính biểu thức của một xâu\n",
    "eval(\"38+39\")"
   ]
  },
  {
   "cell_type": "code",
   "execution_count": 42,
   "metadata": {},
   "outputs": [
    {
     "name": "stdout",
     "output_type": "stream",
     "text": [
      "Nhập vào một biểu thức: 7**8\n",
      "Kết quả là: 5764801\n"
     ]
    }
   ],
   "source": [
    "q=eval(input(\"Nhập vào một biểu thức: \"))\n",
    "print(\"Kết quả là:\",q)"
   ]
  },
  {
   "cell_type": "markdown",
   "metadata": {},
   "source": [
    "# 4. Bài tập Exercise"
   ]
  },
  {
   "cell_type": "markdown",
   "metadata": {},
   "source": [
    "## A. Lý thuyết chọn đáp án\n",
    "\n",
    "Câu 1: Các lệnh nào trong đây là sai?\n",
    "\n",
    "<div style=\"padding: 15px; border: 1px solid transparent; border-color: transparent; margin-bottom: 5px; border-radius: 2px; color:#1C1C1C; background-color:#D3D3D3; border-color: #BEBEBE;\">\n",
    "A. x=y=z=2\n",
    "</div>\n",
    "\n",
    "<div style=\"padding: 15px; border: 1px solid transparent; border-color: transparent; margin-bottom: 5px; border-radius: 2px; color:#1C1C1C; background-color:#D3D3D3; border-color: #BEBEBE;\">\n",
    "B. x=3,y=4,z=5\n",
    "</div>\n",
    "\n",
    "<div style=\"padding: 15px; border: 1px solid transparent; border-color: transparent; margin-bottom: 5px; border-radius: 2px; color:#1C1C1C; background-color:#D3D3D3; border-color: #BEBEBE;\">\n",
    "C. x,y=2\n",
    "</div>\n",
    "\n",
    "<div style=\"padding: 15px; border: 1px solid transparent; border-color: transparent; margin-bottom: 5px; border-radius: 2px; color:#1C1C1C; background-color:#D3D3D3; border-color: #BEBEBE;\">\n",
    "D. x,y,z=2,3,4\n",
    "</div>"
   ]
  },
  {
   "cell_type": "markdown",
   "metadata": {},
   "source": [
    "Câu 2: Đặt tên biến sau đây là đúng?\n",
    "\n",
    "<div style=\"padding: 15px; border: 1px solid transparent; border-color: transparent; margin-bottom: 5px; border-radius: 2px; color:#1C1C1C; background-color:#D3D3D3; border-color: #BEBEBE;\">\n",
    "A. -cong\n",
    "</div>\n",
    "\n",
    "<div style=\"padding: 15px; border: 1px solid transparent; border-color: transparent; margin-bottom: 5px; border-radius: 2px; color:#1C1C1C; background-color:#D3D3D3; border-color: #BEBEBE;\">\n",
    "B. hai#\n",
    "</div>\n",
    "\n",
    "<div style=\"padding: 15px; border: 1px solid transparent; border-color: transparent; margin-bottom: 5px; border-radius: 2px; color:#1C1C1C; background-color:#D3D3D3; border-color: #BEBEBE;\">\n",
    "C. 2_hai\n",
    "</div>\n",
    "\n",
    "<div style=\"padding: 15px; border: 1px solid transparent; border-color: transparent; margin-bottom: 5px; border-radius: 2px; color:#1C1C1C; background-color:#D3D3D3; border-color: #BEBEBE;\">\n",
    "D. mot2\n",
    "</div>"
   ]
  },
  {
   "cell_type": "markdown",
   "metadata": {},
   "source": [
    "Câu 3: Kết quả của biểu thức print(4-5%6)?\n",
    "\n",
    "<div style=\"padding: 15px; border: 1px solid transparent; border-color: transparent; margin-bottom: 5px; border-radius: 2px; color:#1C1C1C; background-color:#D3D3D3; border-color: #BEBEBE;\">\n",
    "A. 4-5%6\n",
    "</div>\n",
    "\n",
    "<div style=\"padding: 15px; border: 1px solid transparent; border-color: transparent; margin-bottom: 5px; border-radius: 2px; color:#1C1C1C; background-color:#D3D3D3; border-color: #BEBEBE;\">\n",
    "B. -1\n",
    "</div>\n",
    "\n",
    "<div style=\"padding: 15px; border: 1px solid transparent; border-color: transparent; margin-bottom: 5px; border-radius: 2px; color:#1C1C1C; background-color:#D3D3D3; border-color: #BEBEBE;\">\n",
    "C. 1\n",
    "</div>\n",
    "\n",
    "<div style=\"padding: 15px; border: 1px solid transparent; border-color: transparent; margin-bottom: 5px; border-radius: 2px; color:#1C1C1C; background-color:#D3D3D3; border-color: #BEBEBE;\">\n",
    "D. None\n",
    "</div>"
   ]
  },
  {
   "cell_type": "markdown",
   "metadata": {},
   "source": [
    "Câu 4: Để viết 3 mũ 4 trong Python viết ra sao?\n",
    "\n",
    "<div style=\"padding: 15px; border: 1px solid transparent; border-color: transparent; margin-bottom: 5px; border-radius: 2px; color:#1C1C1C; background-color:#D3D3D3; border-color: #BEBEBE;\">\n",
    "A. 3*4\n",
    "</div>\n",
    "\n",
    "<div style=\"padding: 15px; border: 1px solid transparent; border-color: transparent; margin-bottom: 5px; border-radius: 2px; color:#1C1C1C; background-color:#D3D3D3; border-color: #BEBEBE;\">\n",
    "B. 3^4\n",
    "</div>\n",
    "\n",
    "<div style=\"padding: 15px; border: 1px solid transparent; border-color: transparent; margin-bottom: 5px; border-radius: 2px; color:#1C1C1C; background-color:#D3D3D3; border-color: #BEBEBE;\">\n",
    "C. 3**4\n",
    "</div>\n",
    "\n",
    "<div style=\"padding: 15px; border: 1px solid transparent; border-color: transparent; margin-bottom: 5px; border-radius: 2px; color:#1C1C1C; background-color:#D3D3D3; border-color: #BEBEBE;\">\n",
    "D. 3^^4\n",
    "</div>"
   ]
  },
  {
   "cell_type": "markdown",
   "metadata": {},
   "source": [
    "Câu 5: Để tính chu vi hình tròn bằng Python với R=2, và pi =3.14 ra viết?\n",
    "\n",
    "<div style=\"padding: 15px; border: 1px solid transparent; border-color: transparent; margin-bottom: 5px; border-radius: 2px; color:#1C1C1C; background-color:#D3D3D3; border-color: #BEBEBE;\">\n",
    "A. C=R*pi\n",
    "</div>\n",
    "\n",
    "<div style=\"padding: 15px; border: 1px solid transparent; border-color: transparent; margin-bottom: 5px; border-radius: 2px; color:#1C1C1C; background-color:#D3D3D3; border-color: #BEBEBE;\">\n",
    "B. C=R**pi\n",
    "</div>\n",
    "\n",
    "<div style=\"padding: 15px; border: 1px solid transparent; border-color: transparent; margin-bottom: 5px; border-radius: 2px; color:#1C1C1C; background-color:#D3D3D3; border-color: #BEBEBE;\">\n",
    "C. C=pi**R\n",
    "</div>\n",
    "\n",
    "<div style=\"padding: 15px; border: 1px solid transparent; border-color: transparent; margin-bottom: 5px; border-radius: 2px; color:#1C1C1C; background-color:#D3D3D3; border-color: #BEBEBE;\">\n",
    "D. C=R^pi\n",
    "</div>"
   ]
  },
  {
   "cell_type": "markdown",
   "metadata": {},
   "source": [
    "Câu 6: Trong các kiểu dữ liệu dữ liệu dưới đây, kiểu nào là số nguyên?\n",
    "\n",
    "<div style=\"padding: 15px; border: 1px solid transparent; border-color: transparent; margin-bottom: 5px; border-radius: 2px; color:#1C1C1C; background-color:#D3D3D3; border-color: #BEBEBE;\">\n",
    "A. float\n",
    "</div>\n",
    "\n",
    "<div style=\"padding: 15px; border: 1px solid transparent; border-color: transparent; margin-bottom: 5px; border-radius: 2px; color:#1C1C1C; background-color:#D3D3D3; border-color: #BEBEBE;\">\n",
    "B. int\n",
    "</div>\n",
    "\n",
    "<div style=\"padding: 15px; border: 1px solid transparent; border-color: transparent; margin-bottom: 5px; border-radius: 2px; color:#1C1C1C; background-color:#D3D3D3; border-color: #BEBEBE;\">\n",
    "C. str\n",
    "</div>\n",
    "\n",
    "<div style=\"padding: 15px; border: 1px solid transparent; border-color: transparent; margin-bottom: 5px; border-radius: 2px; color:#1C1C1C; background-color:#D3D3D3; border-color: #BEBEBE;\">\n",
    "D. bool\n",
    "</div>"
   ]
  },
  {
   "cell_type": "markdown",
   "metadata": {},
   "source": [
    "Câu 7: Chuyển đổi biểu thức toán học sau đây sang Python: $ \\frac{x+1}{3x+1}$?\n",
    "\n",
    "<br>\n",
    "<div style=\"padding: 15px; border: 1px solid transparent; border-color: transparent; margin-bottom: 5px; border-radius: 2px; color:#1C1C1C; background-color:#D3D3D3; border-color: #BEBEBE;\">\n",
    "A. x+1/3x+1\n",
    "</div>\n",
    "\n",
    "<div style=\"padding: 15px; border: 1px solid transparent; border-color: transparent; margin-bottom: 5px; border-radius: 2px; color:#1C1C1C; background-color:#D3D3D3; border-color: #BEBEBE;\">\n",
    "B. (x+1)/(3x+1)\n",
    "</div>\n",
    "\n",
    "<div style=\"padding: 15px; border: 1px solid transparent; border-color: transparent; margin-bottom: 5px; border-radius: 2px; color:#1C1C1C; background-color:#D3D3D3; border-color: #BEBEBE;\">\n",
    "C. (x+1)\\(3x+1)\n",
    "</div>\n",
    "\n",
    "<div style=\"padding: 15px; border: 1px solid transparent; border-color: transparent; margin-bottom: 5px; border-radius: 2px; color:#1C1C1C; background-color:#D3D3D3; border-color: #BEBEBE;\">\n",
    "D. (x+1):(3x+1)\n",
    "</div>"
   ]
  },
  {
   "cell_type": "markdown",
   "metadata": {},
   "source": [
    "Câu 8: Biểu thức $(1+x)^2(x^3+3)$ được viết trong Python là?\n",
    "\n",
    "<div style=\"padding: 15px; border: 1px solid transparent; border-color: transparent; margin-bottom: 5px; border-radius: 2px; color:#1C1C1C; background-color:#D3D3D3; border-color: #BEBEBE;\">\n",
    "A. (1+x)^2(x^3+3)\n",
    "</div>\n",
    "\n",
    "<div style=\"padding: 15px; border: 1px solid transparent; border-color: transparent; margin-bottom: 5px; border-radius: 2px; color:#1C1C1C; background-color:#D3D3D3; border-color: #BEBEBE;\">\n",
    "B. 1+x\\*2(x\\*3+3)\n",
    "</div>\n",
    "\n",
    "<div style=\"padding: 15px; border: 1px solid transparent; border-color: transparent; margin-bottom: 5px; border-radius: 2px; color:#1C1C1C; background-color:#D3D3D3; border-color: #BEBEBE;\">\n",
    "C. (1+x)\\*\\*2\\*(x\\*\\*3+3)\n",
    "</div>\n",
    "\n",
    "<div style=\"padding: 15px; border: 1px solid transparent; border-color: transparent; margin-bottom: 5px; border-radius: 2px; color:#1C1C1C; background-color:#D3D3D3; border-color: #BEBEBE;\">\n",
    "D. (1+x)\\*2\\*(x*3+3))\n",
    "</div>"
   ]
  },
  {
   "cell_type": "markdown",
   "metadata": {},
   "source": [
    "Câu 9: Kết quả của lệnh print(char(65))?\n",
    "\n",
    "<div style=\"padding: 15px; border: 1px solid transparent; border-color: transparent; margin-bottom: 5px; border-radius: 2px; color:#1C1C1C; background-color:#D3D3D3; border-color: #BEBEBE;\">\n",
    "A. 65\n",
    "</div>\n",
    "\n",
    "<div style=\"padding: 15px; border: 1px solid transparent; border-color: transparent; margin-bottom: 5px; border-radius: 2px; color:#1C1C1C; background-color:#D3D3D3; border-color: #BEBEBE;\">\n",
    "B. Error\n",
    "</div>\n",
    "\n",
    "<div style=\"padding: 15px; border: 1px solid transparent; border-color: transparent; margin-bottom: 5px; border-radius: 2px; color:#1C1C1C; background-color:#D3D3D3; border-color: #BEBEBE;\">\n",
    "C. A\n",
    "</div>\n",
    "\n",
    "<div style=\"padding: 15px; border: 1px solid transparent; border-color: transparent; margin-bottom: 5px; border-radius: 2px; color:#1C1C1C; background-color:#D3D3D3; border-color: #BEBEBE;\">\n",
    "D. a\n",
    "</div>"
   ]
  },
  {
   "cell_type": "markdown",
   "metadata": {},
   "source": [
    "Câu 10: Cho biết kết quả của chương trình sau:\n",
    "\n",
    "```python\n",
    "x=3\n",
    "x+=1\n",
    "print(x)\n",
    "    \n",
    "```\n",
    "\n",
    "<div style=\"padding: 15px; border: 1px solid transparent; border-color: transparent; margin-bottom: 5px; border-radius: 2px; color:#1C1C1C; background-color:#D3D3D3; border-color: #BEBEBE;\">\n",
    "A. 3\n",
    "</div>\n",
    "\n",
    "<div style=\"padding: 15px; border: 1px solid transparent; border-color: transparent; margin-bottom: 5px; border-radius: 2px; color:#1C1C1C; background-color:#D3D3D3; border-color: #BEBEBE;\">\n",
    "B. 4\n",
    "</div>\n",
    "\n",
    "<div style=\"padding: 15px; border: 1px solid transparent; border-color: transparent; margin-bottom: 5px; border-radius: 2px; color:#1C1C1C; background-color:#D3D3D3; border-color: #BEBEBE;\">\n",
    "C. 2\n",
    "</div>\n",
    "\n",
    "<div style=\"padding: 15px; border: 1px solid transparent; border-color: transparent; margin-bottom: 5px; border-radius: 2px; color:#1C1C1C; background-color:#D3D3D3; border-color: #BEBEBE;\">\n",
    "D. 5\n",
    "</div>"
   ]
  },
  {
   "cell_type": "markdown",
   "metadata": {},
   "source": [
    "---\n",
    "## B. Rèn luyện viết mã code"
   ]
  },
  {
   "cell_type": "markdown",
   "metadata": {},
   "source": [
    "Câu 11: Viết chương trình chuyển đổi góc tính bằng độ sang radian được cho bởi công thức:\n",
    "\n",
    "       Rad=angle x 3.14/180\n"
   ]
  },
  {
   "cell_type": "markdown",
   "metadata": {},
   "source": [
    "Câu 12: Viết chương trình chuyển đổi từ giây sang ngày, giờ, phút, giây:\n",
    "\n",
    "        Input: s\n",
    "        Output: dd/hh/mm/ss"
   ]
  },
  {
   "cell_type": "markdown",
   "metadata": {},
   "source": [
    "Câu 13: Tính tổng biểu thức từ 1 đến 10: 1 + 2 + 3 ,...+ 10."
   ]
  },
  {
   "cell_type": "markdown",
   "metadata": {},
   "source": [
    "Câu 14: Viết chương trình đảo giá trị hai biến x=5, y=6 thành x=6, y=5?"
   ]
  },
  {
   "cell_type": "markdown",
   "metadata": {},
   "source": [
    "Câu 15: Viết chương trình nhập hai số m=19, n=5 và hiện thị kết quả tổng, tích, phần dư, chia lấy xuống của hai số này?\n",
    "\n",
    "---"
   ]
  },
  {
   "cell_type": "markdown",
   "metadata": {},
   "source": [
    "# <span style= 'color:blue'> Đáp án </span> "
   ]
  },
  {
   "cell_type": "markdown",
   "metadata": {},
   "source": [
    "<div style=\"padding: 15px; border: 1px solid transparent; border-color: transparent; margin-bottom: 5px; border-radius: 2px; color: #3c763d; background-color: #dff0d8; border-color: #d6e9c6;\">\n",
    "1.B\n",
    "</div>\n",
    "\n",
    "<div style=\"padding: 15px; border: 1px solid transparent; border-color: transparent; margin-bottom: 5px; border-radius: 2px; color: #3c763d; background-color: #dff0d8; border-color: #d6e9c6;\">\n",
    "2.C\n",
    "</div>\n",
    "\n",
    "<div style=\"padding: 15px; border: 1px solid transparent; border-color: transparent; margin-bottom: 5px; border-radius: 2px; color: #3c763d; background-color: #dff0d8; border-color: #d6e9c6;\">\n",
    "3.B\n",
    "</div>\n",
    "\n",
    "<div style=\"padding: 15px; border: 1px solid transparent; border-color: transparent; margin-bottom: 5px; border-radius: 2px; color: #3c763d; background-color: #dff0d8; border-color: #d6e9c6;\">\n",
    "4.C\n",
    "</div>\n",
    "\n",
    "<div style=\"padding: 15px; border: 1px solid transparent; border-color: transparent; margin-bottom: 5px; border-radius: 2px; color: #3c763d; background-color: #dff0d8; border-color: #d6e9c6;\">\n",
    "5.A\n",
    "</div>\n",
    "\n",
    "<div style=\"padding: 15px; border: 1px solid transparent; border-color: transparent; margin-bottom: 5px; border-radius: 2px; color: #3c763d; background-color: #dff0d8; border-color: #d6e9c6;\">\n",
    "6.B\n",
    "</div>\n",
    "\n",
    "<div style=\"padding: 15px; border: 1px solid transparent; border-color: transparent; margin-bottom: 5px; border-radius: 2px; color: #3c763d; background-color: #dff0d8; border-color: #d6e9c6;\">\n",
    "7.C\n",
    "</div>\n",
    "\n",
    "<div style=\"padding: 15px; border: 1px solid transparent; border-color: transparent; margin-bottom: 5px; border-radius: 2px; color: #3c763d; background-color: #dff0d8; border-color: #d6e9c6;\">\n",
    "8.C\n",
    "</div>\n",
    "\n",
    "<div style=\"padding: 15px; border: 1px solid transparent; border-color: transparent; margin-bottom: 5px; border-radius: 2px; color: #3c763d; background-color: #dff0d8; border-color: #d6e9c6;\">\n",
    "9.C\n",
    "</div>\n",
    "\n",
    "<div style=\"padding: 15px; border: 1px solid transparent; border-color: transparent; margin-bottom: 5px; border-radius: 2px; color: #3c763d; background-color: #dff0d8; border-color: #d6e9c6;\">\n",
    "10.B\n",
    "</div>"
   ]
  },
  {
   "cell_type": "code",
   "execution_count": 43,
   "metadata": {},
   "outputs": [
    {
     "name": "stdout",
     "output_type": "stream",
     "text": [
      "Nhập góc đơn vị độ: 30\n",
      "Góc theo đơn vị radian là: 0.5233333333333333\n"
     ]
    }
   ],
   "source": [
    "#11\n",
    "angle=float(input(\"Nhập góc đơn vị độ: \"))\n",
    "Rad=angle*3.14/180\n",
    "print(\"Góc theo đơn vị radian là:\",Rad)"
   ]
  },
  {
   "cell_type": "code",
   "execution_count": 44,
   "metadata": {},
   "outputs": [
    {
     "name": "stdout",
     "output_type": "stream",
     "text": [
      "Nhập số giây cần chuyển đổi: 16000\n",
      "0 Ngày 4 Giờ 26 Phút 40 Giây\n"
     ]
    }
   ],
   "source": [
    "#12\n",
    "s=int(input(\"Nhập số giây cần chuyển đổi: \"))\n",
    "d=s//86400\n",
    "h=(s-d*86400)//3600\n",
    "m=(s-d*86400-h*3600)//60\n",
    "s_new=(s-d*86400-h*3600-m*60)\n",
    "print(d,\"Ngày\",h,\"Giờ\",m,\"Phút\",s_new,\"Giây\")"
   ]
  },
  {
   "cell_type": "code",
   "execution_count": 45,
   "metadata": {},
   "outputs": [
    {
     "name": "stdout",
     "output_type": "stream",
     "text": [
      "Tổng số từ 1 đến 10 là 55.0\n"
     ]
    }
   ],
   "source": [
    "#13\n",
    "s=1\n",
    "e=10\n",
    "n=e-s+1\n",
    "t=(n*(n+1))/2\n",
    "print(\"Tổng số từ 1 đến 10 là\",t)"
   ]
  },
  {
   "cell_type": "code",
   "execution_count": 46,
   "metadata": {},
   "outputs": [
    {
     "name": "stdout",
     "output_type": "stream",
     "text": [
      "x= 6\n",
      "y= 5\n"
     ]
    }
   ],
   "source": [
    "#14\n",
    "x=5\n",
    "y=6\n",
    "x,y=y,x\n",
    "print(\"x=\",x)\n",
    "print(\"y=\",y)"
   ]
  },
  {
   "cell_type": "code",
   "execution_count": 47,
   "metadata": {},
   "outputs": [
    {
     "name": "stdout",
     "output_type": "stream",
     "text": [
      "Nhập số m: 5\n",
      "Nhập số n: 2\n",
      "Tổng của hai số m và n là: 7\n",
      "Tích của hai số m và n là: 10\n",
      "Phần dư của hai số m và n là: 1\n",
      "Chia lấy xuống của hai số m và n là: 2\n"
     ]
    }
   ],
   "source": [
    "#15\n",
    "m=int(input(\"Nhập số m: \"))\n",
    "n=int(input(\"Nhập số n: \"))\n",
    "print(\"Tổng của hai số m và n là:\",m+n)\n",
    "print(\"Tích của hai số m và n là:\",m*n)\n",
    "print(\"Phần dư của hai số m và n là:\",m%n)\n",
    "print(\"Chia lấy xuống của hai số m và n là:\",m//n)"
   ]
  },
  {
   "cell_type": "code",
   "execution_count": null,
   "metadata": {},
   "outputs": [],
   "source": []
  }
 ],
 "metadata": {
  "kernelspec": {
   "display_name": "Python 3",
   "language": "python",
   "name": "python3"
  },
  "language_info": {
   "codemirror_mode": {
    "name": "ipython",
    "version": 3
   },
   "file_extension": ".py",
   "mimetype": "text/x-python",
   "name": "python",
   "nbconvert_exporter": "python",
   "pygments_lexer": "ipython3",
   "version": "3.7.0"
  }
 },
 "nbformat": 4,
 "nbformat_minor": 2
}
