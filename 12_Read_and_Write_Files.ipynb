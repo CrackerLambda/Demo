{
 "cells": [
  {
   "cell_type": "markdown",
   "metadata": {},
   "source": [
    "**Lưu ý:** *Bạn có thể xem trực tiếp trên github, tải xuống, nếu bạn muốn chạy thử hãy truy cập vào google colab nó cung cấp cho bạn thư viện có sẵn và chạy bằng GPU.*\n",
    "\n",
    "[![Open In Colab](https://colab.research.google.com/assets/colab-badge.svg)](https://colab.research.google.com/github/CrackerLambda/PythonBasics/blob/master/16_Read_and_Write_Files.ipynb)"
   ]
  },
  {
   "cell_type": "markdown",
   "metadata": {},
   "source": [
    "# 12.1 Giới thiệu về tệp văn bản\n",
    "\n",
    "Tệp văn bản thường sẽ có định dạng .txt hoặc .dat, các tệp này chứa các ký tự của văn bản và các tệp này được mã hóa theo bảng mã ACSII vì thế gõ dấu của tiếng việt sẽ bị hạn chế đi."
   ]
  },
  {
   "cell_type": "markdown",
   "metadata": {},
   "source": [
    "**Thực hiện đọc một file nhỏ**"
   ]
  },
  {
   "cell_type": "code",
   "execution_count": 1,
   "metadata": {},
   "outputs": [
    {
     "data": {
      "text/plain": [
       "\"Them du lieu vao tep\\n1 3 4\\n{'1': 'a', '2': 'b'}$[1, 3, 4]\\n\""
      ]
     },
     "execution_count": 1,
     "metadata": {},
     "output_type": "execute_result"
    }
   ],
   "source": [
    "file=open(\"test_file.txt\",\"r\")\n",
    "file.read()"
   ]
  },
  {
   "cell_type": "markdown",
   "metadata": {},
   "source": [
    "**Cú pháp lệnh:**\n",
    "\n",
    "**open**(`\"<Tên file>\"`, `\"mode\"`)\n",
    "\n",
    "Trong đó: mode được set là **\"r\"** nghĩa là chế độ đọc còn set là **\"w\"** thì sẽ là chế độ ghi."
   ]
  },
  {
   "cell_type": "code",
   "execution_count": 2,
   "metadata": {},
   "outputs": [
    {
     "data": {
      "text/plain": [
       "_io.TextIOWrapper"
      ]
     },
     "execution_count": 2,
     "metadata": {},
     "output_type": "execute_result"
    }
   ],
   "source": [
    "type(file)"
   ]
  },
  {
   "cell_type": "markdown",
   "metadata": {},
   "source": [
    "**Các phương thức của kiểu _io.TextIOWrapper**"
   ]
  },
  {
   "cell_type": "code",
   "execution_count": 3,
   "metadata": {},
   "outputs": [
    {
     "data": {
      "text/plain": [
       "['_CHUNK_SIZE',\n",
       " '__class__',\n",
       " '__del__',\n",
       " '__delattr__',\n",
       " '__dict__',\n",
       " '__dir__',\n",
       " '__doc__',\n",
       " '__enter__',\n",
       " '__eq__',\n",
       " '__exit__',\n",
       " '__format__',\n",
       " '__ge__',\n",
       " '__getattribute__',\n",
       " '__getstate__',\n",
       " '__gt__',\n",
       " '__hash__',\n",
       " '__init__',\n",
       " '__init_subclass__',\n",
       " '__iter__',\n",
       " '__le__',\n",
       " '__lt__',\n",
       " '__ne__',\n",
       " '__new__',\n",
       " '__next__',\n",
       " '__reduce__',\n",
       " '__reduce_ex__',\n",
       " '__repr__',\n",
       " '__setattr__',\n",
       " '__sizeof__',\n",
       " '__str__',\n",
       " '__subclasshook__',\n",
       " '_checkClosed',\n",
       " '_checkReadable',\n",
       " '_checkSeekable',\n",
       " '_checkWritable',\n",
       " '_finalizing',\n",
       " 'buffer',\n",
       " 'close',\n",
       " 'closed',\n",
       " 'detach',\n",
       " 'encoding',\n",
       " 'errors',\n",
       " 'fileno',\n",
       " 'flush',\n",
       " 'isatty',\n",
       " 'line_buffering',\n",
       " 'mode',\n",
       " 'name',\n",
       " 'newlines',\n",
       " 'read',\n",
       " 'readable',\n",
       " 'readline',\n",
       " 'readlines',\n",
       " 'reconfigure',\n",
       " 'seek',\n",
       " 'seekable',\n",
       " 'tell',\n",
       " 'truncate',\n",
       " 'writable',\n",
       " 'write',\n",
       " 'write_through',\n",
       " 'writelines']"
      ]
     },
     "execution_count": 3,
     "metadata": {},
     "output_type": "execute_result"
    }
   ],
   "source": [
    "dir(file)"
   ]
  },
  {
   "cell_type": "markdown",
   "metadata": {},
   "source": [
    "Đọc thêm lần nữa sẽ cho nội dụng là rỗng lý do vị trí đầu đọc khi đọc lần đầu tiên hoàn thành đã nằm ở cuối file."
   ]
  },
  {
   "cell_type": "code",
   "execution_count": 4,
   "metadata": {},
   "outputs": [
    {
     "data": {
      "text/plain": [
       "''"
      ]
     },
     "execution_count": 4,
     "metadata": {},
     "output_type": "execute_result"
    }
   ],
   "source": [
    "file.read()"
   ]
  },
  {
   "cell_type": "markdown",
   "metadata": {},
   "source": [
    "# 12.2 Các thao tác với tệp"
   ]
  },
  {
   "cell_type": "markdown",
   "metadata": {},
   "source": [
    "## Xem vị trí của đầu đọc với hàm tell()"
   ]
  },
  {
   "cell_type": "markdown",
   "metadata": {},
   "source": [
    "Hàm tell() cho biết vị trí đọc đang ở đâu, khi chuẩn bị đọc tell() trả về vị trí 0, khi đọc xong giá trị trả về sẽ là vị trí ở ký tự cuối file."
   ]
  },
  {
   "cell_type": "code",
   "execution_count": 5,
   "metadata": {},
   "outputs": [
    {
     "data": {
      "text/plain": [
       "61"
      ]
     },
     "execution_count": 5,
     "metadata": {},
     "output_type": "execute_result"
    }
   ],
   "source": [
    "file.tell()"
   ]
  },
  {
   "cell_type": "markdown",
   "metadata": {},
   "source": [
    "## Đóng tệp lại với hàm close()"
   ]
  },
  {
   "cell_type": "code",
   "execution_count": 6,
   "metadata": {},
   "outputs": [],
   "source": [
    "file.close()"
   ]
  },
  {
   "cell_type": "markdown",
   "metadata": {},
   "source": [
    "## Đọc từng dòng của tệp với readline()"
   ]
  },
  {
   "cell_type": "code",
   "execution_count": 7,
   "metadata": {},
   "outputs": [
    {
     "data": {
      "text/plain": [
       "0"
      ]
     },
     "execution_count": 7,
     "metadata": {},
     "output_type": "execute_result"
    }
   ],
   "source": [
    "file=open(\"test_file.txt\")\n",
    "file.tell()"
   ]
  },
  {
   "cell_type": "code",
   "execution_count": 8,
   "metadata": {},
   "outputs": [
    {
     "data": {
      "text/plain": [
       "'Them du lieu vao tep\\n'"
      ]
     },
     "execution_count": 8,
     "metadata": {},
     "output_type": "execute_result"
    }
   ],
   "source": [
    "line=file.readline()\n",
    "line"
   ]
  },
  {
   "cell_type": "code",
   "execution_count": 9,
   "metadata": {},
   "outputs": [
    {
     "data": {
      "text/plain": [
       "22"
      ]
     },
     "execution_count": 9,
     "metadata": {},
     "output_type": "execute_result"
    }
   ],
   "source": [
    "file.tell()"
   ]
  },
  {
   "cell_type": "code",
   "execution_count": 10,
   "metadata": {},
   "outputs": [
    {
     "data": {
      "text/plain": [
       "'1 3 4\\n'"
      ]
     },
     "execution_count": 10,
     "metadata": {},
     "output_type": "execute_result"
    }
   ],
   "source": [
    "line=file.readline()\n",
    "line"
   ]
  },
  {
   "cell_type": "code",
   "execution_count": 11,
   "metadata": {},
   "outputs": [
    {
     "data": {
      "text/plain": [
       "29"
      ]
     },
     "execution_count": 11,
     "metadata": {},
     "output_type": "execute_result"
    }
   ],
   "source": [
    "file.tell()"
   ]
  },
  {
   "cell_type": "markdown",
   "metadata": {},
   "source": [
    "**Đọc số m và n của text_file2.txt**"
   ]
  },
  {
   "cell_type": "code",
   "execution_count": 12,
   "metadata": {},
   "outputs": [
    {
     "name": "stdout",
     "output_type": "stream",
     "text": [
      "Giá trị của m và n là:  60 , 90\n"
     ]
    }
   ],
   "source": [
    "file=open(\"test_file2.txt\")\n",
    "line=file.readline()\n",
    "m=int(line)\n",
    "line=file.readline()\n",
    "n=int(line)\n",
    "print(\"Giá trị của m và n là: \",m,\",\",n)"
   ]
  },
  {
   "cell_type": "markdown",
   "metadata": {},
   "source": [
    "## Lệnh readlines()\n",
    "\n",
    "Đọc toàn bộ file trả về list của từng dòng."
   ]
  },
  {
   "cell_type": "code",
   "execution_count": 13,
   "metadata": {},
   "outputs": [
    {
     "data": {
      "text/plain": [
       "['Them du lieu vao tep\\n', '1 3 4\\n', \"{'1': 'a', '2': 'b'}$[1, 3, 4]\\n\"]"
      ]
     },
     "execution_count": 13,
     "metadata": {},
     "output_type": "execute_result"
    }
   ],
   "source": [
    "file=open(\"test_file.txt\")\n",
    "a=file.readlines()\n",
    "a"
   ]
  },
  {
   "cell_type": "markdown",
   "metadata": {},
   "source": [
    "**Đọc file kiểu tuần tự**"
   ]
  },
  {
   "cell_type": "code",
   "execution_count": 14,
   "metadata": {},
   "outputs": [
    {
     "name": "stdout",
     "output_type": "stream",
     "text": [
      "Them du lieu vao tep\n",
      "1 3 4\n",
      "{'1': 'a', '2': 'b'}$[1, 3, 4]\n"
     ]
    }
   ],
   "source": [
    "file=open(\"test_file.txt\")\n",
    "for line in file:\n",
    "    print(line,end=\"\")"
   ]
  },
  {
   "cell_type": "markdown",
   "metadata": {},
   "source": [
    "## Ghi dữ liệu cho tệp lệnh write()\n",
    "\n",
    "Chú ý: Khi ghi dữ liệu thì đầu đọc sẽ ở vị trí 0, nếu dữ liệu đã có trong file thì sẽ bị xóa hết."
   ]
  },
  {
   "cell_type": "code",
   "execution_count": 15,
   "metadata": {},
   "outputs": [
    {
     "data": {
      "text/plain": [
       "20"
      ]
     },
     "execution_count": 15,
     "metadata": {},
     "output_type": "execute_result"
    }
   ],
   "source": [
    "file=open(\"test_file.txt\",\"w\")\n",
    "msg=\"Them du lieu vao tep\"\n",
    "file.write(msg)"
   ]
  },
  {
   "cell_type": "markdown",
   "metadata": {},
   "source": [
    "Ta thấy kết quả trả về sẽ là độ dài string của msg."
   ]
  },
  {
   "cell_type": "code",
   "execution_count": 16,
   "metadata": {},
   "outputs": [],
   "source": [
    "file.close()"
   ]
  },
  {
   "cell_type": "markdown",
   "metadata": {},
   "source": [
    "### Thêm nhiều line để ghi vào tệp"
   ]
  },
  {
   "cell_type": "code",
   "execution_count": 17,
   "metadata": {},
   "outputs": [],
   "source": [
    "file=open(\"test_file.txt\",\"w\")\n",
    "line1=\"Them du lieu vao tep\\n\"\n",
    "line2=\"1 3 4\\n\"\n",
    "dict_1={'1':'a','2':'b'}\n",
    "list_1=[1,3,4]\n",
    "file.write(line1)\n",
    "file.write(line2)\n",
    "file.write(str(dict_1)+\"$\"+str(list_1)+'\\n')\n",
    "file.close()"
   ]
  },
  {
   "cell_type": "code",
   "execution_count": 18,
   "metadata": {},
   "outputs": [
    {
     "data": {
      "text/plain": [
       "\"Them du lieu vao tep\\n1 3 4\\n{'1': 'a', '2': 'b'}$[1, 3, 4]\\n\""
      ]
     },
     "execution_count": 18,
     "metadata": {},
     "output_type": "execute_result"
    }
   ],
   "source": [
    "seq=open(\"test_file.txt\",\"r\").read()\n",
    "seq"
   ]
  },
  {
   "cell_type": "code",
   "execution_count": 19,
   "metadata": {},
   "outputs": [
    {
     "name": "stdout",
     "output_type": "stream",
     "text": [
      "Them du lieu vao tep\n",
      "1 3 4\n",
      "{'1': 'a', '2': 'b'}$[1, 3, 4]\n",
      "\n"
     ]
    }
   ],
   "source": [
    "print(seq)"
   ]
  },
  {
   "cell_type": "markdown",
   "metadata": {},
   "source": [
    "### Ghi tệp bằng lệnh print()"
   ]
  },
  {
   "cell_type": "code",
   "execution_count": 20,
   "metadata": {},
   "outputs": [],
   "source": [
    "file=open(\"test_file.txt\",\"w\")\n",
    "line1=\"Them du lieu vao\\n\"\n",
    "line2=\"1 3\\n\"\n",
    "print(line1,file=file)\n",
    "print(line2,file=file)\n",
    "file.close()"
   ]
  },
  {
   "cell_type": "markdown",
   "metadata": {},
   "source": [
    "### Lệnh writelines()"
   ]
  },
  {
   "cell_type": "code",
   "execution_count": 21,
   "metadata": {},
   "outputs": [],
   "source": [
    "file=open(\"test_file.txt\",\"w\")\n",
    "line1=\"Them du lieu\\n\"\n",
    "line2=\"1\\n\"\n",
    "list_line=[line1,line2]\n",
    "file.writelines(list_line)\n",
    "file.close()"
   ]
  },
  {
   "cell_type": "markdown",
   "metadata": {},
   "source": [
    "## Đọc file ở dạng binary"
   ]
  },
  {
   "cell_type": "code",
   "execution_count": 22,
   "metadata": {},
   "outputs": [
    {
     "data": {
      "text/plain": [
       "b'\\x00\\x00\\x00\\x07spam\\x00\\x08'"
      ]
     },
     "execution_count": 22,
     "metadata": {},
     "output_type": "execute_result"
    }
   ],
   "source": [
    "data=open('data.bin','rb').read()\n",
    "data"
   ]
  },
  {
   "cell_type": "code",
   "execution_count": 23,
   "metadata": {},
   "outputs": [
    {
     "data": {
      "text/plain": [
       "b'\\x00\\x07s'"
      ]
     },
     "execution_count": 23,
     "metadata": {},
     "output_type": "execute_result"
    }
   ],
   "source": [
    "data[2:5]"
   ]
  },
  {
   "cell_type": "markdown",
   "metadata": {},
   "source": [
    "# 12.3 Sử dụng pickle, json, struct để lưu trữ file"
   ]
  },
  {
   "cell_type": "markdown",
   "metadata": {},
   "source": [
    "## Module pickle"
   ]
  },
  {
   "cell_type": "code",
   "execution_count": 24,
   "metadata": {},
   "outputs": [],
   "source": [
    "import pickle\n",
    "D={'a':1,'b':2}\n",
    "file=open('datafile.pkl','wb')"
   ]
  },
  {
   "cell_type": "markdown",
   "metadata": {},
   "source": [
    "Sau khi tệp đã được mở để ghi, bạn có thể sử dụng pickle.dump(), nhận vào hai đối số là đối tượng mà bạn muốn thực hiện pickle và tệp mà đối tượng sẽ được lưu."
   ]
  },
  {
   "cell_type": "code",
   "execution_count": 25,
   "metadata": {},
   "outputs": [],
   "source": [
    "pickle.dump(D,file)\n",
    "file.close()"
   ]
  },
  {
   "cell_type": "markdown",
   "metadata": {},
   "source": [
    "Thực hiện mở tệp xem nội dung."
   ]
  },
  {
   "cell_type": "code",
   "execution_count": 26,
   "metadata": {},
   "outputs": [
    {
     "data": {
      "text/plain": [
       "{'a': 1, 'b': 2}"
      ]
     },
     "execution_count": 26,
     "metadata": {},
     "output_type": "execute_result"
    }
   ],
   "source": [
    "file=open('datafile.pkl','rb')\n",
    "E=pickle.load(file)\n",
    "E"
   ]
  },
  {
   "cell_type": "code",
   "execution_count": 27,
   "metadata": {},
   "outputs": [
    {
     "data": {
      "text/plain": [
       "b'\\x80\\x03}q\\x00(X\\x01\\x00\\x00\\x00aq\\x01K\\x01X\\x01\\x00\\x00\\x00bq\\x02K\\x02u.'"
      ]
     },
     "execution_count": 27,
     "metadata": {},
     "output_type": "execute_result"
    }
   ],
   "source": [
    "open('datafile.pkl','rb').read()"
   ]
  },
  {
   "cell_type": "markdown",
   "metadata": {},
   "source": [
    "## Module json(javascript object notation)"
   ]
  },
  {
   "cell_type": "markdown",
   "metadata": {},
   "source": [
    "Json là một chuẩn định dạng được dùng để lưu trữ và trao đổi dữ liệu giữa các tiến trình với nhau.\n",
    "Điểm đặc biệt của json là dữ liệu của nó có kiểu, bao gồm: object, array, string, number, boolean, null.\n",
    "\n",
    "Nội dung trong file json tồn tại theo cặp key: value. Trong đó, key luôn luôn là kiểu string, value thì có thể thuộc bất kỳ kiểu dữ liệu nào."
   ]
  },
  {
   "cell_type": "code",
   "execution_count": 28,
   "metadata": {},
   "outputs": [
    {
     "data": {
      "text/plain": [
       "{'name': {'first': 'Bob', 'last': 'Smith'}, 'job': ['dev', 'mgr'], 'age': 40.5}"
      ]
     },
     "execution_count": 28,
     "metadata": {},
     "output_type": "execute_result"
    }
   ],
   "source": [
    "name={'first':'Bob','last':\"Smith\"}\n",
    "rec=dict(name=name,job=['dev','mgr'],age=40.5)\n",
    "rec"
   ]
  },
  {
   "cell_type": "markdown",
   "metadata": {},
   "source": [
    "Khi chúng ta muốn lưu trữ hoặc truyền qua mạng, bạn cần chuyển các đối tượng trên về dạng mà máy tính có thể lưu trữ hoặc truyền đi được. Quá trình này được gọi là serialize. Quá trình ngược lại, khôi phục đối tượng từ file hoặc chuỗi bit nhận được qua mạng, được gọi là deserialize. "
   ]
  },
  {
   "cell_type": "code",
   "execution_count": 29,
   "metadata": {},
   "outputs": [
    {
     "data": {
      "text/plain": [
       "'{\"name\": {\"first\": \"Bob\", \"last\": \"Smith\"}, \"job\": [\"dev\", \"mgr\"], \"age\": 40.5}'"
      ]
     },
     "execution_count": 29,
     "metadata": {},
     "output_type": "execute_result"
    }
   ],
   "source": [
    "import json\n",
    "json.dumps(rec)"
   ]
  },
  {
   "cell_type": "markdown",
   "metadata": {},
   "source": [
    "Để lưu một Python object lại dưới dạng file string json, ta dùng hàm dumps()."
   ]
  },
  {
   "cell_type": "code",
   "execution_count": 30,
   "metadata": {},
   "outputs": [],
   "source": [
    "S=json.dumps(rec)"
   ]
  },
  {
   "cell_type": "markdown",
   "metadata": {},
   "source": [
    "Để deserialize một file string json sang dạng object, ta dùng hàm loads(). "
   ]
  },
  {
   "cell_type": "code",
   "execution_count": 31,
   "metadata": {},
   "outputs": [
    {
     "data": {
      "text/plain": [
       "{'name': {'first': 'Bob', 'last': 'Smith'}, 'job': ['dev', 'mgr'], 'age': 40.5}"
      ]
     },
     "execution_count": 31,
     "metadata": {},
     "output_type": "execute_result"
    }
   ],
   "source": [
    "O=json.loads(S)\n",
    "O"
   ]
  },
  {
   "cell_type": "code",
   "execution_count": 32,
   "metadata": {},
   "outputs": [
    {
     "name": "stdout",
     "output_type": "stream",
     "text": [
      "{\n",
      "    \"name\": {\n",
      "        \"first\": \"Bob\",\n",
      "        \"last\": \"Smith\"\n",
      "    },\n",
      "    \"job\": [\n",
      "        \"dev\",\n",
      "        \"mgr\"\n",
      "    ],\n",
      "    \"age\": 40.5\n",
      "}\n"
     ]
    }
   ],
   "source": [
    "json.dump(rec,fp=open('testjson.txt','w'),indent=4)\n",
    "print(open(\"testjson.txt\").read())"
   ]
  },
  {
   "cell_type": "code",
   "execution_count": 33,
   "metadata": {},
   "outputs": [
    {
     "data": {
      "text/plain": [
       "{'name': {'first': 'Bob', 'last': 'Smith'}, 'job': ['dev', 'mgr'], 'age': 40.5}"
      ]
     },
     "execution_count": 33,
     "metadata": {},
     "output_type": "execute_result"
    }
   ],
   "source": [
    "json.load(open('testjson.txt'))"
   ]
  },
  {
   "cell_type": "markdown",
   "metadata": {},
   "source": [
    "## Module struct"
   ]
  },
  {
   "cell_type": "code",
   "execution_count": 34,
   "metadata": {},
   "outputs": [
    {
     "data": {
      "text/plain": [
       "b'\\x00\\x00\\x00\\x07spam\\x00\\x08'"
      ]
     },
     "execution_count": 34,
     "metadata": {},
     "output_type": "execute_result"
    }
   ],
   "source": [
    "import struct\n",
    "file=open('data.bin','wb')\n",
    "data=struct.pack(\">i4sh\",7,b'spam',8)\n",
    "data"
   ]
  },
  {
   "cell_type": "code",
   "execution_count": 35,
   "metadata": {},
   "outputs": [],
   "source": [
    "file.write(data)\n",
    "file.close()"
   ]
  },
  {
   "cell_type": "code",
   "execution_count": 36,
   "metadata": {},
   "outputs": [
    {
     "data": {
      "text/plain": [
       "b'\\x00\\x00\\x00\\x07spam\\x00\\x08'"
      ]
     },
     "execution_count": 36,
     "metadata": {},
     "output_type": "execute_result"
    }
   ],
   "source": [
    "file=open(\"data.bin\",'rb')\n",
    "data=file.read()\n",
    "data"
   ]
  },
  {
   "cell_type": "code",
   "execution_count": 37,
   "metadata": {},
   "outputs": [
    {
     "data": {
      "text/plain": [
       "(7, b'spam', 8)"
      ]
     },
     "execution_count": 37,
     "metadata": {},
     "output_type": "execute_result"
    }
   ],
   "source": [
    "values=struct.unpack('>i4sh',data)\n",
    "values"
   ]
  },
  {
   "cell_type": "markdown",
   "metadata": {},
   "source": [
    "# 12.4 Quản lý đoạn văn file(context manager) với with/as"
   ]
  },
  {
   "cell_type": "markdown",
   "metadata": {},
   "source": [
    "Trong Python, context manager là một phương thức cho phép bạn cấp phát và sử dụng tài nguyên một cách hiệu quả. Context manager được sử dụng rộng rãi thông qua câu lệnh."
   ]
  },
  {
   "cell_type": "code",
   "execution_count": 38,
   "metadata": {},
   "outputs": [],
   "source": [
    "with open('foo', 'w') as file:\n",
    "    file.write('Hora! We opened this file')"
   ]
  },
  {
   "cell_type": "code",
   "execution_count": 39,
   "metadata": {},
   "outputs": [
    {
     "data": {
      "text/plain": [
       "'Hora! We opened this file'"
      ]
     },
     "execution_count": 39,
     "metadata": {},
     "output_type": "execute_result"
    }
   ],
   "source": [
    "open('foo','r').read()"
   ]
  },
  {
   "cell_type": "markdown",
   "metadata": {},
   "source": [
    "Đoạn code trên mở một file, ghi dữ liệu và đóng file lại. Nếu có bất kỳ lỗi gì xảy ra, thì file cũng luôn luôn được đảm bảo là đã đóng. Đoạn code trên nếu viết mà không sử dụng context manager thì sẽ trông như dưới đây:"
   ]
  },
  {
   "cell_type": "code",
   "execution_count": 40,
   "metadata": {},
   "outputs": [],
   "source": [
    "file= open('foo', 'w')\n",
    "try:\n",
    "    file.write('Hora! We opened this file')\n",
    "finally:\n",
    "    file.close()"
   ]
  },
  {
   "cell_type": "markdown",
   "metadata": {},
   "source": [
    "# 12.5 Bài tập Excercise"
   ]
  },
  {
   "cell_type": "markdown",
   "metadata": {},
   "source": [
    "## A. Lý thuyết chọn đáp án"
   ]
  },
  {
   "cell_type": "markdown",
   "metadata": {},
   "source": [
    "Câu 1: Cho đoạn mã dưới đây hãy cho biết kiểu dữ liệu của biến a\n",
    "```python\n",
    "file=open(\"test_file.txt\")\n",
    "a=file.read()\n",
    "```\n",
    "<div style=\"padding: 15px; border: 1px solid transparent; border-color: transparent; margin-bottom: 5px; border-radius: 2px; color:#1C1C1C; background-color:#D3D3D3; border-color: #BEBEBE;\">\n",
    "A. List\n",
    "</div>\n",
    "\n",
    "<div style=\"padding: 15px; border: 1px solid transparent; border-color: transparent; margin-bottom: 5px; border-radius: 2px; color:#1C1C1C; background-color:#D3D3D3; border-color: #BEBEBE;\">\n",
    "B. Dictionary\n",
    "</div>\n",
    "\n",
    "<div style=\"padding: 15px; border: 1px solid transparent; border-color: transparent; margin-bottom: 5px; border-radius: 2px; color:#1C1C1C; background-color:#D3D3D3; border-color: #BEBEBE;\">\n",
    "C. String\n",
    "</div>\n",
    "\n",
    "<div style=\"padding: 15px; border: 1px solid transparent; border-color: transparent; margin-bottom: 5px; border-radius: 2px; color:#1C1C1C; background-color:#D3D3D3; border-color: #BEBEBE;\">\n",
    "D. Object\n",
    "</div>\n"
   ]
  },
  {
   "cell_type": "markdown",
   "metadata": {},
   "source": [
    "Câu 2: Cho đoạn mã sau đây hãy giải thích ý nghĩa?\n",
    "```python\n",
    "import os\n",
    "os.listdir()\n",
    "```\n",
    "<div style=\"padding: 15px; border: 1px solid transparent; border-color: transparent; margin-bottom: 5px; border-radius: 2px; color:#1C1C1C; background-color:#D3D3D3; border-color: #BEBEBE;\">\n",
    "A. Tạo một thư mục mới\n",
    "</div>\n",
    "\n",
    "<div style=\"padding: 15px; border: 1px solid transparent; border-color: transparent; margin-bottom: 5px; border-radius: 2px; color:#1C1C1C; background-color:#D3D3D3; border-color: #BEBEBE;\">\n",
    "B. In ra thư mục hiện hành\n",
    "</div>\n",
    "\n",
    "<div style=\"padding: 15px; border: 1px solid transparent; border-color: transparent; margin-bottom: 5px; border-radius: 2px; color:#1C1C1C; background-color:#D3D3D3; border-color: #BEBEBE;\">\n",
    "C. In ra tất cả thư mục cùng cấp ở đang ở thư mục cha\n",
    "</div>\n",
    "\n",
    "<div style=\"padding: 15px; border: 1px solid transparent; border-color: transparent; margin-bottom: 5px; border-radius: 2px; color:#1C1C1C; background-color:#D3D3D3; border-color: #BEBEBE;\">\n",
    "D. Xóa thư mục khác cùng cấp với thư mục hiện hành\n",
    "</div>"
   ]
  },
  {
   "cell_type": "markdown",
   "metadata": {},
   "source": [
    "Câu 3: Khi file không tồn tại mà bạn thực hiện mở file thì sẽ xảy ra điều gì?\n",
    "<div style=\"padding: 15px; border: 1px solid transparent; border-color: transparent; margin-bottom: 5px; border-radius: 2px; color:#1C1C1C; background-color:#D3D3D3; border-color: #BEBEBE;\">\n",
    "A. Python sẽ tạo tự động file đó\n",
    "</div>\n",
    "\n",
    "<div style=\"padding: 15px; border: 1px solid transparent; border-color: transparent; margin-bottom: 5px; border-radius: 2px; color:#1C1C1C; background-color:#D3D3D3; border-color: #BEBEBE;\">\n",
    "B. Gây ra lỗi\n",
    "</div>\n",
    "\n",
    "<div style=\"padding: 15px; border: 1px solid transparent; border-color: transparent; margin-bottom: 5px; border-radius: 2px; color:#1C1C1C; background-color:#D3D3D3; border-color: #BEBEBE;\">\n",
    "C. Vẫn chạy bình thường nhưng là file rỗng\n",
    "</div>\n",
    "\n",
    "<div style=\"padding: 15px; border: 1px solid transparent; border-color: transparent; margin-bottom: 5px; border-radius: 2px; color:#1C1C1C; background-color:#D3D3D3; border-color: #BEBEBE;\">\n",
    "D. Tất cả đáp án trên đều sai\n",
    "</div>"
   ]
  },
  {
   "cell_type": "markdown",
   "metadata": {},
   "source": [
    "Câu 4: Cho đoạn mã sau đây hãy cho biết ý nghĩa?\n",
    "```python\n",
    "file=open(\"test_file.txt\")\n",
    "```\n",
    "<div style=\"padding: 15px; border: 1px solid transparent; border-color: transparent; margin-bottom: 5px; border-radius: 2px; color:#1C1C1C; background-color:#D3D3D3; border-color: #BEBEBE;\">\n",
    "A. Hàm open khi gọi sẽ sẵn sàng đưa đầu đọc về vị trí 0 ở chế độ ghi\n",
    "</div>\n",
    "\n",
    "<div style=\"padding: 15px; border: 1px solid transparent; border-color: transparent; margin-bottom: 5px; border-radius: 2px; color:#1C1C1C; background-color:#D3D3D3; border-color: #BEBEBE;\">\n",
    "B. Hàm open khi gọi sẽ sẵn sàng đưa đầu đọc về vị trí 0 ở chế độ đọc\n",
    "</div>\n",
    "\n",
    "<div style=\"padding: 15px; border: 1px solid transparent; border-color: transparent; margin-bottom: 5px; border-radius: 2px; color:#1C1C1C; background-color:#D3D3D3; border-color: #BEBEBE;\">\n",
    "C. Hàm open khi gọi sẽ sẵn sàng đưa đầu đọc về vị trí cuối ở chế độ ghi\n",
    "</div>\n",
    "\n",
    "<div style=\"padding: 15px; border: 1px solid transparent; border-color: transparent; margin-bottom: 5px; border-radius: 2px; color:#1C1C1C; background-color:#D3D3D3; border-color: #BEBEBE;\">\n",
    "D. Hàm open khi gọi sẽ sẵn sàng đưa đầu đọc về vị trí cuối ở chế độ đọc\n",
    "</div>"
   ]
  },
  {
   "cell_type": "markdown",
   "metadata": {},
   "source": [
    "Câu 5: Hãy cho biết kiểu dữ liệu của biến b là?\n",
    "```python\n",
    "file=open(\"test_file.txt\")\n",
    "b=file.readlines()\n",
    "```\n",
    "<div style=\"padding: 15px; border: 1px solid transparent; border-color: transparent; margin-bottom: 5px; border-radius: 2px; color:#1C1C1C; background-color:#D3D3D3; border-color: #BEBEBE;\">\n",
    "A. List\n",
    "</div>\n",
    "\n",
    "<div style=\"padding: 15px; border: 1px solid transparent; border-color: transparent; margin-bottom: 5px; border-radius: 2px; color:#1C1C1C; background-color:#D3D3D3; border-color: #BEBEBE;\">\n",
    "B. Dictionary\n",
    "</div>\n",
    "\n",
    "<div style=\"padding: 15px; border: 1px solid transparent; border-color: transparent; margin-bottom: 5px; border-radius: 2px; color:#1C1C1C; background-color:#D3D3D3; border-color: #BEBEBE;\">\n",
    "C. String\n",
    "</div>\n",
    "\n",
    "<div style=\"padding: 15px; border: 1px solid transparent; border-color: transparent; margin-bottom: 5px; border-radius: 2px; color:#1C1C1C; background-color:#D3D3D3; border-color: #BEBEBE;\">\n",
    "D. Object\n",
    "</div>\n"
   ]
  },
  {
   "cell_type": "markdown",
   "metadata": {},
   "source": [
    "Câu 6: Cho đoạn mã sau đây hãy giải thích ý nghĩa?\n",
    "```python\n",
    "file=open(\"test_file.txt\",\"a\")\n",
    "file.write(\"Dogs\")\n",
    "```\n",
    "<div style=\"padding: 15px; border: 1px solid transparent; border-color: transparent; margin-bottom: 5px; border-radius: 2px; color:#1C1C1C; background-color:#D3D3D3; border-color: #BEBEBE;\">\n",
    "A. Mở file ở chế độ ghi và đầu đọc ban đầu ở vị trí đầu văn bản\n",
    "</div>\n",
    "\n",
    "<div style=\"padding: 15px; border: 1px solid transparent; border-color: transparent; margin-bottom: 5px; border-radius: 2px; color:#1C1C1C; background-color:#D3D3D3; border-color: #BEBEBE;\">\n",
    "B. Mở file ở chế độ ghi và đầu đọc ban đầu ở vị trí cuối văn bản\n",
    "</div>\n",
    "\n",
    "<div style=\"padding: 15px; border: 1px solid transparent; border-color: transparent; margin-bottom: 5px; border-radius: 2px; color:#1C1C1C; background-color:#D3D3D3; border-color: #BEBEBE;\">\n",
    "C. Mở file ở chế độ đọc và đầu đọc ban đầu ở vị trí đầu văn bản\n",
    "</div>\n",
    "\n",
    "<div style=\"padding: 15px; border: 1px solid transparent; border-color: transparent; margin-bottom: 5px; border-radius: 2px; color:#1C1C1C; background-color:#D3D3D3; border-color: #BEBEBE;\">\n",
    "D. Mở file ở chế độ đọc và đầu đọc ban đầu ở vị trí cuối văn bản\n",
    "</div>"
   ]
  },
  {
   "cell_type": "markdown",
   "metadata": {},
   "source": [
    "Câu 7: Cho đoạn mã sau\n",
    "```python\n",
    "file=open(\"test_file.txt\")\n",
    "```\n",
    "Hãy cho biết cú pháp để đóng tệp lại?\n",
    "<div style=\"padding: 15px; border: 1px solid transparent; border-color: transparent; margin-bottom: 5px; border-radius: 2px; color:#1C1C1C; background-color:#D3D3D3; border-color: #BEBEBE;\">\n",
    "A. close()\n",
    "</div>\n",
    "\n",
    "<div style=\"padding: 15px; border: 1px solid transparent; border-color: transparent; margin-bottom: 5px; border-radius: 2px; color:#1C1C1C; background-color:#D3D3D3; border-color: #BEBEBE;\">\n",
    "B. close(test_file)\n",
    "</div>\n",
    "\n",
    "<div style=\"padding: 15px; border: 1px solid transparent; border-color: transparent; margin-bottom: 5px; border-radius: 2px; color:#1C1C1C; background-color:#D3D3D3; border-color: #BEBEBE;\">\n",
    "C. test_file.close()\n",
    "</div>\n",
    "\n",
    "<div style=\"padding: 15px; border: 1px solid transparent; border-color: transparent; margin-bottom: 5px; border-radius: 2px; color:#1C1C1C; background-color:#D3D3D3; border-color: #BEBEBE;\">\n",
    "D. file.close()\n",
    "</div>"
   ]
  },
  {
   "cell_type": "markdown",
   "metadata": {},
   "source": [
    "Câu 8: Cho đoạn mã sau:\n",
    "```python\n",
    "file=open(\"test_file.txt\",'w')\n",
    "string=\"HelloWorld\"\n",
    "...\n",
    "```\n",
    "Hãy viết tiếp để có thể ghi chữ \"HelloWorld\" vào file test_file.\n",
    "<div style=\"padding: 15px; border: 1px solid transparent; border-color: transparent; margin-bottom: 5px; border-radius: 2px; color:#1C1C1C; background-color:#D3D3D3; border-color: #BEBEBE;\">\n",
    "A. file.write(string)\n",
    "</div>\n",
    "\n",
    "<div style=\"padding: 15px; border: 1px solid transparent; border-color: transparent; margin-bottom: 5px; border-radius: 2px; color:#1C1C1C; background-color:#D3D3D3; border-color: #BEBEBE;\">\n",
    "B. file.writelines(string)\n",
    "</div>\n",
    "\n",
    "<div style=\"padding: 15px; border: 1px solid transparent; border-color: transparent; margin-bottom: 5px; border-radius: 2px; color:#1C1C1C; background-color:#D3D3D3; border-color: #BEBEBE;\">\n",
    "C. file.write(\"string\")\n",
    "</div>\n",
    "\n",
    "<div style=\"padding: 15px; border: 1px solid transparent; border-color: transparent; margin-bottom: 5px; border-radius: 2px; color:#1C1C1C; background-color:#D3D3D3; border-color: #BEBEBE;\">\n",
    "D. file.writeline(string)\n",
    "</div>"
   ]
  },
  {
   "cell_type": "markdown",
   "metadata": {},
   "source": [
    "Câu 9: Cho chương trình sau hãy giải thích ý nghĩa?\n",
    "```python\n",
    "file=open(\"test_file.text\")\n",
    "for line in file:\n",
    "    print(line)\n",
    "file.close()\n",
    "```\n",
    "<div style=\"padding: 15px; border: 1px solid transparent; border-color: transparent; margin-bottom: 5px; border-radius: 2px; color:#1C1C1C; background-color:#D3D3D3; border-color: #BEBEBE;\">\n",
    "A. Mở file ở chế độ đọc sau đó in tất cả các hàng của từng hàng của tệp ra cuối cùng đóng tệp lại khi đã thực hiện xong\n",
    "</div>\n",
    "\n",
    "<div style=\"padding: 15px; border: 1px solid transparent; border-color: transparent; margin-bottom: 5px; border-radius: 2px; color:#1C1C1C; background-color:#D3D3D3; border-color: #BEBEBE;\">\n",
    "B. Mở file ở chế độ ghi sau đó in tất cả các hàng của từng hàng của tệp ra cuối cùng đóng tệp lại khi đã thực hiện xong\n",
    "</div>\n",
    "\n",
    "<div style=\"padding: 15px; border: 1px solid transparent; border-color: transparent; margin-bottom: 5px; border-radius: 2px; color:#1C1C1C; background-color:#D3D3D3; border-color: #BEBEBE;\">\n",
    "C. Mở file ở chế độ ghi tiếp sau đó in tất cả các hàng của từng hàng của tệp ra cuối cùng đóng tệp lại khi đã thực hiện xong\n",
    "</div>\n",
    "\n",
    "<div style=\"padding: 15px; border: 1px solid transparent; border-color: transparent; margin-bottom: 5px; border-radius: 2px; color:#1C1C1C; background-color:#D3D3D3; border-color: #BEBEBE;\">\n",
    "D. Tất cả đều sai\n",
    "</div>"
   ]
  },
  {
   "cell_type": "markdown",
   "metadata": {},
   "source": [
    "Câu 10: Để đọc 3 ký tự từ một tệp ta sử dụng câu lệnh là?\n",
    "<div style=\"padding: 15px; border: 1px solid transparent; border-color: transparent; margin-bottom: 5px; border-radius: 2px; color:#1C1C1C; background-color:#D3D3D3; border-color: #BEBEBE;\">\n",
    "A. file.read(3)\n",
    "</div>\n",
    "\n",
    "<div style=\"padding: 15px; border: 1px solid transparent; border-color: transparent; margin-bottom: 5px; border-radius: 2px; color:#1C1C1C; background-color:#D3D3D3; border-color: #BEBEBE;\">\n",
    "B. file.readlines(3)\n",
    "</div>\n",
    "\n",
    "<div style=\"padding: 15px; border: 1px solid transparent; border-color: transparent; margin-bottom: 5px; border-radius: 2px; color:#1C1C1C; background-color:#D3D3D3; border-color: #BEBEBE;\">\n",
    "C. file.readline()\n",
    "</div>\n",
    "\n",
    "<div style=\"padding: 15px; border: 1px solid transparent; border-color: transparent; margin-bottom: 5px; border-radius: 2px; color:#1C1C1C; background-color:#D3D3D3; border-color: #BEBEBE;\">\n",
    "D. file.read()\n",
    "</div>"
   ]
  },
  {
   "cell_type": "markdown",
   "metadata": {},
   "source": [
    "---\n",
    "## B. Rèn luyện viết mã code"
   ]
  },
  {
   "cell_type": "markdown",
   "metadata": {},
   "source": [
    "Câu 11: Viết chương trình tính tổng hai số a và b:\n",
    "\n",
    "+ Dữ liệu đầu vào từ file So_a_va_b.txt.\n",
    "\n",
    "+ Dữ liệu đầu ra nằm trong file Tong_a_va_b.txt."
   ]
  },
  {
   "cell_type": "markdown",
   "metadata": {},
   "source": [
    "Câu 12: Viết chương trình nhập dữ liệu:\n",
    "+ Dòng thứ nhất là chữ:\"Ha nang\"\n",
    "+ Dòng thứ hai là dãy số: 1 2 3"
   ]
  },
  {
   "cell_type": "markdown",
   "metadata": {},
   "source": [
    "Câu 13: Viết một hàm đọc một file bất kỳ."
   ]
  },
  {
   "cell_type": "markdown",
   "metadata": {},
   "source": [
    "Câu 14: Viết một hàm ghi file gồm:\n",
    "+ Dòng thứ 1 chữ: \"Program Language\\n\"\n",
    "+ Dòng thứ 2 chữ: \"My favorite is \\n\"\n",
    "+ Dòng thứ 3 chữ: \"Python\"\n",
    "Sau đó đọc file hiển thị lên màn hình."
   ]
  },
  {
   "cell_type": "markdown",
   "metadata": {},
   "source": [
    "Câu 15: Viết hàm đọc từng dòng của file."
   ]
  },
  {
   "cell_type": "markdown",
   "metadata": {},
   "source": [
    "---\n",
    "# <span style= 'color:blue'> Đáp án </span>"
   ]
  },
  {
   "cell_type": "markdown",
   "metadata": {},
   "source": [
    "<div style=\"padding: 15px; border: 1px solid transparent; border-color: transparent; margin-bottom: 5px; border-radius: 2px; color: #3c763d; background-color: #dff0d8; border-color: #d6e9c6;\">\n",
    "1.C\n",
    "</div>\n",
    "\n",
    "<div style=\"padding: 15px; border: 1px solid transparent; border-color: transparent; margin-bottom: 5px; border-radius: 2px; color: #3c763d; background-color: #dff0d8; border-color: #d6e9c6;\">\n",
    "2.C\n",
    "</div>\n",
    "\n",
    "<div style=\"padding: 15px; border: 1px solid transparent; border-color: transparent; margin-bottom: 5px; border-radius: 2px; color: #3c763d; background-color: #dff0d8; border-color: #d6e9c6;\">\n",
    "3.B\n",
    "</div>\n",
    "\n",
    "<div style=\"padding: 15px; border: 1px solid transparent; border-color: transparent; margin-bottom: 5px; border-radius: 2px; color: #3c763d; background-color: #dff0d8; border-color: #d6e9c6;\">\n",
    "4.B\n",
    "</div>\n",
    "\n",
    "<div style=\"padding: 15px; border: 1px solid transparent; border-color: transparent; margin-bottom: 5px; border-radius: 2px; color: #3c763d; background-color: #dff0d8; border-color: #d6e9c6;\">\n",
    "5.A\n",
    "</div>\n",
    "\n",
    "<div style=\"padding: 15px; border: 1px solid transparent; border-color: transparent; margin-bottom: 5px; border-radius: 2px; color: #3c763d; background-color: #dff0d8; border-color: #d6e9c6;\">\n",
    "6.B\n",
    "</div>\n",
    "\n",
    "<div style=\"padding: 15px; border: 1px solid transparent; border-color: transparent; margin-bottom: 5px; border-radius: 2px; color: #3c763d; background-color: #dff0d8; border-color: #d6e9c6;\">\n",
    "7.D\n",
    "</div>\n",
    "\n",
    "<div style=\"padding: 15px; border: 1px solid transparent; border-color: transparent; margin-bottom: 5px; border-radius: 2px; color: #3c763d; background-color: #dff0d8; border-color: #d6e9c6;\">\n",
    "8.A\n",
    "</div>\n",
    "\n",
    "<div style=\"padding: 15px; border: 1px solid transparent; border-color: transparent; margin-bottom: 5px; border-radius: 2px; color: #3c763d; background-color: #dff0d8; border-color: #d6e9c6;\">\n",
    "9.A\n",
    "</div>\n",
    "\n",
    "<div style=\"padding: 15px; border: 1px solid transparent; border-color: transparent; margin-bottom: 5px; border-radius: 2px; color: #3c763d; background-color: #dff0d8; border-color: #d6e9c6;\">\n",
    "10.A\n",
    "</div>"
   ]
  },
  {
   "cell_type": "code",
   "execution_count": 41,
   "metadata": {},
   "outputs": [],
   "source": [
    "#11\n",
    "file_in=open(\"So_a_va_b.txt\")\n",
    "file_out=open(\"Tong_a_va_b.txt\",\"w\")\n",
    "def Sum(a,b):\n",
    "    return a+b\n",
    "for line in file_in:\n",
    "    x,y=line.split()\n",
    "    a=int(x)\n",
    "    b=int(y)\n",
    "    print(Sum(a,b),file=file_out)\n",
    "file_in.close()\n",
    "file_out.close()"
   ]
  },
  {
   "cell_type": "code",
   "execution_count": 42,
   "metadata": {},
   "outputs": [],
   "source": [
    "#12\n",
    "file=open(\"Nhap_DL.txt\",\"w\")\n",
    "string=\"Ha nang\"\n",
    "print(string,file=file)\n",
    "print(1,2,3,file=file)\n",
    "file.close()"
   ]
  },
  {
   "cell_type": "code",
   "execution_count": 43,
   "metadata": {},
   "outputs": [
    {
     "name": "stdout",
     "output_type": "stream",
     "text": [
      "Ha nang\n",
      "1 2 3\n",
      "\n"
     ]
    }
   ],
   "source": [
    "#13\n",
    "def read_file(f_name):\n",
    "    file=open(f_name)\n",
    "    f_r=file.read()\n",
    "    print(f_r)\n",
    "read_file(\"Nhap_DL.txt\")        "
   ]
  },
  {
   "cell_type": "code",
   "execution_count": 44,
   "metadata": {},
   "outputs": [
    {
     "name": "stdout",
     "output_type": "stream",
     "text": [
      "Program Language\n",
      "My favorite is \n",
      "Python\n"
     ]
    }
   ],
   "source": [
    "#14\n",
    "def w2r_file(f_name):\n",
    "        with open(f_name, \"w\") as f:\n",
    "                f.write(\"Program Language\\n\")\n",
    "                f.write(\"My favorite is \\n\")\n",
    "                f.write(\"Python\")\n",
    "        file_r = open(f_name)\n",
    "        print(file_r.read())\n",
    "w2r_file('w2r.txt')"
   ]
  },
  {
   "cell_type": "code",
   "execution_count": 45,
   "metadata": {},
   "outputs": [
    {
     "name": "stdout",
     "output_type": "stream",
     "text": [
      "['Program Language\\n', 'My favorite is \\n', 'Python']\n"
     ]
    }
   ],
   "source": [
    "#15\n",
    "def r_linefile(f_name):\n",
    "        with open(f_name) as f:    \n",
    "                file_rline = f.readlines()\n",
    "                print(file_rline)\n",
    "r_linefile(\"w2r.txt\")"
   ]
  },
  {
   "cell_type": "code",
   "execution_count": null,
   "metadata": {},
   "outputs": [],
   "source": []
  }
 ],
 "metadata": {
  "kernelspec": {
   "display_name": "Python 3",
   "language": "python",
   "name": "python3"
  },
  "language_info": {
   "codemirror_mode": {
    "name": "ipython",
    "version": 3
   },
   "file_extension": ".py",
   "mimetype": "text/x-python",
   "name": "python",
   "nbconvert_exporter": "python",
   "pygments_lexer": "ipython3",
   "version": "3.7.0"
  }
 },
 "nbformat": 4,
 "nbformat_minor": 2
}
